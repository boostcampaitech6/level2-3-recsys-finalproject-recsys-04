{
 "cells": [
  {
   "cell_type": "code",
   "execution_count": 26,
   "metadata": {},
   "outputs": [],
   "source": [
    "import pandas as pd\n",
    "import numpy as np\n",
    "import matplotlib.pyplot as plt\n",
    "import seaborn as sns\n",
    "%matplotlib inline\n",
    "from surprise import SVD, Reader, Dataset \n",
    "from surprise.model_selection import cross_validate"
   ]
  },
  {
   "cell_type": "markdown",
   "metadata": {},
   "source": [
    "### 데이터 불러오기"
   ]
  },
  {
   "cell_type": "code",
   "execution_count": 27,
   "metadata": {},
   "outputs": [],
   "source": [
    "#아마존 데이터 불러오기\n",
    "column_names=['productId','userId','rating','timestamp']\n",
    "df=pd.read_csv('AMAZON_FASHION.csv',names=column_names)\n",
    "df=df[['userId','productId','rating','timestamp']]\n",
    "\n",
    "#아마존 메타 데이터 불러오기\n",
    "import json\n",
    "\n",
    "data = []\n",
    "with open('meta_AMAZON_FASHION.json', 'r') as f:\n",
    "    for line in f:\n",
    "        # 각 줄을 JSON 객체로 변환\n",
    "        json_line = json.loads(line)\n",
    "        \n",
    "        # 필요한 키만 선택하여 저장\n",
    "        # data.append({key: json_line.get(key, None) for key in ['asin', 'title', 'also_buy', 'also_view', 'imageURLHighRes', 'categories']})\n",
    "        data.append(json_line)\n",
    "\n",
    "# 리스트를 DataFrame으로 변환\n",
    "df_meta = pd.DataFrame(data)"
   ]
  },
  {
   "cell_type": "code",
   "execution_count": 28,
   "metadata": {},
   "outputs": [
    {
     "data": {
      "text/html": [
       "<div>\n",
       "<style scoped>\n",
       "    .dataframe tbody tr th:only-of-type {\n",
       "        vertical-align: middle;\n",
       "    }\n",
       "\n",
       "    .dataframe tbody tr th {\n",
       "        vertical-align: top;\n",
       "    }\n",
       "\n",
       "    .dataframe thead th {\n",
       "        text-align: right;\n",
       "    }\n",
       "</style>\n",
       "<table border=\"1\" class=\"dataframe\">\n",
       "  <thead>\n",
       "    <tr style=\"text-align: right;\">\n",
       "      <th></th>\n",
       "      <th>userId</th>\n",
       "      <th>productId</th>\n",
       "      <th>rating</th>\n",
       "      <th>timestamp</th>\n",
       "    </tr>\n",
       "  </thead>\n",
       "  <tbody>\n",
       "    <tr>\n",
       "      <th>0</th>\n",
       "      <td>A1D4G1SNUZWQOT</td>\n",
       "      <td>7106116521</td>\n",
       "      <td>5.0</td>\n",
       "      <td>1413763200</td>\n",
       "    </tr>\n",
       "    <tr>\n",
       "      <th>1</th>\n",
       "      <td>A3DDWDH9PX2YX2</td>\n",
       "      <td>7106116521</td>\n",
       "      <td>2.0</td>\n",
       "      <td>1411862400</td>\n",
       "    </tr>\n",
       "    <tr>\n",
       "      <th>2</th>\n",
       "      <td>A2MWC41EW7XL15</td>\n",
       "      <td>7106116521</td>\n",
       "      <td>4.0</td>\n",
       "      <td>1408924800</td>\n",
       "    </tr>\n",
       "    <tr>\n",
       "      <th>3</th>\n",
       "      <td>A2UH2QQ275NV45</td>\n",
       "      <td>7106116521</td>\n",
       "      <td>2.0</td>\n",
       "      <td>1408838400</td>\n",
       "    </tr>\n",
       "    <tr>\n",
       "      <th>4</th>\n",
       "      <td>A89F3LQADZBS5</td>\n",
       "      <td>7106116521</td>\n",
       "      <td>3.0</td>\n",
       "      <td>1406419200</td>\n",
       "    </tr>\n",
       "  </tbody>\n",
       "</table>\n",
       "</div>"
      ],
      "text/plain": [
       "           userId   productId  rating   timestamp\n",
       "0  A1D4G1SNUZWQOT  7106116521     5.0  1413763200\n",
       "1  A3DDWDH9PX2YX2  7106116521     2.0  1411862400\n",
       "2  A2MWC41EW7XL15  7106116521     4.0  1408924800\n",
       "3  A2UH2QQ275NV45  7106116521     2.0  1408838400\n",
       "4   A89F3LQADZBS5  7106116521     3.0  1406419200"
      ]
     },
     "execution_count": 28,
     "metadata": {},
     "output_type": "execute_result"
    }
   ],
   "source": [
    "df.head()"
   ]
  },
  {
   "cell_type": "code",
   "execution_count": 29,
   "metadata": {},
   "outputs": [
    {
     "data": {
      "text/plain": [
       "(883636, 4)"
      ]
     },
     "execution_count": 29,
     "metadata": {},
     "output_type": "execute_result"
    }
   ],
   "source": [
    "df.shape"
   ]
  },
  {
   "cell_type": "code",
   "execution_count": 30,
   "metadata": {},
   "outputs": [
    {
     "name": "stdout",
     "output_type": "stream",
     "text": [
      "<class 'pandas.core.frame.DataFrame'>\n",
      "RangeIndex: 883636 entries, 0 to 883635\n",
      "Data columns (total 4 columns):\n",
      " #   Column     Non-Null Count   Dtype  \n",
      "---  ------     --------------   -----  \n",
      " 0   userId     883636 non-null  object \n",
      " 1   productId  883636 non-null  object \n",
      " 2   rating     883636 non-null  float64\n",
      " 3   timestamp  883636 non-null  int64  \n",
      "dtypes: float64(1), int64(1), object(2)\n",
      "memory usage: 27.0+ MB\n"
     ]
    }
   ],
   "source": [
    "df.info()"
   ]
  },
  {
   "cell_type": "code",
   "execution_count": 31,
   "metadata": {},
   "outputs": [
    {
     "data": {
      "text/plain": [
       "userId       0\n",
       "productId    0\n",
       "rating       0\n",
       "timestamp    0\n",
       "dtype: int64"
      ]
     },
     "execution_count": 31,
     "metadata": {},
     "output_type": "execute_result"
    }
   ],
   "source": [
    "df.isnull().sum()"
   ]
  },
  {
   "cell_type": "code",
   "execution_count": 32,
   "metadata": {},
   "outputs": [
    {
     "name": "stdout",
     "output_type": "stream",
     "text": [
      "총 유저 유니크 수 : 749233\n",
      "총 상품 유니크 수 : 186189\n"
     ]
    }
   ],
   "source": [
    "print(f\"총 유저 유니크 수 : {len(df['userId'].value_counts())}\")\n",
    "print(f\"총 상품 유니크 수 : {len(df['productId'].value_counts())}\")"
   ]
  },
  {
   "cell_type": "code",
   "execution_count": 33,
   "metadata": {},
   "outputs": [
    {
     "data": {
      "text/plain": [
       "title               0.002679\n",
       "brand              25.011118\n",
       "feature            33.627844\n",
       "rank                3.437153\n",
       "date                0.876568\n",
       "asin                0.000000\n",
       "imageURL           29.265365\n",
       "imageURLHighRes    29.265365\n",
       "description        91.497399\n",
       "price              90.463306\n",
       "also_view          93.787405\n",
       "also_buy           88.404229\n",
       "fit                97.411553\n",
       "details            99.525817\n",
       "similar_item       99.830152\n",
       "tech1              99.948027\n",
       "dtype: float64"
      ]
     },
     "execution_count": 33,
     "metadata": {},
     "output_type": "execute_result"
    }
   ],
   "source": [
    "df_meta.isna().sum()/ len(df_meta) * 100"
   ]
  },
  {
   "cell_type": "code",
   "execution_count": 34,
   "metadata": {},
   "outputs": [],
   "source": [
    "df_all = df.merge(df_meta.rename(columns={'asin':'productId'}), how  ='left', on='productId')"
   ]
  },
  {
   "cell_type": "code",
   "execution_count": 35,
   "metadata": {},
   "outputs": [
    {
     "data": {
      "text/html": [
       "<div>\n",
       "<style scoped>\n",
       "    .dataframe tbody tr th:only-of-type {\n",
       "        vertical-align: middle;\n",
       "    }\n",
       "\n",
       "    .dataframe tbody tr th {\n",
       "        vertical-align: top;\n",
       "    }\n",
       "\n",
       "    .dataframe thead th {\n",
       "        text-align: right;\n",
       "    }\n",
       "</style>\n",
       "<table border=\"1\" class=\"dataframe\">\n",
       "  <thead>\n",
       "    <tr style=\"text-align: right;\">\n",
       "      <th></th>\n",
       "      <th>userId</th>\n",
       "      <th>productId</th>\n",
       "      <th>rating</th>\n",
       "      <th>timestamp</th>\n",
       "      <th>title</th>\n",
       "      <th>brand</th>\n",
       "      <th>feature</th>\n",
       "      <th>rank</th>\n",
       "      <th>date</th>\n",
       "      <th>imageURL</th>\n",
       "      <th>imageURLHighRes</th>\n",
       "      <th>description</th>\n",
       "      <th>price</th>\n",
       "      <th>also_view</th>\n",
       "      <th>also_buy</th>\n",
       "      <th>fit</th>\n",
       "      <th>details</th>\n",
       "      <th>similar_item</th>\n",
       "      <th>tech1</th>\n",
       "    </tr>\n",
       "  </thead>\n",
       "  <tbody>\n",
       "    <tr>\n",
       "      <th>0</th>\n",
       "      <td>A1D4G1SNUZWQOT</td>\n",
       "      <td>7106116521</td>\n",
       "      <td>5.0</td>\n",
       "      <td>1413763200</td>\n",
       "      <td>Milliongadgets(TM) Earring Safety Backs For Fi...</td>\n",
       "      <td>NaN</td>\n",
       "      <td>NaN</td>\n",
       "      <td>2,081,098inClothing,ShoesJewelry(</td>\n",
       "      <td>fishhook</td>\n",
       "      <td>[https://images-na.ssl-images-amazon.com/image...</td>\n",
       "      <td>[https://images-na.ssl-images-amazon.com/image...</td>\n",
       "      <td>NaN</td>\n",
       "      <td>NaN</td>\n",
       "      <td>NaN</td>\n",
       "      <td>NaN</td>\n",
       "      <td>NaN</td>\n",
       "      <td>NaN</td>\n",
       "      <td>NaN</td>\n",
       "      <td>NaN</td>\n",
       "    </tr>\n",
       "    <tr>\n",
       "      <th>1</th>\n",
       "      <td>A3DDWDH9PX2YX2</td>\n",
       "      <td>7106116521</td>\n",
       "      <td>2.0</td>\n",
       "      <td>1411862400</td>\n",
       "      <td>Milliongadgets(TM) Earring Safety Backs For Fi...</td>\n",
       "      <td>NaN</td>\n",
       "      <td>NaN</td>\n",
       "      <td>2,081,098inClothing,ShoesJewelry(</td>\n",
       "      <td>fishhook</td>\n",
       "      <td>[https://images-na.ssl-images-amazon.com/image...</td>\n",
       "      <td>[https://images-na.ssl-images-amazon.com/image...</td>\n",
       "      <td>NaN</td>\n",
       "      <td>NaN</td>\n",
       "      <td>NaN</td>\n",
       "      <td>NaN</td>\n",
       "      <td>NaN</td>\n",
       "      <td>NaN</td>\n",
       "      <td>NaN</td>\n",
       "      <td>NaN</td>\n",
       "    </tr>\n",
       "    <tr>\n",
       "      <th>2</th>\n",
       "      <td>A2MWC41EW7XL15</td>\n",
       "      <td>7106116521</td>\n",
       "      <td>4.0</td>\n",
       "      <td>1408924800</td>\n",
       "      <td>Milliongadgets(TM) Earring Safety Backs For Fi...</td>\n",
       "      <td>NaN</td>\n",
       "      <td>NaN</td>\n",
       "      <td>2,081,098inClothing,ShoesJewelry(</td>\n",
       "      <td>fishhook</td>\n",
       "      <td>[https://images-na.ssl-images-amazon.com/image...</td>\n",
       "      <td>[https://images-na.ssl-images-amazon.com/image...</td>\n",
       "      <td>NaN</td>\n",
       "      <td>NaN</td>\n",
       "      <td>NaN</td>\n",
       "      <td>NaN</td>\n",
       "      <td>NaN</td>\n",
       "      <td>NaN</td>\n",
       "      <td>NaN</td>\n",
       "      <td>NaN</td>\n",
       "    </tr>\n",
       "    <tr>\n",
       "      <th>3</th>\n",
       "      <td>A2UH2QQ275NV45</td>\n",
       "      <td>7106116521</td>\n",
       "      <td>2.0</td>\n",
       "      <td>1408838400</td>\n",
       "      <td>Milliongadgets(TM) Earring Safety Backs For Fi...</td>\n",
       "      <td>NaN</td>\n",
       "      <td>NaN</td>\n",
       "      <td>2,081,098inClothing,ShoesJewelry(</td>\n",
       "      <td>fishhook</td>\n",
       "      <td>[https://images-na.ssl-images-amazon.com/image...</td>\n",
       "      <td>[https://images-na.ssl-images-amazon.com/image...</td>\n",
       "      <td>NaN</td>\n",
       "      <td>NaN</td>\n",
       "      <td>NaN</td>\n",
       "      <td>NaN</td>\n",
       "      <td>NaN</td>\n",
       "      <td>NaN</td>\n",
       "      <td>NaN</td>\n",
       "      <td>NaN</td>\n",
       "    </tr>\n",
       "    <tr>\n",
       "      <th>4</th>\n",
       "      <td>A89F3LQADZBS5</td>\n",
       "      <td>7106116521</td>\n",
       "      <td>3.0</td>\n",
       "      <td>1406419200</td>\n",
       "      <td>Milliongadgets(TM) Earring Safety Backs For Fi...</td>\n",
       "      <td>NaN</td>\n",
       "      <td>NaN</td>\n",
       "      <td>2,081,098inClothing,ShoesJewelry(</td>\n",
       "      <td>fishhook</td>\n",
       "      <td>[https://images-na.ssl-images-amazon.com/image...</td>\n",
       "      <td>[https://images-na.ssl-images-amazon.com/image...</td>\n",
       "      <td>NaN</td>\n",
       "      <td>NaN</td>\n",
       "      <td>NaN</td>\n",
       "      <td>NaN</td>\n",
       "      <td>NaN</td>\n",
       "      <td>NaN</td>\n",
       "      <td>NaN</td>\n",
       "      <td>NaN</td>\n",
       "    </tr>\n",
       "    <tr>\n",
       "      <th>...</th>\n",
       "      <td>...</td>\n",
       "      <td>...</td>\n",
       "      <td>...</td>\n",
       "      <td>...</td>\n",
       "      <td>...</td>\n",
       "      <td>...</td>\n",
       "      <td>...</td>\n",
       "      <td>...</td>\n",
       "      <td>...</td>\n",
       "      <td>...</td>\n",
       "      <td>...</td>\n",
       "      <td>...</td>\n",
       "      <td>...</td>\n",
       "      <td>...</td>\n",
       "      <td>...</td>\n",
       "      <td>...</td>\n",
       "      <td>...</td>\n",
       "      <td>...</td>\n",
       "      <td>...</td>\n",
       "    </tr>\n",
       "    <tr>\n",
       "      <th>884801</th>\n",
       "      <td>A1ZSB2Q144UTEY</td>\n",
       "      <td>B01HJHTH5U</td>\n",
       "      <td>5.0</td>\n",
       "      <td>1487635200</td>\n",
       "      <td>Edith Windsor Women's Deep V-neck Beaded Sequi...</td>\n",
       "      <td>Edith Windsor</td>\n",
       "      <td>[Product Dimensions:\\n                    \\n9....</td>\n",
       "      <td>1,964,585inClothing,ShoesJewelry(</td>\n",
       "      <td>5 star</td>\n",
       "      <td>[https://images-na.ssl-images-amazon.com/image...</td>\n",
       "      <td>[https://images-na.ssl-images-amazon.com/image...</td>\n",
       "      <td>NaN</td>\n",
       "      <td>NaN</td>\n",
       "      <td>NaN</td>\n",
       "      <td>[B077ZLGMJ3]</td>\n",
       "      <td>NaN</td>\n",
       "      <td>NaN</td>\n",
       "      <td>NaN</td>\n",
       "      <td>NaN</td>\n",
       "    </tr>\n",
       "    <tr>\n",
       "      <th>884802</th>\n",
       "      <td>A2CCDV0J5VB6F2</td>\n",
       "      <td>B01HJHTH5U</td>\n",
       "      <td>5.0</td>\n",
       "      <td>1480032000</td>\n",
       "      <td>Edith Windsor Women's Deep V-neck Beaded Sequi...</td>\n",
       "      <td>Edith Windsor</td>\n",
       "      <td>[Product Dimensions:\\n                    \\n9....</td>\n",
       "      <td>1,964,585inClothing,ShoesJewelry(</td>\n",
       "      <td>5 star</td>\n",
       "      <td>[https://images-na.ssl-images-amazon.com/image...</td>\n",
       "      <td>[https://images-na.ssl-images-amazon.com/image...</td>\n",
       "      <td>NaN</td>\n",
       "      <td>NaN</td>\n",
       "      <td>NaN</td>\n",
       "      <td>[B077ZLGMJ3]</td>\n",
       "      <td>NaN</td>\n",
       "      <td>NaN</td>\n",
       "      <td>NaN</td>\n",
       "      <td>NaN</td>\n",
       "    </tr>\n",
       "    <tr>\n",
       "      <th>884803</th>\n",
       "      <td>A3O90PACS7B61K</td>\n",
       "      <td>B01HJHTH5U</td>\n",
       "      <td>3.0</td>\n",
       "      <td>1478736000</td>\n",
       "      <td>Edith Windsor Women's Deep V-neck Beaded Sequi...</td>\n",
       "      <td>Edith Windsor</td>\n",
       "      <td>[Product Dimensions:\\n                    \\n9....</td>\n",
       "      <td>1,964,585inClothing,ShoesJewelry(</td>\n",
       "      <td>5 star</td>\n",
       "      <td>[https://images-na.ssl-images-amazon.com/image...</td>\n",
       "      <td>[https://images-na.ssl-images-amazon.com/image...</td>\n",
       "      <td>NaN</td>\n",
       "      <td>NaN</td>\n",
       "      <td>NaN</td>\n",
       "      <td>[B077ZLGMJ3]</td>\n",
       "      <td>NaN</td>\n",
       "      <td>NaN</td>\n",
       "      <td>NaN</td>\n",
       "      <td>NaN</td>\n",
       "    </tr>\n",
       "    <tr>\n",
       "      <th>884804</th>\n",
       "      <td>A2HO94I89U3LNH</td>\n",
       "      <td>B01HJHF97K</td>\n",
       "      <td>3.0</td>\n",
       "      <td>1478736000</td>\n",
       "      <td>Microcosm Retro Vintage Black Crochet Lace One...</td>\n",
       "      <td>Microcosm</td>\n",
       "      <td>[Package Dimensions:\\n                    \\n7....</td>\n",
       "      <td>11,390,771inClothing,ShoesJewelry(</td>\n",
       "      <td>5 star5 star (0%)</td>\n",
       "      <td>[https://images-na.ssl-images-amazon.com/image...</td>\n",
       "      <td>[https://images-na.ssl-images-amazon.com/image...</td>\n",
       "      <td>NaN</td>\n",
       "      <td>NaN</td>\n",
       "      <td>NaN</td>\n",
       "      <td>NaN</td>\n",
       "      <td>NaN</td>\n",
       "      <td>NaN</td>\n",
       "      <td>NaN</td>\n",
       "      <td>NaN</td>\n",
       "    </tr>\n",
       "    <tr>\n",
       "      <th>884805</th>\n",
       "      <td>A2RSX9E79DUHRX</td>\n",
       "      <td>B01HJG5NMW</td>\n",
       "      <td>5.0</td>\n",
       "      <td>1470700800</td>\n",
       "      <td>Microcosm Retro Vintage Black Crochet Lace One...</td>\n",
       "      <td>Microcosm</td>\n",
       "      <td>[Package Dimensions:\\n                    \\n7....</td>\n",
       "      <td>7,178,113inClothing,ShoesJewelry(</td>\n",
       "      <td>5 star</td>\n",
       "      <td>[https://images-na.ssl-images-amazon.com/image...</td>\n",
       "      <td>[https://images-na.ssl-images-amazon.com/image...</td>\n",
       "      <td>NaN</td>\n",
       "      <td>NaN</td>\n",
       "      <td>NaN</td>\n",
       "      <td>NaN</td>\n",
       "      <td>NaN</td>\n",
       "      <td>NaN</td>\n",
       "      <td>NaN</td>\n",
       "      <td>NaN</td>\n",
       "    </tr>\n",
       "  </tbody>\n",
       "</table>\n",
       "<p>884806 rows × 19 columns</p>\n",
       "</div>"
      ],
      "text/plain": [
       "                userId   productId  rating   timestamp  \\\n",
       "0       A1D4G1SNUZWQOT  7106116521     5.0  1413763200   \n",
       "1       A3DDWDH9PX2YX2  7106116521     2.0  1411862400   \n",
       "2       A2MWC41EW7XL15  7106116521     4.0  1408924800   \n",
       "3       A2UH2QQ275NV45  7106116521     2.0  1408838400   \n",
       "4        A89F3LQADZBS5  7106116521     3.0  1406419200   \n",
       "...                ...         ...     ...         ...   \n",
       "884801  A1ZSB2Q144UTEY  B01HJHTH5U     5.0  1487635200   \n",
       "884802  A2CCDV0J5VB6F2  B01HJHTH5U     5.0  1480032000   \n",
       "884803  A3O90PACS7B61K  B01HJHTH5U     3.0  1478736000   \n",
       "884804  A2HO94I89U3LNH  B01HJHF97K     3.0  1478736000   \n",
       "884805  A2RSX9E79DUHRX  B01HJG5NMW     5.0  1470700800   \n",
       "\n",
       "                                                    title          brand  \\\n",
       "0       Milliongadgets(TM) Earring Safety Backs For Fi...            NaN   \n",
       "1       Milliongadgets(TM) Earring Safety Backs For Fi...            NaN   \n",
       "2       Milliongadgets(TM) Earring Safety Backs For Fi...            NaN   \n",
       "3       Milliongadgets(TM) Earring Safety Backs For Fi...            NaN   \n",
       "4       Milliongadgets(TM) Earring Safety Backs For Fi...            NaN   \n",
       "...                                                   ...            ...   \n",
       "884801  Edith Windsor Women's Deep V-neck Beaded Sequi...  Edith Windsor   \n",
       "884802  Edith Windsor Women's Deep V-neck Beaded Sequi...  Edith Windsor   \n",
       "884803  Edith Windsor Women's Deep V-neck Beaded Sequi...  Edith Windsor   \n",
       "884804  Microcosm Retro Vintage Black Crochet Lace One...      Microcosm   \n",
       "884805  Microcosm Retro Vintage Black Crochet Lace One...      Microcosm   \n",
       "\n",
       "                                                  feature  \\\n",
       "0                                                     NaN   \n",
       "1                                                     NaN   \n",
       "2                                                     NaN   \n",
       "3                                                     NaN   \n",
       "4                                                     NaN   \n",
       "...                                                   ...   \n",
       "884801  [Product Dimensions:\\n                    \\n9....   \n",
       "884802  [Product Dimensions:\\n                    \\n9....   \n",
       "884803  [Product Dimensions:\\n                    \\n9....   \n",
       "884804  [Package Dimensions:\\n                    \\n7....   \n",
       "884805  [Package Dimensions:\\n                    \\n7....   \n",
       "\n",
       "                                      rank               date  \\\n",
       "0        2,081,098inClothing,ShoesJewelry(           fishhook   \n",
       "1        2,081,098inClothing,ShoesJewelry(           fishhook   \n",
       "2        2,081,098inClothing,ShoesJewelry(           fishhook   \n",
       "3        2,081,098inClothing,ShoesJewelry(           fishhook   \n",
       "4        2,081,098inClothing,ShoesJewelry(           fishhook   \n",
       "...                                    ...                ...   \n",
       "884801   1,964,585inClothing,ShoesJewelry(             5 star   \n",
       "884802   1,964,585inClothing,ShoesJewelry(             5 star   \n",
       "884803   1,964,585inClothing,ShoesJewelry(             5 star   \n",
       "884804  11,390,771inClothing,ShoesJewelry(  5 star5 star (0%)   \n",
       "884805   7,178,113inClothing,ShoesJewelry(             5 star   \n",
       "\n",
       "                                                 imageURL  \\\n",
       "0       [https://images-na.ssl-images-amazon.com/image...   \n",
       "1       [https://images-na.ssl-images-amazon.com/image...   \n",
       "2       [https://images-na.ssl-images-amazon.com/image...   \n",
       "3       [https://images-na.ssl-images-amazon.com/image...   \n",
       "4       [https://images-na.ssl-images-amazon.com/image...   \n",
       "...                                                   ...   \n",
       "884801  [https://images-na.ssl-images-amazon.com/image...   \n",
       "884802  [https://images-na.ssl-images-amazon.com/image...   \n",
       "884803  [https://images-na.ssl-images-amazon.com/image...   \n",
       "884804  [https://images-na.ssl-images-amazon.com/image...   \n",
       "884805  [https://images-na.ssl-images-amazon.com/image...   \n",
       "\n",
       "                                          imageURLHighRes description price  \\\n",
       "0       [https://images-na.ssl-images-amazon.com/image...         NaN   NaN   \n",
       "1       [https://images-na.ssl-images-amazon.com/image...         NaN   NaN   \n",
       "2       [https://images-na.ssl-images-amazon.com/image...         NaN   NaN   \n",
       "3       [https://images-na.ssl-images-amazon.com/image...         NaN   NaN   \n",
       "4       [https://images-na.ssl-images-amazon.com/image...         NaN   NaN   \n",
       "...                                                   ...         ...   ...   \n",
       "884801  [https://images-na.ssl-images-amazon.com/image...         NaN   NaN   \n",
       "884802  [https://images-na.ssl-images-amazon.com/image...         NaN   NaN   \n",
       "884803  [https://images-na.ssl-images-amazon.com/image...         NaN   NaN   \n",
       "884804  [https://images-na.ssl-images-amazon.com/image...         NaN   NaN   \n",
       "884805  [https://images-na.ssl-images-amazon.com/image...         NaN   NaN   \n",
       "\n",
       "       also_view      also_buy  fit details similar_item tech1  \n",
       "0            NaN           NaN  NaN     NaN          NaN   NaN  \n",
       "1            NaN           NaN  NaN     NaN          NaN   NaN  \n",
       "2            NaN           NaN  NaN     NaN          NaN   NaN  \n",
       "3            NaN           NaN  NaN     NaN          NaN   NaN  \n",
       "4            NaN           NaN  NaN     NaN          NaN   NaN  \n",
       "...          ...           ...  ...     ...          ...   ...  \n",
       "884801       NaN  [B077ZLGMJ3]  NaN     NaN          NaN   NaN  \n",
       "884802       NaN  [B077ZLGMJ3]  NaN     NaN          NaN   NaN  \n",
       "884803       NaN  [B077ZLGMJ3]  NaN     NaN          NaN   NaN  \n",
       "884804       NaN           NaN  NaN     NaN          NaN   NaN  \n",
       "884805       NaN           NaN  NaN     NaN          NaN   NaN  \n",
       "\n",
       "[884806 rows x 19 columns]"
      ]
     },
     "execution_count": 35,
     "metadata": {},
     "output_type": "execute_result"
    }
   ],
   "source": [
    "df_all"
   ]
  },
  {
   "cell_type": "markdown",
   "metadata": {},
   "source": [
    "### EDA"
   ]
  },
  {
   "cell_type": "code",
   "execution_count": 36,
   "metadata": {},
   "outputs": [
    {
     "name": "stderr",
     "output_type": "stream",
     "text": [
      "C:\\Users\\ansck\\AppData\\Local\\Temp\\ipykernel_12780\\3893822576.py:2: FutureWarning: \n",
      "\n",
      "Passing `palette` without assigning `hue` is deprecated and will be removed in v0.14.0. Assign the `x` variable to `hue` and set `legend=False` for the same effect.\n",
      "\n",
      "  sns.countplot(x='rating', data=df, palette='winter')\n"
     ]
    },
    {
     "data": {
      "image/png": "[encoded data removed]",
      "text/plain": [
       "<Figure size 600x400 with 1 Axes>"
      ]
     },
     "metadata": {},
     "output_type": "display_data"
    }
   ],
   "source": [
    "plt.figure(figsize=(6,4))\n",
    "sns.countplot(x='rating', data=df, palette='winter')\n",
    "plt.xlabel('Rating', fontsize=4)\n",
    "plt.ylabel('Count', fontsize=4)\n",
    "plt.title('Rating', fontsize=12)\n",
    "plt.show()"
   ]
  },
  {
   "cell_type": "code",
   "execution_count": 37,
   "metadata": {},
   "outputs": [],
   "source": [
    "df_rating=pd.DataFrame({'Num_Rating':df.groupby('productId')['rating'].count(), 'Mean Rating':df.groupby('productId')['rating'].mean()})"
   ]
  },
  {
   "cell_type": "code",
   "execution_count": 38,
   "metadata": {},
   "outputs": [
    {
     "data": {
      "text/html": [
       "<div>\n",
       "<style scoped>\n",
       "    .dataframe tbody tr th:only-of-type {\n",
       "        vertical-align: middle;\n",
       "    }\n",
       "\n",
       "    .dataframe tbody tr th {\n",
       "        vertical-align: top;\n",
       "    }\n",
       "\n",
       "    .dataframe thead th {\n",
       "        text-align: right;\n",
       "    }\n",
       "</style>\n",
       "<table border=\"1\" class=\"dataframe\">\n",
       "  <thead>\n",
       "    <tr style=\"text-align: right;\">\n",
       "      <th></th>\n",
       "      <th>Num_Rating</th>\n",
       "      <th>Mean Rating</th>\n",
       "    </tr>\n",
       "    <tr>\n",
       "      <th>productId</th>\n",
       "      <th></th>\n",
       "      <th></th>\n",
       "    </tr>\n",
       "  </thead>\n",
       "  <tbody>\n",
       "    <tr>\n",
       "      <th>0764443682</th>\n",
       "      <td>1</td>\n",
       "      <td>5.000000</td>\n",
       "    </tr>\n",
       "    <tr>\n",
       "      <th>1291691480</th>\n",
       "      <td>1</td>\n",
       "      <td>5.000000</td>\n",
       "    </tr>\n",
       "    <tr>\n",
       "      <th>1940280001</th>\n",
       "      <td>1</td>\n",
       "      <td>5.000000</td>\n",
       "    </tr>\n",
       "    <tr>\n",
       "      <th>1940735033</th>\n",
       "      <td>7</td>\n",
       "      <td>4.857143</td>\n",
       "    </tr>\n",
       "    <tr>\n",
       "      <th>1940967805</th>\n",
       "      <td>1</td>\n",
       "      <td>5.000000</td>\n",
       "    </tr>\n",
       "  </tbody>\n",
       "</table>\n",
       "</div>"
      ],
      "text/plain": [
       "            Num_Rating  Mean Rating\n",
       "productId                          \n",
       "0764443682           1     5.000000\n",
       "1291691480           1     5.000000\n",
       "1940280001           1     5.000000\n",
       "1940735033           7     4.857143\n",
       "1940967805           1     5.000000"
      ]
     },
     "execution_count": 38,
     "metadata": {},
     "output_type": "execute_result"
    }
   ],
   "source": [
    "df_rating.head()"
   ]
  },
  {
   "cell_type": "code",
   "execution_count": 39,
   "metadata": {},
   "outputs": [
    {
     "data": {
      "image/png": "[encoded data removed]",
      "text/plain": [
       "<Figure size 1800x600 with 2 Axes>"
      ]
     },
     "metadata": {},
     "output_type": "display_data"
    }
   ],
   "source": [
    "plt.figure(figsize=(18,6))\n",
    "\n",
    "plt.subplot(1,2,1)\n",
    "plt.hist(x='Num_Rating',data=df_rating,bins=30,color='teal')\n",
    "plt.title('Num_Rating distribution', fontsize=15)\n",
    "plt.xlabel('Num_Rating', fontsize=12)\n",
    "plt.ylabel('Frequency', fontsize=12)\n",
    "\n",
    "plt.subplot(1,2,2)\n",
    "plt.hist(x='Mean Rating',data=df_rating,bins=30, color='slateblue')\n",
    "plt.title('Mean Rating distribution', fontsize=15)\n",
    "plt.xlabel('Mean Rating', fontsize=12)\n",
    "plt.yticks([])\n",
    "plt.show()"
   ]
  },
  {
   "cell_type": "code",
   "execution_count": 40,
   "metadata": {},
   "outputs": [
    {
     "data": {
      "text/plain": [
       "<Figure size 800x600 with 0 Axes>"
      ]
     },
     "metadata": {},
     "output_type": "display_data"
    },
    {
     "data": {
      "image/png": "[encoded data removed]",
      "text/plain": [
       "<Figure size 700x700 with 3 Axes>"
      ]
     },
     "metadata": {},
     "output_type": "display_data"
    }
   ],
   "source": [
    "plt.figure(figsize=(8,6))\n",
    "sns.jointplot(x='Num_Rating', y='Mean Rating',data=df_rating,color='g', height=7)\n",
    "plt.show()"
   ]
  },
  {
   "cell_type": "markdown",
   "metadata": {},
   "source": [
    "### Data Preprocessing"
   ]
  },
  {
   "cell_type": "code",
   "execution_count": 59,
   "metadata": {},
   "outputs": [
    {
     "data": {
      "text/plain": [
       "3725"
      ]
     },
     "execution_count": 59,
     "metadata": {},
     "output_type": "execute_result"
    }
   ],
   "source": [
    "userId_counts = df_all['userId'].value_counts()\n",
    "valid_users = userId_counts[userId_counts >= 5].index\n",
    "len(valid_users)"
   ]
  },
  {
   "cell_type": "code",
   "execution_count": 60,
   "metadata": {},
   "outputs": [],
   "source": [
    "df_validusers = df_all[df_all['userId'].isin(valid_users)]"
   ]
  },
  {
   "cell_type": "code",
   "execution_count": 62,
   "metadata": {},
   "outputs": [
    {
     "data": {
      "text/plain": [
       "40"
      ]
     },
     "execution_count": 62,
     "metadata": {},
     "output_type": "execute_result"
    }
   ],
   "source": [
    "df_validusers['userId'].value_counts().max()"
   ]
  },
  {
   "cell_type": "code",
   "execution_count": 64,
   "metadata": {},
   "outputs": [
    {
     "data": {
      "text/plain": [
       "24139"
      ]
     },
     "execution_count": 64,
     "metadata": {},
     "output_type": "execute_result"
    }
   ],
   "source": [
    "len(df_validusers)"
   ]
  }
 ],
 "metadata": {
  "kernelspec": {
   "display_name": "movie",
   "language": "python",
   "name": "python3"
  },
  "language_info": {
   "codemirror_mode": {
    "name": "ipython",
    "version": 3
   },
   "file_extension": ".py",
   "mimetype": "text/x-python",
   "name": "python",
   "nbconvert_exporter": "python",
   "pygments_lexer": "ipython3",
   "version": "3.10.13"
  }
 },
 "nbformat": 4,
 "nbformat_minor": 2
}
