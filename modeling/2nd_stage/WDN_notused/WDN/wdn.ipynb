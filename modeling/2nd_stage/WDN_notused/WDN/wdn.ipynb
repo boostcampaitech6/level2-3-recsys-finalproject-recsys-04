{
 "cells": [
  {
   "cell_type": "markdown",
   "metadata": {},
   "source": [
    "데이터 로딩 관련 \n",
    "https://leehyejin91.github.io/post-wide_n_deep/"
   ]
  },
  {
   "cell_type": "code",
   "execution_count": 75,
   "metadata": {},
   "outputs": [
    {
     "name": "stdout",
     "output_type": "stream",
     "text": [
      "using cuda \n"
     ]
    }
   ],
   "source": [
    "import pandas as pd\n",
    "import numpy as np\n",
    "import torch\n",
    "import torch.nn as nn\n",
    "from torch.utils.data import Dataset, DataLoader\n",
    "from sklearn.model_selection import train_test_split\n",
    "from sklearn.preprocessing import LabelEncoder\n",
    "\n",
    "import os\n",
    "os.environ['CUDA_LAUNCH_BLOCKING'] = \"1\"\n",
    "\n",
    "device = torch.device('cuda' if torch.cuda.is_available() else 'cpu')\n",
    "print(f\"using {device} \")"
   ]
  },
  {
   "cell_type": "code",
   "execution_count": 110,
   "metadata": {},
   "outputs": [],
   "source": [
    "df = pd.read_csv('/home/siyun/ephemeral/WDN/data/gift_data.csv')"
   ]
  },
  {
   "cell_type": "code",
   "execution_count": 111,
   "metadata": {},
   "outputs": [],
   "source": [
    "def cat_stats(df) : \n",
    "    for col1 in df['category_1'].unique():\n",
    "        # 특정 category_1 값에 해당하는 행들만 선택\n",
    "        filtered_df1 = df[df['category_1'] == col1]\n",
    "\n",
    "        # category_1에 대한 price 통계 계산\n",
    "        mean_price1 = filtered_df1['price'].mean()\n",
    "        std_price1 = filtered_df1['price'].std()\n",
    "\n",
    "        mean_review1 = filtered_df1['num_review'].mean()\n",
    "        std_review1 = filtered_df1['num_review'].std()\n",
    "\n",
    "        # 결과 출력\n",
    "        print(f\"len : {len(filtered_df1)} || Category_1: {col1} || price_mean :{int(mean_price1)}({std_price1:.3f}) || price_min : {filtered_df1['price'].min()} || Q_0.3: {int(filtered_df1['price'].quantile(0.3))} || Q_0.5: {int(filtered_df1['price'].median())} || Q_0.99: {int(filtered_df1['price'].quantile(0.99))} || price_max : {filtered_df1['price'].max()}\")\n",
    "\n",
    "        print(f\"                                        review_mean: {int(mean_review1)}({std_review1:.3f}) || review_min : {filtered_df1['price'].min()} || Q_0.3: {int(np.quantile(std_review1, 0.3))} || Q_0.5: {int(np.median(std_review1))}\")\n",
    "        # print(f\"Q 0.3보다 낮은 row의 개수 : {len(filtered_df1[filtered_df1['price'] < filtered_df1['price'].quantile(0.3)])} 의 비율 : {len(filtered_df1[filtered_df1['price'] < filtered_df1['price'].quantile(0.3)]) / len(df)}\")\n",
    "        # category_2의 unique 값에 대해 반복\n",
    "        for col2 in filtered_df1['category_2'].unique():\n",
    "            # 특정 category_2 값에 해당하는 행들만 선택\n",
    "            filtered_df2 = filtered_df1[filtered_df1['category_2'] == col2]\n",
    "\n",
    "            if len(filtered_df2) <= 1 :\n",
    "                pass\n",
    "            else :\n",
    "                # category_2에 대한 price 통계 계산\n",
    "                mean_price2 = filtered_df2['price'].mean()\n",
    "                std_price2 = filtered_df2['price'].std()\n",
    "\n",
    "\n",
    "                mean_review2 = filtered_df2['num_review'].mean()\n",
    "                std_review2 = filtered_df2['num_review'].std()\n",
    "                \n",
    "                # 각 카테고리1의 하위 카테고리인 카테고리2의 quantile 0.3 이하를 제거 \n",
    "\n",
    "                # 결과 출력\n",
    "                print(f\"    len : {len(filtered_df2)} || Category_2: {col2} || Category_1: {col1} || price_mean :{int(mean_price2)}({std_price2:.3f}) || price_min : {filtered_df2['price'].min()} || Q_0.3: {int(filtered_df2['price'].quantile(0.3))} || Q_0.5: {int(filtered_df2['price'].median())} || Q_0.99: {int(filtered_df2['price'].quantile(0.99))} || price_max : {filtered_df2['price'].max()}\")\n",
    "                print(f\"                                             review_mean: {int(mean_review2)}({std_review2:.3f}) || review_min : {filtered_df2['price'].min()} || Q_0.3: {int(np.quantile(std_review2, 0.3))} || Q_0.5: {int(np.median(std_review2))}\")\n"
   ]
  },
  {
   "cell_type": "markdown",
   "metadata": {},
   "source": [
    "개성 계산\n",
    "- 엔트로피 계수를 이용해서 선택의 다양성을 계산합니다\n",
    "- 높은 엔트로피 ~= 다양하게 선택됨\n",
    "- 낮은 엔트로피 ~= 일관되게 선택됨 "
   ]
  },
  {
   "cell_type": "code",
   "execution_count": 112,
   "metadata": {},
   "outputs": [],
   "source": [
    "# 각 product_id 별로 size(count) 계산\n",
    "\n",
    "df['category_3'].fillna('unknown', inplace=True)\n",
    "product_category_counts = df.groupby(['product_id', 'category_1', 'category_2', 'category_3']).size().reset_index(name='counts')\n",
    "\n",
    "# 각 product_id 내에서 카테고리가 선택될 확률 계산\n",
    "product_category_counts['total_counts'] = product_category_counts.groupby('product_id')['counts'].transform('sum')\n",
    "product_category_counts['prob'] = product_category_counts['counts'] / product_category_counts['total_counts']\n",
    "\n",
    "# 각 product_id에 대한 엔트로피를 계산\n",
    "# -sigma(pi) * log2(pi)\n",
    "product_category_counts['personality'] = -product_category_counts['prob'] * np.log2(product_category_counts['prob'])\n",
    "product_entropy = product_category_counts.groupby('product_id')['personality'].sum().reset_index()\n",
    "\n",
    "# 매핑\n",
    "mean_entropy = product_entropy['personality'].mean()\n",
    "df = df.merge(product_entropy, on='product_id', how='left')\n",
    "df['personality'].fillna(mean_entropy, inplace=True)\n"
   ]
  },
  {
   "cell_type": "code",
   "execution_count": 113,
   "metadata": {},
   "outputs": [
    {
     "data": {
      "text/plain": [
       "330180"
      ]
     },
     "execution_count": 113,
     "metadata": {},
     "output_type": "execute_result"
    }
   ],
   "source": [
    "len(df)"
   ]
  },
  {
   "cell_type": "code",
   "execution_count": 114,
   "metadata": {},
   "outputs": [
    {
     "data": {
      "text/plain": [
       "131075"
      ]
     },
     "execution_count": 114,
     "metadata": {},
     "output_type": "execute_result"
    }
   ],
   "source": [
    "df['product_id'].nunique()"
   ]
  },
  {
   "cell_type": "markdown",
   "metadata": {},
   "source": [
    "# Filtering"
   ]
  },
  {
   "cell_type": "code",
   "execution_count": 115,
   "metadata": {},
   "outputs": [],
   "source": [
    "filtered_df = pd.DataFrame()\n",
    "\n",
    "for col1 in df['category_1'].unique():\n",
    "    # 특정 category_1 값에 해당하는 행들만 선택\n",
    "    filtered_df1 = df[df['category_1'] == col1]\n",
    "\n",
    "    # category_2의 unique 값에 대해 반복\n",
    "    for col2 in filtered_df1['category_2'].unique():\n",
    "        # 특정 category_2 값에 해당하는 행들만 선택\n",
    "        filtered_df2 = filtered_df1[filtered_df1['category_2'] == col2]\n",
    "\n",
    "        # 각 카테고리1의 하위 카테고리인 카테고리2의 quantile 0.3 이하를 제거 \n",
    "        price_q_3 = filtered_df2['price'].quantile(0.3)\n",
    "        price_q_99 =  filtered_df2['price'].quantile(0.99)\n",
    "        rev_q_0_50 = filtered_df2['num_review'].quantile(0.5)\n",
    "\n",
    "        filtered_q3 = filtered_df2[(filtered_df2['price'] > price_q_3) & (filtered_df2['price'] <= price_q_99) & (filtered_df2['num_review'] >= rev_q_0_50)]\n",
    "        filtered_df = pd.concat([filtered_df, filtered_q3])\n"
   ]
  },
  {
   "cell_type": "code",
   "execution_count": 116,
   "metadata": {},
   "outputs": [
    {
     "name": "stdout",
     "output_type": "stream",
     "text": [
      "(115086, 12)\n"
     ]
    },
    {
     "data": {
      "text/plain": [
       "46094"
      ]
     },
     "execution_count": 116,
     "metadata": {},
     "output_type": "execute_result"
    }
   ],
   "source": [
    "print(filtered_df.shape)\n",
    "filtered_df['product_id'].nunique()\n"
   ]
  },
  {
   "cell_type": "code",
   "execution_count": 117,
   "metadata": {},
   "outputs": [],
   "source": [
    "# 카테고리1 별 비율 계산\n",
    "cat1_ratios = filtered_df['category_1'].value_counts(normalize=True)\n",
    "\n",
    "# 샘플링할 최종 데이터프레임 초기화\n",
    "final_sample_df = pd.DataFrame()\n",
    "\n",
    "# 총 샘플링할 개수\n",
    "## 이상치를 제거한 나머지\n",
    "total_samples = 30000\n",
    "\n",
    "# 카테고리1 별로 루프\n",
    "for cat1, cat1_ratio in cat1_ratios.items():\n",
    "    cat1_df = filtered_df[filtered_df['category_1'] == cat1]\n",
    "    # print(cat1_ratio)\n",
    "    \n",
    "    # 카테고리1의 비율에 따라 할당할 샘플 수 계산 (1 - 카테고리1의 비율)\n",
    "    cat1_sample_size = int((cat1_ratio) * total_samples)\n",
    "    # print(cat1_sample_size)\n",
    "    \n",
    "    # 카테고리2 별 비율 계산\n",
    "    cat2_ratios = cat1_df['category_2'].value_counts(normalize=True)\n",
    "    \n",
    "    # 카테고리2 별로 샘플링\n",
    "    for cat2, cat2_ratio in cat2_ratios.items():\n",
    "        cat2_df = cat1_df[cat1_df['category_2'] == cat2]\n",
    "        \n",
    "        # 카테고리2 별 할당할 샘플 수 (카테고리2의 비율 * 카테고리1 내 샘플 수)\n",
    "        cat2_sample_size = max(3, int(cat2_ratio * cat1_sample_size)) # 적어도 3개는 샘플링\n",
    "        \n",
    "        # 샘플링 후 최종 데이터프레임에 추가\n",
    "        sampled_df = cat2_df.sample(n=cat2_sample_size, replace=False) # replace=True로 설정해서 데이터의 공백이 없도록 설정\n",
    "        final_sample_df = pd.concat([final_sample_df, sampled_df])\n",
    "\n",
    "# 최종 샘플링된 데이터프레임의 길이 조정\n",
    "# 필요에 따라서는 여기서 추가 조정을 할 수 있습니다. 예를 들어 total_samples보다 많이 샘플링된 경우 조정 필요\n",
    "if len(final_sample_df) > total_samples:\n",
    "    final_sample_df = final_sample_df.sample(n=total_samples)\n"
   ]
  },
  {
   "cell_type": "code",
   "execution_count": 118,
   "metadata": {},
   "outputs": [
    {
     "name": "stdout",
     "output_type": "stream",
     "text": [
      "len : 11106 || Category_1: 생일선물 || price_mean :56194(92879.677) || price_min : 1980 || Q_0.3: 23900 || Q_0.5: 31500 || Q_0.99: 499000 || price_max : 1799000\n",
      "                                        review_mean: 1930(2418.132) || review_min : 1980 || Q_0.3: 2418 || Q_0.5: 2418\n",
      "    len : 2577 || Category_2: 환갑/칠순선물 || Category_1: 생일선물 || price_mean :81565(114899.983) || price_min : 19860 || Q_0.3: 29900 || Q_0.5: 39900 || Q_0.99: 659000 || price_max : 898000\n",
      "                                             review_mean: 1976(2523.830) || review_min : 19860 || Q_0.3: 2523 || Q_0.5: 2523\n",
      "    len : 2427 || Category_2: 4050대 여성 || Category_1: 생일선물 || price_mean :41610(32317.732) || price_min : 14990 || Q_0.3: 23500 || Q_0.5: 29900 || Q_0.99: 175217 || price_max : 230000\n",
      "                                             review_mean: 2022(2523.108) || review_min : 14990 || Q_0.3: 2523 || Q_0.5: 2523\n",
      "    len : 1681 || Category_2: 2030대 여성 || Category_1: 생일선물 || price_mean :42496(67143.434) || price_min : 12700 || Q_0.3: 18900 || Q_0.5: 25000 || Q_0.99: 419000 || price_max : 719000\n",
      "                                             review_mean: 1825(2231.511) || review_min : 12700 || Q_0.3: 2231 || Q_0.5: 2231\n",
      "    len : 1622 || Category_2: 4050대 남성 || Category_1: 생일선물 || price_mean :45899(33166.052) || price_min : 18200 || Q_0.3: 25900 || Q_0.5: 34000 || Q_0.99: 173949 || price_max : 209000\n",
      "                                             review_mean: 2167(2541.450) || review_min : 18200 || Q_0.3: 2541 || Q_0.5: 2541\n",
      "    len : 1304 || Category_2: 2030대 남성 || Category_1: 생일선물 || price_mean :56411(89102.331) || price_min : 16500 || Q_0.3: 23698 || Q_0.5: 31000 || Q_0.99: 499000 || price_max : 1099000\n",
      "                                             review_mean: 1846(2354.651) || review_min : 16500 || Q_0.3: 2354 || Q_0.5: 2354\n",
      "    len : 892 || Category_2: 10대 여성 || Category_1: 생일선물 || price_mean :51181(91430.232) || price_min : 13000 || Q_0.3: 19215 || Q_0.5: 25600 || Q_0.99: 580800 || price_max : 979000\n",
      "                                             review_mean: 1832(2239.648) || review_min : 13000 || Q_0.3: 2239 || Q_0.5: 2239\n",
      "    len : 287 || Category_2: 파티용품 || Category_1: 생일선물 || price_mean :9153(7314.818) || price_min : 1980 || Q_0.3: 3900 || Q_0.5: 7000 || Q_0.99: 35137 || price_max : 39900\n",
      "                                             review_mean: 1036(1521.562) || review_min : 1980 || Q_0.3: 1521 || Q_0.5: 1521\n",
      "    len : 282 || Category_2: 10대 남성 || Category_1: 생일선물 || price_mean :158111(302924.400) || price_min : 18000 || Q_0.3: 29000 || Q_0.5: 50000 || Q_0.99: 1574700 || price_max : 1799000\n",
      "                                             review_mean: 1621(2032.347) || review_min : 18000 || Q_0.3: 2032 || Q_0.5: 2032\n",
      "    len : 22 || Category_2: e쿠폰 || Category_1: 생일선물 || price_mean :17563(13491.816) || price_min : 5700 || Q_0.3: 9860 || Q_0.5: 10000 || Q_0.99: 50000 || price_max : 50000\n",
      "                                             review_mean: 1841(3344.664) || review_min : 5700 || Q_0.3: 3344 || Q_0.5: 3344\n",
      "    len : 12 || Category_2: 케이크 || Category_1: 생일선물 || price_mean :17258(13285.225) || price_min : 5900 || Q_0.3: 9360 || Q_0.5: 10300 || Q_0.99: 47800 || price_max : 50000\n",
      "                                             review_mean: 1402(2722.220) || review_min : 5900 || Q_0.3: 2722 || Q_0.5: 2722\n",
      "len : 5391 || Category_1: 집들이선물 || price_mean :33871(78038.209) || price_min : 3900 || Q_0.3: 12800 || Q_0.5: 17900 || Q_0.99: 359000 || price_max : 1590000\n",
      "                                        review_mean: 1611(2190.385) || review_min : 3900 || Q_0.3: 2190 || Q_0.5: 2190\n",
      "    len : 1759 || Category_2: 푸드 || Category_1: 집들이선물 || price_mean :22484(14059.794) || price_min : 8900 || Q_0.3: 13900 || Q_0.5: 17900 || Q_0.99: 75000 || price_max : 109950\n",
      "                                             review_mean: 1786(2318.271) || review_min : 8900 || Q_0.3: 2318 || Q_0.5: 2318\n",
      "    len : 1254 || Category_2: 반려동물 || Category_1: 집들이선물 || price_mean :19551(18781.375) || price_min : 3980 || Q_0.3: 8989 || Q_0.5: 13500 || Q_0.99: 105000 || price_max : 140000\n",
      "                                             review_mean: 1287(1782.108) || review_min : 3980 || Q_0.3: 1782 || Q_0.5: 1782\n",
      "    len : 721 || Category_2: 주방용품 || Category_1: 집들이선물 || price_mean :19821(19694.499) || price_min : 4980 || Q_0.3: 8900 || Q_0.5: 13000 || Q_0.99: 104599 || price_max : 139000\n",
      "                                             review_mean: 1205(1767.930) || review_min : 4980 || Q_0.3: 1767 || Q_0.5: 1767\n",
      "    len : 603 || Category_2: 리빙/인테리어 || Category_1: 집들이선물 || price_mean :32228(28538.268) || price_min : 9990 || Q_0.3: 17900 || Q_0.5: 23900 || Q_0.99: 165750 || price_max : 194000\n",
      "                                             review_mean: 1694(2316.659) || review_min : 9990 || Q_0.3: 2316 || Q_0.5: 2316\n",
      "    len : 356 || Category_2: 생활용품 || Category_1: 집들이선물 || price_mean :22084(9491.771) || price_min : 10800 || Q_0.3: 15300 || Q_0.5: 19500 || Q_0.99: 51929 || price_max : 60000\n",
      "                                             review_mean: 2268(2813.447) || review_min : 10800 || Q_0.3: 2813 || Q_0.5: 2813\n",
      "    len : 308 || Category_2: 가전 || Category_1: 집들이선물 || price_mean :224323(249926.144) || price_min : 40300 || Q_0.3: 89000 || Q_0.5: 138945 || Q_0.99: 1290000 || price_max : 1590000\n",
      "                                             review_mean: 1572(1898.489) || review_min : 40300 || Q_0.3: 1898 || Q_0.5: 1898\n",
      "    len : 197 || Category_2: 청소용품 || Category_1: 집들이선물 || price_mean :21294(15837.633) || price_min : 6900 || Q_0.3: 11409 || Q_0.5: 14900 || Q_0.99: 75159 || price_max : 89900\n",
      "                                             review_mean: 2241(2716.356) || review_min : 6900 || Q_0.3: 2716 || Q_0.5: 2716\n",
      "    len : 138 || Category_2: 식물 || Category_1: 집들이선물 || price_mean :20554(23169.822) || price_min : 4000 || Q_0.3: 8500 || Q_0.5: 11900 || Q_0.99: 109630 || price_max : 119000\n",
      "                                             review_mean: 1236(1818.470) || review_min : 4000 || Q_0.3: 1818 || Q_0.5: 1818\n",
      "    len : 55 || Category_2: 욕실용품 || Category_1: 집들이선물 || price_mean :14976(13123.010) || price_min : 3900 || Q_0.3: 5400 || Q_0.5: 8000 || Q_0.99: 48857 || price_max : 51800\n",
      "                                             review_mean: 2422(3159.967) || review_min : 3900 || Q_0.3: 3159 || Q_0.5: 3159\n",
      "len : 3608 || Category_1: 결혼기념일선물 || price_mean :66197(157568.117) || price_min : 1500 || Q_0.3: 24736 || Q_0.5: 34000 || Q_0.99: 637369 || price_max : 2349000\n",
      "                                        review_mean: 1650(2197.744) || review_min : 1500 || Q_0.3: 2197 || Q_0.5: 2197\n",
      "    len : 2161 || Category_2: 부모님선물 || Category_1: 결혼기념일선물 || price_mean :45809(36938.125) || price_min : 14980 || Q_0.3: 24900 || Q_0.5: 33000 || Q_0.99: 198000 || price_max : 259200\n",
      "                                             review_mean: 1832(2347.172) || review_min : 14980 || Q_0.3: 2347 || Q_0.5: 2347\n",
      "    len : 794 || Category_2: 아내선물 || Category_1: 결혼기념일선물 || price_mean :89460(158452.648) || price_min : 19840 || Q_0.3: 30000 || Q_0.5: 40520 || Q_0.99: 705999 || price_max : 1608000\n",
      "                                             review_mean: 1474(1963.677) || review_min : 19840 || Q_0.3: 1963 || Q_0.5: 1963\n",
      "    len : 320 || Category_2: 이벤트/파티용품 || Category_1: 결혼기념일선물 || price_mean :9831(9281.380) || price_min : 2100 || Q_0.3: 4200 || Q_0.5: 7150 || Q_0.99: 47411 || price_max : 75900\n",
      "                                             review_mean: 1166(1900.756) || review_min : 2100 || Q_0.3: 1900 || Q_0.5: 1900\n",
      "    len : 294 || Category_2: 남편선물 || Category_1: 결혼기념일선물 || price_mean :222422(441110.086) || price_min : 25000 || Q_0.3: 45799 || Q_0.5: 62900 || Q_0.99: 2298070 || price_max : 2349000\n",
      "                                             review_mean: 1411(1845.671) || review_min : 25000 || Q_0.3: 1845 || Q_0.5: 1845\n",
      "    len : 39 || Category_2: 손편지 || Category_1: 결혼기념일선물 || price_mean :7083(5367.085) || price_min : 1500 || Q_0.3: 4620 || Q_0.5: 6000 || Q_0.99: 25883 || price_max : 29000\n",
      "                                             review_mean: 905(1654.723) || review_min : 1500 || Q_0.3: 1654 || Q_0.5: 1654\n",
      "len : 2317 || Category_1: 취업선물 || price_mean :54093(165722.314) || price_min : 2280 || Q_0.3: 18900 || Q_0.5: 28880 || Q_0.99: 499000 || price_max : 2598000\n",
      "                                        review_mean: 2257(2537.967) || review_min : 2280 || Q_0.3: 2537 || Q_0.5: 2537\n",
      "    len : 837 || Category_2: 영양제 || Category_1: 취업선물 || price_mean :54146(34969.091) || price_min : 23950 || Q_0.3: 33800 || Q_0.5: 40900 || Q_0.99: 197279 || price_max : 248400\n",
      "                                             review_mean: 2341(2742.703) || review_min : 23950 || Q_0.3: 2742 || Q_0.5: 2742\n",
      "    len : 833 || Category_2: 화장품 || Category_1: 취업선물 || price_mean :29283(16301.689) || price_min : 14090 || Q_0.3: 19430 || Q_0.5: 24900 || Q_0.99: 97887 || price_max : 110000\n",
      "                                             review_mean: 3011(2640.887) || review_min : 14090 || Q_0.3: 2640 || Q_0.5: 2640\n",
      "    len : 553 || Category_2: 데스크테리어 || Category_1: 취업선물 || price_mean :12143(12235.444) || price_min : 2280 || Q_0.3: 4824 || Q_0.5: 8300 || Q_0.99: 62480 || price_max : 79000\n",
      "                                             review_mean: 1041(1316.772) || review_min : 2280 || Q_0.3: 1316 || Q_0.5: 1316\n",
      "    len : 94 || Category_2: 디지털_가전 || Category_1: 취업선물 || price_mean :520261(658827.670) || price_min : 39900 || Q_0.3: 93299 || Q_0.5: 239000 || Q_0.99: 2366429 || price_max : 2598000\n",
      "                                             review_mean: 1984(2464.202) || review_min : 39900 || Q_0.3: 2464 || Q_0.5: 2464\n",
      "len : 2195 || Category_1: 합격기원선물 || price_mean :55968(193421.372) || price_min : 1790 || Q_0.3: 16031 || Q_0.5: 27160 || Q_0.99: 950799 || price_max : 2599000\n",
      "                                        review_mean: 2342(2628.963) || review_min : 1790 || Q_0.3: 2628 || Q_0.5: 2628\n",
      "    len : 841 || Category_2: 영양제 || Category_1: 합격기원선물 || price_mean :56574(36976.656) || price_min : 24000 || Q_0.3: 33930 || Q_0.5: 43800 || Q_0.99: 197800 || price_max : 238000\n",
      "                                             review_mean: 2375(2712.793) || review_min : 24000 || Q_0.3: 2712 || Q_0.5: 2712\n",
      "    len : 836 || Category_2: 식품 || Category_1: 합격기원선물 || price_mean :23741(14103.069) || price_min : 9590 || Q_0.3: 14900 || Q_0.5: 19450 || Q_0.99: 73884 || price_max : 99000\n",
      "                                             review_mean: 3061(2792.142) || review_min : 9590 || Q_0.3: 2792 || Q_0.5: 2792\n",
      "    len : 405 || Category_2: 문구용품 || Category_1: 합격기원선물 || price_mean :9330(10170.184) || price_min : 1790 || Q_0.3: 3500 || Q_0.5: 5600 || Q_0.99: 53903 || price_max : 70000\n",
      "                                             review_mean: 988(1276.638) || review_min : 1790 || Q_0.3: 1276 || Q_0.5: 1276\n",
      "    len : 65 || Category_2: 디지털 || Category_1: 합격기원선물 || price_mean :774347(842051.488) || price_min : 49900 || Q_0.3: 129160 || Q_0.5: 249000 || Q_0.99: 2598360 || price_max : 2599000\n",
      "                                             review_mean: 1774(2190.759) || review_min : 49900 || Q_0.3: 2190 || Q_0.5: 2190\n",
      "    len : 26 || Category_2: 쿠션_방석 || Category_1: 합격기원선물 || price_mean :29765(17997.354) || price_min : 15900 || Q_0.3: 18450 || Q_0.5: 24900 || Q_0.99: 88475 || price_max : 99000\n",
      "                                             review_mean: 1478(2258.295) || review_min : 15900 || Q_0.3: 2258 || Q_0.5: 2258\n",
      "    len : 22 || Category_2: e쿠폰 || Category_1: 합격기원선물 || price_mean :24445(14152.460) || price_min : 6000 || Q_0.3: 12999 || Q_0.5: 22400 || Q_0.99: 50000 || price_max : 50000\n",
      "                                             review_mean: 1355(2604.194) || review_min : 6000 || Q_0.3: 2604 || Q_0.5: 2604\n",
      "len : 2065 || Category_1: 개업선물 || price_mean :59840(173575.172) || price_min : 4100 || Q_0.3: 18900 || Q_0.5: 29900 || Q_0.99: 663039 || price_max : 2349000\n",
      "                                        review_mean: 1860(2416.714) || review_min : 4100 || Q_0.3: 2416 || Q_0.5: 2416\n",
      "    len : 837 || Category_2: 영양제 || Category_1: 개업선물 || price_mean :55629(35395.773) || price_min : 24000 || Q_0.3: 33900 || Q_0.5: 43900 || Q_0.99: 185576 || price_max : 248400\n",
      "                                             review_mean: 2511(2856.422) || review_min : 24000 || Q_0.3: 2856 || Q_0.5: 2856\n",
      "    len : 285 || Category_2: 주방용품 || Category_1: 개업선물 || price_mean :22243(16280.370) || price_min : 6300 || Q_0.3: 12080 || Q_0.5: 16900 || Q_0.99: 83800 || price_max : 106200\n",
      "                                             review_mean: 1087(1562.283) || review_min : 6300 || Q_0.3: 1562 || Q_0.5: 1562\n",
      "    len : 277 || Category_2: 인테리어 || Category_1: 개업선물 || price_mean :27101(26178.443) || price_min : 7800 || Q_0.3: 12800 || Q_0.5: 16800 || Q_0.99: 130960 || price_max : 170000\n",
      "                                             review_mean: 1450(2034.268) || review_min : 7800 || Q_0.3: 2034 || Q_0.5: 2034\n",
      "    len : 269 || Category_2: 생활용품 || Category_1: 개업선물 || price_mean :22793(10103.218) || price_min : 11000 || Q_0.3: 15900 || Q_0.5: 19500 || Q_0.99: 55680 || price_max : 58900\n",
      "                                             review_mean: 1829(2177.338) || review_min : 11000 || Q_0.3: 2177 || Q_0.5: 2177\n",
      "    len : 149 || Category_2: 홈프레그런스 || Category_1: 개업선물 || price_mean :20285(11104.803) || price_min : 7000 || Q_0.3: 13259 || Q_0.5: 17900 || Q_0.99: 56364 || price_max : 70000\n",
      "                                             review_mean: 1565(2283.638) || review_min : 7000 || Q_0.3: 2283 || Q_0.5: 2283\n",
      "    len : 140 || Category_2: 식물 || Category_1: 개업선물 || price_mean :19925(22744.133) || price_min : 4100 || Q_0.3: 7349 || Q_0.5: 10900 || Q_0.99: 105709 || price_max : 119000\n",
      "                                             review_mean: 1186(1873.619) || review_min : 4100 || Q_0.3: 1873 || Q_0.5: 1873\n",
      "    len : 108 || Category_2: 디지털_가전 || Category_1: 개업선물 || price_mean :474248(616504.749) || price_min : 59900 || Q_0.3: 144000 || Q_0.5: 198400 || Q_0.99: 2345499 || price_max : 2349000\n",
      "                                             review_mean: 1264(1299.970) || review_min : 59900 || Q_0.3: 1299 || Q_0.5: 1299\n",
      "len : 1436 || Category_1: 출산선물 || price_mean :40920(43151.794) || price_min : 14900 || Q_0.3: 22900 || Q_0.5: 28400 || Q_0.99: 276475 || price_max : 488000\n",
      "                                        review_mean: 1831(2284.132) || review_min : 14900 || Q_0.3: 2284 || Q_0.5: 2284\n",
      "    len : 1055 || Category_2: 임산부선물 || Category_1: 출산선물 || price_mean :42308(44080.060) || price_min : 15300 || Q_0.3: 22900 || Q_0.5: 28500 || Q_0.99: 284410 || price_max : 365000\n",
      "                                             review_mean: 1813(2207.550) || review_min : 15300 || Q_0.3: 2207 || Q_0.5: 2207\n",
      "    len : 190 || Category_2: 신생아선물 || Category_1: 출산선물 || price_mean :29283(15163.423) || price_min : 14900 || Q_0.3: 20400 || Q_0.5: 24900 || Q_0.99: 79209 || price_max : 122200\n",
      "                                             review_mean: 1753(2348.351) || review_min : 14900 || Q_0.3: 2348 || Q_0.5: 2348\n",
      "    len : 162 || Category_2: 과일 || Category_1: 출산선물 || price_mean :32269(12658.383) || price_min : 17900 || Q_0.3: 23900 || Q_0.5: 29000 || Q_0.99: 72679 || price_max : 73900\n",
      "                                             review_mean: 2107(2704.280) || review_min : 17900 || Q_0.3: 2704 || Q_0.5: 2704\n",
      "    len : 17 || Category_2: 꽃 || Category_1: 출산선물 || price_mean :68335(26313.327) || price_min : 32000 || Q_0.3: 56200 || Q_0.5: 67000 || Q_0.99: 130080 || price_max : 136000\n",
      "                                             review_mean: 1109(1271.785) || review_min : 32000 || Q_0.3: 1271 || Q_0.5: 1271\n",
      "    len : 12 || Category_2: 셀프촬영 || Category_1: 출산선물 || price_mean :181081(152365.673) || price_min : 44160 || Q_0.3: 88000 || Q_0.5: 116000 || Q_0.99: 481510 || price_max : 488000\n",
      "                                             review_mean: 1897(2729.892) || review_min : 44160 || Q_0.3: 2729 || Q_0.5: 2729\n",
      "len : 1261 || Category_1: 퇴직선물 || price_mean :33318(22719.007) || price_min : 7500 || Q_0.3: 19920 || Q_0.5: 26200 || Q_0.99: 131200 || price_max : 185000\n",
      "                                        review_mean: 2434(2643.220) || review_min : 7500 || Q_0.3: 2643 || Q_0.5: 2643\n",
      "    len : 836 || Category_2: 화장품 || Category_1: 퇴직선물 || price_mean :29062(15212.010) || price_min : 14990 || Q_0.3: 19575 || Q_0.5: 24200 || Q_0.99: 93608 || price_max : 110000\n",
      "                                             review_mean: 2665(2597.631) || review_min : 14990 || Q_0.3: 2597 || Q_0.5: 2597\n",
      "    len : 268 || Category_2: 영양제 || Category_1: 퇴직선물 || price_mean :51441(32656.312) || price_min : 20900 || Q_0.3: 29982 || Q_0.5: 39800 || Q_0.99: 168224 || price_max : 185000\n",
      "                                             review_mean: 2223(2786.141) || review_min : 20900 || Q_0.3: 2786 || Q_0.5: 2786\n",
      "    len : 140 || Category_2: 향초_디퓨저 || Category_1: 퇴직선물 || price_mean :19749(8404.221) || price_min : 7500 || Q_0.3: 14179 || Q_0.5: 18800 || Q_0.99: 39914 || price_max : 50000\n",
      "                                             review_mean: 1617(2476.730) || review_min : 7500 || Q_0.3: 2476 || Q_0.5: 2476\n",
      "    len : 17 || Category_2: 꽃 || Category_1: 퇴직선물 || price_mean :68635(27876.041) || price_min : 27900 || Q_0.3: 53300 || Q_0.5: 65000 || Q_0.99: 130240 || price_max : 136000\n",
      "                                             review_mean: 1101(1990.359) || review_min : 27900 || Q_0.3: 1990 || Q_0.5: 1990\n",
      "len : 592 || Category_1: 새차선물 || price_mean :32926(24015.032) || price_min : 5300 || Q_0.3: 19149 || Q_0.5: 25700 || Q_0.99: 123450 || price_max : 139900\n",
      "                                        review_mean: 1656(2319.443) || review_min : 5300 || Q_0.3: 2319 || Q_0.5: 2319\n",
      "    len : 196 || Category_2: 편의용품 || Category_1: 새차선물 || price_mean :41573(28880.489) || price_min : 14900 || Q_0.3: 23900 || Q_0.5: 29850 || Q_0.99: 135200 || price_max : 139900\n",
      "                                             review_mean: 1777(2547.008) || review_min : 14900 || Q_0.3: 2547 || Q_0.5: 2547\n",
      "    len : 182 || Category_2: 인테리어 || Category_1: 새차선물 || price_mean :36291(21169.711) || price_min : 14800 || Q_0.3: 22830 || Q_0.5: 29500 || Q_0.99: 109900 || price_max : 113190\n",
      "                                             review_mean: 1668(2318.915) || review_min : 14800 || Q_0.3: 2318 || Q_0.5: 2318\n",
      "    len : 148 || Category_2: 세차용품 || Category_1: 새차선물 || price_mean :23074(17897.091) || price_min : 8800 || Q_0.3: 13526 || Q_0.5: 16550 || Q_0.99: 93120 || price_max : 99900\n",
      "                                             review_mean: 1595(2187.903) || review_min : 8800 || Q_0.3: 2187 || Q_0.5: 2187\n",
      "    len : 66 || Category_2: 키용품 || Category_1: 새차선물 || price_mean :20062(11089.261) || price_min : 5300 || Q_0.3: 10450 || Q_0.5: 18900 || Q_0.99: 47000 || price_max : 47000\n",
      "                                             review_mean: 1398(1879.708) || review_min : 5300 || Q_0.3: 1879 || Q_0.5: 1879\n"
     ]
    }
   ],
   "source": [
    "cat_stats(final_sample_df)"
   ]
  },
  {
   "cell_type": "code",
   "execution_count": 120,
   "metadata": {},
   "outputs": [
    {
     "name": "stdout",
     "output_type": "stream",
     "text": [
      "filter_size : (15550, 12)\n",
      "filter_product_unique : 6084\n",
      "filter_brand_unique : 2148\n"
     ]
    }
   ],
   "source": [
    "product_id_counts = final_sample_df['product_id'].value_counts()\n",
    "\n",
    "# 빈도가 3 이상인 product_id 선택\n",
    "valid_product_ids = product_id_counts[product_id_counts >= 2].index\n",
    "\n",
    "# 해당 product_id만 포함하는 행을 필터링\n",
    "final_sample_df_freq_2= final_sample_df[final_sample_df['product_id'].isin(valid_product_ids)]\n",
    "\n",
    "\n",
    "print(f\"filter_size : {final_sample_df_freq_2.shape}\")\n",
    "print(f\"filter_product_unique : {final_sample_df_freq_2['product_id'].nunique()}\")\n",
    "print(f\"filter_brand_unique : {final_sample_df_freq_2['brand'].nunique()}\")\n"
   ]
  },
  {
   "cell_type": "code",
   "execution_count": 77,
   "metadata": {},
   "outputs": [
    {
     "name": "stdout",
     "output_type": "stream",
     "text": [
      "filter_size : (92356, 12)\n",
      "filter_product_unique : 23365\n",
      "filter_brand_unique : 5003\n"
     ]
    }
   ],
   "source": [
    "# print(f\"filter_size : {final_sample_df_freq_2.shape}\")\n",
    "# print(f\"filter_product_unique : {final_sample_df_freq_2['product_id'].nunique()}\")\n",
    "# print(f\"filter_brand_unique : {final_sample_df_freq_2['brand'].nunique()}\")\n"
   ]
  },
  {
   "cell_type": "markdown",
   "metadata": {},
   "source": [
    "최종 sampling 저장"
   ]
  },
  {
   "cell_type": "code",
   "execution_count": null,
   "metadata": {},
   "outputs": [],
   "source": [
    "final_sample_df_freq_2.to_csv('/home/siyun/ephemeral/data/filtered_gift.csv', index=False)\n"
   ]
  },
  {
   "cell_type": "code",
   "execution_count": 121,
   "metadata": {},
   "outputs": [],
   "source": [
    "filtered_data = final_sample_df_freq_2\n"
   ]
  },
  {
   "cell_type": "code",
   "execution_count": 122,
   "metadata": {},
   "outputs": [
    {
     "data": {
      "text/html": [
       "<div>\n",
       "<style scoped>\n",
       "    .dataframe tbody tr th:only-of-type {\n",
       "        vertical-align: middle;\n",
       "    }\n",
       "\n",
       "    .dataframe tbody tr th {\n",
       "        vertical-align: top;\n",
       "    }\n",
       "\n",
       "    .dataframe thead th {\n",
       "        text-align: right;\n",
       "    }\n",
       "</style>\n",
       "<table border=\"1\" class=\"dataframe\">\n",
       "  <thead>\n",
       "    <tr style=\"text-align: right;\">\n",
       "      <th></th>\n",
       "      <th>product_id</th>\n",
       "      <th>rating</th>\n",
       "      <th>num_review</th>\n",
       "      <th>price</th>\n",
       "      <th>personality</th>\n",
       "    </tr>\n",
       "  </thead>\n",
       "  <tbody>\n",
       "    <tr>\n",
       "      <th>count</th>\n",
       "      <td>1.555000e+04</td>\n",
       "      <td>15550.000000</td>\n",
       "      <td>15550.000000</td>\n",
       "      <td>1.555000e+04</td>\n",
       "      <td>15550.000000</td>\n",
       "    </tr>\n",
       "    <tr>\n",
       "      <th>mean</th>\n",
       "      <td>4.817781e+09</td>\n",
       "      <td>4.794135</td>\n",
       "      <td>2124.620836</td>\n",
       "      <td>5.686508e+04</td>\n",
       "      <td>2.722065</td>\n",
       "    </tr>\n",
       "    <tr>\n",
       "      <th>std</th>\n",
       "      <td>2.298036e+09</td>\n",
       "      <td>0.086865</td>\n",
       "      <td>2517.321270</td>\n",
       "      <td>1.292330e+05</td>\n",
       "      <td>0.690299</td>\n",
       "    </tr>\n",
       "    <tr>\n",
       "      <th>min</th>\n",
       "      <td>1.000013e+08</td>\n",
       "      <td>4.500000</td>\n",
       "      <td>229.000000</td>\n",
       "      <td>2.200000e+03</td>\n",
       "      <td>0.000000</td>\n",
       "    </tr>\n",
       "    <tr>\n",
       "      <th>25%</th>\n",
       "      <td>3.756750e+09</td>\n",
       "      <td>4.800000</td>\n",
       "      <td>609.000000</td>\n",
       "      <td>2.350000e+04</td>\n",
       "      <td>2.584963</td>\n",
       "    </tr>\n",
       "    <tr>\n",
       "      <th>50%</th>\n",
       "      <td>5.098248e+09</td>\n",
       "      <td>4.800000</td>\n",
       "      <td>1076.500000</td>\n",
       "      <td>3.300000e+04</td>\n",
       "      <td>2.807355</td>\n",
       "    </tr>\n",
       "    <tr>\n",
       "      <th>75%</th>\n",
       "      <td>6.115790e+09</td>\n",
       "      <td>4.800000</td>\n",
       "      <td>2326.750000</td>\n",
       "      <td>5.200000e+04</td>\n",
       "      <td>3.321928</td>\n",
       "    </tr>\n",
       "    <tr>\n",
       "      <th>max</th>\n",
       "      <td>9.783159e+09</td>\n",
       "      <td>5.000000</td>\n",
       "      <td>9999.000000</td>\n",
       "      <td>2.598000e+06</td>\n",
       "      <td>3.584963</td>\n",
       "    </tr>\n",
       "  </tbody>\n",
       "</table>\n",
       "</div>"
      ],
      "text/plain": [
       "         product_id        rating    num_review         price   personality\n",
       "count  1.555000e+04  15550.000000  15550.000000  1.555000e+04  15550.000000\n",
       "mean   4.817781e+09      4.794135   2124.620836  5.686508e+04      2.722065\n",
       "std    2.298036e+09      0.086865   2517.321270  1.292330e+05      0.690299\n",
       "min    1.000013e+08      4.500000    229.000000  2.200000e+03      0.000000\n",
       "25%    3.756750e+09      4.800000    609.000000  2.350000e+04      2.584963\n",
       "50%    5.098248e+09      4.800000   1076.500000  3.300000e+04      2.807355\n",
       "75%    6.115790e+09      4.800000   2326.750000  5.200000e+04      3.321928\n",
       "max    9.783159e+09      5.000000   9999.000000  2.598000e+06      3.584963"
      ]
     },
     "execution_count": 122,
     "metadata": {},
     "output_type": "execute_result"
    }
   ],
   "source": [
    "filtered_data.describe()\n"
   ]
  },
  {
   "cell_type": "markdown",
   "metadata": {},
   "source": [
    "라벨 인코딩"
   ]
  },
  {
   "cell_type": "code",
   "execution_count": 123,
   "metadata": {},
   "outputs": [
    {
     "name": "stdout",
     "output_type": "stream",
     "text": [
      "category_1 unique values: 9\n",
      "category_2 unique values: 39\n",
      "category_3 unique values: 48\n",
      "brand unique values: 2148\n",
      "Final DataFrame shape after Label Encoding and dropping columns: (15550, 12)\n"
     ]
    },
    {
     "name": "stderr",
     "output_type": "stream",
     "text": [
      "/tmp/ipykernel_1040716/686339282.py:8: SettingWithCopyWarning: \n",
      "A value is trying to be set on a copy of a slice from a DataFrame.\n",
      "Try using .loc[row_indexer,col_indexer] = value instead\n",
      "\n",
      "See the caveats in the documentation: https://pandas.pydata.org/pandas-docs/stable/user_guide/indexing.html#returning-a-view-versus-a-copy\n",
      "  filtered_data[col] = le.fit_transform(filtered_data[col])\n",
      "/tmp/ipykernel_1040716/686339282.py:8: SettingWithCopyWarning: \n",
      "A value is trying to be set on a copy of a slice from a DataFrame.\n",
      "Try using .loc[row_indexer,col_indexer] = value instead\n",
      "\n",
      "See the caveats in the documentation: https://pandas.pydata.org/pandas-docs/stable/user_guide/indexing.html#returning-a-view-versus-a-copy\n",
      "  filtered_data[col] = le.fit_transform(filtered_data[col])\n",
      "/tmp/ipykernel_1040716/686339282.py:8: SettingWithCopyWarning: \n",
      "A value is trying to be set on a copy of a slice from a DataFrame.\n",
      "Try using .loc[row_indexer,col_indexer] = value instead\n",
      "\n",
      "See the caveats in the documentation: https://pandas.pydata.org/pandas-docs/stable/user_guide/indexing.html#returning-a-view-versus-a-copy\n",
      "  filtered_data[col] = le.fit_transform(filtered_data[col])\n",
      "/tmp/ipykernel_1040716/686339282.py:8: SettingWithCopyWarning: \n",
      "A value is trying to be set on a copy of a slice from a DataFrame.\n",
      "Try using .loc[row_indexer,col_indexer] = value instead\n",
      "\n",
      "See the caveats in the documentation: https://pandas.pydata.org/pandas-docs/stable/user_guide/indexing.html#returning-a-view-versus-a-copy\n",
      "  filtered_data[col] = le.fit_transform(filtered_data[col])\n"
     ]
    }
   ],
   "source": [
    "category_cols = ['category_1', 'category_2', 'category_3', 'brand']\n",
    "# category_cols = ['category_1', 'category_2', 'category_3']\n",
    "label_encoders = {}\n",
    "for col in category_cols:\n",
    "    unique_values = filtered_data[col].nunique()\n",
    "    print(f\"{col} unique values: {unique_values}\")\n",
    "    le = LabelEncoder()\n",
    "    filtered_data[col] = le.fit_transform(filtered_data[col])\n",
    "    label_encoders[col] = le\n",
    "print(\"Final DataFrame shape after Label Encoding and dropping columns:\", filtered_data.shape)"
   ]
  },
  {
   "cell_type": "code",
   "execution_count": 100,
   "metadata": {},
   "outputs": [
    {
     "data": {
      "text/html": [
       "<div>\n",
       "<style scoped>\n",
       "    .dataframe tbody tr th:only-of-type {\n",
       "        vertical-align: middle;\n",
       "    }\n",
       "\n",
       "    .dataframe tbody tr th {\n",
       "        vertical-align: top;\n",
       "    }\n",
       "\n",
       "    .dataframe thead th {\n",
       "        text-align: right;\n",
       "    }\n",
       "</style>\n",
       "<table border=\"1\" class=\"dataframe\">\n",
       "  <thead>\n",
       "    <tr style=\"text-align: right;\">\n",
       "      <th></th>\n",
       "      <th>product_id</th>\n",
       "      <th>product_name</th>\n",
       "      <th>brand</th>\n",
       "      <th>category_1</th>\n",
       "      <th>category_2</th>\n",
       "      <th>category_3</th>\n",
       "      <th>rating</th>\n",
       "      <th>num_review</th>\n",
       "      <th>price</th>\n",
       "      <th>image_url</th>\n",
       "      <th>product_url</th>\n",
       "      <th>personality</th>\n",
       "    </tr>\n",
       "  </thead>\n",
       "  <tbody>\n",
       "    <tr>\n",
       "      <th>105978</th>\n",
       "      <td>4542290071</td>\n",
       "      <td>대웅생명과학 프리바이오틱스 프로바이오틱스 모유 유산균 신바이오틱스 6박스 (6개월분)</td>\n",
       "      <td>1968</td>\n",
       "      <td>3</td>\n",
       "      <td>38</td>\n",
       "      <td>3</td>\n",
       "      <td>4.8</td>\n",
       "      <td>487</td>\n",
       "      <td>71900</td>\n",
       "      <td>https://shop-phinf.pstatic.net/20190801_89/pur...</td>\n",
       "      <td>https://shopping.naver.com/gift/products/45422...</td>\n",
       "      <td>2.807355</td>\n",
       "    </tr>\n",
       "    <tr>\n",
       "      <th>216384</th>\n",
       "      <td>5626140337</td>\n",
       "      <td>로에 라일락 스카이 EDT 50ml / 라일락 향수, 생화향</td>\n",
       "      <td>635</td>\n",
       "      <td>3</td>\n",
       "      <td>38</td>\n",
       "      <td>46</td>\n",
       "      <td>4.7</td>\n",
       "      <td>690</td>\n",
       "      <td>42000</td>\n",
       "      <td>https://shop-phinf.pstatic.net/20231201_69/170...</td>\n",
       "      <td>https://shopping.naver.com/gift/products/56261...</td>\n",
       "      <td>2.807355</td>\n",
       "    </tr>\n",
       "    <tr>\n",
       "      <th>288492</th>\n",
       "      <td>7367947637</td>\n",
       "      <td>종근당건강 아임비타 마그네슘 1박스 (3개월분)</td>\n",
       "      <td>1652</td>\n",
       "      <td>3</td>\n",
       "      <td>38</td>\n",
       "      <td>3</td>\n",
       "      <td>4.8</td>\n",
       "      <td>633</td>\n",
       "      <td>19900</td>\n",
       "      <td>https://shop-phinf.pstatic.net/20230629_186/16...</td>\n",
       "      <td>https://shopping.naver.com/gift/products/73679...</td>\n",
       "      <td>2.807355</td>\n",
       "    </tr>\n",
       "    <tr>\n",
       "      <th>179066</th>\n",
       "      <td>5184997505</td>\n",
       "      <td>코엔자임큐텐 코큐텐 2개월 높은 혈압감소 도움 코엔자임 q10 항산화에좋은 coq10</td>\n",
       "      <td>1008</td>\n",
       "      <td>3</td>\n",
       "      <td>38</td>\n",
       "      <td>3</td>\n",
       "      <td>4.8</td>\n",
       "      <td>7260</td>\n",
       "      <td>23800</td>\n",
       "      <td>https://shop-phinf.pstatic.net/20220404_116/16...</td>\n",
       "      <td>https://shopping.naver.com/gift/products/51849...</td>\n",
       "      <td>2.807355</td>\n",
       "    </tr>\n",
       "    <tr>\n",
       "      <th>290328</th>\n",
       "      <td>7453565810</td>\n",
       "      <td>미니막스 정글 멀티비타민 미네랄 복숭아맛 1통 60구미</td>\n",
       "      <td>516</td>\n",
       "      <td>3</td>\n",
       "      <td>38</td>\n",
       "      <td>3</td>\n",
       "      <td>4.9</td>\n",
       "      <td>3299</td>\n",
       "      <td>27600</td>\n",
       "      <td>https://shop-phinf.pstatic.net/20240124_134/17...</td>\n",
       "      <td>https://shopping.naver.com/gift/products/74535...</td>\n",
       "      <td>3.000000</td>\n",
       "    </tr>\n",
       "  </tbody>\n",
       "</table>\n",
       "</div>"
      ],
      "text/plain": [
       "        product_id                                     product_name  brand  \\\n",
       "105978  4542290071  대웅생명과학 프리바이오틱스 프로바이오틱스 모유 유산균 신바이오틱스 6박스 (6개월분)   1968   \n",
       "216384  5626140337                로에 라일락 스카이 EDT 50ml / 라일락 향수, 생화향    635   \n",
       "288492  7367947637                       종근당건강 아임비타 마그네슘 1박스 (3개월분)   1652   \n",
       "179066  5184997505  코엔자임큐텐 코큐텐 2개월 높은 혈압감소 도움 코엔자임 q10 항산화에좋은 coq10   1008   \n",
       "290328  7453565810                   미니막스 정글 멀티비타민 미네랄 복숭아맛 1통 60구미    516   \n",
       "\n",
       "        category_1  category_2  category_3  rating  num_review  price  \\\n",
       "105978           3          38           3     4.8         487  71900   \n",
       "216384           3          38          46     4.7         690  42000   \n",
       "288492           3          38           3     4.8         633  19900   \n",
       "179066           3          38           3     4.8        7260  23800   \n",
       "290328           3          38           3     4.9        3299  27600   \n",
       "\n",
       "                                                image_url  \\\n",
       "105978  https://shop-phinf.pstatic.net/20190801_89/pur...   \n",
       "216384  https://shop-phinf.pstatic.net/20231201_69/170...   \n",
       "288492  https://shop-phinf.pstatic.net/20230629_186/16...   \n",
       "179066  https://shop-phinf.pstatic.net/20220404_116/16...   \n",
       "290328  https://shop-phinf.pstatic.net/20240124_134/17...   \n",
       "\n",
       "                                              product_url  personality  \n",
       "105978  https://shopping.naver.com/gift/products/45422...     2.807355  \n",
       "216384  https://shopping.naver.com/gift/products/56261...     2.807355  \n",
       "288492  https://shopping.naver.com/gift/products/73679...     2.807355  \n",
       "179066  https://shopping.naver.com/gift/products/51849...     2.807355  \n",
       "290328  https://shopping.naver.com/gift/products/74535...     3.000000  "
      ]
     },
     "execution_count": 100,
     "metadata": {},
     "output_type": "execute_result"
    }
   ],
   "source": [
    "filtered_data.head()\n"
   ]
  },
  {
   "cell_type": "code",
   "execution_count": 124,
   "metadata": {},
   "outputs": [
    {
     "data": {
      "text/html": [
       "<div>\n",
       "<style scoped>\n",
       "    .dataframe tbody tr th:only-of-type {\n",
       "        vertical-align: middle;\n",
       "    }\n",
       "\n",
       "    .dataframe tbody tr th {\n",
       "        vertical-align: top;\n",
       "    }\n",
       "\n",
       "    .dataframe thead th {\n",
       "        text-align: right;\n",
       "    }\n",
       "</style>\n",
       "<table border=\"1\" class=\"dataframe\">\n",
       "  <thead>\n",
       "    <tr style=\"text-align: right;\">\n",
       "      <th></th>\n",
       "      <th>product_id</th>\n",
       "      <th>product_name</th>\n",
       "      <th>brand</th>\n",
       "      <th>category_1</th>\n",
       "      <th>category_2</th>\n",
       "      <th>category_3</th>\n",
       "      <th>rating</th>\n",
       "      <th>num_review</th>\n",
       "      <th>price</th>\n",
       "      <th>personality</th>\n",
       "    </tr>\n",
       "  </thead>\n",
       "  <tbody>\n",
       "    <tr>\n",
       "      <th>268848</th>\n",
       "      <td>6663913427</td>\n",
       "      <td>푸릇담 젊은농부 NFC 사과즙 30포+30포</td>\n",
       "      <td>1621</td>\n",
       "      <td>3</td>\n",
       "      <td>38</td>\n",
       "      <td>3</td>\n",
       "      <td>4.8</td>\n",
       "      <td>1229</td>\n",
       "      <td>32900</td>\n",
       "      <td>2.807355</td>\n",
       "    </tr>\n",
       "    <tr>\n",
       "      <th>103693</th>\n",
       "      <td>4508891313</td>\n",
       "      <td>그룬플러스 탈모완화 샴푸 토닉 세트 / 지루성두피 탈모케어</td>\n",
       "      <td>269</td>\n",
       "      <td>3</td>\n",
       "      <td>38</td>\n",
       "      <td>46</td>\n",
       "      <td>4.6</td>\n",
       "      <td>427</td>\n",
       "      <td>79000</td>\n",
       "      <td>3.000000</td>\n",
       "    </tr>\n",
       "    <tr>\n",
       "      <th>160442</th>\n",
       "      <td>5015177050</td>\n",
       "      <td>진생가 키즈로운 어린이홍삼 15ml 30포</td>\n",
       "      <td>1706</td>\n",
       "      <td>3</td>\n",
       "      <td>38</td>\n",
       "      <td>3</td>\n",
       "      <td>4.9</td>\n",
       "      <td>2087</td>\n",
       "      <td>78000</td>\n",
       "      <td>3.000000</td>\n",
       "    </tr>\n",
       "    <tr>\n",
       "      <th>247472</th>\n",
       "      <td>6110039794</td>\n",
       "      <td>녹십자웰빙 어삼 뉴질랜드 녹용 진액 선물세트 1박스 24포</td>\n",
       "      <td>53</td>\n",
       "      <td>3</td>\n",
       "      <td>38</td>\n",
       "      <td>3</td>\n",
       "      <td>4.9</td>\n",
       "      <td>437</td>\n",
       "      <td>29900</td>\n",
       "      <td>2.807355</td>\n",
       "    </tr>\n",
       "    <tr>\n",
       "      <th>266380</th>\n",
       "      <td>6597771892</td>\n",
       "      <td>GNM 상어연골 콘드로이친 1400 맥스 비타민D 60정 x 2병</td>\n",
       "      <td>55</td>\n",
       "      <td>3</td>\n",
       "      <td>38</td>\n",
       "      <td>3</td>\n",
       "      <td>4.8</td>\n",
       "      <td>1360</td>\n",
       "      <td>33900</td>\n",
       "      <td>2.807355</td>\n",
       "    </tr>\n",
       "    <tr>\n",
       "      <th>...</th>\n",
       "      <td>...</td>\n",
       "      <td>...</td>\n",
       "      <td>...</td>\n",
       "      <td>...</td>\n",
       "      <td>...</td>\n",
       "      <td>...</td>\n",
       "      <td>...</td>\n",
       "      <td>...</td>\n",
       "      <td>...</td>\n",
       "      <td>...</td>\n",
       "    </tr>\n",
       "    <tr>\n",
       "      <th>79687</th>\n",
       "      <td>3587601813</td>\n",
       "      <td>반다레더 자동차 가죽 스마트 차 키케이스 키커버 키홀더</td>\n",
       "      <td>886</td>\n",
       "      <td>2</td>\n",
       "      <td>31</td>\n",
       "      <td>1</td>\n",
       "      <td>4.9</td>\n",
       "      <td>3272</td>\n",
       "      <td>47000</td>\n",
       "      <td>1.000000</td>\n",
       "    </tr>\n",
       "    <tr>\n",
       "      <th>221790</th>\n",
       "      <td>5699511329</td>\n",
       "      <td>(B급) 누키노블 차 스마트 키케이스 자동차 가죽 키링</td>\n",
       "      <td>478</td>\n",
       "      <td>2</td>\n",
       "      <td>31</td>\n",
       "      <td>1</td>\n",
       "      <td>4.9</td>\n",
       "      <td>1345</td>\n",
       "      <td>20000</td>\n",
       "      <td>1.000000</td>\n",
       "    </tr>\n",
       "    <tr>\n",
       "      <th>256783</th>\n",
       "      <td>6346568325</td>\n",
       "      <td>스마트 차키케이스 가죽 키홀더 키커버 기아 KN-03</td>\n",
       "      <td>1774</td>\n",
       "      <td>2</td>\n",
       "      <td>31</td>\n",
       "      <td>1</td>\n",
       "      <td>4.8</td>\n",
       "      <td>734</td>\n",
       "      <td>27800</td>\n",
       "      <td>1.000000</td>\n",
       "    </tr>\n",
       "    <tr>\n",
       "      <th>280848</th>\n",
       "      <td>7012400866</td>\n",
       "      <td>오즈공방 자동차 스마트 차 키케이스 프랑스 최고급 가죽 키커버 BZ-03</td>\n",
       "      <td>1440</td>\n",
       "      <td>2</td>\n",
       "      <td>31</td>\n",
       "      <td>1</td>\n",
       "      <td>4.9</td>\n",
       "      <td>485</td>\n",
       "      <td>32000</td>\n",
       "      <td>1.000000</td>\n",
       "    </tr>\n",
       "    <tr>\n",
       "      <th>126781</th>\n",
       "      <td>4740245852</td>\n",
       "      <td>누키노블 차 키케이스 자동차 스마트 가죽 키커버 한글</td>\n",
       "      <td>478</td>\n",
       "      <td>2</td>\n",
       "      <td>31</td>\n",
       "      <td>1</td>\n",
       "      <td>4.8</td>\n",
       "      <td>9999</td>\n",
       "      <td>32000</td>\n",
       "      <td>1.000000</td>\n",
       "    </tr>\n",
       "  </tbody>\n",
       "</table>\n",
       "<p>15550 rows × 10 columns</p>\n",
       "</div>"
      ],
      "text/plain": [
       "        product_id                              product_name  brand  \\\n",
       "268848  6663913427                  푸릇담 젊은농부 NFC 사과즙 30포+30포   1621   \n",
       "103693  4508891313          그룬플러스 탈모완화 샴푸 토닉 세트 / 지루성두피 탈모케어    269   \n",
       "160442  5015177050                   진생가 키즈로운 어린이홍삼 15ml 30포   1706   \n",
       "247472  6110039794          녹십자웰빙 어삼 뉴질랜드 녹용 진액 선물세트 1박스 24포     53   \n",
       "266380  6597771892      GNM 상어연골 콘드로이친 1400 맥스 비타민D 60정 x 2병     55   \n",
       "...            ...                                       ...    ...   \n",
       "79687   3587601813            반다레더 자동차 가죽 스마트 차 키케이스 키커버 키홀더    886   \n",
       "221790  5699511329            (B급) 누키노블 차 스마트 키케이스 자동차 가죽 키링    478   \n",
       "256783  6346568325             스마트 차키케이스 가죽 키홀더 키커버 기아 KN-03   1774   \n",
       "280848  7012400866  오즈공방 자동차 스마트 차 키케이스 프랑스 최고급 가죽 키커버 BZ-03   1440   \n",
       "126781  4740245852             누키노블 차 키케이스 자동차 스마트 가죽 키커버 한글    478   \n",
       "\n",
       "        category_1  category_2  category_3  rating  num_review  price  \\\n",
       "268848           3          38           3     4.8        1229  32900   \n",
       "103693           3          38          46     4.6         427  79000   \n",
       "160442           3          38           3     4.9        2087  78000   \n",
       "247472           3          38           3     4.9         437  29900   \n",
       "266380           3          38           3     4.8        1360  33900   \n",
       "...            ...         ...         ...     ...         ...    ...   \n",
       "79687            2          31           1     4.9        3272  47000   \n",
       "221790           2          31           1     4.9        1345  20000   \n",
       "256783           2          31           1     4.8         734  27800   \n",
       "280848           2          31           1     4.9         485  32000   \n",
       "126781           2          31           1     4.8        9999  32000   \n",
       "\n",
       "        personality  \n",
       "268848     2.807355  \n",
       "103693     3.000000  \n",
       "160442     3.000000  \n",
       "247472     2.807355  \n",
       "266380     2.807355  \n",
       "...             ...  \n",
       "79687      1.000000  \n",
       "221790     1.000000  \n",
       "256783     1.000000  \n",
       "280848     1.000000  \n",
       "126781     1.000000  \n",
       "\n",
       "[15550 rows x 10 columns]"
      ]
     },
     "execution_count": 124,
     "metadata": {},
     "output_type": "execute_result"
    }
   ],
   "source": [
    "filtered_data = filtered_data.drop(['image_url','product_url'], axis=1)\n",
    "filtered_data\n"
   ]
  },
  {
   "cell_type": "code",
   "execution_count": 125,
   "metadata": {},
   "outputs": [
    {
     "name": "stdout",
     "output_type": "stream",
     "text": [
      "Final DataFrame shape after Label Encoding and dropping columns: (15550, 10)\n",
      "category_1 unique values: 9\n",
      "category_2 unique values: 39\n",
      "category_3 unique values: 48\n",
      "brand unique values: 2148\n",
      "Current DataFrame columns: ['product_id', 'product_name', 'brand', 'category_1', 'category_2', 'category_3', 'rating', 'num_review', 'price', 'personality']\n"
     ]
    }
   ],
   "source": [
    "print(\"Final DataFrame shape after Label Encoding and dropping columns:\", filtered_data.shape)\n",
    "\n",
    "for col in category_cols:\n",
    "    unique_values = filtered_data[col].nunique()\n",
    "    print(f'{col} unique values:', unique_values)\n",
    "\n",
    "# 데이터프레임의 현재 칼럼 출력\n",
    "print(\"Current DataFrame columns:\", filtered_data.columns.tolist())"
   ]
  },
  {
   "cell_type": "code",
   "execution_count": 126,
   "metadata": {},
   "outputs": [
    {
     "data": {
      "text/plain": [
       "268848    32900\n",
       "103693    79000\n",
       "160442    78000\n",
       "247472    29900\n",
       "266380    33900\n",
       "          ...  \n",
       "79687     47000\n",
       "221790    20000\n",
       "256783    27800\n",
       "280848    32000\n",
       "126781    32000\n",
       "Name: price, Length: 15550, dtype: int64"
      ]
     },
     "execution_count": 126,
     "metadata": {},
     "output_type": "execute_result"
    }
   ],
   "source": [
    "filtered_data['price']"
   ]
  },
  {
   "cell_type": "markdown",
   "metadata": {},
   "source": [
    "num_review, price에 대한 standardscaling"
   ]
  },
  {
   "cell_type": "code",
   "execution_count": 13,
   "metadata": {},
   "outputs": [],
   "source": [
    "# # https://leehah0908.tistory.com/2\n",
    "\n",
    "# from sklearn.preprocessing import StandardScaler\n",
    "\n",
    "# s1 = StandardScaler()\n",
    "# s2 = StandardScaler()\n",
    "\n",
    "# s1.fit(df['price'].values.reshape(-1, 1))\n",
    "# s2.fit(df['num_review'].values.reshape(-1, 1))\n",
    "\n",
    "# price = s1.transform(df['price'].values.reshape(-1, 1))\n",
    "# num_review = s2.transform(df['num_review'].values.reshape(-1, 1))\n",
    "\n",
    "# df['price_scaling'] = price\n",
    "# df['review_scaling'] = num_review"
   ]
  },
  {
   "cell_type": "code",
   "execution_count": 104,
   "metadata": {},
   "outputs": [
    {
     "name": "stdout",
     "output_type": "stream",
     "text": [
      "product_id        int64\n",
      "product_name     object\n",
      "brand             int64\n",
      "category_1        int64\n",
      "category_2        int64\n",
      "category_3        int64\n",
      "rating          float64\n",
      "num_review        int64\n",
      "price             int64\n",
      "personality     float64\n",
      "dtype: object\n",
      "         product_id         brand    category_1    category_2    category_3  \\\n",
      "count  1.558400e+04  15584.000000  15584.000000  15584.000000  15584.000000   \n",
      "mean   4.800460e+09   1026.636614      3.489990     17.570585     20.026566   \n",
      "std    2.296516e+09    618.767879      2.168397     12.831400     20.027852   \n",
      "min    1.001230e+08      0.000000      0.000000      0.000000      0.000000   \n",
      "25%    3.629840e+09    467.000000      3.000000      4.000000      1.000000   \n",
      "50%    5.082555e+09   1022.000000      3.000000     17.000000     10.000000   \n",
      "75%    6.148406e+09   1556.000000      5.000000     26.000000     46.000000   \n",
      "max    9.783159e+09   2142.000000      8.000000     38.000000     47.000000   \n",
      "\n",
      "             rating    num_review         price   personality  \n",
      "count  15584.000000  15584.000000  1.558400e+04  15584.000000  \n",
      "mean       4.792820   2088.487359  5.729379e+04      2.719866  \n",
      "std        0.088368   2486.409595  1.344770e+05      0.689552  \n",
      "min        4.500000    231.000000  2.100000e+03      1.000000  \n",
      "25%        4.700000    596.000000  2.320000e+04      2.584963  \n",
      "50%        4.800000   1049.000000  3.290000e+04      2.807355  \n",
      "75%        4.900000   2282.000000  5.070000e+04      3.169925  \n",
      "max        5.000000   9999.000000  2.799000e+06      3.584963  \n",
      "(15584, 10)\n"
     ]
    }
   ],
   "source": [
    "print(filtered_data.dtypes)\n",
    "print(filtered_data.describe())\n",
    "print(filtered_data.shape)"
   ]
  },
  {
   "cell_type": "code",
   "execution_count": 127,
   "metadata": {},
   "outputs": [],
   "source": [
    "id2idx = {id: idx for idx, id in enumerate(sorted(filtered_data['product_id'].unique()))}\n",
    "idx2id = {idx: id for id, idx in id2idx.items()}\n",
    "filtered_data['product_idx'] = filtered_data['product_id'].map(id2idx)\n"
   ]
  },
  {
   "cell_type": "code",
   "execution_count": 128,
   "metadata": {},
   "outputs": [
    {
     "data": {
      "text/plain": [
       "4            0\n",
       "3            0\n",
       "141          1\n",
       "147          1\n",
       "229          2\n",
       "          ... \n",
       "330009    6083\n",
       "330012    6083\n",
       "330015    6083\n",
       "330006    6083\n",
       "330013    6083\n",
       "Name: product_idx, Length: 15550, dtype: int64"
      ]
     },
     "execution_count": 128,
     "metadata": {},
     "output_type": "execute_result"
    }
   ],
   "source": [
    "filtered_data['product_idx'].sort_values()"
   ]
  },
  {
   "cell_type": "code",
   "execution_count": 80,
   "metadata": {},
   "outputs": [
    {
     "name": "stdout",
     "output_type": "stream",
     "text": [
      "X_train shape: (66883, 7) | X_train dtype: category_1       int64\n",
      "category_2       int64\n",
      "category_3       int64\n",
      "rating         float64\n",
      "num_review       int64\n",
      "price            int64\n",
      "personality    float64\n",
      "dtype: object\n",
      "y_train shape : (66883,)\n",
      "X_val shape:  (3521, 7) | X_val dtype: category_1       int64\n",
      "category_2       int64\n",
      "category_3       int64\n",
      "rating         float64\n",
      "num_review       int64\n",
      "price            int64\n",
      "personality    float64\n",
      "dtype: object\n",
      "y_train shape: (66883,) | y_train dtype: int64\n",
      "y_val shape: (3521,) | y_val dtype: int64\n",
      "category_1 unique values: 9 | dtype: int64\n",
      "category_2 unique values: 36 | dtype: int64\n",
      "category_3 unique values: 37 | dtype: int64\n",
      "rating unique values: 6 | dtype: float64\n",
      "num_review unique values: 5659 | dtype: int64\n",
      "price unique values: 1720 | dtype: int64\n",
      "personality unique values: 11 | dtype: float64\n"
     ]
    }
   ],
   "source": [
    "# # 특성 및 타겟 선택\n",
    "# X = filtered_data[['category_1', 'category_2', 'category_3', 'rating', 'num_review', 'price', 'personality']]\n",
    "# y = filtered_data['product_idx']\n",
    "\n",
    "# # 데이터 분할\n",
    "# X_train, X_val, y_train, y_val = train_test_split(X, y, test_size=0.05, random_state=42)\n",
    "\n",
    "# # 훈련 데이터와 검증 데이터의 차원 확인\n",
    "# print(\"X_train shape:\", X_train.shape, \"| X_train dtype:\", X_train.dtypes)\n",
    "# print(f'y_train shape : {y_train.shape}')\n",
    "# print(\"X_val shape: \", X_val.shape, \"| X_val dtype:\", X_val.dtypes)\n",
    "\n",
    "# # 훈련 라벨과 검증 라벨의 차원 확인\n",
    "# print(\"y_train shape:\", y_train.shape, \"| y_train dtype:\", y_train.dtype)\n",
    "# print(\"y_val shape:\", y_val.shape, \"| y_val dtype:\", y_val.dtype)\n",
    "\n",
    "# for col in X.columns:\n",
    "#     unique_values = filtered_data[col].nunique()\n",
    "#     print(f'{col} unique values:', unique_values, \"| dtype:\", filtered_data[col].dtype)"
   ]
  },
  {
   "cell_type": "code",
   "execution_count": 78,
   "metadata": {},
   "outputs": [],
   "source": [
    "# categorical_features = ['brand', 'category_1', 'category_2', 'category_3']\n",
    "# continuous_features = ['rating', 'num_review', 'price', 'personality']\n",
    "\n",
    "# # StandardScaler for continuous features\n",
    "# scaler = StandardScaler()\n",
    "# X_train[continuous_features] = scaler.fit_transform(X_train[continuous_features])\n",
    "# X_val[continuous_features] = scaler.transform(X_val[continuous_features])"
   ]
  },
  {
   "cell_type": "markdown",
   "metadata": {},
   "source": [
    "한 세트(03.10)\n",
    "- 일단 split하고 loader에 넣고 model까지는 성공했음.\n",
    "- 이제 다음 단계 진행 중"
   ]
  },
  {
   "cell_type": "code",
   "execution_count": 53,
   "metadata": {},
   "outputs": [
    {
     "data": {
      "text/html": [
       "<div>\n",
       "<style scoped>\n",
       "    .dataframe tbody tr th:only-of-type {\n",
       "        vertical-align: middle;\n",
       "    }\n",
       "\n",
       "    .dataframe tbody tr th {\n",
       "        vertical-align: top;\n",
       "    }\n",
       "\n",
       "    .dataframe thead th {\n",
       "        text-align: right;\n",
       "    }\n",
       "</style>\n",
       "<table border=\"1\" class=\"dataframe\">\n",
       "  <thead>\n",
       "    <tr style=\"text-align: right;\">\n",
       "      <th></th>\n",
       "      <th>product_id</th>\n",
       "      <th>product_name</th>\n",
       "      <th>brand</th>\n",
       "      <th>category_1</th>\n",
       "      <th>category_2</th>\n",
       "      <th>category_3</th>\n",
       "      <th>rating</th>\n",
       "      <th>num_review</th>\n",
       "      <th>price</th>\n",
       "      <th>personality</th>\n",
       "      <th>product_idx</th>\n",
       "    </tr>\n",
       "  </thead>\n",
       "  <tbody>\n",
       "    <tr>\n",
       "      <th>36565</th>\n",
       "      <td>685890861</td>\n",
       "      <td>[1+1행사] 빨간 적양배추즙 100ml 60포 무농약 원물</td>\n",
       "      <td>1939</td>\n",
       "      <td>3</td>\n",
       "      <td>41</td>\n",
       "      <td>4</td>\n",
       "      <td>4.8</td>\n",
       "      <td>1697</td>\n",
       "      <td>31800</td>\n",
       "      <td>2.807355</td>\n",
       "      <td>2893</td>\n",
       "    </tr>\n",
       "    <tr>\n",
       "      <th>221024</th>\n",
       "      <td>5685939646</td>\n",
       "      <td>마몽드 레티놀 앰플 토너 150ml X 2개 더블세트 순수레티놀 수분탄력 산뜻촉촉</td>\n",
       "      <td>1644</td>\n",
       "      <td>3</td>\n",
       "      <td>41</td>\n",
       "      <td>51</td>\n",
       "      <td>4.8</td>\n",
       "      <td>809</td>\n",
       "      <td>23400</td>\n",
       "      <td>3.459432</td>\n",
       "      <td>16766</td>\n",
       "    </tr>\n",
       "    <tr>\n",
       "      <th>316929</th>\n",
       "      <td>8702897045</td>\n",
       "      <td>[N페이 1천점+포토리뷰 1천점 적립] 한율 부들밤 모공수축 패드 50매 (150ml)</td>\n",
       "      <td>4798</td>\n",
       "      <td>3</td>\n",
       "      <td>41</td>\n",
       "      <td>51</td>\n",
       "      <td>4.8</td>\n",
       "      <td>540</td>\n",
       "      <td>21750</td>\n",
       "      <td>3.459432</td>\n",
       "      <td>22726</td>\n",
       "    </tr>\n",
       "    <tr>\n",
       "      <th>298908</th>\n",
       "      <td>7837034070</td>\n",
       "      <td>종근당 이뮨 듀오 멀티 비타맥스 5박스 물없이 마시는 액상 비타민 올인원 종합 영양...</td>\n",
       "      <td>1751</td>\n",
       "      <td>3</td>\n",
       "      <td>41</td>\n",
       "      <td>4</td>\n",
       "      <td>4.9</td>\n",
       "      <td>3282</td>\n",
       "      <td>112400</td>\n",
       "      <td>3.000000</td>\n",
       "      <td>21756</td>\n",
       "    </tr>\n",
       "    <tr>\n",
       "      <th>277984</th>\n",
       "      <td>6933289395</td>\n",
       "      <td>[수면건강기능식품] 바이탈뷰티 굿슬립 가바365 90일+20일 (L-글루탐산발효가바분말)</td>\n",
       "      <td>2841</td>\n",
       "      <td>3</td>\n",
       "      <td>41</td>\n",
       "      <td>4</td>\n",
       "      <td>4.8</td>\n",
       "      <td>456</td>\n",
       "      <td>83250</td>\n",
       "      <td>2.807355</td>\n",
       "      <td>20484</td>\n",
       "    </tr>\n",
       "  </tbody>\n",
       "</table>\n",
       "</div>"
      ],
      "text/plain": [
       "        product_id                                       product_name  brand  \\\n",
       "36565    685890861                  [1+1행사] 빨간 적양배추즙 100ml 60포 무농약 원물   1939   \n",
       "221024  5685939646      마몽드 레티놀 앰플 토너 150ml X 2개 더블세트 순수레티놀 수분탄력 산뜻촉촉   1644   \n",
       "316929  8702897045   [N페이 1천점+포토리뷰 1천점 적립] 한율 부들밤 모공수축 패드 50매 (150ml)   4798   \n",
       "298908  7837034070  종근당 이뮨 듀오 멀티 비타맥스 5박스 물없이 마시는 액상 비타민 올인원 종합 영양...   1751   \n",
       "277984  6933289395  [수면건강기능식품] 바이탈뷰티 굿슬립 가바365 90일+20일 (L-글루탐산발효가바분말)   2841   \n",
       "\n",
       "        category_1  category_2  category_3  rating  num_review   price  \\\n",
       "36565            3          41           4     4.8        1697   31800   \n",
       "221024           3          41          51     4.8         809   23400   \n",
       "316929           3          41          51     4.8         540   21750   \n",
       "298908           3          41           4     4.9        3282  112400   \n",
       "277984           3          41           4     4.8         456   83250   \n",
       "\n",
       "        personality  product_idx  \n",
       "36565      2.807355         2893  \n",
       "221024     3.459432        16766  \n",
       "316929     3.459432        22726  \n",
       "298908     3.000000        21756  \n",
       "277984     2.807355        20484  "
      ]
     },
     "execution_count": 53,
     "metadata": {},
     "output_type": "execute_result"
    }
   ],
   "source": [
    "filtered_data.head()"
   ]
  },
  {
   "cell_type": "code",
   "execution_count": 16,
   "metadata": {},
   "outputs": [
    {
     "ename": "NameError",
     "evalue": "name 'StandardScaler' is not defined",
     "output_type": "error",
     "traceback": [
      "\u001b[0;31m---------------------------------------------------------------------------\u001b[0m",
      "\u001b[0;31mNameError\u001b[0m                                 Traceback (most recent call last)",
      "Cell \u001b[0;32mIn[16], line 14\u001b[0m\n\u001b[1;32m     11\u001b[0m X_continuous \u001b[38;5;241m=\u001b[39m X[continuous_columns]\n\u001b[1;32m     13\u001b[0m \u001b[38;5;66;03m# feature값 스케일링\u001b[39;00m\n\u001b[0;32m---> 14\u001b[0m scaler \u001b[38;5;241m=\u001b[39m \u001b[43mStandardScaler\u001b[49m()\n\u001b[1;32m     15\u001b[0m X_continuous_scaled \u001b[38;5;241m=\u001b[39m scaler\u001b[38;5;241m.\u001b[39mfit_transform(X_continuous)\n\u001b[1;32m     16\u001b[0m X_continuous_scaled \u001b[38;5;241m=\u001b[39m pd\u001b[38;5;241m.\u001b[39mDataFrame(X_continuous_scaled, columns\u001b[38;5;241m=\u001b[39mcontinuous_columns)\n",
      "\u001b[0;31mNameError\u001b[0m: name 'StandardScaler' is not defined"
     ]
    }
   ],
   "source": [
    "# categorical_columns = ['brand','category_1', 'category_2', 'category_3']\n",
    "# continuous_columns = ['rating', 'num_review', 'price', 'personality']\n",
    "\n",
    "# # 데이터 분할과 스케일링\n",
    "# X = filtered_data[categorical_columns + continuous_columns]\n",
    "# y = filtered_data['product_idx']\n",
    "\n",
    "# # 카테고리형 데이터와 연속형 데이터 분리\n",
    "# X_categorical = X[categorical_columns]\n",
    "# X_continuous = X[continuous_columns]\n",
    "\n",
    "# # feature값 스케일링\n",
    "# scaler = StandardScaler()\n",
    "# X_continuous_scaled = scaler.fit_transform(X_continuous)\n",
    "# X_continuous_scaled = pd.DataFrame(X_continuous_scaled, columns=continuous_columns)\n",
    "\n",
    "# X_cat_train, X_cat_val, X_cont_train, X_cont_val, y_train, y_val = train_test_split(X_categorical, X_continuous_scaled, y, test_size=0.2, random_state=42)\n"
   ]
  },
  {
   "cell_type": "markdown",
   "metadata": {},
   "source": [
    "data split을 진행한 후 \n",
    "\n",
    "카테고리 + 연속형 변수"
   ]
  },
  {
   "cell_type": "code",
   "execution_count": 107,
   "metadata": {},
   "outputs": [
    {
     "data": {
      "text/plain": [
       "143          0\n",
       "144          0\n",
       "164          1\n",
       "162          1\n",
       "163          1\n",
       "          ... \n",
       "329676    6125\n",
       "329702    6126\n",
       "329695    6126\n",
       "330016    6127\n",
       "330013    6127\n",
       "Name: product_idx, Length: 15584, dtype: int64"
      ]
     },
     "execution_count": 107,
     "metadata": {},
     "output_type": "execute_result"
    }
   ],
   "source": [
    "filtered_data['product_idx'].sort_values()"
   ]
  },
  {
   "cell_type": "code",
   "execution_count": 55,
   "metadata": {},
   "outputs": [
    {
     "data": {
      "text/html": [
       "<div>\n",
       "<style scoped>\n",
       "    .dataframe tbody tr th:only-of-type {\n",
       "        vertical-align: middle;\n",
       "    }\n",
       "\n",
       "    .dataframe tbody tr th {\n",
       "        vertical-align: top;\n",
       "    }\n",
       "\n",
       "    .dataframe thead th {\n",
       "        text-align: right;\n",
       "    }\n",
       "</style>\n",
       "<table border=\"1\" class=\"dataframe\">\n",
       "  <thead>\n",
       "    <tr style=\"text-align: right;\">\n",
       "      <th></th>\n",
       "      <th>product_id</th>\n",
       "      <th>product_name</th>\n",
       "      <th>brand</th>\n",
       "      <th>category_1</th>\n",
       "      <th>category_2</th>\n",
       "      <th>category_3</th>\n",
       "      <th>rating</th>\n",
       "      <th>num_review</th>\n",
       "      <th>price</th>\n",
       "      <th>personality</th>\n",
       "      <th>product_idx</th>\n",
       "    </tr>\n",
       "  </thead>\n",
       "  <tbody>\n",
       "    <tr>\n",
       "      <th>36565</th>\n",
       "      <td>685890861</td>\n",
       "      <td>[1+1행사] 빨간 적양배추즙 100ml 60포 무농약 원물</td>\n",
       "      <td>1939</td>\n",
       "      <td>3</td>\n",
       "      <td>41</td>\n",
       "      <td>4</td>\n",
       "      <td>4.8</td>\n",
       "      <td>1697</td>\n",
       "      <td>31800</td>\n",
       "      <td>2.807355</td>\n",
       "      <td>2893</td>\n",
       "    </tr>\n",
       "    <tr>\n",
       "      <th>221024</th>\n",
       "      <td>5685939646</td>\n",
       "      <td>마몽드 레티놀 앰플 토너 150ml X 2개 더블세트 순수레티놀 수분탄력 산뜻촉촉</td>\n",
       "      <td>1644</td>\n",
       "      <td>3</td>\n",
       "      <td>41</td>\n",
       "      <td>51</td>\n",
       "      <td>4.8</td>\n",
       "      <td>809</td>\n",
       "      <td>23400</td>\n",
       "      <td>3.459432</td>\n",
       "      <td>16766</td>\n",
       "    </tr>\n",
       "    <tr>\n",
       "      <th>316929</th>\n",
       "      <td>8702897045</td>\n",
       "      <td>[N페이 1천점+포토리뷰 1천점 적립] 한율 부들밤 모공수축 패드 50매 (150ml)</td>\n",
       "      <td>4798</td>\n",
       "      <td>3</td>\n",
       "      <td>41</td>\n",
       "      <td>51</td>\n",
       "      <td>4.8</td>\n",
       "      <td>540</td>\n",
       "      <td>21750</td>\n",
       "      <td>3.459432</td>\n",
       "      <td>22726</td>\n",
       "    </tr>\n",
       "    <tr>\n",
       "      <th>298908</th>\n",
       "      <td>7837034070</td>\n",
       "      <td>종근당 이뮨 듀오 멀티 비타맥스 5박스 물없이 마시는 액상 비타민 올인원 종합 영양...</td>\n",
       "      <td>1751</td>\n",
       "      <td>3</td>\n",
       "      <td>41</td>\n",
       "      <td>4</td>\n",
       "      <td>4.9</td>\n",
       "      <td>3282</td>\n",
       "      <td>112400</td>\n",
       "      <td>3.000000</td>\n",
       "      <td>21756</td>\n",
       "    </tr>\n",
       "    <tr>\n",
       "      <th>277984</th>\n",
       "      <td>6933289395</td>\n",
       "      <td>[수면건강기능식품] 바이탈뷰티 굿슬립 가바365 90일+20일 (L-글루탐산발효가바분말)</td>\n",
       "      <td>2841</td>\n",
       "      <td>3</td>\n",
       "      <td>41</td>\n",
       "      <td>4</td>\n",
       "      <td>4.8</td>\n",
       "      <td>456</td>\n",
       "      <td>83250</td>\n",
       "      <td>2.807355</td>\n",
       "      <td>20484</td>\n",
       "    </tr>\n",
       "  </tbody>\n",
       "</table>\n",
       "</div>"
      ],
      "text/plain": [
       "        product_id                                       product_name  brand  \\\n",
       "36565    685890861                  [1+1행사] 빨간 적양배추즙 100ml 60포 무농약 원물   1939   \n",
       "221024  5685939646      마몽드 레티놀 앰플 토너 150ml X 2개 더블세트 순수레티놀 수분탄력 산뜻촉촉   1644   \n",
       "316929  8702897045   [N페이 1천점+포토리뷰 1천점 적립] 한율 부들밤 모공수축 패드 50매 (150ml)   4798   \n",
       "298908  7837034070  종근당 이뮨 듀오 멀티 비타맥스 5박스 물없이 마시는 액상 비타민 올인원 종합 영양...   1751   \n",
       "277984  6933289395  [수면건강기능식품] 바이탈뷰티 굿슬립 가바365 90일+20일 (L-글루탐산발효가바분말)   2841   \n",
       "\n",
       "        category_1  category_2  category_3  rating  num_review   price  \\\n",
       "36565            3          41           4     4.8        1697   31800   \n",
       "221024           3          41          51     4.8         809   23400   \n",
       "316929           3          41          51     4.8         540   21750   \n",
       "298908           3          41           4     4.9        3282  112400   \n",
       "277984           3          41           4     4.8         456   83250   \n",
       "\n",
       "        personality  product_idx  \n",
       "36565      2.807355         2893  \n",
       "221024     3.459432        16766  \n",
       "316929     3.459432        22726  \n",
       "298908     3.000000        21756  \n",
       "277984     2.807355        20484  "
      ]
     },
     "execution_count": 55,
     "metadata": {},
     "output_type": "execute_result"
    }
   ],
   "source": [
    "filtered_data.head()"
   ]
  },
  {
   "cell_type": "code",
   "execution_count": 131,
   "metadata": {},
   "outputs": [
    {
     "name": "stdout",
     "output_type": "stream",
     "text": [
      "y_train Min: 0, Max: 6083\n",
      "y_valid Min: 0, Max: 6083\n",
      "Label sample in dataset initialization: tensor([ 940, 5636, 3369, 5486, 4741, 5310, 2710, 1059, 3711,  997])\n",
      "Label sample in dataset initialization: tensor([3390,  838, 5073,  808, 1127, 2711,  319, 1266, 3482,  956])\n",
      "Label sample in dataset initialization: tensor([ 940, 5636, 3369, 5486, 4741, 5310, 2710, 1059, 3711,  997])\n",
      "Label sample in dataset initialization: tensor([3390,  838, 5073,  808, 1127, 2711,  319, 1266, 3482,  956])\n"
     ]
    }
   ],
   "source": [
    "from sklearn.preprocessing import StandardScaler\n",
    "from torch.utils.data import TensorDataset, DataLoader, Dataset\n",
    "categorical_columns = ['brand','category_1', 'category_2', 'category_3']\n",
    "# categorical_columns = ['category_1', 'category_2', 'category_3']\n",
    "continuous_columns = ['rating', 'num_review', 'price', 'personality']\n",
    "\n",
    "def dl_data_split(data, test_size=0.4, seed=42):\n",
    "    X = data[categorical_columns + continuous_columns]\n",
    "    y = data['product_idx']\n",
    "\n",
    "    X_train, X_valid, y_train, y_valid = train_test_split(\n",
    "    X, y, test_size=test_size, random_state=seed, stratify=y\n",
    ")\n",
    "\n",
    "    # 연속형 데이터 스케일링\n",
    "    scaler = StandardScaler()\n",
    "    X_train[continuous_columns] = scaler.fit_transform(X_train[continuous_columns])\n",
    "    X_valid[continuous_columns] = scaler.transform(X_valid[continuous_columns])\n",
    "    \n",
    "    return X_train, X_valid, y_train, y_valid\n",
    "\n",
    "X_train, X_valid, y_train, y_valid = dl_data_split(filtered_data)\n",
    "\n",
    "# 기본제공되는 TensorDataset은 categorical과 continuous를 나누어서 받지 못함. 따라서 customdataset이 필요\n",
    "class Cat_Con_Dataset(Dataset):\n",
    "    def __init__(self, X, y):\n",
    "        self.X_cat = torch.tensor(X[categorical_columns].values, dtype=torch.long)\n",
    "        self.X_cont = torch.tensor(X[continuous_columns].values, dtype=torch.float)\n",
    "        self.y = torch.tensor(y.values, dtype=torch.long)\n",
    "        print(\"Label sample in dataset initialization:\", self.y[:10])\n",
    "\n",
    "    def __len__(self):\n",
    "        return len(self.y)\n",
    "\n",
    "    def __getitem__(self, idx):\n",
    "        return self.X_cat[idx], self.X_cont[idx], self.y[idx]\n",
    "\n",
    "print(f\"y_train Min: {y_train.min()}, Max: {y_train.max()}\")\n",
    "print(f\"y_valid Min: {y_valid.min()}, Max: {y_valid.max()}\")\n",
    "\n",
    "# 데이터 로더 생성\n",
    "def dl_data_loader(X_train, y_train, X_valid, y_valid, batch_size=64, shuffle=True):\n",
    "    train_dataset = Cat_Con_Dataset(X_train, y_train)\n",
    "    valid_dataset = Cat_Con_Dataset(X_valid, y_valid)\n",
    "    \n",
    "    train_dataloader = DataLoader(train_dataset, batch_size=batch_size, shuffle=shuffle)\n",
    "    valid_dataloader = DataLoader(valid_dataset, batch_size=batch_size, shuffle=False)\n",
    "    \n",
    "    return train_dataloader, valid_dataloader\n",
    "\n",
    "train_dataloader, valid_dataloader = dl_data_loader(X_train, y_train, X_valid, y_valid)\n",
    "\n",
    "\n",
    "train_dataset = Cat_Con_Dataset(X_train, y_train)\n",
    "valid_dataset = Cat_Con_Dataset(X_valid, y_valid)"
   ]
  },
  {
   "cell_type": "code",
   "execution_count": 58,
   "metadata": {},
   "outputs": [
    {
     "data": {
      "text/plain": [
       "98211      7774\n",
       "166707    12833\n",
       "203408    15554\n",
       "157908    12233\n",
       "90399      7140\n",
       "          ...  \n",
       "235725    17805\n",
       "24077      1936\n",
       "328229    23294\n",
       "6413        477\n",
       "185204    14235\n",
       "Name: product_idx, Length: 24013, dtype: int64"
      ]
     },
     "execution_count": 58,
     "metadata": {},
     "output_type": "execute_result"
    }
   ],
   "source": [
    "X_train\n",
    "X_valid \n",
    "y_train\n",
    "y_valid"
   ]
  },
  {
   "cell_type": "code",
   "execution_count": 132,
   "metadata": {},
   "outputs": [
    {
     "name": "stdout",
     "output_type": "stream",
     "text": [
      "(9330, 8)\n",
      "(6220, 8)\n",
      "(9330,)\n",
      "(6220,)\n",
      "y_train Min: 0, Max: 6083\n",
      "y_valid Min: 0, Max: 6083\n"
     ]
    }
   ],
   "source": [
    "print(X_train.shape)\n",
    "print(X_valid.shape)\n",
    "print(y_train.shape)\n",
    "print(y_valid.shape)\n",
    "\n",
    "print(f\"y_train Min: {y_train.min()}, Max: {y_train.max()}\")\n",
    "print(f\"y_valid Min: {y_valid.min()}, Max: {y_valid.max()}\")"
   ]
  },
  {
   "cell_type": "markdown",
   "metadata": {},
   "source": [
    "위에서 이 부분을 변형함"
   ]
  },
  {
   "cell_type": "code",
   "execution_count": 86,
   "metadata": {},
   "outputs": [],
   "source": [
    "# from torch.utils.data import TensorDataset, DataLoader, Dataset\n",
    "\n",
    "\n",
    "# def dl_data_split(data, test_size=0.2, seed=42):\n",
    "#     X_train, X_valid, y_train, y_valid = train_test_split(\n",
    "#         data.drop(['product_idx','product_id','num_review','price'], axis=1),\n",
    "#         data['product_idx'],\n",
    "#         test_size=test_size,\n",
    "#         random_state=seed,\n",
    "#         shuffle=True\n",
    "#     )\n",
    "#     return X_train, X_valid, y_train, y_valid\n",
    "\n",
    "# # 데이터 분할 실행\n",
    "# X_train, X_valid, y_train, y_valid = dl_data_split(df)\n",
    "\n",
    "# def dl_data_loader(X_train, y_train, X_valid, y_valid, batch_size=64, shuffle=True):\n",
    "#     train_dataset = TensorDataset(torch.tensor(X_train.values, dtype=torch.float), torch.tensor(y_train.values, dtype=torch.long))\n",
    "#     valid_dataset = TensorDataset(torch.tensor(X_valid.values, dtype=torch.float), torch.tensor(y_valid.values, dtype=torch.long))\n",
    "    \n",
    "#     train_dataloader = DataLoader(train_dataset, batch_size=batch_size, shuffle=shuffle)\n",
    "#     valid_dataloader = DataLoader(valid_dataset, batch_size=batch_size, shuffle=False)\n",
    "    \n",
    "#     return train_dataloader, valid_dataloader\n",
    "\n",
    "# # 데이터 로더 실행\n",
    "# train_dataloader, valid_dataloader = dl_data_loader(X_train, y_train, X_valid, y_valid)\n"
   ]
  },
  {
   "cell_type": "markdown",
   "metadata": {},
   "source": [
    "bookrating 참고 + wide deep api\n",
    "- https://chromium.googlesource.com/external/github.com/tensorflow/tensorflow/+/r0.10/tensorflow/g3doc/tutorials/wide_and_deep/index.md"
   ]
  },
  {
   "cell_type": "code",
   "execution_count": 133,
   "metadata": {},
   "outputs": [],
   "source": [
    "import wandb\n",
    "import torch\n",
    "from torch import nn\n",
    "from torch.utils.data import DataLoader\n",
    "import torch.nn.functional as F"
   ]
  },
  {
   "cell_type": "code",
   "execution_count": 149,
   "metadata": {},
   "outputs": [],
   "source": [
    "class WideAndDeepModel(nn.Module):\n",
    "    def __init__(self, categorical_field_dims, continuous_field_dims, embed_dim, mlp_dims, dropout):\n",
    "        super().__init__()\n",
    "        self.categorical_embedding = nn.ModuleList([\n",
    "            nn.Embedding(num_embeddings=dim, embedding_dim=embed_dim) \n",
    "            for dim in categorical_field_dims])\n",
    "        self.continuous_linear = nn.Linear(len(continuous_field_dims), embed_dim)\n",
    "        total_embed_dim = len(categorical_field_dims) * embed_dim + embed_dim # 모든 연속형 특성을 하나의 차원으로 임베딩\n",
    "        self.mlp = nn.Sequential(\n",
    "            nn.Linear(total_embed_dim, mlp_dims[0]),\n",
    "            nn.ReLU(),\n",
    "            nn.Dropout(dropout),\n",
    "            *[nn.Sequential(nn.Linear(mlp_dims[i], mlp_dims[i+1]), nn.ReLU(), nn.Dropout(dropout)) \n",
    "              for i in range(len(mlp_dims)-1)],\n",
    "            nn.Linear(mlp_dims[-1], 6084)\n",
    "        )\n",
    "\n",
    "    def forward(self, x_categorical, x_continuous):\n",
    "        x_embedded = [embedding(x_categorical[:, i]) for i, embedding in enumerate(self.categorical_embedding)]\n",
    "        x_embedded = torch.cat(x_embedded, dim=1)\n",
    "        x_continuous = self.continuous_linear(x_continuous)\n",
    "        x_total = torch.cat([x_embedded, x_continuous], dim=1)\n",
    "        x_mlp = self.mlp(x_total)\n",
    "        output = F.softmax(x_mlp, dim=1)\n",
    "        return output\n",
    "\n",
    "# 모델 초기화\n",
    "# categorical_field_dims = [df['brand'].nunique(), df['category_1'].nunique(), df['category_2'].nunique(), df['category_3'].nunique(), df['product_idx'].nunique()]\n",
    "# categorical_field_dims = [filtered_data['brand'].nunique(), filtered_data['category_1'].nunique(), filtered_data['category_2'].nunique(), filtered_data['category_3'].nunique()]\n",
    "categorical_field_dims = [filtered_data['brand'].nunique(), filtered_data['category_1'].nunique(), filtered_data['category_2'].nunique(), filtered_data['category_3'].nunique()]\n",
    "continuous_field_dims = ['rating', 'personality', 'price_scaling', 'review_scaling']\n",
    "model = WideAndDeepModel(categorical_field_dims, \n",
    "                         continuous_field_dims, \n",
    "                         embed_dim=32, mlp_dims=[256,256,128,128,64,64,32,32,16,16],\n",
    "                         dropout=0.1).to(torch.device('cuda' if torch.cuda.is_available() else 'cpu'))\n",
    "\n",
    "optimizer = torch.optim.Adam(model.parameters(), lr=0.0001, weight_decay=1e-7)\n",
    "criterion = nn.CrossEntropyLoss()"
   ]
  },
  {
   "cell_type": "code",
   "execution_count": null,
   "metadata": {},
   "outputs": [],
   "source": [
    "# class WideAndDeepModel(nn.Module):\n",
    "#     def __init__(self, categorical_field_dims, continuous_field_dims, embed_dim, mlp_dims, dropout):\n",
    "#         super().__init__()\n",
    "#         self.categorical_embedding = nn.ModuleList([nn.Embedding(num_embeddings=dim, embedding_dim=embed_dim) for dim in categorical_field_dims])\n",
    "#         self.continuous_linear = nn.Linear(len(continuous_field_dims), 1)\n",
    "#         total_embed_dim = len(categorical_field_dims) * embed_dim + len(continuous_field_dims)\n",
    "#         self.mlp = nn.Sequential(\n",
    "#             nn.Linear(total_embed_dim, mlp_dims[0]),\n",
    "#             nn.ReLU(),\n",
    "#             nn.Dropout(dropout),\n",
    "#             *[nn.Sequential(nn.Linear(mlp_dims[i], mlp_dims[i+1]), nn.ReLU(), nn.Dropout(dropout)) for i in range(len(mlp_dims)-1)],\n",
    "#             nn.Linear(mlp_dims[-1], 15641)\n",
    "#         )\n",
    "\n",
    "#     def forward(self, x_categorical, x_continuous):\n",
    "#         # print(\"Input x_categorical:\", x_categorical.shape)\n",
    "#         # print(\"Input x_continuous:\", x_continuous.shape)\n",
    "#         x_embedded = [embedding(x_categorical[:, i]) for i, embedding in enumerate(self.categorical_embedding)]\n",
    "#         x_embedded = torch.cat(x_embedded, dim=1)\n",
    "#         # print(\"After embedding and concatenation:\", x_embedded.shape)\n",
    "#         x_total = torch.cat([x_embedded, x_continuous], dim=1)\n",
    "#         # print(\"After concatenating with continuous:\", x_total.shape)\n",
    "#         x_linear = self.continuous_linear(x_continuous)\n",
    "#         # print(\"Output of continuous linear:\", x_linear.shape)\n",
    "#         x_mlp = self.mlp(x_total)\n",
    "#         # print(\"Output of MLP:\", x_mlp.shape)\n",
    "#         output = x_linear + x_mlp\n",
    "#         # print(\"Final output:\", output.shape)\n",
    "#         return output\n",
    "\n",
    "# # 모델 초기화\n",
    "# # categorical_field_dims = [df['brand'].nunique(), df['category_1'].nunique(), df['category_2'].nunique(), df['category_3'].nunique(), df['product_idx'].nunique()]\n",
    "# # categorical_field_dims = [filtered_data['brand'].nunique(), filtered_data['category_1'].nunique(), filtered_data['category_2'].nunique(), filtered_data['category_3'].nunique()]\n",
    "# categorical_field_dims = [filtered_data['brand'].nunique(), filtered_data['category_1'].nunique(), filtered_data['category_2'].nunique(), filtered_data['category_3'].nunique()]\n",
    "# continuous_field_dims = ['rating', 'personality', 'price_scaling', 'review_scaling']\n",
    "# model = WideAndDeepModel(categorical_field_dims, \n",
    "#                          continuous_field_dims, \n",
    "#                          embed_dim=512, mlp_dims=[516,258,128,64],\n",
    "#                          dropout=0.1).to(torch.device('cuda' if torch.cuda.is_available() else 'cpu'))\n",
    "\n",
    "# optimizer = torch.optim.Adam(model.parameters(), lr=0.0001, weight_decay=1e-7)\n",
    "# criterion = nn.CrossEntropyLoss()"
   ]
  },
  {
   "cell_type": "code",
   "execution_count": 150,
   "metadata": {},
   "outputs": [
    {
     "data": {
      "text/plain": [
       "WideAndDeepModel(\n",
       "  (categorical_embedding): ModuleList(\n",
       "    (0): Embedding(2148, 32)\n",
       "    (1): Embedding(9, 32)\n",
       "    (2): Embedding(39, 32)\n",
       "    (3): Embedding(48, 32)\n",
       "  )\n",
       "  (continuous_linear): Linear(in_features=4, out_features=32, bias=True)\n",
       "  (mlp): Sequential(\n",
       "    (0): Linear(in_features=160, out_features=256, bias=True)\n",
       "    (1): ReLU()\n",
       "    (2): Dropout(p=0.1, inplace=False)\n",
       "    (3): Sequential(\n",
       "      (0): Linear(in_features=256, out_features=256, bias=True)\n",
       "      (1): ReLU()\n",
       "      (2): Dropout(p=0.1, inplace=False)\n",
       "    )\n",
       "    (4): Sequential(\n",
       "      (0): Linear(in_features=256, out_features=128, bias=True)\n",
       "      (1): ReLU()\n",
       "      (2): Dropout(p=0.1, inplace=False)\n",
       "    )\n",
       "    (5): Sequential(\n",
       "      (0): Linear(in_features=128, out_features=128, bias=True)\n",
       "      (1): ReLU()\n",
       "      (2): Dropout(p=0.1, inplace=False)\n",
       "    )\n",
       "    (6): Sequential(\n",
       "      (0): Linear(in_features=128, out_features=64, bias=True)\n",
       "      (1): ReLU()\n",
       "      (2): Dropout(p=0.1, inplace=False)\n",
       "    )\n",
       "    (7): Sequential(\n",
       "      (0): Linear(in_features=64, out_features=64, bias=True)\n",
       "      (1): ReLU()\n",
       "      (2): Dropout(p=0.1, inplace=False)\n",
       "    )\n",
       "    (8): Sequential(\n",
       "      (0): Linear(in_features=64, out_features=32, bias=True)\n",
       "      (1): ReLU()\n",
       "      (2): Dropout(p=0.1, inplace=False)\n",
       "    )\n",
       "    (9): Sequential(\n",
       "      (0): Linear(in_features=32, out_features=32, bias=True)\n",
       "      (1): ReLU()\n",
       "      (2): Dropout(p=0.1, inplace=False)\n",
       "    )\n",
       "    (10): Sequential(\n",
       "      (0): Linear(in_features=32, out_features=16, bias=True)\n",
       "      (1): ReLU()\n",
       "      (2): Dropout(p=0.1, inplace=False)\n",
       "    )\n",
       "    (11): Sequential(\n",
       "      (0): Linear(in_features=16, out_features=16, bias=True)\n",
       "      (1): ReLU()\n",
       "      (2): Dropout(p=0.1, inplace=False)\n",
       "    )\n",
       "    (12): Linear(in_features=16, out_features=6084, bias=True)\n",
       "  )\n",
       ")"
      ]
     },
     "execution_count": 150,
     "metadata": {},
     "output_type": "execute_result"
    }
   ],
   "source": [
    "# GPU 사용 설정\n",
    "device = torch.device(\"cuda\" if torch.cuda.is_available() else \"cpu\")\n",
    "model.to(device)"
   ]
  },
  {
   "cell_type": "markdown",
   "metadata": {},
   "source": [
    "최적의 파라미터를 찾은 후 이걸로 학습"
   ]
  },
  {
   "cell_type": "code",
   "execution_count": 26,
   "metadata": {},
   "outputs": [
    {
     "name": "stdout",
     "output_type": "stream",
     "text": [
      "Epoch 1/10, Loss: 9.43476905562956, ACC: 8.867763904653802e-05\n",
      "Epoch 2/10, Loss: 9.328825553348468, ACC: 0.00019509080590238365\n",
      "Epoch 3/10, Loss: 9.126447314977916, ACC: 0.0003015039727582293\n",
      "Epoch 4/10, Loss: 8.851553355118474, ACC: 0.0004788592508513053\n",
      "Epoch 5/10, Loss: 8.631382509744668, ACC: 0.0006030079455164586\n",
      "Epoch 6/10, Loss: 8.483264911188305, ACC: 0.0004965947786606129\n",
      "Epoch 7/10, Loss: 8.333885899196282, ACC: 0.0007980987514188422\n",
      "Epoch 8/10, Loss: 8.176499805168993, ACC: 0.0009754540295119182\n",
      "Epoch 9/10, Loss: 8.04369274414357, ACC: 0.0011882803632236095\n",
      "Epoch 10/10, Loss: 7.906053021871543, ACC: 0.00125922247446084\n"
     ]
    }
   ],
   "source": [
    "# def accuracy(outputs, labels):\n",
    "#     _, preds = torch.max(outputs, dim=1)\n",
    "#     return torch.tensor(torch.sum(preds == labels).item() / len(preds))\n",
    "\n",
    "# epochs = 10\n",
    "\n",
    "# # train\n",
    "# for epoch in range(epochs):\n",
    "#     model.train()  # train mode\n",
    "#     total_loss = 0\n",
    "#     total_acc = 0\n",
    "\n",
    "#     for batch in train_dataloader:\n",
    "#         optimizer.zero_grad()  \n",
    "\n",
    "#         x_categorical, x_continuous, labels = batch\n",
    "#         x_categorical, x_continuous, labels = x_categorical.to(device), x_continuous.to(device), labels.to(device)\n",
    "\n",
    "#         # 모델 실행 및 손실 계산\n",
    "#         outputs = model(x_categorical, x_continuous)\n",
    "#         loss = criterion(outputs, labels)\n",
    "#         acc = accuracy(outputs, labels)\n",
    "\n",
    "\n",
    "\n",
    "#         loss.backward()  \n",
    "#         optimizer.step()  # parameter update\n",
    "\n",
    "#         total_loss += loss.item() # loss 추가\n",
    "#         total_acc += acc.item()\n",
    "\n",
    "#     avg_loss = total_loss / len(train_dataloader)\n",
    "#     avg_acc = total_acc / len(train_dataloader)\n",
    "\n",
    "    \n",
    "#     print(f'Epoch {epoch+1}/{epochs}, Loss: {avg_loss}, ACC: {avg_acc}')\n",
    "    \n",
    "\n"
   ]
  },
  {
   "cell_type": "markdown",
   "metadata": {},
   "source": [
    "sweep를 이용한 finetuning"
   ]
  },
  {
   "cell_type": "code",
   "execution_count": 57,
   "metadata": {},
   "outputs": [
    {
     "name": "stderr",
     "output_type": "stream",
     "text": [
      "Failed to detect the name of this notebook, you can set it manually with the WANDB_NOTEBOOK_NAME environment variable to enable code saving.\n"
     ]
    },
    {
     "name": "stdout",
     "output_type": "stream",
     "text": [
      "/home/siyun/ephemeral/miniconda3/envs/recbole/bin/python\n"
     ]
    },
    {
     "name": "stderr",
     "output_type": "stream",
     "text": [
      "\u001b[34m\u001b[1mwandb\u001b[0m: Currently logged in as: \u001b[33mtldbs5026\u001b[0m. Use \u001b[1m`wandb login --relogin`\u001b[0m to force relogin\n"
     ]
    },
    {
     "data": {
      "text/plain": [
       "True"
      ]
     },
     "execution_count": 57,
     "metadata": {},
     "output_type": "execute_result"
    }
   ],
   "source": [
    "import sys\n",
    "print(sys.executable)\n",
    "wandb.login()"
   ]
  },
  {
   "cell_type": "markdown",
   "metadata": {},
   "source": [
    "top k개의 acc 반환 함수"
   ]
  },
  {
   "cell_type": "code",
   "execution_count": 151,
   "metadata": {},
   "outputs": [],
   "source": [
    "def topkacc(output, target, topk=(1,)) :\n",
    "    with torch.no_grad() :\n",
    "        maxk = max(topk)\n",
    "        batch_size = target.size(0)\n",
    "\n",
    "        # https://pytorch.org/docs/stable/generated/torch.topk.html\n",
    "        ## torch.topk(input, k, dim=None, largest=True, sorted=True, *, out=None)\n",
    "        ## top k개를 가져온 후\n",
    "        _, pred = output.topk(maxk, 1, True, True)\n",
    "        # https://pytorch.org/docs/stable/generated/torch.t.html\n",
    "        # Expects input to be <= 2-D tensor and transposes dimensions 0 and 1.\n",
    "        # True or False로 반환\n",
    "        pred = pred.t()\n",
    "        # 그리고 그 갯수를 맞춤\n",
    "        ## https://pytorch.org/docs/stable/generated/torch.eq.html#torch.eq\n",
    "        ## Computes element-wise equality\n",
    "        correct = pred.eq(target.view(1,-1).expand_as(pred))\n",
    "\n",
    "        res = []\n",
    "        for k in topk : \n",
    "            correct_k = correct[:k].reshape(-1).float().sum(0, keepdim=True)\n",
    "            res.append(correct_k.mul_(100/batch_size))\n",
    "        return res"
   ]
  },
  {
   "cell_type": "code",
   "execution_count": 152,
   "metadata": {},
   "outputs": [],
   "source": [
    "from sklearn.metrics import precision_score, recall_score, f1_score\n",
    "\n",
    "def calculate_metrics(outputs, labels):\n",
    "    _, preds = torch.topk(outputs, 10, dim=1)\n",
    "    preds = preds.cpu().numpy()\n",
    "    labels = labels.cpu().numpy()\n",
    "    \n",
    "    # 상위 10개의 예측을 고려하여 recall@5 계산\n",
    "    recalls = []\n",
    "    for i in range(len(preds)):\n",
    "        true_positives = 0\n",
    "        for pred in preds[i]:\n",
    "            if pred in labels[i]:\n",
    "                true_positives += 1\n",
    "        recalls.append(true_positives / len(labels[i]))\n",
    "\n",
    "    recall_at_10 = sum(recalls) / len(recalls)\n",
    "\n",
    "    # 다른 메트릭 계산\n",
    "    precision = precision_score(labels, preds, average='macro', zero_division=0)\n",
    "    recall = recall_score(labels, preds, average='macro', zero_division=0)\n",
    "    f1 = f1_score(labels, preds, average='macro', zero_division=0)\n",
    "\n",
    "    return precision, recall, f1, recall_at_10\n"
   ]
  },
  {
   "cell_type": "code",
   "execution_count": 154,
   "metadata": {},
   "outputs": [
    {
     "name": "stdout",
     "output_type": "stream",
     "text": [
      "Create sweep with ID: vcevyz8u\n",
      "Sweep URL: https://wandb.ai/tldbs5026/uncategorized/sweeps/vcevyz8u\n"
     ]
    },
    {
     "name": "stderr",
     "output_type": "stream",
     "text": [
      "\u001b[34m\u001b[1mwandb\u001b[0m: Agent Starting Run: pno6gkw4 with config:\n",
      "\u001b[34m\u001b[1mwandb\u001b[0m: \tbatch_size: 256\n",
      "\u001b[34m\u001b[1mwandb\u001b[0m: \tdropout: 0.1\n",
      "\u001b[34m\u001b[1mwandb\u001b[0m: \tembed_dim: 256\n",
      "\u001b[34m\u001b[1mwandb\u001b[0m: \tepochs: 100\n",
      "\u001b[34m\u001b[1mwandb\u001b[0m: \tlr: 0.005\n",
      "\u001b[34m\u001b[1mwandb\u001b[0m: \tmlp_dims: [256, 128, 64, 64, 32, 32]\n",
      "\u001b[34m\u001b[1mwandb\u001b[0m: \tweight_decay: 1e-05\n",
      "\u001b[34m\u001b[1mwandb\u001b[0m: \u001b[33mWARNING\u001b[0m Ignored wandb.init() arg project when running a sweep.\n"
     ]
    },
    {
     "data": {
      "text/html": [
       "wandb version 0.16.4 is available!  To upgrade, please run:\n",
       " $ pip install wandb --upgrade"
      ],
      "text/plain": [
       "<IPython.core.display.HTML object>"
      ]
     },
     "metadata": {},
     "output_type": "display_data"
    },
    {
     "data": {
      "text/html": [
       "Tracking run with wandb version 0.16.3"
      ],
      "text/plain": [
       "<IPython.core.display.HTML object>"
      ]
     },
     "metadata": {},
     "output_type": "display_data"
    },
    {
     "data": {
      "text/html": [
       "Run data is saved locally in <code>/home/siyun/ephemeral/WDN/wandb/run-20240313_175048-pno6gkw4</code>"
      ],
      "text/plain": [
       "<IPython.core.display.HTML object>"
      ]
     },
     "metadata": {},
     "output_type": "display_data"
    },
    {
     "data": {
      "text/html": [
       "Syncing run <strong><a href='https://wandb.ai/tldbs5026/uncategorized/runs/pno6gkw4' target=\"_blank\">solar-sweep-1</a></strong> to <a href='https://wandb.ai/tldbs5026/uncategorized' target=\"_blank\">Weights & Biases</a> (<a href='https://wandb.me/run' target=\"_blank\">docs</a>)<br/>Sweep page: <a href='https://wandb.ai/tldbs5026/uncategorized/sweeps/vcevyz8u' target=\"_blank\">https://wandb.ai/tldbs5026/uncategorized/sweeps/vcevyz8u</a>"
      ],
      "text/plain": [
       "<IPython.core.display.HTML object>"
      ]
     },
     "metadata": {},
     "output_type": "display_data"
    },
    {
     "data": {
      "text/html": [
       " View project at <a href='https://wandb.ai/tldbs5026/uncategorized' target=\"_blank\">https://wandb.ai/tldbs5026/uncategorized</a>"
      ],
      "text/plain": [
       "<IPython.core.display.HTML object>"
      ]
     },
     "metadata": {},
     "output_type": "display_data"
    },
    {
     "data": {
      "text/html": [
       " View sweep at <a href='https://wandb.ai/tldbs5026/uncategorized/sweeps/vcevyz8u' target=\"_blank\">https://wandb.ai/tldbs5026/uncategorized/sweeps/vcevyz8u</a>"
      ],
      "text/plain": [
       "<IPython.core.display.HTML object>"
      ]
     },
     "metadata": {},
     "output_type": "display_data"
    },
    {
     "data": {
      "text/html": [
       " View run at <a href='https://wandb.ai/tldbs5026/uncategorized/runs/pno6gkw4' target=\"_blank\">https://wandb.ai/tldbs5026/uncategorized/runs/pno6gkw4</a>"
      ],
      "text/plain": [
       "<IPython.core.display.HTML object>"
      ]
     },
     "metadata": {},
     "output_type": "display_data"
    },
    {
     "data": {
      "text/html": [
       "<style>\n",
       "    table.wandb td:nth-child(1) { padding: 0 10px; text-align: left ; width: auto;} td:nth-child(2) {text-align: left ; width: 100%}\n",
       "    .wandb-row { display: flex; flex-direction: row; flex-wrap: wrap; justify-content: flex-start; width: 100% }\n",
       "    .wandb-col { display: flex; flex-direction: column; flex-basis: 100%; flex: 1; padding: 10px; }\n",
       "    </style>\n",
       "<div class=\"wandb-row\"><div class=\"wandb-col\"><h3>Run history:</h3><br/><table class=\"wandb\"><tr><td>accuracy1</td><td>▁▁▁▁▁▆▁▁▁▁▁▁▁▁▃▁▃▁▆▁▁█▁▁▁▁▁▁▁▃▁▆▁▆▁▃▁▁▆▁</td></tr><tr><td>accuracy10</td><td>█▃▄▆▃▄▆▂▃▃▃▂▃▃▄▂▄▃▅▃▃▄▃▃▁▂▃▃▆▂▅▄▃▃▂▅▃▃▃▄</td></tr><tr><td>epoch</td><td>▁▁▁▁▂▂▂▂▂▃▃▃▃▃▃▄▄▄▄▄▅▅▅▅▅▅▆▆▆▆▆▇▇▇▇▇▇███</td></tr><tr><td>f1_score</td><td>▁▁▁▁▁▁▁▁▁▁▁▁▁▁▁▁▁▁▁▁▁▁▁▁▁▁▁▁▁▁▁▁▁▁▁▁▁▁▁▁</td></tr><tr><td>loss</td><td>▁███████████████████████████████████████</td></tr><tr><td>precision</td><td>▁▁▁▁▁▁▁▁▁▁▁▁▁▁▁▁▁▁▁▁▁▁▁▁▁▁▁▁▁▁▁▁▁▁▁▁▁▁▁▁</td></tr><tr><td>recall</td><td>▁▁▁▁▁▁▁▁▁▁▁▁▁▁▁▁▁▁▁▁▁▁▁▁▁▁▁▁▁▁▁▁▁▁▁▁▁▁▁▁</td></tr></table><br/></div><div class=\"wandb-col\"><h3>Run summary:</h3><br/><table class=\"wandb\"><tr><td>accuracy1</td><td>0.0</td></tr><tr><td>accuracy10</td><td>0.00067</td></tr><tr><td>epoch</td><td>99</td></tr><tr><td>f1_score</td><td>0.0</td></tr><tr><td>loss</td><td>8.71342</td></tr><tr><td>precision</td><td>0.0</td></tr><tr><td>recall</td><td>0.0</td></tr></table><br/></div></div>"
      ],
      "text/plain": [
       "<IPython.core.display.HTML object>"
      ]
     },
     "metadata": {},
     "output_type": "display_data"
    },
    {
     "data": {
      "text/html": [
       " View run <strong style=\"color:#cdcd00\">solar-sweep-1</strong> at: <a href='https://wandb.ai/tldbs5026/uncategorized/runs/pno6gkw4' target=\"_blank\">https://wandb.ai/tldbs5026/uncategorized/runs/pno6gkw4</a><br/>Synced 5 W&B file(s), 0 media file(s), 0 artifact file(s) and 0 other file(s)"
      ],
      "text/plain": [
       "<IPython.core.display.HTML object>"
      ]
     },
     "metadata": {},
     "output_type": "display_data"
    },
    {
     "data": {
      "text/html": [
       "Find logs at: <code>./wandb/run-20240313_175048-pno6gkw4/logs</code>"
      ],
      "text/plain": [
       "<IPython.core.display.HTML object>"
      ]
     },
     "metadata": {},
     "output_type": "display_data"
    },
    {
     "name": "stderr",
     "output_type": "stream",
     "text": [
      "\u001b[34m\u001b[1mwandb\u001b[0m: Agent Starting Run: p49l9i9p with config:\n",
      "\u001b[34m\u001b[1mwandb\u001b[0m: \tbatch_size: 256\n",
      "\u001b[34m\u001b[1mwandb\u001b[0m: \tdropout: 0.1\n",
      "\u001b[34m\u001b[1mwandb\u001b[0m: \tembed_dim: 256\n",
      "\u001b[34m\u001b[1mwandb\u001b[0m: \tepochs: 100\n",
      "\u001b[34m\u001b[1mwandb\u001b[0m: \tlr: 0.005\n",
      "\u001b[34m\u001b[1mwandb\u001b[0m: \tmlp_dims: [256, 128, 64, 64, 32, 32]\n",
      "\u001b[34m\u001b[1mwandb\u001b[0m: \tweight_decay: 0.001\n",
      "\u001b[34m\u001b[1mwandb\u001b[0m: \u001b[33mWARNING\u001b[0m Ignored wandb.init() arg project when running a sweep.\n"
     ]
    },
    {
     "data": {
      "text/html": [
       "wandb version 0.16.4 is available!  To upgrade, please run:\n",
       " $ pip install wandb --upgrade"
      ],
      "text/plain": [
       "<IPython.core.display.HTML object>"
      ]
     },
     "metadata": {},
     "output_type": "display_data"
    },
    {
     "data": {
      "text/html": [
       "Tracking run with wandb version 0.16.3"
      ],
      "text/plain": [
       "<IPython.core.display.HTML object>"
      ]
     },
     "metadata": {},
     "output_type": "display_data"
    },
    {
     "data": {
      "text/html": [
       "Run data is saved locally in <code>/home/siyun/ephemeral/WDN/wandb/run-20240313_175427-p49l9i9p</code>"
      ],
      "text/plain": [
       "<IPython.core.display.HTML object>"
      ]
     },
     "metadata": {},
     "output_type": "display_data"
    },
    {
     "data": {
      "text/html": [
       "Syncing run <strong><a href='https://wandb.ai/tldbs5026/uncategorized/runs/p49l9i9p' target=\"_blank\">colorful-sweep-2</a></strong> to <a href='https://wandb.ai/tldbs5026/uncategorized' target=\"_blank\">Weights & Biases</a> (<a href='https://wandb.me/run' target=\"_blank\">docs</a>)<br/>Sweep page: <a href='https://wandb.ai/tldbs5026/uncategorized/sweeps/vcevyz8u' target=\"_blank\">https://wandb.ai/tldbs5026/uncategorized/sweeps/vcevyz8u</a>"
      ],
      "text/plain": [
       "<IPython.core.display.HTML object>"
      ]
     },
     "metadata": {},
     "output_type": "display_data"
    },
    {
     "data": {
      "text/html": [
       " View project at <a href='https://wandb.ai/tldbs5026/uncategorized' target=\"_blank\">https://wandb.ai/tldbs5026/uncategorized</a>"
      ],
      "text/plain": [
       "<IPython.core.display.HTML object>"
      ]
     },
     "metadata": {},
     "output_type": "display_data"
    },
    {
     "data": {
      "text/html": [
       " View sweep at <a href='https://wandb.ai/tldbs5026/uncategorized/sweeps/vcevyz8u' target=\"_blank\">https://wandb.ai/tldbs5026/uncategorized/sweeps/vcevyz8u</a>"
      ],
      "text/plain": [
       "<IPython.core.display.HTML object>"
      ]
     },
     "metadata": {},
     "output_type": "display_data"
    },
    {
     "data": {
      "text/html": [
       " View run at <a href='https://wandb.ai/tldbs5026/uncategorized/runs/p49l9i9p' target=\"_blank\">https://wandb.ai/tldbs5026/uncategorized/runs/p49l9i9p</a>"
      ],
      "text/plain": [
       "<IPython.core.display.HTML object>"
      ]
     },
     "metadata": {},
     "output_type": "display_data"
    },
    {
     "data": {
      "text/html": [
       "<style>\n",
       "    table.wandb td:nth-child(1) { padding: 0 10px; text-align: left ; width: auto;} td:nth-child(2) {text-align: left ; width: 100%}\n",
       "    .wandb-row { display: flex; flex-direction: row; flex-wrap: wrap; justify-content: flex-start; width: 100% }\n",
       "    .wandb-col { display: flex; flex-direction: column; flex-basis: 100%; flex: 1; padding: 10px; }\n",
       "    </style>\n",
       "<div class=\"wandb-row\"><div class=\"wandb-col\"><h3>Run history:</h3><br/><table class=\"wandb\"><tr><td>accuracy1</td><td>▅▁▁▅█▅▁█▁▅▁▁▁▁▁▁▁▁█▅▅▁█▅▁▅▅▁▁▁▁▁▁▅▁▅▁▅▅▁</td></tr><tr><td>accuracy10</td><td>█▆▄▆▅▄▃▄▁▅▂▄▆▁▁▁▄▁▆▃▂▄▄▃▅▂▅▄▂▁▃▂▂▇▄█▃▇▂▁</td></tr><tr><td>epoch</td><td>▁▁▁▁▂▂▂▂▂▃▃▃▃▃▃▄▄▄▄▄▅▅▅▅▅▅▆▆▆▆▆▇▇▇▇▇▇███</td></tr><tr><td>f1_score</td><td>▁▁▁▁▁▁▁▁▁▁▁▁▁▁▁▁▁▁▁▁▁▁▁▁▁▁▁▁▁▁▁▁▁▁▁▁▁▁▁▁</td></tr><tr><td>loss</td><td>▁███████████████████████████████████████</td></tr><tr><td>precision</td><td>▁▁▁▁▁▁▁▁▁▁▁▁▁▁▁▁▁▁▁▁▁▁▁▁▁▁▁▁▁▁▁▁▁▁▁▁▁▁▁▁</td></tr><tr><td>recall</td><td>▁▁▁▁▁▁▁▁▁▁▁▁▁▁▁▁▁▁▁▁▁▁▁▁▁▁▁▁▁▁▁▁▁▁▁▁▁▁▁▁</td></tr></table><br/></div><div class=\"wandb-col\"><h3>Run summary:</h3><br/><table class=\"wandb\"><tr><td>accuracy1</td><td>0.0</td></tr><tr><td>accuracy10</td><td>0.0005</td></tr><tr><td>epoch</td><td>99</td></tr><tr><td>f1_score</td><td>0.0</td></tr><tr><td>loss</td><td>8.71342</td></tr><tr><td>precision</td><td>0.0</td></tr><tr><td>recall</td><td>0.0</td></tr></table><br/></div></div>"
      ],
      "text/plain": [
       "<IPython.core.display.HTML object>"
      ]
     },
     "metadata": {},
     "output_type": "display_data"
    },
    {
     "data": {
      "text/html": [
       " View run <strong style=\"color:#cdcd00\">colorful-sweep-2</strong> at: <a href='https://wandb.ai/tldbs5026/uncategorized/runs/p49l9i9p' target=\"_blank\">https://wandb.ai/tldbs5026/uncategorized/runs/p49l9i9p</a><br/>Synced 5 W&B file(s), 0 media file(s), 0 artifact file(s) and 0 other file(s)"
      ],
      "text/plain": [
       "<IPython.core.display.HTML object>"
      ]
     },
     "metadata": {},
     "output_type": "display_data"
    },
    {
     "data": {
      "text/html": [
       "Find logs at: <code>./wandb/run-20240313_175427-p49l9i9p/logs</code>"
      ],
      "text/plain": [
       "<IPython.core.display.HTML object>"
      ]
     },
     "metadata": {},
     "output_type": "display_data"
    },
    {
     "name": "stderr",
     "output_type": "stream",
     "text": [
      "\u001b[34m\u001b[1mwandb\u001b[0m: Agent Starting Run: nnuuweth with config:\n",
      "\u001b[34m\u001b[1mwandb\u001b[0m: \tbatch_size: 256\n",
      "\u001b[34m\u001b[1mwandb\u001b[0m: \tdropout: 0.1\n",
      "\u001b[34m\u001b[1mwandb\u001b[0m: \tembed_dim: 256\n",
      "\u001b[34m\u001b[1mwandb\u001b[0m: \tepochs: 100\n",
      "\u001b[34m\u001b[1mwandb\u001b[0m: \tlr: 0.005\n",
      "\u001b[34m\u001b[1mwandb\u001b[0m: \tmlp_dims: [256, 256, 128, 128, 64, 64, 32, 32, 16, 16]\n",
      "\u001b[34m\u001b[1mwandb\u001b[0m: \tweight_decay: 1e-05\n",
      "\u001b[34m\u001b[1mwandb\u001b[0m: \u001b[33mWARNING\u001b[0m Ignored wandb.init() arg project when running a sweep.\n"
     ]
    },
    {
     "data": {
      "text/html": [
       "wandb version 0.16.4 is available!  To upgrade, please run:\n",
       " $ pip install wandb --upgrade"
      ],
      "text/plain": [
       "<IPython.core.display.HTML object>"
      ]
     },
     "metadata": {},
     "output_type": "display_data"
    },
    {
     "data": {
      "text/html": [
       "Tracking run with wandb version 0.16.3"
      ],
      "text/plain": [
       "<IPython.core.display.HTML object>"
      ]
     },
     "metadata": {},
     "output_type": "display_data"
    },
    {
     "data": {
      "text/html": [
       "Run data is saved locally in <code>/home/siyun/ephemeral/WDN/wandb/run-20240313_175815-nnuuweth</code>"
      ],
      "text/plain": [
       "<IPython.core.display.HTML object>"
      ]
     },
     "metadata": {},
     "output_type": "display_data"
    },
    {
     "data": {
      "text/html": [
       "Syncing run <strong><a href='https://wandb.ai/tldbs5026/uncategorized/runs/nnuuweth' target=\"_blank\">vital-sweep-3</a></strong> to <a href='https://wandb.ai/tldbs5026/uncategorized' target=\"_blank\">Weights & Biases</a> (<a href='https://wandb.me/run' target=\"_blank\">docs</a>)<br/>Sweep page: <a href='https://wandb.ai/tldbs5026/uncategorized/sweeps/vcevyz8u' target=\"_blank\">https://wandb.ai/tldbs5026/uncategorized/sweeps/vcevyz8u</a>"
      ],
      "text/plain": [
       "<IPython.core.display.HTML object>"
      ]
     },
     "metadata": {},
     "output_type": "display_data"
    },
    {
     "data": {
      "text/html": [
       " View project at <a href='https://wandb.ai/tldbs5026/uncategorized' target=\"_blank\">https://wandb.ai/tldbs5026/uncategorized</a>"
      ],
      "text/plain": [
       "<IPython.core.display.HTML object>"
      ]
     },
     "metadata": {},
     "output_type": "display_data"
    },
    {
     "data": {
      "text/html": [
       " View sweep at <a href='https://wandb.ai/tldbs5026/uncategorized/sweeps/vcevyz8u' target=\"_blank\">https://wandb.ai/tldbs5026/uncategorized/sweeps/vcevyz8u</a>"
      ],
      "text/plain": [
       "<IPython.core.display.HTML object>"
      ]
     },
     "metadata": {},
     "output_type": "display_data"
    },
    {
     "data": {
      "text/html": [
       " View run at <a href='https://wandb.ai/tldbs5026/uncategorized/runs/nnuuweth' target=\"_blank\">https://wandb.ai/tldbs5026/uncategorized/runs/nnuuweth</a>"
      ],
      "text/plain": [
       "<IPython.core.display.HTML object>"
      ]
     },
     "metadata": {},
     "output_type": "display_data"
    },
    {
     "data": {
      "text/html": [
       "<style>\n",
       "    table.wandb td:nth-child(1) { padding: 0 10px; text-align: left ; width: auto;} td:nth-child(2) {text-align: left ; width: 100%}\n",
       "    .wandb-row { display: flex; flex-direction: row; flex-wrap: wrap; justify-content: flex-start; width: 100% }\n",
       "    .wandb-col { display: flex; flex-direction: column; flex-basis: 100%; flex: 1; padding: 10px; }\n",
       "    </style>\n",
       "<div class=\"wandb-row\"><div class=\"wandb-col\"><h3>Run history:</h3><br/><table class=\"wandb\"><tr><td>accuracy1</td><td>█▁▁█▁█▁█▁▁▁▁▁███▁▁▁▁▁██▁▁▁▁▁▁█▁▁▁▁█▁▁▁▁█</td></tr><tr><td>accuracy10</td><td>▆█▃▅▄▃▆▃▅▄▃▃▄▅▃▂▄▂▂▃▄▃▂▂▃▁▄▃▃▅▂▄▃▆▂▂▃▃▂▄</td></tr><tr><td>epoch</td><td>▁▁▁▁▂▂▂▂▂▃▃▃▃▃▃▄▄▄▄▄▅▅▅▅▅▅▆▆▆▆▆▇▇▇▇▇▇███</td></tr><tr><td>f1_score</td><td>▁▁▁▁▁▁▁▁▁▁▁▁▁▁▁▁▁▁▁▁▁▁▁▁▁▁▁▁▁▁▁▁▁▁▁▁▁▁▁▁</td></tr><tr><td>loss</td><td>▁███████████████████████████████████████</td></tr><tr><td>precision</td><td>▁▁▁▁▁▁▁▁▁▁▁▁▁▁▁▁▁▁▁▁▁▁▁▁▁▁▁▁▁▁▁▁▁▁▁▁▁▁▁▁</td></tr><tr><td>recall</td><td>▁▁▁▁▁▁▁▁▁▁▁▁▁▁▁▁▁▁▁▁▁▁▁▁▁▁▁▁▁▁▁▁▁▁▁▁▁▁▁▁</td></tr></table><br/></div><div class=\"wandb-col\"><h3>Run summary:</h3><br/><table class=\"wandb\"><tr><td>accuracy1</td><td>0.0107</td></tr><tr><td>accuracy10</td><td>0.00067</td></tr><tr><td>epoch</td><td>99</td></tr><tr><td>f1_score</td><td>0.0</td></tr><tr><td>loss</td><td>8.71342</td></tr><tr><td>precision</td><td>0.0</td></tr><tr><td>recall</td><td>0.0</td></tr></table><br/></div></div>"
      ],
      "text/plain": [
       "<IPython.core.display.HTML object>"
      ]
     },
     "metadata": {},
     "output_type": "display_data"
    },
    {
     "data": {
      "text/html": [
       " View run <strong style=\"color:#cdcd00\">vital-sweep-3</strong> at: <a href='https://wandb.ai/tldbs5026/uncategorized/runs/nnuuweth' target=\"_blank\">https://wandb.ai/tldbs5026/uncategorized/runs/nnuuweth</a><br/>Synced 5 W&B file(s), 0 media file(s), 0 artifact file(s) and 0 other file(s)"
      ],
      "text/plain": [
       "<IPython.core.display.HTML object>"
      ]
     },
     "metadata": {},
     "output_type": "display_data"
    },
    {
     "data": {
      "text/html": [
       "Find logs at: <code>./wandb/run-20240313_175815-nnuuweth/logs</code>"
      ],
      "text/plain": [
       "<IPython.core.display.HTML object>"
      ]
     },
     "metadata": {},
     "output_type": "display_data"
    },
    {
     "name": "stderr",
     "output_type": "stream",
     "text": [
      "\u001b[34m\u001b[1mwandb\u001b[0m: Agent Starting Run: m3bkhw99 with config:\n",
      "\u001b[34m\u001b[1mwandb\u001b[0m: \tbatch_size: 256\n",
      "\u001b[34m\u001b[1mwandb\u001b[0m: \tdropout: 0.1\n",
      "\u001b[34m\u001b[1mwandb\u001b[0m: \tembed_dim: 256\n",
      "\u001b[34m\u001b[1mwandb\u001b[0m: \tepochs: 100\n",
      "\u001b[34m\u001b[1mwandb\u001b[0m: \tlr: 0.005\n",
      "\u001b[34m\u001b[1mwandb\u001b[0m: \tmlp_dims: [256, 256, 128, 128, 64, 64, 32, 32, 16, 16]\n",
      "\u001b[34m\u001b[1mwandb\u001b[0m: \tweight_decay: 0.001\n",
      "\u001b[34m\u001b[1mwandb\u001b[0m: \u001b[33mWARNING\u001b[0m Ignored wandb.init() arg project when running a sweep.\n"
     ]
    },
    {
     "data": {
      "text/html": [
       "wandb version 0.16.4 is available!  To upgrade, please run:\n",
       " $ pip install wandb --upgrade"
      ],
      "text/plain": [
       "<IPython.core.display.HTML object>"
      ]
     },
     "metadata": {},
     "output_type": "display_data"
    },
    {
     "data": {
      "text/html": [
       "Tracking run with wandb version 0.16.3"
      ],
      "text/plain": [
       "<IPython.core.display.HTML object>"
      ]
     },
     "metadata": {},
     "output_type": "display_data"
    },
    {
     "data": {
      "text/html": [
       "Run data is saved locally in <code>/home/siyun/ephemeral/WDN/wandb/run-20240313_180241-m3bkhw99</code>"
      ],
      "text/plain": [
       "<IPython.core.display.HTML object>"
      ]
     },
     "metadata": {},
     "output_type": "display_data"
    },
    {
     "data": {
      "text/html": [
       "Syncing run <strong><a href='https://wandb.ai/tldbs5026/uncategorized/runs/m3bkhw99' target=\"_blank\">graceful-sweep-4</a></strong> to <a href='https://wandb.ai/tldbs5026/uncategorized' target=\"_blank\">Weights & Biases</a> (<a href='https://wandb.me/run' target=\"_blank\">docs</a>)<br/>Sweep page: <a href='https://wandb.ai/tldbs5026/uncategorized/sweeps/vcevyz8u' target=\"_blank\">https://wandb.ai/tldbs5026/uncategorized/sweeps/vcevyz8u</a>"
      ],
      "text/plain": [
       "<IPython.core.display.HTML object>"
      ]
     },
     "metadata": {},
     "output_type": "display_data"
    },
    {
     "data": {
      "text/html": [
       " View project at <a href='https://wandb.ai/tldbs5026/uncategorized' target=\"_blank\">https://wandb.ai/tldbs5026/uncategorized</a>"
      ],
      "text/plain": [
       "<IPython.core.display.HTML object>"
      ]
     },
     "metadata": {},
     "output_type": "display_data"
    },
    {
     "data": {
      "text/html": [
       " View sweep at <a href='https://wandb.ai/tldbs5026/uncategorized/sweeps/vcevyz8u' target=\"_blank\">https://wandb.ai/tldbs5026/uncategorized/sweeps/vcevyz8u</a>"
      ],
      "text/plain": [
       "<IPython.core.display.HTML object>"
      ]
     },
     "metadata": {},
     "output_type": "display_data"
    },
    {
     "data": {
      "text/html": [
       " View run at <a href='https://wandb.ai/tldbs5026/uncategorized/runs/m3bkhw99' target=\"_blank\">https://wandb.ai/tldbs5026/uncategorized/runs/m3bkhw99</a>"
      ],
      "text/plain": [
       "<IPython.core.display.HTML object>"
      ]
     },
     "metadata": {},
     "output_type": "display_data"
    },
    {
     "data": {
      "text/html": [
       "<style>\n",
       "    table.wandb td:nth-child(1) { padding: 0 10px; text-align: left ; width: auto;} td:nth-child(2) {text-align: left ; width: 100%}\n",
       "    .wandb-row { display: flex; flex-direction: row; flex-wrap: wrap; justify-content: flex-start; width: 100% }\n",
       "    .wandb-col { display: flex; flex-direction: column; flex-basis: 100%; flex: 1; padding: 10px; }\n",
       "    </style>\n",
       "<div class=\"wandb-row\"><div class=\"wandb-col\"><h3>Run history:</h3><br/><table class=\"wandb\"><tr><td>accuracy1</td><td>▁█▁▁█▅▁▁▅▁▅▁▁▁▅▁▁▅▁▅▁▅▅▅▁▅▁█▁▁▅▅▁▁█▁▅▅▅█</td></tr><tr><td>accuracy10</td><td>▇▅█▅▆▃▂▂▄▂▂▁▃▂▃▃▃▃▃▃▂▃▃▄▄▅▃▄▂▃▄▃▄▂▆▇▃▃▃▅</td></tr><tr><td>epoch</td><td>▁▁▁▁▂▂▂▂▂▃▃▃▃▃▃▄▄▄▄▄▅▅▅▅▅▅▆▆▆▆▆▇▇▇▇▇▇███</td></tr><tr><td>f1_score</td><td>▁▁▁▁▁▁▁▁▁▁▁▁▁▁▁▁▁▁▁▁▁▁▁▁▁█▁▁▁▁▁▁▁▁▁▁▁▁▁▁</td></tr><tr><td>loss</td><td>▁███████████████████████████████████████</td></tr><tr><td>precision</td><td>▁▁▁▁▁▁▁▁▁▁▁▁▁▁▁▁▁▁▁▁▁▁▁▁▁█▁▁▁▁▁▁▁▁▁▁▁▁▁▁</td></tr><tr><td>recall</td><td>▁▁▁▁▁▁▁▁▁▁▁▁▁▁▁▁▁▁▁▁▁▁▁▁▁█▁▁▁▁▁▁▁▁▁▁▁▁▁▁</td></tr></table><br/></div><div class=\"wandb-col\"><h3>Run summary:</h3><br/><table class=\"wandb\"><tr><td>accuracy1</td><td>0.0214</td></tr><tr><td>accuracy10</td><td>0.00134</td></tr><tr><td>epoch</td><td>99</td></tr><tr><td>f1_score</td><td>0.0</td></tr><tr><td>loss</td><td>8.71342</td></tr><tr><td>precision</td><td>0.0</td></tr><tr><td>recall</td><td>0.0</td></tr></table><br/></div></div>"
      ],
      "text/plain": [
       "<IPython.core.display.HTML object>"
      ]
     },
     "metadata": {},
     "output_type": "display_data"
    },
    {
     "data": {
      "text/html": [
       " View run <strong style=\"color:#cdcd00\">graceful-sweep-4</strong> at: <a href='https://wandb.ai/tldbs5026/uncategorized/runs/m3bkhw99' target=\"_blank\">https://wandb.ai/tldbs5026/uncategorized/runs/m3bkhw99</a><br/>Synced 5 W&B file(s), 0 media file(s), 0 artifact file(s) and 0 other file(s)"
      ],
      "text/plain": [
       "<IPython.core.display.HTML object>"
      ]
     },
     "metadata": {},
     "output_type": "display_data"
    },
    {
     "data": {
      "text/html": [
       "Find logs at: <code>./wandb/run-20240313_180241-m3bkhw99/logs</code>"
      ],
      "text/plain": [
       "<IPython.core.display.HTML object>"
      ]
     },
     "metadata": {},
     "output_type": "display_data"
    },
    {
     "name": "stderr",
     "output_type": "stream",
     "text": [
      "\u001b[34m\u001b[1mwandb\u001b[0m: Agent Starting Run: nxs78j5m with config:\n",
      "\u001b[34m\u001b[1mwandb\u001b[0m: \tbatch_size: 256\n",
      "\u001b[34m\u001b[1mwandb\u001b[0m: \tdropout: 0.1\n",
      "\u001b[34m\u001b[1mwandb\u001b[0m: \tembed_dim: 256\n",
      "\u001b[34m\u001b[1mwandb\u001b[0m: \tepochs: 100\n",
      "\u001b[34m\u001b[1mwandb\u001b[0m: \tlr: 0.001\n",
      "\u001b[34m\u001b[1mwandb\u001b[0m: \tmlp_dims: [256, 128, 64, 64, 32, 32]\n",
      "\u001b[34m\u001b[1mwandb\u001b[0m: \tweight_decay: 1e-05\n",
      "\u001b[34m\u001b[1mwandb\u001b[0m: \u001b[33mWARNING\u001b[0m Ignored wandb.init() arg project when running a sweep.\n"
     ]
    },
    {
     "data": {
      "text/html": [
       "wandb version 0.16.4 is available!  To upgrade, please run:\n",
       " $ pip install wandb --upgrade"
      ],
      "text/plain": [
       "<IPython.core.display.HTML object>"
      ]
     },
     "metadata": {},
     "output_type": "display_data"
    },
    {
     "data": {
      "text/html": [
       "Tracking run with wandb version 0.16.3"
      ],
      "text/plain": [
       "<IPython.core.display.HTML object>"
      ]
     },
     "metadata": {},
     "output_type": "display_data"
    },
    {
     "data": {
      "text/html": [
       "Run data is saved locally in <code>/home/siyun/ephemeral/WDN/wandb/run-20240313_180710-nxs78j5m</code>"
      ],
      "text/plain": [
       "<IPython.core.display.HTML object>"
      ]
     },
     "metadata": {},
     "output_type": "display_data"
    },
    {
     "data": {
      "text/html": [
       "Syncing run <strong><a href='https://wandb.ai/tldbs5026/uncategorized/runs/nxs78j5m' target=\"_blank\">leafy-sweep-5</a></strong> to <a href='https://wandb.ai/tldbs5026/uncategorized' target=\"_blank\">Weights & Biases</a> (<a href='https://wandb.me/run' target=\"_blank\">docs</a>)<br/>Sweep page: <a href='https://wandb.ai/tldbs5026/uncategorized/sweeps/vcevyz8u' target=\"_blank\">https://wandb.ai/tldbs5026/uncategorized/sweeps/vcevyz8u</a>"
      ],
      "text/plain": [
       "<IPython.core.display.HTML object>"
      ]
     },
     "metadata": {},
     "output_type": "display_data"
    },
    {
     "data": {
      "text/html": [
       " View project at <a href='https://wandb.ai/tldbs5026/uncategorized' target=\"_blank\">https://wandb.ai/tldbs5026/uncategorized</a>"
      ],
      "text/plain": [
       "<IPython.core.display.HTML object>"
      ]
     },
     "metadata": {},
     "output_type": "display_data"
    },
    {
     "data": {
      "text/html": [
       " View sweep at <a href='https://wandb.ai/tldbs5026/uncategorized/sweeps/vcevyz8u' target=\"_blank\">https://wandb.ai/tldbs5026/uncategorized/sweeps/vcevyz8u</a>"
      ],
      "text/plain": [
       "<IPython.core.display.HTML object>"
      ]
     },
     "metadata": {},
     "output_type": "display_data"
    },
    {
     "data": {
      "text/html": [
       " View run at <a href='https://wandb.ai/tldbs5026/uncategorized/runs/nxs78j5m' target=\"_blank\">https://wandb.ai/tldbs5026/uncategorized/runs/nxs78j5m</a>"
      ],
      "text/plain": [
       "<IPython.core.display.HTML object>"
      ]
     },
     "metadata": {},
     "output_type": "display_data"
    },
    {
     "data": {
      "text/html": [
       "<style>\n",
       "    table.wandb td:nth-child(1) { padding: 0 10px; text-align: left ; width: auto;} td:nth-child(2) {text-align: left ; width: 100%}\n",
       "    .wandb-row { display: flex; flex-direction: row; flex-wrap: wrap; justify-content: flex-start; width: 100% }\n",
       "    .wandb-col { display: flex; flex-direction: column; flex-basis: 100%; flex: 1; padding: 10px; }\n",
       "    </style>\n",
       "<div class=\"wandb-row\"><div class=\"wandb-col\"><h3>Run history:</h3><br/><table class=\"wandb\"><tr><td>accuracy1</td><td>▃▅▅▃▃█▃▁▁▁▁▃▃▁▁▃▃▃▃▁▁▁▅▃▅▁▁▃▃▅▃▁▁▁▃▁▃▁▁▁</td></tr><tr><td>accuracy10</td><td>▇█▆▃▇▅▃▂▅▃▂▇▃▄▁▄▃▅▆▂▃▂▃▆▄▂▇▅▅▅▂▅▃▃▄▂▂▆▁▃</td></tr><tr><td>epoch</td><td>▁▁▁▁▂▂▂▂▂▃▃▃▃▃▃▄▄▄▄▄▅▅▅▅▅▅▆▆▆▆▆▇▇▇▇▇▇███</td></tr><tr><td>f1_score</td><td>▁▁▁▁▁▁▁▁▁▁▁▁▁▁▁▁▁▁▁▁▁▁▁▁▁▁▁▁▁▁▁▁▁▁▁▁▁▁▁▁</td></tr><tr><td>loss</td><td>██▅▅▅▅█▅▅▅▅▅▅▅▅▁▁▅█▅█▅▅▅▅▅▅▅▅█▅▅▅▅▅▅▅▅▅▅</td></tr><tr><td>precision</td><td>▁▁▁▁▁▁▁▁▁▁▁▁▁▁▁▁▁▁▁▁▁▁▁▁▁▁▁▁▁▁▁▁▁▁▁▁▁▁▁▁</td></tr><tr><td>recall</td><td>▁▁▁▁▁▁▁▁▁▁▁▁▁▁▁▁▁▁▁▁▁▁▁▁▁▁▁▁▁▁▁▁▁▁▁▁▁▁▁▁</td></tr></table><br/></div><div class=\"wandb-col\"><h3>Run summary:</h3><br/><table class=\"wandb\"><tr><td>accuracy1</td><td>0.0</td></tr><tr><td>accuracy10</td><td>0.00084</td></tr><tr><td>epoch</td><td>99</td></tr><tr><td>f1_score</td><td>0.0</td></tr><tr><td>loss</td><td>8.71342</td></tr><tr><td>precision</td><td>0.0</td></tr><tr><td>recall</td><td>0.0</td></tr></table><br/></div></div>"
      ],
      "text/plain": [
       "<IPython.core.display.HTML object>"
      ]
     },
     "metadata": {},
     "output_type": "display_data"
    },
    {
     "data": {
      "text/html": [
       " View run <strong style=\"color:#cdcd00\">leafy-sweep-5</strong> at: <a href='https://wandb.ai/tldbs5026/uncategorized/runs/nxs78j5m' target=\"_blank\">https://wandb.ai/tldbs5026/uncategorized/runs/nxs78j5m</a><br/>Synced 5 W&B file(s), 0 media file(s), 0 artifact file(s) and 0 other file(s)"
      ],
      "text/plain": [
       "<IPython.core.display.HTML object>"
      ]
     },
     "metadata": {},
     "output_type": "display_data"
    },
    {
     "data": {
      "text/html": [
       "Find logs at: <code>./wandb/run-20240313_180710-nxs78j5m/logs</code>"
      ],
      "text/plain": [
       "<IPython.core.display.HTML object>"
      ]
     },
     "metadata": {},
     "output_type": "display_data"
    },
    {
     "name": "stderr",
     "output_type": "stream",
     "text": [
      "\u001b[34m\u001b[1mwandb\u001b[0m: Agent Starting Run: nxutr7ou with config:\n",
      "\u001b[34m\u001b[1mwandb\u001b[0m: \tbatch_size: 256\n",
      "\u001b[34m\u001b[1mwandb\u001b[0m: \tdropout: 0.1\n",
      "\u001b[34m\u001b[1mwandb\u001b[0m: \tembed_dim: 256\n",
      "\u001b[34m\u001b[1mwandb\u001b[0m: \tepochs: 100\n",
      "\u001b[34m\u001b[1mwandb\u001b[0m: \tlr: 0.001\n",
      "\u001b[34m\u001b[1mwandb\u001b[0m: \tmlp_dims: [256, 128, 64, 64, 32, 32]\n",
      "\u001b[34m\u001b[1mwandb\u001b[0m: \tweight_decay: 0.001\n",
      "\u001b[34m\u001b[1mwandb\u001b[0m: \u001b[33mWARNING\u001b[0m Ignored wandb.init() arg project when running a sweep.\n"
     ]
    },
    {
     "data": {
      "text/html": [
       "wandb version 0.16.4 is available!  To upgrade, please run:\n",
       " $ pip install wandb --upgrade"
      ],
      "text/plain": [
       "<IPython.core.display.HTML object>"
      ]
     },
     "metadata": {},
     "output_type": "display_data"
    },
    {
     "data": {
      "text/html": [
       "Tracking run with wandb version 0.16.3"
      ],
      "text/plain": [
       "<IPython.core.display.HTML object>"
      ]
     },
     "metadata": {},
     "output_type": "display_data"
    },
    {
     "data": {
      "text/html": [
       "Run data is saved locally in <code>/home/siyun/ephemeral/WDN/wandb/run-20240313_181050-nxutr7ou</code>"
      ],
      "text/plain": [
       "<IPython.core.display.HTML object>"
      ]
     },
     "metadata": {},
     "output_type": "display_data"
    },
    {
     "data": {
      "text/html": [
       "Syncing run <strong><a href='https://wandb.ai/tldbs5026/uncategorized/runs/nxutr7ou' target=\"_blank\">volcanic-sweep-6</a></strong> to <a href='https://wandb.ai/tldbs5026/uncategorized' target=\"_blank\">Weights & Biases</a> (<a href='https://wandb.me/run' target=\"_blank\">docs</a>)<br/>Sweep page: <a href='https://wandb.ai/tldbs5026/uncategorized/sweeps/vcevyz8u' target=\"_blank\">https://wandb.ai/tldbs5026/uncategorized/sweeps/vcevyz8u</a>"
      ],
      "text/plain": [
       "<IPython.core.display.HTML object>"
      ]
     },
     "metadata": {},
     "output_type": "display_data"
    },
    {
     "data": {
      "text/html": [
       " View project at <a href='https://wandb.ai/tldbs5026/uncategorized' target=\"_blank\">https://wandb.ai/tldbs5026/uncategorized</a>"
      ],
      "text/plain": [
       "<IPython.core.display.HTML object>"
      ]
     },
     "metadata": {},
     "output_type": "display_data"
    },
    {
     "data": {
      "text/html": [
       " View sweep at <a href='https://wandb.ai/tldbs5026/uncategorized/sweeps/vcevyz8u' target=\"_blank\">https://wandb.ai/tldbs5026/uncategorized/sweeps/vcevyz8u</a>"
      ],
      "text/plain": [
       "<IPython.core.display.HTML object>"
      ]
     },
     "metadata": {},
     "output_type": "display_data"
    },
    {
     "data": {
      "text/html": [
       " View run at <a href='https://wandb.ai/tldbs5026/uncategorized/runs/nxutr7ou' target=\"_blank\">https://wandb.ai/tldbs5026/uncategorized/runs/nxutr7ou</a>"
      ],
      "text/plain": [
       "<IPython.core.display.HTML object>"
      ]
     },
     "metadata": {},
     "output_type": "display_data"
    },
    {
     "data": {
      "text/html": [
       "<style>\n",
       "    table.wandb td:nth-child(1) { padding: 0 10px; text-align: left ; width: auto;} td:nth-child(2) {text-align: left ; width: 100%}\n",
       "    .wandb-row { display: flex; flex-direction: row; flex-wrap: wrap; justify-content: flex-start; width: 100% }\n",
       "    .wandb-col { display: flex; flex-direction: column; flex-basis: 100%; flex: 1; padding: 10px; }\n",
       "    </style>\n",
       "<div class=\"wandb-row\"><div class=\"wandb-col\"><h3>Run history:</h3><br/><table class=\"wandb\"><tr><td>accuracy1</td><td>▃▁▁▁▁▁▃▁▆▃▁▆▃▁▁▃▁▃▁▁▁▁▃▁▁▃▃▁█▃▃▁▆▁▁▆▁▆▁▁</td></tr><tr><td>accuracy10</td><td>▆█▅▃▆▂▄▂▃▄▂▅▃▂▁▂▂▃▃▄▁▃▁▃▃▄▃▃▄▆▄▄▅▁▄▅▃█▅▃</td></tr><tr><td>epoch</td><td>▁▁▁▁▂▂▂▂▂▃▃▃▃▃▃▄▄▄▄▄▅▅▅▅▅▅▆▆▆▆▆▇▇▇▇▇▇███</td></tr><tr><td>f1_score</td><td>▁▁▁▁▁▁▁▁▁▁▁▁▁▁▁▁▁▁▁▁▁▁▁▁▁▁▁▁▁▁▁▁▁▁▁▁▁▁▁▁</td></tr><tr><td>loss</td><td>▁▆██████████████████████████████████████</td></tr><tr><td>precision</td><td>▁▁▁▁▁▁▁▁▁▁▁▁▁▁▁▁▁▁▁▁▁▁▁▁▁▁▁▁▁▁▁▁▁▁▁▁▁▁▁▁</td></tr><tr><td>recall</td><td>▁▁▁▁▁▁▁▁▁▁▁▁▁▁▁▁▁▁▁▁▁▁▁▁▁▁▁▁▁▁▁▁▁▁▁▁▁▁▁▁</td></tr></table><br/></div><div class=\"wandb-col\"><h3>Run summary:</h3><br/><table class=\"wandb\"><tr><td>accuracy1</td><td>0.0</td></tr><tr><td>accuracy10</td><td>0.00067</td></tr><tr><td>epoch</td><td>99</td></tr><tr><td>f1_score</td><td>0.0</td></tr><tr><td>loss</td><td>8.71342</td></tr><tr><td>precision</td><td>0.0</td></tr><tr><td>recall</td><td>0.0</td></tr></table><br/></div></div>"
      ],
      "text/plain": [
       "<IPython.core.display.HTML object>"
      ]
     },
     "metadata": {},
     "output_type": "display_data"
    },
    {
     "data": {
      "text/html": [
       " View run <strong style=\"color:#cdcd00\">volcanic-sweep-6</strong> at: <a href='https://wandb.ai/tldbs5026/uncategorized/runs/nxutr7ou' target=\"_blank\">https://wandb.ai/tldbs5026/uncategorized/runs/nxutr7ou</a><br/>Synced 5 W&B file(s), 0 media file(s), 0 artifact file(s) and 0 other file(s)"
      ],
      "text/plain": [
       "<IPython.core.display.HTML object>"
      ]
     },
     "metadata": {},
     "output_type": "display_data"
    },
    {
     "data": {
      "text/html": [
       "Find logs at: <code>./wandb/run-20240313_181050-nxutr7ou/logs</code>"
      ],
      "text/plain": [
       "<IPython.core.display.HTML object>"
      ]
     },
     "metadata": {},
     "output_type": "display_data"
    },
    {
     "name": "stderr",
     "output_type": "stream",
     "text": [
      "\u001b[34m\u001b[1mwandb\u001b[0m: Agent Starting Run: 31jih7kw with config:\n",
      "\u001b[34m\u001b[1mwandb\u001b[0m: \tbatch_size: 256\n",
      "\u001b[34m\u001b[1mwandb\u001b[0m: \tdropout: 0.1\n",
      "\u001b[34m\u001b[1mwandb\u001b[0m: \tembed_dim: 256\n",
      "\u001b[34m\u001b[1mwandb\u001b[0m: \tepochs: 100\n",
      "\u001b[34m\u001b[1mwandb\u001b[0m: \tlr: 0.001\n",
      "\u001b[34m\u001b[1mwandb\u001b[0m: \tmlp_dims: [256, 256, 128, 128, 64, 64, 32, 32, 16, 16]\n",
      "\u001b[34m\u001b[1mwandb\u001b[0m: \tweight_decay: 1e-05\n",
      "\u001b[34m\u001b[1mwandb\u001b[0m: \u001b[33mWARNING\u001b[0m Ignored wandb.init() arg project when running a sweep.\n"
     ]
    },
    {
     "data": {
      "text/html": [
       "wandb version 0.16.4 is available!  To upgrade, please run:\n",
       " $ pip install wandb --upgrade"
      ],
      "text/plain": [
       "<IPython.core.display.HTML object>"
      ]
     },
     "metadata": {},
     "output_type": "display_data"
    },
    {
     "data": {
      "text/html": [
       "Tracking run with wandb version 0.16.3"
      ],
      "text/plain": [
       "<IPython.core.display.HTML object>"
      ]
     },
     "metadata": {},
     "output_type": "display_data"
    },
    {
     "data": {
      "text/html": [
       "Run data is saved locally in <code>/home/siyun/ephemeral/WDN/wandb/run-20240313_181431-31jih7kw</code>"
      ],
      "text/plain": [
       "<IPython.core.display.HTML object>"
      ]
     },
     "metadata": {},
     "output_type": "display_data"
    },
    {
     "data": {
      "text/html": [
       "Syncing run <strong><a href='https://wandb.ai/tldbs5026/uncategorized/runs/31jih7kw' target=\"_blank\">ruby-sweep-7</a></strong> to <a href='https://wandb.ai/tldbs5026/uncategorized' target=\"_blank\">Weights & Biases</a> (<a href='https://wandb.me/run' target=\"_blank\">docs</a>)<br/>Sweep page: <a href='https://wandb.ai/tldbs5026/uncategorized/sweeps/vcevyz8u' target=\"_blank\">https://wandb.ai/tldbs5026/uncategorized/sweeps/vcevyz8u</a>"
      ],
      "text/plain": [
       "<IPython.core.display.HTML object>"
      ]
     },
     "metadata": {},
     "output_type": "display_data"
    },
    {
     "data": {
      "text/html": [
       " View project at <a href='https://wandb.ai/tldbs5026/uncategorized' target=\"_blank\">https://wandb.ai/tldbs5026/uncategorized</a>"
      ],
      "text/plain": [
       "<IPython.core.display.HTML object>"
      ]
     },
     "metadata": {},
     "output_type": "display_data"
    },
    {
     "data": {
      "text/html": [
       " View sweep at <a href='https://wandb.ai/tldbs5026/uncategorized/sweeps/vcevyz8u' target=\"_blank\">https://wandb.ai/tldbs5026/uncategorized/sweeps/vcevyz8u</a>"
      ],
      "text/plain": [
       "<IPython.core.display.HTML object>"
      ]
     },
     "metadata": {},
     "output_type": "display_data"
    },
    {
     "data": {
      "text/html": [
       " View run at <a href='https://wandb.ai/tldbs5026/uncategorized/runs/31jih7kw' target=\"_blank\">https://wandb.ai/tldbs5026/uncategorized/runs/31jih7kw</a>"
      ],
      "text/plain": [
       "<IPython.core.display.HTML object>"
      ]
     },
     "metadata": {},
     "output_type": "display_data"
    },
    {
     "data": {
      "text/html": [
       "<style>\n",
       "    table.wandb td:nth-child(1) { padding: 0 10px; text-align: left ; width: auto;} td:nth-child(2) {text-align: left ; width: 100%}\n",
       "    .wandb-row { display: flex; flex-direction: row; flex-wrap: wrap; justify-content: flex-start; width: 100% }\n",
       "    .wandb-col { display: flex; flex-direction: column; flex-basis: 100%; flex: 1; padding: 10px; }\n",
       "    </style>\n",
       "<div class=\"wandb-row\"><div class=\"wandb-col\"><h3>Run history:</h3><br/><table class=\"wandb\"><tr><td>accuracy1</td><td>██▁█▁█▁▁▁▁▁▁█▁▁▁▁▁█▁██▁▁▁▁█▁▁█▁█▁▁█▁▁▁▁█</td></tr><tr><td>accuracy10</td><td>█▆▅▅▅▅▆▃▃▄▃▂▃▃▅▁▂▄▃▂▅▃▅▂▄▄▆▃▂▆▅▅▂▄▂▄▅▃▁▃</td></tr><tr><td>epoch</td><td>▁▁▁▁▂▂▂▂▂▃▃▃▃▃▃▄▄▄▄▄▅▅▅▅▅▅▆▆▆▆▆▇▇▇▇▇▇███</td></tr><tr><td>f1_score</td><td>▁▁▁▁▁▁▁▁▁▁▁▁▁▁▁▁▁▁▁▁▁▁▁▁▁▁▁▁▁▁▁▁▁▁▁▁▁▁▁▁</td></tr><tr><td>loss</td><td>██▁▅▁▅▅▁▅▁▅▁▅▅▅▁▅▅▅▅▅▅▁▅▅▅▅▁▅█▅▅▁▅▅▅▅▅▅▅</td></tr><tr><td>precision</td><td>▁▁▁▁▁▁▁▁▁▁▁▁▁▁▁▁▁▁▁▁▁▁▁▁▁▁▁▁▁▁▁▁▁▁▁▁▁▁▁▁</td></tr><tr><td>recall</td><td>▁▁▁▁▁▁▁▁▁▁▁▁▁▁▁▁▁▁▁▁▁▁▁▁▁▁▁▁▁▁▁▁▁▁▁▁▁▁▁▁</td></tr></table><br/></div><div class=\"wandb-col\"><h3>Run summary:</h3><br/><table class=\"wandb\"><tr><td>accuracy1</td><td>0.0107</td></tr><tr><td>accuracy10</td><td>0.00084</td></tr><tr><td>epoch</td><td>99</td></tr><tr><td>f1_score</td><td>0.0</td></tr><tr><td>loss</td><td>8.71342</td></tr><tr><td>precision</td><td>0.0</td></tr><tr><td>recall</td><td>0.0</td></tr></table><br/></div></div>"
      ],
      "text/plain": [
       "<IPython.core.display.HTML object>"
      ]
     },
     "metadata": {},
     "output_type": "display_data"
    },
    {
     "data": {
      "text/html": [
       " View run <strong style=\"color:#cdcd00\">ruby-sweep-7</strong> at: <a href='https://wandb.ai/tldbs5026/uncategorized/runs/31jih7kw' target=\"_blank\">https://wandb.ai/tldbs5026/uncategorized/runs/31jih7kw</a><br/>Synced 5 W&B file(s), 0 media file(s), 0 artifact file(s) and 0 other file(s)"
      ],
      "text/plain": [
       "<IPython.core.display.HTML object>"
      ]
     },
     "metadata": {},
     "output_type": "display_data"
    },
    {
     "data": {
      "text/html": [
       "Find logs at: <code>./wandb/run-20240313_181431-31jih7kw/logs</code>"
      ],
      "text/plain": [
       "<IPython.core.display.HTML object>"
      ]
     },
     "metadata": {},
     "output_type": "display_data"
    },
    {
     "name": "stderr",
     "output_type": "stream",
     "text": [
      "\u001b[34m\u001b[1mwandb\u001b[0m: Agent Starting Run: 9befbml0 with config:\n",
      "\u001b[34m\u001b[1mwandb\u001b[0m: \tbatch_size: 256\n",
      "\u001b[34m\u001b[1mwandb\u001b[0m: \tdropout: 0.1\n",
      "\u001b[34m\u001b[1mwandb\u001b[0m: \tembed_dim: 256\n",
      "\u001b[34m\u001b[1mwandb\u001b[0m: \tepochs: 100\n",
      "\u001b[34m\u001b[1mwandb\u001b[0m: \tlr: 0.001\n",
      "\u001b[34m\u001b[1mwandb\u001b[0m: \tmlp_dims: [256, 256, 128, 128, 64, 64, 32, 32, 16, 16]\n",
      "\u001b[34m\u001b[1mwandb\u001b[0m: \tweight_decay: 0.001\n",
      "\u001b[34m\u001b[1mwandb\u001b[0m: \u001b[33mWARNING\u001b[0m Ignored wandb.init() arg project when running a sweep.\n"
     ]
    },
    {
     "data": {
      "text/html": [
       "wandb version 0.16.4 is available!  To upgrade, please run:\n",
       " $ pip install wandb --upgrade"
      ],
      "text/plain": [
       "<IPython.core.display.HTML object>"
      ]
     },
     "metadata": {},
     "output_type": "display_data"
    },
    {
     "data": {
      "text/html": [
       "Tracking run with wandb version 0.16.3"
      ],
      "text/plain": [
       "<IPython.core.display.HTML object>"
      ]
     },
     "metadata": {},
     "output_type": "display_data"
    },
    {
     "data": {
      "text/html": [
       "Run data is saved locally in <code>/home/siyun/ephemeral/WDN/wandb/run-20240313_181846-9befbml0</code>"
      ],
      "text/plain": [
       "<IPython.core.display.HTML object>"
      ]
     },
     "metadata": {},
     "output_type": "display_data"
    },
    {
     "data": {
      "text/html": [
       "Syncing run <strong><a href='https://wandb.ai/tldbs5026/uncategorized/runs/9befbml0' target=\"_blank\">silvery-sweep-8</a></strong> to <a href='https://wandb.ai/tldbs5026/uncategorized' target=\"_blank\">Weights & Biases</a> (<a href='https://wandb.me/run' target=\"_blank\">docs</a>)<br/>Sweep page: <a href='https://wandb.ai/tldbs5026/uncategorized/sweeps/vcevyz8u' target=\"_blank\">https://wandb.ai/tldbs5026/uncategorized/sweeps/vcevyz8u</a>"
      ],
      "text/plain": [
       "<IPython.core.display.HTML object>"
      ]
     },
     "metadata": {},
     "output_type": "display_data"
    },
    {
     "data": {
      "text/html": [
       " View project at <a href='https://wandb.ai/tldbs5026/uncategorized' target=\"_blank\">https://wandb.ai/tldbs5026/uncategorized</a>"
      ],
      "text/plain": [
       "<IPython.core.display.HTML object>"
      ]
     },
     "metadata": {},
     "output_type": "display_data"
    },
    {
     "data": {
      "text/html": [
       " View sweep at <a href='https://wandb.ai/tldbs5026/uncategorized/sweeps/vcevyz8u' target=\"_blank\">https://wandb.ai/tldbs5026/uncategorized/sweeps/vcevyz8u</a>"
      ],
      "text/plain": [
       "<IPython.core.display.HTML object>"
      ]
     },
     "metadata": {},
     "output_type": "display_data"
    },
    {
     "data": {
      "text/html": [
       " View run at <a href='https://wandb.ai/tldbs5026/uncategorized/runs/9befbml0' target=\"_blank\">https://wandb.ai/tldbs5026/uncategorized/runs/9befbml0</a>"
      ],
      "text/plain": [
       "<IPython.core.display.HTML object>"
      ]
     },
     "metadata": {},
     "output_type": "display_data"
    },
    {
     "data": {
      "text/html": [
       "<style>\n",
       "    table.wandb td:nth-child(1) { padding: 0 10px; text-align: left ; width: auto;} td:nth-child(2) {text-align: left ; width: 100%}\n",
       "    .wandb-row { display: flex; flex-direction: row; flex-wrap: wrap; justify-content: flex-start; width: 100% }\n",
       "    .wandb-col { display: flex; flex-direction: column; flex-basis: 100%; flex: 1; padding: 10px; }\n",
       "    </style>\n",
       "<div class=\"wandb-row\"><div class=\"wandb-col\"><h3>Run history:</h3><br/><table class=\"wandb\"><tr><td>accuracy1</td><td>▁▅▁▁▅▁▅▁▁▁▁▁▁▅▅▁▁▅█▁▁█▁▁▁▅█▁▅▁▁▅▁▁▅█▅▁▅▅</td></tr><tr><td>accuracy10</td><td>▇█▅▆▄▄▅▃▇▃▃▃▄▃▃▁▂▂▃▄▂▂▁▂▃▃▃▄▄▁▂▄▃▄▄█▆▃▅▂</td></tr><tr><td>epoch</td><td>▁▁▁▁▂▂▂▂▂▃▃▃▃▃▃▄▄▄▄▄▅▅▅▅▅▅▆▆▆▆▆▇▇▇▇▇▇███</td></tr><tr><td>f1_score</td><td>▁▁▁▁▁▁▁▁▁▁▁▁▁▁▁▁▁▁▁▁▁▁▁▁▁▁▁▁▁▁▁▁▁▁▁▁▁▁▁▁</td></tr><tr><td>loss</td><td>▁▃██████████████████████████████████████</td></tr><tr><td>precision</td><td>▁▁▁▁▁▁▁▁▁▁▁▁▁▁▁▁▁▁▁▁▁▁▁▁▁▁▁▁▁▁▁▁▁▁▁▁▁▁▁▁</td></tr><tr><td>recall</td><td>▁▁▁▁▁▁▁▁▁▁▁▁▁▁▁▁▁▁▁▁▁▁▁▁▁▁▁▁▁▁▁▁▁▁▁▁▁▁▁▁</td></tr></table><br/></div><div class=\"wandb-col\"><h3>Run summary:</h3><br/><table class=\"wandb\"><tr><td>accuracy1</td><td>0.0107</td></tr><tr><td>accuracy10</td><td>0.00033</td></tr><tr><td>epoch</td><td>99</td></tr><tr><td>f1_score</td><td>0.0</td></tr><tr><td>loss</td><td>8.71342</td></tr><tr><td>precision</td><td>0.0</td></tr><tr><td>recall</td><td>0.0</td></tr></table><br/></div></div>"
      ],
      "text/plain": [
       "<IPython.core.display.HTML object>"
      ]
     },
     "metadata": {},
     "output_type": "display_data"
    },
    {
     "data": {
      "text/html": [
       " View run <strong style=\"color:#cdcd00\">silvery-sweep-8</strong> at: <a href='https://wandb.ai/tldbs5026/uncategorized/runs/9befbml0' target=\"_blank\">https://wandb.ai/tldbs5026/uncategorized/runs/9befbml0</a><br/>Synced 5 W&B file(s), 0 media file(s), 0 artifact file(s) and 0 other file(s)"
      ],
      "text/plain": [
       "<IPython.core.display.HTML object>"
      ]
     },
     "metadata": {},
     "output_type": "display_data"
    },
    {
     "data": {
      "text/html": [
       "Find logs at: <code>./wandb/run-20240313_181846-9befbml0/logs</code>"
      ],
      "text/plain": [
       "<IPython.core.display.HTML object>"
      ]
     },
     "metadata": {},
     "output_type": "display_data"
    },
    {
     "name": "stderr",
     "output_type": "stream",
     "text": [
      "\u001b[34m\u001b[1mwandb\u001b[0m: Sweep Agent: Waiting for job.\n",
      "\u001b[34m\u001b[1mwandb\u001b[0m: Job received.\n",
      "\u001b[34m\u001b[1mwandb\u001b[0m: Agent Starting Run: yoxocasj with config:\n",
      "\u001b[34m\u001b[1mwandb\u001b[0m: \tbatch_size: 256\n",
      "\u001b[34m\u001b[1mwandb\u001b[0m: \tdropout: 0.1\n",
      "\u001b[34m\u001b[1mwandb\u001b[0m: \tembed_dim: 256\n",
      "\u001b[34m\u001b[1mwandb\u001b[0m: \tepochs: 100\n",
      "\u001b[34m\u001b[1mwandb\u001b[0m: \tlr: 0.0005\n",
      "\u001b[34m\u001b[1mwandb\u001b[0m: \tmlp_dims: [256, 128, 64, 64, 32, 32]\n",
      "\u001b[34m\u001b[1mwandb\u001b[0m: \tweight_decay: 1e-05\n",
      "\u001b[34m\u001b[1mwandb\u001b[0m: \u001b[33mWARNING\u001b[0m Ignored wandb.init() arg project when running a sweep.\n"
     ]
    },
    {
     "data": {
      "text/html": [
       "wandb version 0.16.4 is available!  To upgrade, please run:\n",
       " $ pip install wandb --upgrade"
      ],
      "text/plain": [
       "<IPython.core.display.HTML object>"
      ]
     },
     "metadata": {},
     "output_type": "display_data"
    },
    {
     "data": {
      "text/html": [
       "Tracking run with wandb version 0.16.3"
      ],
      "text/plain": [
       "<IPython.core.display.HTML object>"
      ]
     },
     "metadata": {},
     "output_type": "display_data"
    },
    {
     "data": {
      "text/html": [
       "Run data is saved locally in <code>/home/siyun/ephemeral/WDN/wandb/run-20240313_182313-yoxocasj</code>"
      ],
      "text/plain": [
       "<IPython.core.display.HTML object>"
      ]
     },
     "metadata": {},
     "output_type": "display_data"
    },
    {
     "data": {
      "text/html": [
       "Syncing run <strong><a href='https://wandb.ai/tldbs5026/uncategorized/runs/yoxocasj' target=\"_blank\">exalted-sweep-9</a></strong> to <a href='https://wandb.ai/tldbs5026/uncategorized' target=\"_blank\">Weights & Biases</a> (<a href='https://wandb.me/run' target=\"_blank\">docs</a>)<br/>Sweep page: <a href='https://wandb.ai/tldbs5026/uncategorized/sweeps/vcevyz8u' target=\"_blank\">https://wandb.ai/tldbs5026/uncategorized/sweeps/vcevyz8u</a>"
      ],
      "text/plain": [
       "<IPython.core.display.HTML object>"
      ]
     },
     "metadata": {},
     "output_type": "display_data"
    },
    {
     "data": {
      "text/html": [
       " View project at <a href='https://wandb.ai/tldbs5026/uncategorized' target=\"_blank\">https://wandb.ai/tldbs5026/uncategorized</a>"
      ],
      "text/plain": [
       "<IPython.core.display.HTML object>"
      ]
     },
     "metadata": {},
     "output_type": "display_data"
    },
    {
     "data": {
      "text/html": [
       " View sweep at <a href='https://wandb.ai/tldbs5026/uncategorized/sweeps/vcevyz8u' target=\"_blank\">https://wandb.ai/tldbs5026/uncategorized/sweeps/vcevyz8u</a>"
      ],
      "text/plain": [
       "<IPython.core.display.HTML object>"
      ]
     },
     "metadata": {},
     "output_type": "display_data"
    },
    {
     "data": {
      "text/html": [
       " View run at <a href='https://wandb.ai/tldbs5026/uncategorized/runs/yoxocasj' target=\"_blank\">https://wandb.ai/tldbs5026/uncategorized/runs/yoxocasj</a>"
      ],
      "text/plain": [
       "<IPython.core.display.HTML object>"
      ]
     },
     "metadata": {},
     "output_type": "display_data"
    },
    {
     "data": {
      "text/html": [
       "<style>\n",
       "    table.wandb td:nth-child(1) { padding: 0 10px; text-align: left ; width: auto;} td:nth-child(2) {text-align: left ; width: 100%}\n",
       "    .wandb-row { display: flex; flex-direction: row; flex-wrap: wrap; justify-content: flex-start; width: 100% }\n",
       "    .wandb-col { display: flex; flex-direction: column; flex-basis: 100%; flex: 1; padding: 10px; }\n",
       "    </style>\n",
       "<div class=\"wandb-row\"><div class=\"wandb-col\"><h3>Run history:</h3><br/><table class=\"wandb\"><tr><td>accuracy1</td><td>▅▅▃▅▃▅▁▃▃▁▃▃▁▃▆▁▃▅▁▆▅▆▅▃▁▁▆▃▃▃▃▁█▅▁▅▁▆▃▃</td></tr><tr><td>accuracy10</td><td>▅▃▂▃█▇▆▇▄▂▃▃▁▅▇▃▃▆▃▆▄▃▅▃▆▃▃▅▃▃▄▃▇▄▅▄▆▂▂▅</td></tr><tr><td>epoch</td><td>▁▁▁▁▂▂▂▂▂▃▃▃▃▃▃▄▄▄▄▄▅▅▅▅▅▅▆▆▆▆▆▇▇▇▇▇▇███</td></tr><tr><td>f1_score</td><td>▁▁▁▁▁▁▁▁▁▁▁▁▁▁▁▁▁▁▁▁▁▁▁▁▁▁▁▁▁▁▁▁▁▁▁▁▁▁▁▁</td></tr><tr><td>loss</td><td>█▅▅▅█▅▅█▅██▅▅▁▅▅█▅▅▁▁█▅▅██▅▅▅▅▅▅█▅██▅▅██</td></tr><tr><td>precision</td><td>▁▁▁▁▁▁▁▁▁▁▁▁▁▁▁▁▁▁▁▁▁▁▁▁▁▁▁▁▁▁▁▁▁▁▁▁▁▁▁▁</td></tr><tr><td>recall</td><td>▁▁▁▁▁▁▁▁▁▁▁▁▁▁▁▁▁▁▁▁▁▁▁▁▁▁▁▁▁▁▁▁▁▁▁▁▁▁▁▁</td></tr></table><br/></div><div class=\"wandb-col\"><h3>Run summary:</h3><br/><table class=\"wandb\"><tr><td>accuracy1</td><td>0.0107</td></tr><tr><td>accuracy10</td><td>0.00251</td></tr><tr><td>epoch</td><td>99</td></tr><tr><td>f1_score</td><td>0.0</td></tr><tr><td>loss</td><td>8.71342</td></tr><tr><td>precision</td><td>0.0</td></tr><tr><td>recall</td><td>0.0</td></tr></table><br/></div></div>"
      ],
      "text/plain": [
       "<IPython.core.display.HTML object>"
      ]
     },
     "metadata": {},
     "output_type": "display_data"
    },
    {
     "data": {
      "text/html": [
       " View run <strong style=\"color:#cdcd00\">exalted-sweep-9</strong> at: <a href='https://wandb.ai/tldbs5026/uncategorized/runs/yoxocasj' target=\"_blank\">https://wandb.ai/tldbs5026/uncategorized/runs/yoxocasj</a><br/>Synced 5 W&B file(s), 0 media file(s), 0 artifact file(s) and 0 other file(s)"
      ],
      "text/plain": [
       "<IPython.core.display.HTML object>"
      ]
     },
     "metadata": {},
     "output_type": "display_data"
    },
    {
     "data": {
      "text/html": [
       "Find logs at: <code>./wandb/run-20240313_182313-yoxocasj/logs</code>"
      ],
      "text/plain": [
       "<IPython.core.display.HTML object>"
      ]
     },
     "metadata": {},
     "output_type": "display_data"
    },
    {
     "name": "stderr",
     "output_type": "stream",
     "text": [
      "\u001b[34m\u001b[1mwandb\u001b[0m: Agent Starting Run: bkgputpp with config:\n",
      "\u001b[34m\u001b[1mwandb\u001b[0m: \tbatch_size: 256\n",
      "\u001b[34m\u001b[1mwandb\u001b[0m: \tdropout: 0.1\n",
      "\u001b[34m\u001b[1mwandb\u001b[0m: \tembed_dim: 256\n",
      "\u001b[34m\u001b[1mwandb\u001b[0m: \tepochs: 100\n",
      "\u001b[34m\u001b[1mwandb\u001b[0m: \tlr: 0.0005\n",
      "\u001b[34m\u001b[1mwandb\u001b[0m: \tmlp_dims: [256, 128, 64, 64, 32, 32]\n",
      "\u001b[34m\u001b[1mwandb\u001b[0m: \tweight_decay: 0.001\n",
      "\u001b[34m\u001b[1mwandb\u001b[0m: \u001b[33mWARNING\u001b[0m Ignored wandb.init() arg project when running a sweep.\n"
     ]
    },
    {
     "data": {
      "text/html": [
       "wandb version 0.16.4 is available!  To upgrade, please run:\n",
       " $ pip install wandb --upgrade"
      ],
      "text/plain": [
       "<IPython.core.display.HTML object>"
      ]
     },
     "metadata": {},
     "output_type": "display_data"
    },
    {
     "data": {
      "text/html": [
       "Tracking run with wandb version 0.16.3"
      ],
      "text/plain": [
       "<IPython.core.display.HTML object>"
      ]
     },
     "metadata": {},
     "output_type": "display_data"
    },
    {
     "data": {
      "text/html": [
       "Run data is saved locally in <code>/home/siyun/ephemeral/WDN/wandb/run-20240313_182653-bkgputpp</code>"
      ],
      "text/plain": [
       "<IPython.core.display.HTML object>"
      ]
     },
     "metadata": {},
     "output_type": "display_data"
    },
    {
     "data": {
      "text/html": [
       "Syncing run <strong><a href='https://wandb.ai/tldbs5026/uncategorized/runs/bkgputpp' target=\"_blank\">chocolate-sweep-10</a></strong> to <a href='https://wandb.ai/tldbs5026/uncategorized' target=\"_blank\">Weights & Biases</a> (<a href='https://wandb.me/run' target=\"_blank\">docs</a>)<br/>Sweep page: <a href='https://wandb.ai/tldbs5026/uncategorized/sweeps/vcevyz8u' target=\"_blank\">https://wandb.ai/tldbs5026/uncategorized/sweeps/vcevyz8u</a>"
      ],
      "text/plain": [
       "<IPython.core.display.HTML object>"
      ]
     },
     "metadata": {},
     "output_type": "display_data"
    },
    {
     "data": {
      "text/html": [
       " View project at <a href='https://wandb.ai/tldbs5026/uncategorized' target=\"_blank\">https://wandb.ai/tldbs5026/uncategorized</a>"
      ],
      "text/plain": [
       "<IPython.core.display.HTML object>"
      ]
     },
     "metadata": {},
     "output_type": "display_data"
    },
    {
     "data": {
      "text/html": [
       " View sweep at <a href='https://wandb.ai/tldbs5026/uncategorized/sweeps/vcevyz8u' target=\"_blank\">https://wandb.ai/tldbs5026/uncategorized/sweeps/vcevyz8u</a>"
      ],
      "text/plain": [
       "<IPython.core.display.HTML object>"
      ]
     },
     "metadata": {},
     "output_type": "display_data"
    },
    {
     "data": {
      "text/html": [
       " View run at <a href='https://wandb.ai/tldbs5026/uncategorized/runs/bkgputpp' target=\"_blank\">https://wandb.ai/tldbs5026/uncategorized/runs/bkgputpp</a>"
      ],
      "text/plain": [
       "<IPython.core.display.HTML object>"
      ]
     },
     "metadata": {},
     "output_type": "display_data"
    },
    {
     "data": {
      "text/html": [
       "<style>\n",
       "    table.wandb td:nth-child(1) { padding: 0 10px; text-align: left ; width: auto;} td:nth-child(2) {text-align: left ; width: 100%}\n",
       "    .wandb-row { display: flex; flex-direction: row; flex-wrap: wrap; justify-content: flex-start; width: 100% }\n",
       "    .wandb-col { display: flex; flex-direction: column; flex-basis: 100%; flex: 1; padding: 10px; }\n",
       "    </style>\n",
       "<div class=\"wandb-row\"><div class=\"wandb-col\"><h3>Run history:</h3><br/><table class=\"wandb\"><tr><td>accuracy1</td><td>█▆█▁▁▆▃▃▆▆▁▃▁▃▁▁▃▁▁▁▁▆▁▁▃▃▁▃▁▁▁▃▁▁▃▁▁▁▁▁</td></tr><tr><td>accuracy10</td><td>██▆▅▄▅▄▃▂▃▂▂▂▃▃▂▃▁▂▂▃▅▂▂▃▄▄▃▅▂▄▅▃▃▄▃▂▃▃▃</td></tr><tr><td>epoch</td><td>▁▁▁▁▂▂▂▂▂▃▃▃▃▃▃▄▄▄▄▄▅▅▅▅▅▅▆▆▆▆▆▇▇▇▇▇▇███</td></tr><tr><td>f1_score</td><td>▁▁▁▁▁▁▁▁▁▁▁▁▁▁▁▁▁▁▁▁▁▁▁▁▁▁▁▁▁▁▁▁▁▁▁▁▁▁▁▁</td></tr><tr><td>loss</td><td>▁▁██████████████████████████████████████</td></tr><tr><td>precision</td><td>▁▁▁▁▁▁▁▁▁▁▁▁▁▁▁▁▁▁▁▁▁▁▁▁▁▁▁▁▁▁▁▁▁▁▁▁▁▁▁▁</td></tr><tr><td>recall</td><td>▁▁▁▁▁▁▁▁▁▁▁▁▁▁▁▁▁▁▁▁▁▁▁▁▁▁▁▁▁▁▁▁▁▁▁▁▁▁▁▁</td></tr></table><br/></div><div class=\"wandb-col\"><h3>Run summary:</h3><br/><table class=\"wandb\"><tr><td>accuracy1</td><td>0.0</td></tr><tr><td>accuracy10</td><td>0.001</td></tr><tr><td>epoch</td><td>99</td></tr><tr><td>f1_score</td><td>0.0</td></tr><tr><td>loss</td><td>8.71342</td></tr><tr><td>precision</td><td>0.0</td></tr><tr><td>recall</td><td>0.0</td></tr></table><br/></div></div>"
      ],
      "text/plain": [
       "<IPython.core.display.HTML object>"
      ]
     },
     "metadata": {},
     "output_type": "display_data"
    },
    {
     "data": {
      "text/html": [
       " View run <strong style=\"color:#cdcd00\">chocolate-sweep-10</strong> at: <a href='https://wandb.ai/tldbs5026/uncategorized/runs/bkgputpp' target=\"_blank\">https://wandb.ai/tldbs5026/uncategorized/runs/bkgputpp</a><br/>Synced 5 W&B file(s), 0 media file(s), 0 artifact file(s) and 0 other file(s)"
      ],
      "text/plain": [
       "<IPython.core.display.HTML object>"
      ]
     },
     "metadata": {},
     "output_type": "display_data"
    },
    {
     "data": {
      "text/html": [
       "Find logs at: <code>./wandb/run-20240313_182653-bkgputpp/logs</code>"
      ],
      "text/plain": [
       "<IPython.core.display.HTML object>"
      ]
     },
     "metadata": {},
     "output_type": "display_data"
    },
    {
     "name": "stderr",
     "output_type": "stream",
     "text": [
      "\u001b[34m\u001b[1mwandb\u001b[0m: Agent Starting Run: 7tdpzup9 with config:\n",
      "\u001b[34m\u001b[1mwandb\u001b[0m: \tbatch_size: 256\n",
      "\u001b[34m\u001b[1mwandb\u001b[0m: \tdropout: 0.1\n",
      "\u001b[34m\u001b[1mwandb\u001b[0m: \tembed_dim: 256\n",
      "\u001b[34m\u001b[1mwandb\u001b[0m: \tepochs: 100\n",
      "\u001b[34m\u001b[1mwandb\u001b[0m: \tlr: 0.0005\n",
      "\u001b[34m\u001b[1mwandb\u001b[0m: \tmlp_dims: [256, 256, 128, 128, 64, 64, 32, 32, 16, 16]\n",
      "\u001b[34m\u001b[1mwandb\u001b[0m: \tweight_decay: 1e-05\n",
      "\u001b[34m\u001b[1mwandb\u001b[0m: \u001b[33mWARNING\u001b[0m Ignored wandb.init() arg project when running a sweep.\n"
     ]
    },
    {
     "data": {
      "text/html": [
       "wandb version 0.16.4 is available!  To upgrade, please run:\n",
       " $ pip install wandb --upgrade"
      ],
      "text/plain": [
       "<IPython.core.display.HTML object>"
      ]
     },
     "metadata": {},
     "output_type": "display_data"
    },
    {
     "data": {
      "text/html": [
       "Tracking run with wandb version 0.16.3"
      ],
      "text/plain": [
       "<IPython.core.display.HTML object>"
      ]
     },
     "metadata": {},
     "output_type": "display_data"
    },
    {
     "data": {
      "text/html": [
       "Run data is saved locally in <code>/home/siyun/ephemeral/WDN/wandb/run-20240313_183036-7tdpzup9</code>"
      ],
      "text/plain": [
       "<IPython.core.display.HTML object>"
      ]
     },
     "metadata": {},
     "output_type": "display_data"
    },
    {
     "data": {
      "text/html": [
       "Syncing run <strong><a href='https://wandb.ai/tldbs5026/uncategorized/runs/7tdpzup9' target=\"_blank\">frosty-sweep-11</a></strong> to <a href='https://wandb.ai/tldbs5026/uncategorized' target=\"_blank\">Weights & Biases</a> (<a href='https://wandb.me/run' target=\"_blank\">docs</a>)<br/>Sweep page: <a href='https://wandb.ai/tldbs5026/uncategorized/sweeps/vcevyz8u' target=\"_blank\">https://wandb.ai/tldbs5026/uncategorized/sweeps/vcevyz8u</a>"
      ],
      "text/plain": [
       "<IPython.core.display.HTML object>"
      ]
     },
     "metadata": {},
     "output_type": "display_data"
    },
    {
     "data": {
      "text/html": [
       " View project at <a href='https://wandb.ai/tldbs5026/uncategorized' target=\"_blank\">https://wandb.ai/tldbs5026/uncategorized</a>"
      ],
      "text/plain": [
       "<IPython.core.display.HTML object>"
      ]
     },
     "metadata": {},
     "output_type": "display_data"
    },
    {
     "data": {
      "text/html": [
       " View sweep at <a href='https://wandb.ai/tldbs5026/uncategorized/sweeps/vcevyz8u' target=\"_blank\">https://wandb.ai/tldbs5026/uncategorized/sweeps/vcevyz8u</a>"
      ],
      "text/plain": [
       "<IPython.core.display.HTML object>"
      ]
     },
     "metadata": {},
     "output_type": "display_data"
    },
    {
     "data": {
      "text/html": [
       " View run at <a href='https://wandb.ai/tldbs5026/uncategorized/runs/7tdpzup9' target=\"_blank\">https://wandb.ai/tldbs5026/uncategorized/runs/7tdpzup9</a>"
      ],
      "text/plain": [
       "<IPython.core.display.HTML object>"
      ]
     },
     "metadata": {},
     "output_type": "display_data"
    },
    {
     "data": {
      "text/html": [
       "<style>\n",
       "    table.wandb td:nth-child(1) { padding: 0 10px; text-align: left ; width: auto;} td:nth-child(2) {text-align: left ; width: 100%}\n",
       "    .wandb-row { display: flex; flex-direction: row; flex-wrap: wrap; justify-content: flex-start; width: 100% }\n",
       "    .wandb-col { display: flex; flex-direction: column; flex-basis: 100%; flex: 1; padding: 10px; }\n",
       "    </style>\n",
       "<div class=\"wandb-row\"><div class=\"wandb-col\"><h3>Run history:</h3><br/><table class=\"wandb\"><tr><td>accuracy1</td><td>▄▇▅▅▂▄▂█▂▂▄▁▇▂▁▁▄▂▁▄▄▁▁▂█▁▁▁▁▁▄▅▄▁▁▂▂▁▂▁</td></tr><tr><td>accuracy10</td><td>▄▅█▄▃▅▄▂▂▄▅▄▅▄▂▃▄▂▂▃▄▂▃▂▃▂▂▂▂▂▄▂▃▁▂▂▂▂▃▂</td></tr><tr><td>epoch</td><td>▁▁▁▁▂▂▂▂▂▃▃▃▃▃▃▄▄▄▄▄▅▅▅▅▅▅▆▆▆▆▆▇▇▇▇▇▇███</td></tr><tr><td>f1_score</td><td>▁▁▁▁▁▁▁▁▁▁▁▁▁▁▁▁▁▁▁▁▁▁▁▁▁▁▁▁▁▁▁▁▁▁▁▁▁▁▁▁</td></tr><tr><td>loss</td><td>█▅▅▁▅▁▅▅▁▅████████▅▅▅▅█▅▁▅█▅▅▅▅█▅▅▅▅▁▅▅█</td></tr><tr><td>precision</td><td>▁▁▁▁▁▁▁▁▁▁▁▁▁▁▁▁▁▁▁▁▁▁▁▁▁▁▁▁▁▁▁▁▁▁▁▁▁▁▁▁</td></tr><tr><td>recall</td><td>▁▁▁▁▁▁▁▁▁▁▁▁▁▁▁▁▁▁▁▁▁▁▁▁▁▁▁▁▁▁▁▁▁▁▁▁▁▁▁▁</td></tr></table><br/></div><div class=\"wandb-col\"><h3>Run summary:</h3><br/><table class=\"wandb\"><tr><td>accuracy1</td><td>0.0</td></tr><tr><td>accuracy10</td><td>0.00167</td></tr><tr><td>epoch</td><td>99</td></tr><tr><td>f1_score</td><td>0.0</td></tr><tr><td>loss</td><td>8.71342</td></tr><tr><td>precision</td><td>0.0</td></tr><tr><td>recall</td><td>0.0</td></tr></table><br/></div></div>"
      ],
      "text/plain": [
       "<IPython.core.display.HTML object>"
      ]
     },
     "metadata": {},
     "output_type": "display_data"
    },
    {
     "data": {
      "text/html": [
       " View run <strong style=\"color:#cdcd00\">frosty-sweep-11</strong> at: <a href='https://wandb.ai/tldbs5026/uncategorized/runs/7tdpzup9' target=\"_blank\">https://wandb.ai/tldbs5026/uncategorized/runs/7tdpzup9</a><br/>Synced 5 W&B file(s), 0 media file(s), 0 artifact file(s) and 0 other file(s)"
      ],
      "text/plain": [
       "<IPython.core.display.HTML object>"
      ]
     },
     "metadata": {},
     "output_type": "display_data"
    },
    {
     "data": {
      "text/html": [
       "Find logs at: <code>./wandb/run-20240313_183036-7tdpzup9/logs</code>"
      ],
      "text/plain": [
       "<IPython.core.display.HTML object>"
      ]
     },
     "metadata": {},
     "output_type": "display_data"
    },
    {
     "name": "stderr",
     "output_type": "stream",
     "text": [
      "\u001b[34m\u001b[1mwandb\u001b[0m: Agent Starting Run: inab0i3i with config:\n",
      "\u001b[34m\u001b[1mwandb\u001b[0m: \tbatch_size: 256\n",
      "\u001b[34m\u001b[1mwandb\u001b[0m: \tdropout: 0.1\n",
      "\u001b[34m\u001b[1mwandb\u001b[0m: \tembed_dim: 256\n",
      "\u001b[34m\u001b[1mwandb\u001b[0m: \tepochs: 100\n",
      "\u001b[34m\u001b[1mwandb\u001b[0m: \tlr: 0.0005\n",
      "\u001b[34m\u001b[1mwandb\u001b[0m: \tmlp_dims: [256, 256, 128, 128, 64, 64, 32, 32, 16, 16]\n",
      "\u001b[34m\u001b[1mwandb\u001b[0m: \tweight_decay: 0.001\n",
      "\u001b[34m\u001b[1mwandb\u001b[0m: \u001b[33mWARNING\u001b[0m Ignored wandb.init() arg project when running a sweep.\n"
     ]
    },
    {
     "data": {
      "text/html": [
       "wandb version 0.16.4 is available!  To upgrade, please run:\n",
       " $ pip install wandb --upgrade"
      ],
      "text/plain": [
       "<IPython.core.display.HTML object>"
      ]
     },
     "metadata": {},
     "output_type": "display_data"
    },
    {
     "data": {
      "text/html": [
       "Tracking run with wandb version 0.16.3"
      ],
      "text/plain": [
       "<IPython.core.display.HTML object>"
      ]
     },
     "metadata": {},
     "output_type": "display_data"
    },
    {
     "data": {
      "text/html": [
       "Run data is saved locally in <code>/home/siyun/ephemeral/WDN/wandb/run-20240313_183456-inab0i3i</code>"
      ],
      "text/plain": [
       "<IPython.core.display.HTML object>"
      ]
     },
     "metadata": {},
     "output_type": "display_data"
    },
    {
     "data": {
      "text/html": [
       "Syncing run <strong><a href='https://wandb.ai/tldbs5026/uncategorized/runs/inab0i3i' target=\"_blank\">rosy-sweep-12</a></strong> to <a href='https://wandb.ai/tldbs5026/uncategorized' target=\"_blank\">Weights & Biases</a> (<a href='https://wandb.me/run' target=\"_blank\">docs</a>)<br/>Sweep page: <a href='https://wandb.ai/tldbs5026/uncategorized/sweeps/vcevyz8u' target=\"_blank\">https://wandb.ai/tldbs5026/uncategorized/sweeps/vcevyz8u</a>"
      ],
      "text/plain": [
       "<IPython.core.display.HTML object>"
      ]
     },
     "metadata": {},
     "output_type": "display_data"
    },
    {
     "data": {
      "text/html": [
       " View project at <a href='https://wandb.ai/tldbs5026/uncategorized' target=\"_blank\">https://wandb.ai/tldbs5026/uncategorized</a>"
      ],
      "text/plain": [
       "<IPython.core.display.HTML object>"
      ]
     },
     "metadata": {},
     "output_type": "display_data"
    },
    {
     "data": {
      "text/html": [
       " View sweep at <a href='https://wandb.ai/tldbs5026/uncategorized/sweeps/vcevyz8u' target=\"_blank\">https://wandb.ai/tldbs5026/uncategorized/sweeps/vcevyz8u</a>"
      ],
      "text/plain": [
       "<IPython.core.display.HTML object>"
      ]
     },
     "metadata": {},
     "output_type": "display_data"
    },
    {
     "data": {
      "text/html": [
       " View run at <a href='https://wandb.ai/tldbs5026/uncategorized/runs/inab0i3i' target=\"_blank\">https://wandb.ai/tldbs5026/uncategorized/runs/inab0i3i</a>"
      ],
      "text/plain": [
       "<IPython.core.display.HTML object>"
      ]
     },
     "metadata": {},
     "output_type": "display_data"
    },
    {
     "data": {
      "text/html": [
       "<style>\n",
       "    table.wandb td:nth-child(1) { padding: 0 10px; text-align: left ; width: auto;} td:nth-child(2) {text-align: left ; width: 100%}\n",
       "    .wandb-row { display: flex; flex-direction: row; flex-wrap: wrap; justify-content: flex-start; width: 100% }\n",
       "    .wandb-col { display: flex; flex-direction: column; flex-basis: 100%; flex: 1; padding: 10px; }\n",
       "    </style>\n",
       "<div class=\"wandb-row\"><div class=\"wandb-col\"><h3>Run history:</h3><br/><table class=\"wandb\"><tr><td>accuracy1</td><td>▇▄▄▁▄▄▄▄▇▄▄▄▁█▄▁▁▄▁▁▄▁▄▇▄▁▁▁▁▄▄▁▁▁▁▁▁▁▁▄</td></tr><tr><td>accuracy10</td><td>█▄▄▅▃▆▂▄▄▂▅▂▂▂▃▁▂▁▂▁▁▁▁▁▂▁▃▃▁▃▂▂▃▁▃▃▃▁▂▃</td></tr><tr><td>epoch</td><td>▁▁▁▁▂▂▂▂▂▃▃▃▃▃▃▄▄▄▄▄▅▅▅▅▅▅▆▆▆▆▆▇▇▇▇▇▇███</td></tr><tr><td>f1_score</td><td>▁▁▁▁▁▁▁▁▁▁▁▁▁█▁▁▁▁▁▁▁▁▁▁▁▁▁▁▁▁▁▁▁▁▁▁▁▁▁▁</td></tr><tr><td>loss</td><td>▃▁▃█████████████████████████████████████</td></tr><tr><td>precision</td><td>▁▁▁▁▁▁▁▁▁▁▁▁▁█▁▁▁▁▁▁▁▁▁▁▁▁▁▁▁▁▁▁▁▁▁▁▁▁▁▁</td></tr><tr><td>recall</td><td>▁▁▁▁▁▁▁▁▁▁▁▁▁█▁▁▁▁▁▁▁▁▁▁▁▁▁▁▁▁▁▁▁▁▁▁▁▁▁▁</td></tr></table><br/></div><div class=\"wandb-col\"><h3>Run summary:</h3><br/><table class=\"wandb\"><tr><td>accuracy1</td><td>0.0107</td></tr><tr><td>accuracy10</td><td>0.001</td></tr><tr><td>epoch</td><td>99</td></tr><tr><td>f1_score</td><td>0.0</td></tr><tr><td>loss</td><td>8.71342</td></tr><tr><td>precision</td><td>0.0</td></tr><tr><td>recall</td><td>0.0</td></tr></table><br/></div></div>"
      ],
      "text/plain": [
       "<IPython.core.display.HTML object>"
      ]
     },
     "metadata": {},
     "output_type": "display_data"
    },
    {
     "data": {
      "text/html": [
       " View run <strong style=\"color:#cdcd00\">rosy-sweep-12</strong> at: <a href='https://wandb.ai/tldbs5026/uncategorized/runs/inab0i3i' target=\"_blank\">https://wandb.ai/tldbs5026/uncategorized/runs/inab0i3i</a><br/>Synced 5 W&B file(s), 0 media file(s), 0 artifact file(s) and 0 other file(s)"
      ],
      "text/plain": [
       "<IPython.core.display.HTML object>"
      ]
     },
     "metadata": {},
     "output_type": "display_data"
    },
    {
     "data": {
      "text/html": [
       "Find logs at: <code>./wandb/run-20240313_183456-inab0i3i/logs</code>"
      ],
      "text/plain": [
       "<IPython.core.display.HTML object>"
      ]
     },
     "metadata": {},
     "output_type": "display_data"
    },
    {
     "name": "stderr",
     "output_type": "stream",
     "text": [
      "\u001b[34m\u001b[1mwandb\u001b[0m: Agent Starting Run: 6kccbycd with config:\n",
      "\u001b[34m\u001b[1mwandb\u001b[0m: \tbatch_size: 256\n",
      "\u001b[34m\u001b[1mwandb\u001b[0m: \tdropout: 0.1\n",
      "\u001b[34m\u001b[1mwandb\u001b[0m: \tembed_dim: 256\n",
      "\u001b[34m\u001b[1mwandb\u001b[0m: \tepochs: 100\n",
      "\u001b[34m\u001b[1mwandb\u001b[0m: \tlr: 0.0001\n",
      "\u001b[34m\u001b[1mwandb\u001b[0m: \tmlp_dims: [256, 128, 64, 64, 32, 32]\n",
      "\u001b[34m\u001b[1mwandb\u001b[0m: \tweight_decay: 1e-05\n",
      "\u001b[34m\u001b[1mwandb\u001b[0m: \u001b[33mWARNING\u001b[0m Ignored wandb.init() arg project when running a sweep.\n"
     ]
    },
    {
     "data": {
      "text/html": [
       "wandb version 0.16.4 is available!  To upgrade, please run:\n",
       " $ pip install wandb --upgrade"
      ],
      "text/plain": [
       "<IPython.core.display.HTML object>"
      ]
     },
     "metadata": {},
     "output_type": "display_data"
    },
    {
     "data": {
      "text/html": [
       "Tracking run with wandb version 0.16.3"
      ],
      "text/plain": [
       "<IPython.core.display.HTML object>"
      ]
     },
     "metadata": {},
     "output_type": "display_data"
    },
    {
     "data": {
      "text/html": [
       "Run data is saved locally in <code>/home/siyun/ephemeral/WDN/wandb/run-20240313_183915-6kccbycd</code>"
      ],
      "text/plain": [
       "<IPython.core.display.HTML object>"
      ]
     },
     "metadata": {},
     "output_type": "display_data"
    },
    {
     "data": {
      "text/html": [
       "Syncing run <strong><a href='https://wandb.ai/tldbs5026/uncategorized/runs/6kccbycd' target=\"_blank\">rosy-sweep-13</a></strong> to <a href='https://wandb.ai/tldbs5026/uncategorized' target=\"_blank\">Weights & Biases</a> (<a href='https://wandb.me/run' target=\"_blank\">docs</a>)<br/>Sweep page: <a href='https://wandb.ai/tldbs5026/uncategorized/sweeps/vcevyz8u' target=\"_blank\">https://wandb.ai/tldbs5026/uncategorized/sweeps/vcevyz8u</a>"
      ],
      "text/plain": [
       "<IPython.core.display.HTML object>"
      ]
     },
     "metadata": {},
     "output_type": "display_data"
    },
    {
     "data": {
      "text/html": [
       " View project at <a href='https://wandb.ai/tldbs5026/uncategorized' target=\"_blank\">https://wandb.ai/tldbs5026/uncategorized</a>"
      ],
      "text/plain": [
       "<IPython.core.display.HTML object>"
      ]
     },
     "metadata": {},
     "output_type": "display_data"
    },
    {
     "data": {
      "text/html": [
       " View sweep at <a href='https://wandb.ai/tldbs5026/uncategorized/sweeps/vcevyz8u' target=\"_blank\">https://wandb.ai/tldbs5026/uncategorized/sweeps/vcevyz8u</a>"
      ],
      "text/plain": [
       "<IPython.core.display.HTML object>"
      ]
     },
     "metadata": {},
     "output_type": "display_data"
    },
    {
     "data": {
      "text/html": [
       " View run at <a href='https://wandb.ai/tldbs5026/uncategorized/runs/6kccbycd' target=\"_blank\">https://wandb.ai/tldbs5026/uncategorized/runs/6kccbycd</a>"
      ],
      "text/plain": [
       "<IPython.core.display.HTML object>"
      ]
     },
     "metadata": {},
     "output_type": "display_data"
    },
    {
     "data": {
      "text/html": [
       "<style>\n",
       "    table.wandb td:nth-child(1) { padding: 0 10px; text-align: left ; width: auto;} td:nth-child(2) {text-align: left ; width: 100%}\n",
       "    .wandb-row { display: flex; flex-direction: row; flex-wrap: wrap; justify-content: flex-start; width: 100% }\n",
       "    .wandb-col { display: flex; flex-direction: column; flex-basis: 100%; flex: 1; padding: 10px; }\n",
       "    </style>\n",
       "<div class=\"wandb-row\"><div class=\"wandb-col\"><h3>Run history:</h3><br/><table class=\"wandb\"><tr><td>accuracy1</td><td>▁▁▅▂▂▅▂██▇▅▅▅▇▁▂▄▄▄▁▅▄▄▄▄▂▅▅▂▂▁▄▅▂▅▅▂▂▄▄</td></tr><tr><td>accuracy10</td><td>▁▁▂▃▂▃▄▄▄▃▇▇██▇████▆▇▇▇██████▇███▇█▇▇▇██</td></tr><tr><td>epoch</td><td>▁▁▁▁▂▂▂▂▂▃▃▃▃▃▃▄▄▄▄▄▅▅▅▅▅▅▆▆▆▆▆▇▇▇▇▇▇███</td></tr><tr><td>f1_score</td><td>▁▁▁▁▁▁▁▁▁▁▁▁▁▁▁▁▁▁▁▁▁▁▁▁▁▁▁▁▁▁▁▁▁▁▁▁▁▁▁▁</td></tr><tr><td>loss</td><td>▅▄▄▄▄▄▂▅▄▄▁▁█████▇▇█▅████████████████▇██</td></tr><tr><td>precision</td><td>▁▁▁▁▁▁▁▁▁▁▁▁▁▁▁▁▁▁▁▁▁▁▁▁▁▁▁▁▁▁▁▁▁▁▁▁▁▁▁▁</td></tr><tr><td>recall</td><td>▁▁▁▁▁▁▁▁▁▁▁▁▁▁▁▁▁▁▁▁▁▁▁▁▁▁▁▁▁▁▁▁▁▁▁▁▁▁▁▁</td></tr></table><br/></div><div class=\"wandb-col\"><h3>Run summary:</h3><br/><table class=\"wandb\"><tr><td>accuracy1</td><td>0.0214</td></tr><tr><td>accuracy10</td><td>0.00804</td></tr><tr><td>epoch</td><td>99</td></tr><tr><td>f1_score</td><td>0.0</td></tr><tr><td>loss</td><td>8.71342</td></tr><tr><td>precision</td><td>0.0</td></tr><tr><td>recall</td><td>0.0</td></tr></table><br/></div></div>"
      ],
      "text/plain": [
       "<IPython.core.display.HTML object>"
      ]
     },
     "metadata": {},
     "output_type": "display_data"
    },
    {
     "data": {
      "text/html": [
       " View run <strong style=\"color:#cdcd00\">rosy-sweep-13</strong> at: <a href='https://wandb.ai/tldbs5026/uncategorized/runs/6kccbycd' target=\"_blank\">https://wandb.ai/tldbs5026/uncategorized/runs/6kccbycd</a><br/>Synced 5 W&B file(s), 0 media file(s), 0 artifact file(s) and 0 other file(s)"
      ],
      "text/plain": [
       "<IPython.core.display.HTML object>"
      ]
     },
     "metadata": {},
     "output_type": "display_data"
    },
    {
     "data": {
      "text/html": [
       "Find logs at: <code>./wandb/run-20240313_183915-6kccbycd/logs</code>"
      ],
      "text/plain": [
       "<IPython.core.display.HTML object>"
      ]
     },
     "metadata": {},
     "output_type": "display_data"
    },
    {
     "name": "stderr",
     "output_type": "stream",
     "text": [
      "\u001b[34m\u001b[1mwandb\u001b[0m: Sweep Agent: Waiting for job.\n",
      "\u001b[34m\u001b[1mwandb\u001b[0m: Job received.\n",
      "\u001b[34m\u001b[1mwandb\u001b[0m: Agent Starting Run: tuo212ef with config:\n",
      "\u001b[34m\u001b[1mwandb\u001b[0m: \tbatch_size: 256\n",
      "\u001b[34m\u001b[1mwandb\u001b[0m: \tdropout: 0.1\n",
      "\u001b[34m\u001b[1mwandb\u001b[0m: \tembed_dim: 256\n",
      "\u001b[34m\u001b[1mwandb\u001b[0m: \tepochs: 100\n",
      "\u001b[34m\u001b[1mwandb\u001b[0m: \tlr: 0.0001\n",
      "\u001b[34m\u001b[1mwandb\u001b[0m: \tmlp_dims: [256, 128, 64, 64, 32, 32]\n",
      "\u001b[34m\u001b[1mwandb\u001b[0m: \tweight_decay: 0.001\n",
      "\u001b[34m\u001b[1mwandb\u001b[0m: \u001b[33mWARNING\u001b[0m Ignored wandb.init() arg project when running a sweep.\n"
     ]
    },
    {
     "data": {
      "text/html": [
       "wandb version 0.16.4 is available!  To upgrade, please run:\n",
       " $ pip install wandb --upgrade"
      ],
      "text/plain": [
       "<IPython.core.display.HTML object>"
      ]
     },
     "metadata": {},
     "output_type": "display_data"
    },
    {
     "data": {
      "text/html": [
       "Tracking run with wandb version 0.16.3"
      ],
      "text/plain": [
       "<IPython.core.display.HTML object>"
      ]
     },
     "metadata": {},
     "output_type": "display_data"
    },
    {
     "data": {
      "text/html": [
       "Run data is saved locally in <code>/home/siyun/ephemeral/WDN/wandb/run-20240313_184306-tuo212ef</code>"
      ],
      "text/plain": [
       "<IPython.core.display.HTML object>"
      ]
     },
     "metadata": {},
     "output_type": "display_data"
    },
    {
     "data": {
      "text/html": [
       "Syncing run <strong><a href='https://wandb.ai/tldbs5026/uncategorized/runs/tuo212ef' target=\"_blank\">super-sweep-14</a></strong> to <a href='https://wandb.ai/tldbs5026/uncategorized' target=\"_blank\">Weights & Biases</a> (<a href='https://wandb.me/run' target=\"_blank\">docs</a>)<br/>Sweep page: <a href='https://wandb.ai/tldbs5026/uncategorized/sweeps/vcevyz8u' target=\"_blank\">https://wandb.ai/tldbs5026/uncategorized/sweeps/vcevyz8u</a>"
      ],
      "text/plain": [
       "<IPython.core.display.HTML object>"
      ]
     },
     "metadata": {},
     "output_type": "display_data"
    },
    {
     "data": {
      "text/html": [
       " View project at <a href='https://wandb.ai/tldbs5026/uncategorized' target=\"_blank\">https://wandb.ai/tldbs5026/uncategorized</a>"
      ],
      "text/plain": [
       "<IPython.core.display.HTML object>"
      ]
     },
     "metadata": {},
     "output_type": "display_data"
    },
    {
     "data": {
      "text/html": [
       " View sweep at <a href='https://wandb.ai/tldbs5026/uncategorized/sweeps/vcevyz8u' target=\"_blank\">https://wandb.ai/tldbs5026/uncategorized/sweeps/vcevyz8u</a>"
      ],
      "text/plain": [
       "<IPython.core.display.HTML object>"
      ]
     },
     "metadata": {},
     "output_type": "display_data"
    },
    {
     "data": {
      "text/html": [
       " View run at <a href='https://wandb.ai/tldbs5026/uncategorized/runs/tuo212ef' target=\"_blank\">https://wandb.ai/tldbs5026/uncategorized/runs/tuo212ef</a>"
      ],
      "text/plain": [
       "<IPython.core.display.HTML object>"
      ]
     },
     "metadata": {},
     "output_type": "display_data"
    },
    {
     "data": {
      "text/html": [
       "<style>\n",
       "    table.wandb td:nth-child(1) { padding: 0 10px; text-align: left ; width: auto;} td:nth-child(2) {text-align: left ; width: 100%}\n",
       "    .wandb-row { display: flex; flex-direction: row; flex-wrap: wrap; justify-content: flex-start; width: 100% }\n",
       "    .wandb-col { display: flex; flex-direction: column; flex-basis: 100%; flex: 1; padding: 10px; }\n",
       "    </style>\n",
       "<div class=\"wandb-row\"><div class=\"wandb-col\"><h3>Run history:</h3><br/><table class=\"wandb\"><tr><td>accuracy1</td><td>▃█▅▅▆▅▅▃▅▅▅▅▁▁▁▁▁▁▃▅▁▃▁▃▁▅▅▁▁▁▁▃▃▁▁▁▁▃▁▃</td></tr><tr><td>accuracy10</td><td>█▇▆█▇█▅▇▇▇▇▇▃▁▂▁▁▂▁▅▂▄▁▅▄▆▆▃▃▂▂▃▅▂▃▂▅▄▆▄</td></tr><tr><td>epoch</td><td>▁▁▁▁▂▂▂▂▂▃▃▃▃▃▃▄▄▄▄▄▅▅▅▅▅▅▆▆▆▆▆▇▇▇▇▇▇███</td></tr><tr><td>f1_score</td><td>▁▁▁▁▁▁▁▁▁▁▁▁▁▁▁▁▁▁▁▁▁▁▁▁▁▁▁▁▁▁▁▁▁▁▁▁▁▁▁▁</td></tr><tr><td>loss</td><td>▃▃▁▁▃▃▃▃▆███████████████████████████████</td></tr><tr><td>precision</td><td>▁▁▁▁▁▁▁▁▁▁▁▁▁▁▁▁▁▁▁▁▁▁▁▁▁▁▁▁▁▁▁▁▁▁▁▁▁▁▁▁</td></tr><tr><td>recall</td><td>▁▁▁▁▁▁▁▁▁▁▁▁▁▁▁▁▁▁▁▁▁▁▁▁▁▁▁▁▁▁▁▁▁▁▁▁▁▁▁▁</td></tr></table><br/></div><div class=\"wandb-col\"><h3>Run summary:</h3><br/><table class=\"wandb\"><tr><td>accuracy1</td><td>0.0107</td></tr><tr><td>accuracy10</td><td>0.00117</td></tr><tr><td>epoch</td><td>99</td></tr><tr><td>f1_score</td><td>0.0</td></tr><tr><td>loss</td><td>8.71342</td></tr><tr><td>precision</td><td>0.0</td></tr><tr><td>recall</td><td>0.0</td></tr></table><br/></div></div>"
      ],
      "text/plain": [
       "<IPython.core.display.HTML object>"
      ]
     },
     "metadata": {},
     "output_type": "display_data"
    },
    {
     "data": {
      "text/html": [
       " View run <strong style=\"color:#cdcd00\">super-sweep-14</strong> at: <a href='https://wandb.ai/tldbs5026/uncategorized/runs/tuo212ef' target=\"_blank\">https://wandb.ai/tldbs5026/uncategorized/runs/tuo212ef</a><br/>Synced 5 W&B file(s), 0 media file(s), 0 artifact file(s) and 0 other file(s)"
      ],
      "text/plain": [
       "<IPython.core.display.HTML object>"
      ]
     },
     "metadata": {},
     "output_type": "display_data"
    },
    {
     "data": {
      "text/html": [
       "Find logs at: <code>./wandb/run-20240313_184306-tuo212ef/logs</code>"
      ],
      "text/plain": [
       "<IPython.core.display.HTML object>"
      ]
     },
     "metadata": {},
     "output_type": "display_data"
    },
    {
     "name": "stderr",
     "output_type": "stream",
     "text": [
      "\u001b[34m\u001b[1mwandb\u001b[0m: Sweep Agent: Waiting for job.\n",
      "\u001b[34m\u001b[1mwandb\u001b[0m: Job received.\n",
      "\u001b[34m\u001b[1mwandb\u001b[0m: Agent Starting Run: kde05zmv with config:\n",
      "\u001b[34m\u001b[1mwandb\u001b[0m: \tbatch_size: 256\n",
      "\u001b[34m\u001b[1mwandb\u001b[0m: \tdropout: 0.1\n",
      "\u001b[34m\u001b[1mwandb\u001b[0m: \tembed_dim: 256\n",
      "\u001b[34m\u001b[1mwandb\u001b[0m: \tepochs: 100\n",
      "\u001b[34m\u001b[1mwandb\u001b[0m: \tlr: 0.0001\n",
      "\u001b[34m\u001b[1mwandb\u001b[0m: \tmlp_dims: [256, 256, 128, 128, 64, 64, 32, 32, 16, 16]\n",
      "\u001b[34m\u001b[1mwandb\u001b[0m: \tweight_decay: 1e-05\n",
      "\u001b[34m\u001b[1mwandb\u001b[0m: \u001b[33mWARNING\u001b[0m Ignored wandb.init() arg project when running a sweep.\n"
     ]
    },
    {
     "data": {
      "text/html": [
       "wandb version 0.16.4 is available!  To upgrade, please run:\n",
       " $ pip install wandb --upgrade"
      ],
      "text/plain": [
       "<IPython.core.display.HTML object>"
      ]
     },
     "metadata": {},
     "output_type": "display_data"
    },
    {
     "data": {
      "text/html": [
       "Tracking run with wandb version 0.16.3"
      ],
      "text/plain": [
       "<IPython.core.display.HTML object>"
      ]
     },
     "metadata": {},
     "output_type": "display_data"
    },
    {
     "data": {
      "text/html": [
       "Run data is saved locally in <code>/home/siyun/ephemeral/WDN/wandb/run-20240313_184657-kde05zmv</code>"
      ],
      "text/plain": [
       "<IPython.core.display.HTML object>"
      ]
     },
     "metadata": {},
     "output_type": "display_data"
    },
    {
     "data": {
      "text/html": [
       "Syncing run <strong><a href='https://wandb.ai/tldbs5026/uncategorized/runs/kde05zmv' target=\"_blank\">devout-sweep-15</a></strong> to <a href='https://wandb.ai/tldbs5026/uncategorized' target=\"_blank\">Weights & Biases</a> (<a href='https://wandb.me/run' target=\"_blank\">docs</a>)<br/>Sweep page: <a href='https://wandb.ai/tldbs5026/uncategorized/sweeps/vcevyz8u' target=\"_blank\">https://wandb.ai/tldbs5026/uncategorized/sweeps/vcevyz8u</a>"
      ],
      "text/plain": [
       "<IPython.core.display.HTML object>"
      ]
     },
     "metadata": {},
     "output_type": "display_data"
    },
    {
     "data": {
      "text/html": [
       " View project at <a href='https://wandb.ai/tldbs5026/uncategorized' target=\"_blank\">https://wandb.ai/tldbs5026/uncategorized</a>"
      ],
      "text/plain": [
       "<IPython.core.display.HTML object>"
      ]
     },
     "metadata": {},
     "output_type": "display_data"
    },
    {
     "data": {
      "text/html": [
       " View sweep at <a href='https://wandb.ai/tldbs5026/uncategorized/sweeps/vcevyz8u' target=\"_blank\">https://wandb.ai/tldbs5026/uncategorized/sweeps/vcevyz8u</a>"
      ],
      "text/plain": [
       "<IPython.core.display.HTML object>"
      ]
     },
     "metadata": {},
     "output_type": "display_data"
    },
    {
     "data": {
      "text/html": [
       " View run at <a href='https://wandb.ai/tldbs5026/uncategorized/runs/kde05zmv' target=\"_blank\">https://wandb.ai/tldbs5026/uncategorized/runs/kde05zmv</a>"
      ],
      "text/plain": [
       "<IPython.core.display.HTML object>"
      ]
     },
     "metadata": {},
     "output_type": "display_data"
    },
    {
     "data": {
      "text/html": [
       "<style>\n",
       "    table.wandb td:nth-child(1) { padding: 0 10px; text-align: left ; width: auto;} td:nth-child(2) {text-align: left ; width: 100%}\n",
       "    .wandb-row { display: flex; flex-direction: row; flex-wrap: wrap; justify-content: flex-start; width: 100% }\n",
       "    .wandb-col { display: flex; flex-direction: column; flex-basis: 100%; flex: 1; padding: 10px; }\n",
       "    </style>\n",
       "<div class=\"wandb-row\"><div class=\"wandb-col\"><h3>Run history:</h3><br/><table class=\"wandb\"><tr><td>accuracy1</td><td>▂▄▂▄▄█▅▅▂▄▇▇▄▅▅▄▄▅▁▂▁▂▅▂▅▂▂▇▄▄▅▄▇▅▅▅▅▁▇▄</td></tr><tr><td>accuracy10</td><td>▁▁▃▁▂▂▂▃▄▄▄▄▂▆▅▇███▇█▇█▇▇▇▇█▇▇█▇████▇▇▇▇</td></tr><tr><td>epoch</td><td>▁▁▁▁▂▂▂▂▂▃▃▃▃▃▃▄▄▄▄▄▅▅▅▅▅▅▆▆▆▆▆▇▇▇▇▇▇███</td></tr><tr><td>f1_score</td><td>▁▁▁▁▁▁▁▁▁▁▁▁▁▁▁▁▁▁▁▁▁▁▁▁▁▁▁▁▁▁▁▁▁▁▁▁▁▁▁▁</td></tr><tr><td>loss</td><td>▅▅▄▄▄▄▄▄▄▅▅▇▄▁████████▇██▇███████▅██████</td></tr><tr><td>precision</td><td>▁▁▁▁▁▁▁▁▁▁▁▁▁▁▁▁▁▁▁▁▁▁▁▁▁▁▁▁▁▁▁▁▁▁▁▁▁▁▁▁</td></tr><tr><td>recall</td><td>▁▁▁▁▁▁▁▁▁▁▁▁▁▁▁▁▁▁▁▁▁▁▁▁▁▁▁▁▁▁▁▁▁▁▁▁▁▁▁▁</td></tr></table><br/></div><div class=\"wandb-col\"><h3>Run summary:</h3><br/><table class=\"wandb\"><tr><td>accuracy1</td><td>0.0214</td></tr><tr><td>accuracy10</td><td>0.00787</td></tr><tr><td>epoch</td><td>99</td></tr><tr><td>f1_score</td><td>0.0</td></tr><tr><td>loss</td><td>8.71342</td></tr><tr><td>precision</td><td>0.0</td></tr><tr><td>recall</td><td>0.0</td></tr></table><br/></div></div>"
      ],
      "text/plain": [
       "<IPython.core.display.HTML object>"
      ]
     },
     "metadata": {},
     "output_type": "display_data"
    },
    {
     "data": {
      "text/html": [
       " View run <strong style=\"color:#cdcd00\">devout-sweep-15</strong> at: <a href='https://wandb.ai/tldbs5026/uncategorized/runs/kde05zmv' target=\"_blank\">https://wandb.ai/tldbs5026/uncategorized/runs/kde05zmv</a><br/>Synced 5 W&B file(s), 0 media file(s), 0 artifact file(s) and 0 other file(s)"
      ],
      "text/plain": [
       "<IPython.core.display.HTML object>"
      ]
     },
     "metadata": {},
     "output_type": "display_data"
    },
    {
     "data": {
      "text/html": [
       "Find logs at: <code>./wandb/run-20240313_184657-kde05zmv/logs</code>"
      ],
      "text/plain": [
       "<IPython.core.display.HTML object>"
      ]
     },
     "metadata": {},
     "output_type": "display_data"
    },
    {
     "name": "stderr",
     "output_type": "stream",
     "text": [
      "\u001b[34m\u001b[1mwandb\u001b[0m: Agent Starting Run: db6h8u8z with config:\n",
      "\u001b[34m\u001b[1mwandb\u001b[0m: \tbatch_size: 256\n",
      "\u001b[34m\u001b[1mwandb\u001b[0m: \tdropout: 0.1\n",
      "\u001b[34m\u001b[1mwandb\u001b[0m: \tembed_dim: 256\n",
      "\u001b[34m\u001b[1mwandb\u001b[0m: \tepochs: 100\n",
      "\u001b[34m\u001b[1mwandb\u001b[0m: \tlr: 0.0001\n",
      "\u001b[34m\u001b[1mwandb\u001b[0m: \tmlp_dims: [256, 256, 128, 128, 64, 64, 32, 32, 16, 16]\n",
      "\u001b[34m\u001b[1mwandb\u001b[0m: \tweight_decay: 0.001\n",
      "\u001b[34m\u001b[1mwandb\u001b[0m: \u001b[33mWARNING\u001b[0m Ignored wandb.init() arg project when running a sweep.\n"
     ]
    },
    {
     "data": {
      "text/html": [
       "wandb version 0.16.4 is available!  To upgrade, please run:\n",
       " $ pip install wandb --upgrade"
      ],
      "text/plain": [
       "<IPython.core.display.HTML object>"
      ]
     },
     "metadata": {},
     "output_type": "display_data"
    },
    {
     "data": {
      "text/html": [
       "Tracking run with wandb version 0.16.3"
      ],
      "text/plain": [
       "<IPython.core.display.HTML object>"
      ]
     },
     "metadata": {},
     "output_type": "display_data"
    },
    {
     "data": {
      "text/html": [
       "Run data is saved locally in <code>/home/siyun/ephemeral/WDN/wandb/run-20240313_185116-db6h8u8z</code>"
      ],
      "text/plain": [
       "<IPython.core.display.HTML object>"
      ]
     },
     "metadata": {},
     "output_type": "display_data"
    },
    {
     "data": {
      "text/html": [
       "Syncing run <strong><a href='https://wandb.ai/tldbs5026/uncategorized/runs/db6h8u8z' target=\"_blank\">valiant-sweep-16</a></strong> to <a href='https://wandb.ai/tldbs5026/uncategorized' target=\"_blank\">Weights & Biases</a> (<a href='https://wandb.me/run' target=\"_blank\">docs</a>)<br/>Sweep page: <a href='https://wandb.ai/tldbs5026/uncategorized/sweeps/vcevyz8u' target=\"_blank\">https://wandb.ai/tldbs5026/uncategorized/sweeps/vcevyz8u</a>"
      ],
      "text/plain": [
       "<IPython.core.display.HTML object>"
      ]
     },
     "metadata": {},
     "output_type": "display_data"
    },
    {
     "data": {
      "text/html": [
       " View project at <a href='https://wandb.ai/tldbs5026/uncategorized' target=\"_blank\">https://wandb.ai/tldbs5026/uncategorized</a>"
      ],
      "text/plain": [
       "<IPython.core.display.HTML object>"
      ]
     },
     "metadata": {},
     "output_type": "display_data"
    },
    {
     "data": {
      "text/html": [
       " View sweep at <a href='https://wandb.ai/tldbs5026/uncategorized/sweeps/vcevyz8u' target=\"_blank\">https://wandb.ai/tldbs5026/uncategorized/sweeps/vcevyz8u</a>"
      ],
      "text/plain": [
       "<IPython.core.display.HTML object>"
      ]
     },
     "metadata": {},
     "output_type": "display_data"
    },
    {
     "data": {
      "text/html": [
       " View run at <a href='https://wandb.ai/tldbs5026/uncategorized/runs/db6h8u8z' target=\"_blank\">https://wandb.ai/tldbs5026/uncategorized/runs/db6h8u8z</a>"
      ],
      "text/plain": [
       "<IPython.core.display.HTML object>"
      ]
     },
     "metadata": {},
     "output_type": "display_data"
    },
    {
     "data": {
      "text/html": [
       "<style>\n",
       "    table.wandb td:nth-child(1) { padding: 0 10px; text-align: left ; width: auto;} td:nth-child(2) {text-align: left ; width: 100%}\n",
       "    .wandb-row { display: flex; flex-direction: row; flex-wrap: wrap; justify-content: flex-start; width: 100% }\n",
       "    .wandb-col { display: flex; flex-direction: column; flex-basis: 100%; flex: 1; padding: 10px; }\n",
       "    </style>\n",
       "<div class=\"wandb-row\"><div class=\"wandb-col\"><h3>Run history:</h3><br/><table class=\"wandb\"><tr><td>accuracy1</td><td>▄▅█▅▅▅▅▂▂▂▂▂▁▄▄▁▂▁▂▂▁▄▁▂▁▂▁▁▂▁▁▂▁▁▁▁▁▁▁▁</td></tr><tr><td>accuracy10</td><td>█▆▇▇▆▆▄▄▄▄▅▅▅▅▅▁▂▁▂▃▁▃▂▁▂▂▂▂▄▄▃▃▂▃▂▂▂▁▂▂</td></tr><tr><td>epoch</td><td>▁▁▁▁▂▂▂▂▂▃▃▃▃▃▃▄▄▄▄▄▅▅▅▅▅▅▆▆▆▆▆▇▇▇▇▇▇███</td></tr><tr><td>f1_score</td><td>▁▁▁▁▁▁▁▁▁▁▁▁▁▁▁▁▁▁▁▁▁▁▁▁▁▁▁▁▁▁▁▁▁▁▁▁▁▁▁▁</td></tr><tr><td>loss</td><td>▃▃▃▃▁▁▁▁▃▁▁▃████████████████████████████</td></tr><tr><td>precision</td><td>▁▁▁▁▁▁▁▁▁▁▁▁▁▁▁▁▁▁▁▁▁▁▁▁▁▁▁▁▁▁▁▁▁▁▁▁▁▁▁▁</td></tr><tr><td>recall</td><td>▁▁▁▁▁▁▁▁▁▁▁▁▁▁▁▁▁▁▁▁▁▁▁▁▁▁▁▁▁▁▁▁▁▁▁▁▁▁▁▁</td></tr></table><br/></div><div class=\"wandb-col\"><h3>Run summary:</h3><br/><table class=\"wandb\"><tr><td>accuracy1</td><td>0.0</td></tr><tr><td>accuracy10</td><td>0.00067</td></tr><tr><td>epoch</td><td>99</td></tr><tr><td>f1_score</td><td>0.0</td></tr><tr><td>loss</td><td>8.71342</td></tr><tr><td>precision</td><td>0.0</td></tr><tr><td>recall</td><td>0.0</td></tr></table><br/></div></div>"
      ],
      "text/plain": [
       "<IPython.core.display.HTML object>"
      ]
     },
     "metadata": {},
     "output_type": "display_data"
    },
    {
     "data": {
      "text/html": [
       " View run <strong style=\"color:#cdcd00\">valiant-sweep-16</strong> at: <a href='https://wandb.ai/tldbs5026/uncategorized/runs/db6h8u8z' target=\"_blank\">https://wandb.ai/tldbs5026/uncategorized/runs/db6h8u8z</a><br/>Synced 5 W&B file(s), 0 media file(s), 0 artifact file(s) and 0 other file(s)"
      ],
      "text/plain": [
       "<IPython.core.display.HTML object>"
      ]
     },
     "metadata": {},
     "output_type": "display_data"
    },
    {
     "data": {
      "text/html": [
       "Find logs at: <code>./wandb/run-20240313_185116-db6h8u8z/logs</code>"
      ],
      "text/plain": [
       "<IPython.core.display.HTML object>"
      ]
     },
     "metadata": {},
     "output_type": "display_data"
    },
    {
     "name": "stderr",
     "output_type": "stream",
     "text": [
      "\u001b[34m\u001b[1mwandb\u001b[0m: Agent Starting Run: ohzwrywu with config:\n",
      "\u001b[34m\u001b[1mwandb\u001b[0m: \tbatch_size: 256\n",
      "\u001b[34m\u001b[1mwandb\u001b[0m: \tdropout: 0.1\n",
      "\u001b[34m\u001b[1mwandb\u001b[0m: \tembed_dim: 256\n",
      "\u001b[34m\u001b[1mwandb\u001b[0m: \tepochs: 200\n",
      "\u001b[34m\u001b[1mwandb\u001b[0m: \tlr: 0.005\n",
      "\u001b[34m\u001b[1mwandb\u001b[0m: \tmlp_dims: [256, 128, 64, 64, 32, 32]\n",
      "\u001b[34m\u001b[1mwandb\u001b[0m: \tweight_decay: 1e-05\n",
      "\u001b[34m\u001b[1mwandb\u001b[0m: \u001b[33mWARNING\u001b[0m Ignored wandb.init() arg project when running a sweep.\n"
     ]
    },
    {
     "data": {
      "text/html": [
       "wandb version 0.16.4 is available!  To upgrade, please run:\n",
       " $ pip install wandb --upgrade"
      ],
      "text/plain": [
       "<IPython.core.display.HTML object>"
      ]
     },
     "metadata": {},
     "output_type": "display_data"
    },
    {
     "data": {
      "text/html": [
       "Tracking run with wandb version 0.16.3"
      ],
      "text/plain": [
       "<IPython.core.display.HTML object>"
      ]
     },
     "metadata": {},
     "output_type": "display_data"
    },
    {
     "data": {
      "text/html": [
       "Run data is saved locally in <code>/home/siyun/ephemeral/WDN/wandb/run-20240313_185534-ohzwrywu</code>"
      ],
      "text/plain": [
       "<IPython.core.display.HTML object>"
      ]
     },
     "metadata": {},
     "output_type": "display_data"
    },
    {
     "data": {
      "text/html": [
       "Syncing run <strong><a href='https://wandb.ai/tldbs5026/uncategorized/runs/ohzwrywu' target=\"_blank\">peachy-sweep-17</a></strong> to <a href='https://wandb.ai/tldbs5026/uncategorized' target=\"_blank\">Weights & Biases</a> (<a href='https://wandb.me/run' target=\"_blank\">docs</a>)<br/>Sweep page: <a href='https://wandb.ai/tldbs5026/uncategorized/sweeps/vcevyz8u' target=\"_blank\">https://wandb.ai/tldbs5026/uncategorized/sweeps/vcevyz8u</a>"
      ],
      "text/plain": [
       "<IPython.core.display.HTML object>"
      ]
     },
     "metadata": {},
     "output_type": "display_data"
    },
    {
     "data": {
      "text/html": [
       " View project at <a href='https://wandb.ai/tldbs5026/uncategorized' target=\"_blank\">https://wandb.ai/tldbs5026/uncategorized</a>"
      ],
      "text/plain": [
       "<IPython.core.display.HTML object>"
      ]
     },
     "metadata": {},
     "output_type": "display_data"
    },
    {
     "data": {
      "text/html": [
       " View sweep at <a href='https://wandb.ai/tldbs5026/uncategorized/sweeps/vcevyz8u' target=\"_blank\">https://wandb.ai/tldbs5026/uncategorized/sweeps/vcevyz8u</a>"
      ],
      "text/plain": [
       "<IPython.core.display.HTML object>"
      ]
     },
     "metadata": {},
     "output_type": "display_data"
    },
    {
     "data": {
      "text/html": [
       " View run at <a href='https://wandb.ai/tldbs5026/uncategorized/runs/ohzwrywu' target=\"_blank\">https://wandb.ai/tldbs5026/uncategorized/runs/ohzwrywu</a>"
      ],
      "text/plain": [
       "<IPython.core.display.HTML object>"
      ]
     },
     "metadata": {},
     "output_type": "display_data"
    },
    {
     "data": {
      "text/html": [
       "<style>\n",
       "    table.wandb td:nth-child(1) { padding: 0 10px; text-align: left ; width: auto;} td:nth-child(2) {text-align: left ; width: 100%}\n",
       "    .wandb-row { display: flex; flex-direction: row; flex-wrap: wrap; justify-content: flex-start; width: 100% }\n",
       "    .wandb-col { display: flex; flex-direction: column; flex-basis: 100%; flex: 1; padding: 10px; }\n",
       "    </style>\n",
       "<div class=\"wandb-row\"><div class=\"wandb-col\"><h3>Run history:</h3><br/><table class=\"wandb\"><tr><td>accuracy1</td><td>▁▁▁▁▁▁█▁▁▁▃▁▁▁▁▁▁▃▁▁▁▁▁▁▁▁▁▁▃▁▁▁▁▁▁▁▁▁▁▁</td></tr><tr><td>accuracy10</td><td>▇▃▅▄▆▂▇▇▅▄▄▅▄▅▅██▆▃▃▃▁▄▁▂▄▃▅▆▂▃▆▃▄▂█▃▂▄▂</td></tr><tr><td>epoch</td><td>▁▁▁▁▂▂▂▂▂▃▃▃▃▃▃▄▄▄▄▄▅▅▅▅▅▅▆▆▆▆▆▇▇▇▇▇▇███</td></tr><tr><td>f1_score</td><td>▁▁▁▁▁▁▁▁▁▁▁▁▁▁▁▁▁▁▁▁▁▁▁▁▁▁▁▁▁▁▁▁▁▁▁▁▁▁▁▁</td></tr><tr><td>loss</td><td>▁▁▁▁▁▁▁▁▁▁▁▁▁▁▁▁▁▁▁▁▁▁▁▁▁▁▁▁▁▁▁▁▁▁▁▁▁▁▁▁</td></tr><tr><td>precision</td><td>▁▁▁▁▁▁▁▁▁▁▁▁▁▁▁▁▁▁▁▁▁▁▁▁▁▁▁▁▁▁▁▁▁▁▁▁▁▁▁▁</td></tr><tr><td>recall</td><td>▁▁▁▁▁▁▁▁▁▁▁▁▁▁▁▁▁▁▁▁▁▁▁▁▁▁▁▁▁▁▁▁▁▁▁▁▁▁▁▁</td></tr></table><br/></div><div class=\"wandb-col\"><h3>Run summary:</h3><br/><table class=\"wandb\"><tr><td>accuracy1</td><td>0.0</td></tr><tr><td>accuracy10</td><td>0.00017</td></tr><tr><td>epoch</td><td>199</td></tr><tr><td>f1_score</td><td>0.0</td></tr><tr><td>loss</td><td>8.71342</td></tr><tr><td>precision</td><td>0.0</td></tr><tr><td>recall</td><td>0.0</td></tr></table><br/></div></div>"
      ],
      "text/plain": [
       "<IPython.core.display.HTML object>"
      ]
     },
     "metadata": {},
     "output_type": "display_data"
    },
    {
     "data": {
      "text/html": [
       " View run <strong style=\"color:#cdcd00\">peachy-sweep-17</strong> at: <a href='https://wandb.ai/tldbs5026/uncategorized/runs/ohzwrywu' target=\"_blank\">https://wandb.ai/tldbs5026/uncategorized/runs/ohzwrywu</a><br/>Synced 5 W&B file(s), 0 media file(s), 0 artifact file(s) and 0 other file(s)"
      ],
      "text/plain": [
       "<IPython.core.display.HTML object>"
      ]
     },
     "metadata": {},
     "output_type": "display_data"
    },
    {
     "data": {
      "text/html": [
       "Find logs at: <code>./wandb/run-20240313_185534-ohzwrywu/logs</code>"
      ],
      "text/plain": [
       "<IPython.core.display.HTML object>"
      ]
     },
     "metadata": {},
     "output_type": "display_data"
    },
    {
     "name": "stderr",
     "output_type": "stream",
     "text": [
      "\u001b[34m\u001b[1mwandb\u001b[0m: Sweep Agent: Waiting for job.\n",
      "\u001b[34m\u001b[1mwandb\u001b[0m: Job received.\n",
      "\u001b[34m\u001b[1mwandb\u001b[0m: Agent Starting Run: dk16zv29 with config:\n",
      "\u001b[34m\u001b[1mwandb\u001b[0m: \tbatch_size: 256\n",
      "\u001b[34m\u001b[1mwandb\u001b[0m: \tdropout: 0.1\n",
      "\u001b[34m\u001b[1mwandb\u001b[0m: \tembed_dim: 256\n",
      "\u001b[34m\u001b[1mwandb\u001b[0m: \tepochs: 200\n",
      "\u001b[34m\u001b[1mwandb\u001b[0m: \tlr: 0.005\n",
      "\u001b[34m\u001b[1mwandb\u001b[0m: \tmlp_dims: [256, 128, 64, 64, 32, 32]\n",
      "\u001b[34m\u001b[1mwandb\u001b[0m: \tweight_decay: 0.001\n",
      "\u001b[34m\u001b[1mwandb\u001b[0m: \u001b[33mWARNING\u001b[0m Ignored wandb.init() arg project when running a sweep.\n"
     ]
    },
    {
     "data": {
      "text/html": [
       "wandb version 0.16.4 is available!  To upgrade, please run:\n",
       " $ pip install wandb --upgrade"
      ],
      "text/plain": [
       "<IPython.core.display.HTML object>"
      ]
     },
     "metadata": {},
     "output_type": "display_data"
    },
    {
     "data": {
      "text/html": [
       "Tracking run with wandb version 0.16.3"
      ],
      "text/plain": [
       "<IPython.core.display.HTML object>"
      ]
     },
     "metadata": {},
     "output_type": "display_data"
    },
    {
     "data": {
      "text/html": [
       "Run data is saved locally in <code>/home/siyun/ephemeral/WDN/wandb/run-20240313_190251-dk16zv29</code>"
      ],
      "text/plain": [
       "<IPython.core.display.HTML object>"
      ]
     },
     "metadata": {},
     "output_type": "display_data"
    },
    {
     "data": {
      "text/html": [
       "Syncing run <strong><a href='https://wandb.ai/tldbs5026/uncategorized/runs/dk16zv29' target=\"_blank\">ruby-sweep-18</a></strong> to <a href='https://wandb.ai/tldbs5026/uncategorized' target=\"_blank\">Weights & Biases</a> (<a href='https://wandb.me/run' target=\"_blank\">docs</a>)<br/>Sweep page: <a href='https://wandb.ai/tldbs5026/uncategorized/sweeps/vcevyz8u' target=\"_blank\">https://wandb.ai/tldbs5026/uncategorized/sweeps/vcevyz8u</a>"
      ],
      "text/plain": [
       "<IPython.core.display.HTML object>"
      ]
     },
     "metadata": {},
     "output_type": "display_data"
    },
    {
     "data": {
      "text/html": [
       " View project at <a href='https://wandb.ai/tldbs5026/uncategorized' target=\"_blank\">https://wandb.ai/tldbs5026/uncategorized</a>"
      ],
      "text/plain": [
       "<IPython.core.display.HTML object>"
      ]
     },
     "metadata": {},
     "output_type": "display_data"
    },
    {
     "data": {
      "text/html": [
       " View sweep at <a href='https://wandb.ai/tldbs5026/uncategorized/sweeps/vcevyz8u' target=\"_blank\">https://wandb.ai/tldbs5026/uncategorized/sweeps/vcevyz8u</a>"
      ],
      "text/plain": [
       "<IPython.core.display.HTML object>"
      ]
     },
     "metadata": {},
     "output_type": "display_data"
    },
    {
     "data": {
      "text/html": [
       " View run at <a href='https://wandb.ai/tldbs5026/uncategorized/runs/dk16zv29' target=\"_blank\">https://wandb.ai/tldbs5026/uncategorized/runs/dk16zv29</a>"
      ],
      "text/plain": [
       "<IPython.core.display.HTML object>"
      ]
     },
     "metadata": {},
     "output_type": "display_data"
    },
    {
     "data": {
      "text/html": [
       "<style>\n",
       "    table.wandb td:nth-child(1) { padding: 0 10px; text-align: left ; width: auto;} td:nth-child(2) {text-align: left ; width: 100%}\n",
       "    .wandb-row { display: flex; flex-direction: row; flex-wrap: wrap; justify-content: flex-start; width: 100% }\n",
       "    .wandb-col { display: flex; flex-direction: column; flex-basis: 100%; flex: 1; padding: 10px; }\n",
       "    </style>\n",
       "<div class=\"wandb-row\"><div class=\"wandb-col\"><h3>Run history:</h3><br/><table class=\"wandb\"><tr><td>accuracy1</td><td>▁▅▅▁▅▅▅▅▁▁▅▅█▁▁▁▁▁▁▅▁▁▅▁▅▁▁▁▁▅▅▅▁▁▅▅▅▁▅▅</td></tr><tr><td>accuracy10</td><td>▃▅▇▃▄▃▄▄▄▃▆▆▅▅▃▅█▃▃▂▃▄▂▂▅▅▃▂▃▃▅▃▃▂▄▄▃▁▃▅</td></tr><tr><td>epoch</td><td>▁▁▁▁▂▂▂▂▂▃▃▃▃▃▃▄▄▄▄▄▅▅▅▅▅▅▆▆▆▆▆▇▇▇▇▇▇███</td></tr><tr><td>f1_score</td><td>▁▁▁▁▁▁▁▁▁▁▁▁▁▁▁▁▁▁▁▁▁▁▁▁▁▁▁▁▁▁▁▁▁▁▁▁▁▁▁▁</td></tr><tr><td>loss</td><td>▁▁▁▁▁▁▁▁▁▁▁▁▁▁▁▁▁▁▁▁▁▁▁▁▁▁▁▁▁▁▁▁▁▁▁▁▁▁▁▁</td></tr><tr><td>precision</td><td>▁▁▁▁▁▁▁▁▁▁▁▁▁▁▁▁▁▁▁▁▁▁▁▁▁▁▁▁▁▁▁▁▁▁▁▁▁▁▁▁</td></tr><tr><td>recall</td><td>▁▁▁▁▁▁▁▁▁▁▁▁▁▁▁▁▁▁▁▁▁▁▁▁▁▁▁▁▁▁▁▁▁▁▁▁▁▁▁▁</td></tr></table><br/></div><div class=\"wandb-col\"><h3>Run summary:</h3><br/><table class=\"wandb\"><tr><td>accuracy1</td><td>0.0107</td></tr><tr><td>accuracy10</td><td>0.00134</td></tr><tr><td>epoch</td><td>199</td></tr><tr><td>f1_score</td><td>0.0</td></tr><tr><td>loss</td><td>8.71342</td></tr><tr><td>precision</td><td>0.0</td></tr><tr><td>recall</td><td>0.0</td></tr></table><br/></div></div>"
      ],
      "text/plain": [
       "<IPython.core.display.HTML object>"
      ]
     },
     "metadata": {},
     "output_type": "display_data"
    },
    {
     "data": {
      "text/html": [
       " View run <strong style=\"color:#cdcd00\">ruby-sweep-18</strong> at: <a href='https://wandb.ai/tldbs5026/uncategorized/runs/dk16zv29' target=\"_blank\">https://wandb.ai/tldbs5026/uncategorized/runs/dk16zv29</a><br/>Synced 5 W&B file(s), 0 media file(s), 0 artifact file(s) and 0 other file(s)"
      ],
      "text/plain": [
       "<IPython.core.display.HTML object>"
      ]
     },
     "metadata": {},
     "output_type": "display_data"
    },
    {
     "data": {
      "text/html": [
       "Find logs at: <code>./wandb/run-20240313_190251-dk16zv29/logs</code>"
      ],
      "text/plain": [
       "<IPython.core.display.HTML object>"
      ]
     },
     "metadata": {},
     "output_type": "display_data"
    },
    {
     "name": "stderr",
     "output_type": "stream",
     "text": [
      "\u001b[34m\u001b[1mwandb\u001b[0m: Sweep Agent: Waiting for job.\n",
      "\u001b[34m\u001b[1mwandb\u001b[0m: Job received.\n",
      "\u001b[34m\u001b[1mwandb\u001b[0m: Agent Starting Run: m267eqk9 with config:\n",
      "\u001b[34m\u001b[1mwandb\u001b[0m: \tbatch_size: 256\n",
      "\u001b[34m\u001b[1mwandb\u001b[0m: \tdropout: 0.1\n",
      "\u001b[34m\u001b[1mwandb\u001b[0m: \tembed_dim: 256\n",
      "\u001b[34m\u001b[1mwandb\u001b[0m: \tepochs: 200\n",
      "\u001b[34m\u001b[1mwandb\u001b[0m: \tlr: 0.005\n",
      "\u001b[34m\u001b[1mwandb\u001b[0m: \tmlp_dims: [256, 256, 128, 128, 64, 64, 32, 32, 16, 16]\n",
      "\u001b[34m\u001b[1mwandb\u001b[0m: \tweight_decay: 1e-05\n",
      "\u001b[34m\u001b[1mwandb\u001b[0m: \u001b[33mWARNING\u001b[0m Ignored wandb.init() arg project when running a sweep.\n"
     ]
    },
    {
     "data": {
      "text/html": [
       "wandb version 0.16.4 is available!  To upgrade, please run:\n",
       " $ pip install wandb --upgrade"
      ],
      "text/plain": [
       "<IPython.core.display.HTML object>"
      ]
     },
     "metadata": {},
     "output_type": "display_data"
    },
    {
     "data": {
      "text/html": [
       "Tracking run with wandb version 0.16.3"
      ],
      "text/plain": [
       "<IPython.core.display.HTML object>"
      ]
     },
     "metadata": {},
     "output_type": "display_data"
    },
    {
     "data": {
      "text/html": [
       "Run data is saved locally in <code>/home/siyun/ephemeral/WDN/wandb/run-20240313_191008-m267eqk9</code>"
      ],
      "text/plain": [
       "<IPython.core.display.HTML object>"
      ]
     },
     "metadata": {},
     "output_type": "display_data"
    },
    {
     "data": {
      "text/html": [
       "Syncing run <strong><a href='https://wandb.ai/tldbs5026/uncategorized/runs/m267eqk9' target=\"_blank\">distinctive-sweep-19</a></strong> to <a href='https://wandb.ai/tldbs5026/uncategorized' target=\"_blank\">Weights & Biases</a> (<a href='https://wandb.me/run' target=\"_blank\">docs</a>)<br/>Sweep page: <a href='https://wandb.ai/tldbs5026/uncategorized/sweeps/vcevyz8u' target=\"_blank\">https://wandb.ai/tldbs5026/uncategorized/sweeps/vcevyz8u</a>"
      ],
      "text/plain": [
       "<IPython.core.display.HTML object>"
      ]
     },
     "metadata": {},
     "output_type": "display_data"
    },
    {
     "data": {
      "text/html": [
       " View project at <a href='https://wandb.ai/tldbs5026/uncategorized' target=\"_blank\">https://wandb.ai/tldbs5026/uncategorized</a>"
      ],
      "text/plain": [
       "<IPython.core.display.HTML object>"
      ]
     },
     "metadata": {},
     "output_type": "display_data"
    },
    {
     "data": {
      "text/html": [
       " View sweep at <a href='https://wandb.ai/tldbs5026/uncategorized/sweeps/vcevyz8u' target=\"_blank\">https://wandb.ai/tldbs5026/uncategorized/sweeps/vcevyz8u</a>"
      ],
      "text/plain": [
       "<IPython.core.display.HTML object>"
      ]
     },
     "metadata": {},
     "output_type": "display_data"
    },
    {
     "data": {
      "text/html": [
       " View run at <a href='https://wandb.ai/tldbs5026/uncategorized/runs/m267eqk9' target=\"_blank\">https://wandb.ai/tldbs5026/uncategorized/runs/m267eqk9</a>"
      ],
      "text/plain": [
       "<IPython.core.display.HTML object>"
      ]
     },
     "metadata": {},
     "output_type": "display_data"
    },
    {
     "data": {
      "text/html": [
       "<style>\n",
       "    table.wandb td:nth-child(1) { padding: 0 10px; text-align: left ; width: auto;} td:nth-child(2) {text-align: left ; width: 100%}\n",
       "    .wandb-row { display: flex; flex-direction: row; flex-wrap: wrap; justify-content: flex-start; width: 100% }\n",
       "    .wandb-col { display: flex; flex-direction: column; flex-basis: 100%; flex: 1; padding: 10px; }\n",
       "    </style>\n",
       "<div class=\"wandb-row\"><div class=\"wandb-col\"><h3>Run history:</h3><br/><table class=\"wandb\"><tr><td>accuracy1</td><td>▅██▁▅▁▁▁▁▅▁▅▁▁▅▁▅▁▁▁▁▁▁▁▁▅▁▁▁▅▁▁▁▅▁▅▅▁▁▁</td></tr><tr><td>accuracy10</td><td>█▅▆▅▅▄▃▁▃▃▆▃▃▃▃▄▄▃▂▂▁▂▃▂▄▅▄▅▇▃▄▄▄▃▂▅▆▄▄▅</td></tr><tr><td>epoch</td><td>▁▁▁▁▂▂▂▂▂▃▃▃▃▃▃▄▄▄▄▄▅▅▅▅▅▅▆▆▆▆▆▇▇▇▇▇▇███</td></tr><tr><td>f1_score</td><td>▁▁▁▁▁▁▁▁▁▁▁▁▁▁▁▁▁▁▁▁▁▁▁▁▁▁▁▁▁▁▁▁▁▁▁▁▁▁▁▁</td></tr><tr><td>loss</td><td>▁▁▁▁▁▁▁▁▁▁▁▁▁▁▁▁▁▁▁▁▁▁▁▁▁▁▁▁▁▁▁▁▁▁▁▁▁▁▁▁</td></tr><tr><td>precision</td><td>▁▁▁▁▁▁▁▁▁▁▁▁▁▁▁▁▁▁▁▁▁▁▁▁▁▁▁▁▁▁▁▁▁▁▁▁▁▁▁▁</td></tr><tr><td>recall</td><td>▁▁▁▁▁▁▁▁▁▁▁▁▁▁▁▁▁▁▁▁▁▁▁▁▁▁▁▁▁▁▁▁▁▁▁▁▁▁▁▁</td></tr></table><br/></div><div class=\"wandb-col\"><h3>Run summary:</h3><br/><table class=\"wandb\"><tr><td>accuracy1</td><td>0.0</td></tr><tr><td>accuracy10</td><td>0.00067</td></tr><tr><td>epoch</td><td>199</td></tr><tr><td>f1_score</td><td>0.0</td></tr><tr><td>loss</td><td>8.71342</td></tr><tr><td>precision</td><td>0.0</td></tr><tr><td>recall</td><td>0.0</td></tr></table><br/></div></div>"
      ],
      "text/plain": [
       "<IPython.core.display.HTML object>"
      ]
     },
     "metadata": {},
     "output_type": "display_data"
    },
    {
     "data": {
      "text/html": [
       " View run <strong style=\"color:#cdcd00\">distinctive-sweep-19</strong> at: <a href='https://wandb.ai/tldbs5026/uncategorized/runs/m267eqk9' target=\"_blank\">https://wandb.ai/tldbs5026/uncategorized/runs/m267eqk9</a><br/>Synced 5 W&B file(s), 0 media file(s), 0 artifact file(s) and 0 other file(s)"
      ],
      "text/plain": [
       "<IPython.core.display.HTML object>"
      ]
     },
     "metadata": {},
     "output_type": "display_data"
    },
    {
     "data": {
      "text/html": [
       "Find logs at: <code>./wandb/run-20240313_191008-m267eqk9/logs</code>"
      ],
      "text/plain": [
       "<IPython.core.display.HTML object>"
      ]
     },
     "metadata": {},
     "output_type": "display_data"
    },
    {
     "name": "stderr",
     "output_type": "stream",
     "text": [
      "\u001b[34m\u001b[1mwandb\u001b[0m: Agent Starting Run: ccksg7ol with config:\n",
      "\u001b[34m\u001b[1mwandb\u001b[0m: \tbatch_size: 256\n",
      "\u001b[34m\u001b[1mwandb\u001b[0m: \tdropout: 0.1\n",
      "\u001b[34m\u001b[1mwandb\u001b[0m: \tembed_dim: 256\n",
      "\u001b[34m\u001b[1mwandb\u001b[0m: \tepochs: 200\n",
      "\u001b[34m\u001b[1mwandb\u001b[0m: \tlr: 0.005\n",
      "\u001b[34m\u001b[1mwandb\u001b[0m: \tmlp_dims: [256, 256, 128, 128, 64, 64, 32, 32, 16, 16]\n",
      "\u001b[34m\u001b[1mwandb\u001b[0m: \tweight_decay: 0.001\n",
      "\u001b[34m\u001b[1mwandb\u001b[0m: \u001b[33mWARNING\u001b[0m Ignored wandb.init() arg project when running a sweep.\n"
     ]
    },
    {
     "data": {
      "text/html": [
       "wandb version 0.16.4 is available!  To upgrade, please run:\n",
       " $ pip install wandb --upgrade"
      ],
      "text/plain": [
       "<IPython.core.display.HTML object>"
      ]
     },
     "metadata": {},
     "output_type": "display_data"
    },
    {
     "data": {
      "text/html": [
       "Tracking run with wandb version 0.16.3"
      ],
      "text/plain": [
       "<IPython.core.display.HTML object>"
      ]
     },
     "metadata": {},
     "output_type": "display_data"
    },
    {
     "data": {
      "text/html": [
       "Run data is saved locally in <code>/home/siyun/ephemeral/WDN/wandb/run-20240313_191829-ccksg7ol</code>"
      ],
      "text/plain": [
       "<IPython.core.display.HTML object>"
      ]
     },
     "metadata": {},
     "output_type": "display_data"
    },
    {
     "data": {
      "text/html": [
       "Syncing run <strong><a href='https://wandb.ai/tldbs5026/uncategorized/runs/ccksg7ol' target=\"_blank\">leafy-sweep-20</a></strong> to <a href='https://wandb.ai/tldbs5026/uncategorized' target=\"_blank\">Weights & Biases</a> (<a href='https://wandb.me/run' target=\"_blank\">docs</a>)<br/>Sweep page: <a href='https://wandb.ai/tldbs5026/uncategorized/sweeps/vcevyz8u' target=\"_blank\">https://wandb.ai/tldbs5026/uncategorized/sweeps/vcevyz8u</a>"
      ],
      "text/plain": [
       "<IPython.core.display.HTML object>"
      ]
     },
     "metadata": {},
     "output_type": "display_data"
    },
    {
     "data": {
      "text/html": [
       " View project at <a href='https://wandb.ai/tldbs5026/uncategorized' target=\"_blank\">https://wandb.ai/tldbs5026/uncategorized</a>"
      ],
      "text/plain": [
       "<IPython.core.display.HTML object>"
      ]
     },
     "metadata": {},
     "output_type": "display_data"
    },
    {
     "data": {
      "text/html": [
       " View sweep at <a href='https://wandb.ai/tldbs5026/uncategorized/sweeps/vcevyz8u' target=\"_blank\">https://wandb.ai/tldbs5026/uncategorized/sweeps/vcevyz8u</a>"
      ],
      "text/plain": [
       "<IPython.core.display.HTML object>"
      ]
     },
     "metadata": {},
     "output_type": "display_data"
    },
    {
     "data": {
      "text/html": [
       " View run at <a href='https://wandb.ai/tldbs5026/uncategorized/runs/ccksg7ol' target=\"_blank\">https://wandb.ai/tldbs5026/uncategorized/runs/ccksg7ol</a>"
      ],
      "text/plain": [
       "<IPython.core.display.HTML object>"
      ]
     },
     "metadata": {},
     "output_type": "display_data"
    },
    {
     "data": {
      "text/html": [
       "<style>\n",
       "    table.wandb td:nth-child(1) { padding: 0 10px; text-align: left ; width: auto;} td:nth-child(2) {text-align: left ; width: 100%}\n",
       "    .wandb-row { display: flex; flex-direction: row; flex-wrap: wrap; justify-content: flex-start; width: 100% }\n",
       "    .wandb-col { display: flex; flex-direction: column; flex-basis: 100%; flex: 1; padding: 10px; }\n",
       "    </style>\n",
       "<div class=\"wandb-row\"><div class=\"wandb-col\"><h3>Run history:</h3><br/><table class=\"wandb\"><tr><td>accuracy1</td><td>▁▁▅▁▅█▅▅█▅▁▅▁▅▅▁▁▅▅▅▅▁▁▁▁▁▁▁▁█▁█▁▁▅█▅▁▁▁</td></tr><tr><td>accuracy10</td><td>▄▄▂▂▅▅▁▄▃█▂▂▄▃▄▄▃▂▃▃▇▂▄▄▄▃▆▅▂▄▂▄▂▄▅▂▂▇▅▇</td></tr><tr><td>epoch</td><td>▁▁▁▁▂▂▂▂▂▃▃▃▃▃▃▄▄▄▄▄▅▅▅▅▅▅▆▆▆▆▆▇▇▇▇▇▇███</td></tr><tr><td>f1_score</td><td>▁▁▁▁▁▁▁▁▁▁▁▁▁▁▁▁▁▁▁▁▁▁▁▁▁▁▁▁▁▁▁▁▁▁▁▁▁▁▁▁</td></tr><tr><td>loss</td><td>▁▁▁▁▁▁▁▁▁▁▁▁▁▁▁▁▁▁▁▁▁▁▁▁▁▁▁▁▁▁▁▁▁▁▁▁▁▁▁▁</td></tr><tr><td>precision</td><td>▁▁▁▁▁▁▁▁▁▁▁▁▁▁▁▁▁▁▁▁▁▁▁▁▁▁▁▁▁▁▁▁▁▁▁▁▁▁▁▁</td></tr><tr><td>recall</td><td>▁▁▁▁▁▁▁▁▁▁▁▁▁▁▁▁▁▁▁▁▁▁▁▁▁▁▁▁▁▁▁▁▁▁▁▁▁▁▁▁</td></tr></table><br/></div><div class=\"wandb-col\"><h3>Run summary:</h3><br/><table class=\"wandb\"><tr><td>accuracy1</td><td>0.0</td></tr><tr><td>accuracy10</td><td>0.00167</td></tr><tr><td>epoch</td><td>199</td></tr><tr><td>f1_score</td><td>0.0</td></tr><tr><td>loss</td><td>8.71342</td></tr><tr><td>precision</td><td>0.0</td></tr><tr><td>recall</td><td>0.0</td></tr></table><br/></div></div>"
      ],
      "text/plain": [
       "<IPython.core.display.HTML object>"
      ]
     },
     "metadata": {},
     "output_type": "display_data"
    },
    {
     "data": {
      "text/html": [
       " View run <strong style=\"color:#cdcd00\">leafy-sweep-20</strong> at: <a href='https://wandb.ai/tldbs5026/uncategorized/runs/ccksg7ol' target=\"_blank\">https://wandb.ai/tldbs5026/uncategorized/runs/ccksg7ol</a><br/>Synced 5 W&B file(s), 0 media file(s), 0 artifact file(s) and 0 other file(s)"
      ],
      "text/plain": [
       "<IPython.core.display.HTML object>"
      ]
     },
     "metadata": {},
     "output_type": "display_data"
    },
    {
     "data": {
      "text/html": [
       "Find logs at: <code>./wandb/run-20240313_191829-ccksg7ol/logs</code>"
      ],
      "text/plain": [
       "<IPython.core.display.HTML object>"
      ]
     },
     "metadata": {},
     "output_type": "display_data"
    },
    {
     "name": "stderr",
     "output_type": "stream",
     "text": [
      "\u001b[34m\u001b[1mwandb\u001b[0m: Agent Starting Run: i36wifd7 with config:\n",
      "\u001b[34m\u001b[1mwandb\u001b[0m: \tbatch_size: 256\n",
      "\u001b[34m\u001b[1mwandb\u001b[0m: \tdropout: 0.1\n",
      "\u001b[34m\u001b[1mwandb\u001b[0m: \tembed_dim: 256\n",
      "\u001b[34m\u001b[1mwandb\u001b[0m: \tepochs: 200\n",
      "\u001b[34m\u001b[1mwandb\u001b[0m: \tlr: 0.001\n",
      "\u001b[34m\u001b[1mwandb\u001b[0m: \tmlp_dims: [256, 128, 64, 64, 32, 32]\n",
      "\u001b[34m\u001b[1mwandb\u001b[0m: \tweight_decay: 1e-05\n",
      "\u001b[34m\u001b[1mwandb\u001b[0m: \u001b[33mWARNING\u001b[0m Ignored wandb.init() arg project when running a sweep.\n"
     ]
    },
    {
     "data": {
      "text/html": [
       "wandb version 0.16.4 is available!  To upgrade, please run:\n",
       " $ pip install wandb --upgrade"
      ],
      "text/plain": [
       "<IPython.core.display.HTML object>"
      ]
     },
     "metadata": {},
     "output_type": "display_data"
    },
    {
     "data": {
      "text/html": [
       "Tracking run with wandb version 0.16.3"
      ],
      "text/plain": [
       "<IPython.core.display.HTML object>"
      ]
     },
     "metadata": {},
     "output_type": "display_data"
    },
    {
     "data": {
      "text/html": [
       "Run data is saved locally in <code>/home/siyun/ephemeral/WDN/wandb/run-20240313_192649-i36wifd7</code>"
      ],
      "text/plain": [
       "<IPython.core.display.HTML object>"
      ]
     },
     "metadata": {},
     "output_type": "display_data"
    },
    {
     "data": {
      "text/html": [
       "Syncing run <strong><a href='https://wandb.ai/tldbs5026/uncategorized/runs/i36wifd7' target=\"_blank\">flowing-sweep-21</a></strong> to <a href='https://wandb.ai/tldbs5026/uncategorized' target=\"_blank\">Weights & Biases</a> (<a href='https://wandb.me/run' target=\"_blank\">docs</a>)<br/>Sweep page: <a href='https://wandb.ai/tldbs5026/uncategorized/sweeps/vcevyz8u' target=\"_blank\">https://wandb.ai/tldbs5026/uncategorized/sweeps/vcevyz8u</a>"
      ],
      "text/plain": [
       "<IPython.core.display.HTML object>"
      ]
     },
     "metadata": {},
     "output_type": "display_data"
    },
    {
     "data": {
      "text/html": [
       " View project at <a href='https://wandb.ai/tldbs5026/uncategorized' target=\"_blank\">https://wandb.ai/tldbs5026/uncategorized</a>"
      ],
      "text/plain": [
       "<IPython.core.display.HTML object>"
      ]
     },
     "metadata": {},
     "output_type": "display_data"
    },
    {
     "data": {
      "text/html": [
       " View sweep at <a href='https://wandb.ai/tldbs5026/uncategorized/sweeps/vcevyz8u' target=\"_blank\">https://wandb.ai/tldbs5026/uncategorized/sweeps/vcevyz8u</a>"
      ],
      "text/plain": [
       "<IPython.core.display.HTML object>"
      ]
     },
     "metadata": {},
     "output_type": "display_data"
    },
    {
     "data": {
      "text/html": [
       " View run at <a href='https://wandb.ai/tldbs5026/uncategorized/runs/i36wifd7' target=\"_blank\">https://wandb.ai/tldbs5026/uncategorized/runs/i36wifd7</a>"
      ],
      "text/plain": [
       "<IPython.core.display.HTML object>"
      ]
     },
     "metadata": {},
     "output_type": "display_data"
    },
    {
     "data": {
      "text/html": [
       "<style>\n",
       "    table.wandb td:nth-child(1) { padding: 0 10px; text-align: left ; width: auto;} td:nth-child(2) {text-align: left ; width: 100%}\n",
       "    .wandb-row { display: flex; flex-direction: row; flex-wrap: wrap; justify-content: flex-start; width: 100% }\n",
       "    .wandb-col { display: flex; flex-direction: column; flex-basis: 100%; flex: 1; padding: 10px; }\n",
       "    </style>\n",
       "<div class=\"wandb-row\"><div class=\"wandb-col\"><h3>Run history:</h3><br/><table class=\"wandb\"><tr><td>accuracy1</td><td>▅▁▄▁▂▂▁▂▂▂▂▁▂▁▁▂▁▂█▂▄▁▅▂▁▁▁▁▁▁▁▄▂▁▁▂▁▁▁▂</td></tr><tr><td>accuracy10</td><td>█▇█▄▄▄▆▅▃▆▅▂▄▂▄▅▄▄█▄▆▅▄▅▂▃▄▆▃▆▁▆▄▄▃▅▄▅▃▅</td></tr><tr><td>epoch</td><td>▁▁▁▁▂▂▂▂▂▃▃▃▃▃▃▄▄▄▄▄▅▅▅▅▅▅▆▆▆▆▆▇▇▇▇▇▇███</td></tr><tr><td>f1_score</td><td>▁▁▁▁▁▁▁▁▁▁▁▁▁▁▁▁▁▁▁▁▁▁▁▁▁▁▁▁▁▁▁▁▁▁▁▁▁▁▁▁</td></tr><tr><td>loss</td><td>█▅▅▅▅▅▁▅▅▅▅▁▅▅▅▅█▅▅▅▅▁▅█▁▅▅▅▅▅▅█▅▅▅▅▅▁▅▅</td></tr><tr><td>precision</td><td>▁▁▁▁▁▁▁▁▁▁▁▁▁▁▁▁▁▁▁▁▁▁▁▁▁▁▁▁▁▁▁▁▁▁▁▁▁▁▁▁</td></tr><tr><td>recall</td><td>▁▁▁▁▁▁▁▁▁▁▁▁▁▁▁▁▁▁▁▁▁▁▁▁▁▁▁▁▁▁▁▁▁▁▁▁▁▁▁▁</td></tr></table><br/></div><div class=\"wandb-col\"><h3>Run summary:</h3><br/><table class=\"wandb\"><tr><td>accuracy1</td><td>0.0107</td></tr><tr><td>accuracy10</td><td>0.00134</td></tr><tr><td>epoch</td><td>199</td></tr><tr><td>f1_score</td><td>0.0</td></tr><tr><td>loss</td><td>8.71342</td></tr><tr><td>precision</td><td>0.0</td></tr><tr><td>recall</td><td>0.0</td></tr></table><br/></div></div>"
      ],
      "text/plain": [
       "<IPython.core.display.HTML object>"
      ]
     },
     "metadata": {},
     "output_type": "display_data"
    },
    {
     "data": {
      "text/html": [
       " View run <strong style=\"color:#cdcd00\">flowing-sweep-21</strong> at: <a href='https://wandb.ai/tldbs5026/uncategorized/runs/i36wifd7' target=\"_blank\">https://wandb.ai/tldbs5026/uncategorized/runs/i36wifd7</a><br/>Synced 5 W&B file(s), 0 media file(s), 0 artifact file(s) and 0 other file(s)"
      ],
      "text/plain": [
       "<IPython.core.display.HTML object>"
      ]
     },
     "metadata": {},
     "output_type": "display_data"
    },
    {
     "data": {
      "text/html": [
       "Find logs at: <code>./wandb/run-20240313_192649-i36wifd7/logs</code>"
      ],
      "text/plain": [
       "<IPython.core.display.HTML object>"
      ]
     },
     "metadata": {},
     "output_type": "display_data"
    },
    {
     "name": "stderr",
     "output_type": "stream",
     "text": [
      "\u001b[34m\u001b[1mwandb\u001b[0m: Agent Starting Run: fuls4w7r with config:\n",
      "\u001b[34m\u001b[1mwandb\u001b[0m: \tbatch_size: 256\n",
      "\u001b[34m\u001b[1mwandb\u001b[0m: \tdropout: 0.1\n",
      "\u001b[34m\u001b[1mwandb\u001b[0m: \tembed_dim: 256\n",
      "\u001b[34m\u001b[1mwandb\u001b[0m: \tepochs: 200\n",
      "\u001b[34m\u001b[1mwandb\u001b[0m: \tlr: 0.001\n",
      "\u001b[34m\u001b[1mwandb\u001b[0m: \tmlp_dims: [256, 128, 64, 64, 32, 32]\n",
      "\u001b[34m\u001b[1mwandb\u001b[0m: \tweight_decay: 0.001\n",
      "\u001b[34m\u001b[1mwandb\u001b[0m: \u001b[33mWARNING\u001b[0m Ignored wandb.init() arg project when running a sweep.\n"
     ]
    },
    {
     "data": {
      "text/html": [
       "wandb version 0.16.4 is available!  To upgrade, please run:\n",
       " $ pip install wandb --upgrade"
      ],
      "text/plain": [
       "<IPython.core.display.HTML object>"
      ]
     },
     "metadata": {},
     "output_type": "display_data"
    },
    {
     "data": {
      "text/html": [
       "Tracking run with wandb version 0.16.3"
      ],
      "text/plain": [
       "<IPython.core.display.HTML object>"
      ]
     },
     "metadata": {},
     "output_type": "display_data"
    },
    {
     "data": {
      "text/html": [
       "Run data is saved locally in <code>/home/siyun/ephemeral/WDN/wandb/run-20240313_193357-fuls4w7r</code>"
      ],
      "text/plain": [
       "<IPython.core.display.HTML object>"
      ]
     },
     "metadata": {},
     "output_type": "display_data"
    },
    {
     "data": {
      "text/html": [
       "Syncing run <strong><a href='https://wandb.ai/tldbs5026/uncategorized/runs/fuls4w7r' target=\"_blank\">fresh-sweep-22</a></strong> to <a href='https://wandb.ai/tldbs5026/uncategorized' target=\"_blank\">Weights & Biases</a> (<a href='https://wandb.me/run' target=\"_blank\">docs</a>)<br/>Sweep page: <a href='https://wandb.ai/tldbs5026/uncategorized/sweeps/vcevyz8u' target=\"_blank\">https://wandb.ai/tldbs5026/uncategorized/sweeps/vcevyz8u</a>"
      ],
      "text/plain": [
       "<IPython.core.display.HTML object>"
      ]
     },
     "metadata": {},
     "output_type": "display_data"
    },
    {
     "data": {
      "text/html": [
       " View project at <a href='https://wandb.ai/tldbs5026/uncategorized' target=\"_blank\">https://wandb.ai/tldbs5026/uncategorized</a>"
      ],
      "text/plain": [
       "<IPython.core.display.HTML object>"
      ]
     },
     "metadata": {},
     "output_type": "display_data"
    },
    {
     "data": {
      "text/html": [
       " View sweep at <a href='https://wandb.ai/tldbs5026/uncategorized/sweeps/vcevyz8u' target=\"_blank\">https://wandb.ai/tldbs5026/uncategorized/sweeps/vcevyz8u</a>"
      ],
      "text/plain": [
       "<IPython.core.display.HTML object>"
      ]
     },
     "metadata": {},
     "output_type": "display_data"
    },
    {
     "data": {
      "text/html": [
       " View run at <a href='https://wandb.ai/tldbs5026/uncategorized/runs/fuls4w7r' target=\"_blank\">https://wandb.ai/tldbs5026/uncategorized/runs/fuls4w7r</a>"
      ],
      "text/plain": [
       "<IPython.core.display.HTML object>"
      ]
     },
     "metadata": {},
     "output_type": "display_data"
    },
    {
     "data": {
      "text/html": [
       "<style>\n",
       "    table.wandb td:nth-child(1) { padding: 0 10px; text-align: left ; width: auto;} td:nth-child(2) {text-align: left ; width: 100%}\n",
       "    .wandb-row { display: flex; flex-direction: row; flex-wrap: wrap; justify-content: flex-start; width: 100% }\n",
       "    .wandb-col { display: flex; flex-direction: column; flex-basis: 100%; flex: 1; padding: 10px; }\n",
       "    </style>\n",
       "<div class=\"wandb-row\"><div class=\"wandb-col\"><h3>Run history:</h3><br/><table class=\"wandb\"><tr><td>accuracy1</td><td>▅▁▅▅▅▁█▁▁▁▁▁▁▅▅▅▁▁▁▁▁▅▁▅▅▅▅▅▅▅▁▅▁▁▅▁▅▁▁▁</td></tr><tr><td>accuracy10</td><td>█▂▃▇▂▁▂▂▁▃▁▂▃▂▃▅▅▃▄▂▂▂▃▅▄▄▄▂▂▄▁▃▃▄▄▁▄▂▁▂</td></tr><tr><td>epoch</td><td>▁▁▁▁▂▂▂▂▂▃▃▃▃▃▃▄▄▄▄▄▅▅▅▅▅▅▆▆▆▆▆▇▇▇▇▇▇███</td></tr><tr><td>f1_score</td><td>▁▁▁▁▁▁▁▁▁▁▁▁▁▁▁▁▁▁▁▁▁▁▁▁▁▁▁▁▁▁▁▁▁▁▁▁▁▁▁▁</td></tr><tr><td>loss</td><td>▁███████████████████████████████████████</td></tr><tr><td>precision</td><td>▁▁▁▁▁▁▁▁▁▁▁▁▁▁▁▁▁▁▁▁▁▁▁▁▁▁▁▁▁▁▁▁▁▁▁▁▁▁▁▁</td></tr><tr><td>recall</td><td>▁▁▁▁▁▁▁▁▁▁▁▁▁▁▁▁▁▁▁▁▁▁▁▁▁▁▁▁▁▁▁▁▁▁▁▁▁▁▁▁</td></tr></table><br/></div><div class=\"wandb-col\"><h3>Run summary:</h3><br/><table class=\"wandb\"><tr><td>accuracy1</td><td>0.0</td></tr><tr><td>accuracy10</td><td>0.0005</td></tr><tr><td>epoch</td><td>199</td></tr><tr><td>f1_score</td><td>0.0</td></tr><tr><td>loss</td><td>8.71342</td></tr><tr><td>precision</td><td>0.0</td></tr><tr><td>recall</td><td>0.0</td></tr></table><br/></div></div>"
      ],
      "text/plain": [
       "<IPython.core.display.HTML object>"
      ]
     },
     "metadata": {},
     "output_type": "display_data"
    },
    {
     "data": {
      "text/html": [
       " View run <strong style=\"color:#cdcd00\">fresh-sweep-22</strong> at: <a href='https://wandb.ai/tldbs5026/uncategorized/runs/fuls4w7r' target=\"_blank\">https://wandb.ai/tldbs5026/uncategorized/runs/fuls4w7r</a><br/>Synced 5 W&B file(s), 0 media file(s), 0 artifact file(s) and 0 other file(s)"
      ],
      "text/plain": [
       "<IPython.core.display.HTML object>"
      ]
     },
     "metadata": {},
     "output_type": "display_data"
    },
    {
     "data": {
      "text/html": [
       "Find logs at: <code>./wandb/run-20240313_193357-fuls4w7r/logs</code>"
      ],
      "text/plain": [
       "<IPython.core.display.HTML object>"
      ]
     },
     "metadata": {},
     "output_type": "display_data"
    },
    {
     "name": "stderr",
     "output_type": "stream",
     "text": [
      "\u001b[34m\u001b[1mwandb\u001b[0m: Agent Starting Run: vjqjb7os with config:\n",
      "\u001b[34m\u001b[1mwandb\u001b[0m: \tbatch_size: 256\n",
      "\u001b[34m\u001b[1mwandb\u001b[0m: \tdropout: 0.1\n",
      "\u001b[34m\u001b[1mwandb\u001b[0m: \tembed_dim: 256\n",
      "\u001b[34m\u001b[1mwandb\u001b[0m: \tepochs: 200\n",
      "\u001b[34m\u001b[1mwandb\u001b[0m: \tlr: 0.001\n",
      "\u001b[34m\u001b[1mwandb\u001b[0m: \tmlp_dims: [256, 256, 128, 128, 64, 64, 32, 32, 16, 16]\n",
      "\u001b[34m\u001b[1mwandb\u001b[0m: \tweight_decay: 1e-05\n",
      "\u001b[34m\u001b[1mwandb\u001b[0m: \u001b[33mWARNING\u001b[0m Ignored wandb.init() arg project when running a sweep.\n"
     ]
    },
    {
     "data": {
      "text/html": [
       "wandb version 0.16.4 is available!  To upgrade, please run:\n",
       " $ pip install wandb --upgrade"
      ],
      "text/plain": [
       "<IPython.core.display.HTML object>"
      ]
     },
     "metadata": {},
     "output_type": "display_data"
    },
    {
     "data": {
      "text/html": [
       "Tracking run with wandb version 0.16.3"
      ],
      "text/plain": [
       "<IPython.core.display.HTML object>"
      ]
     },
     "metadata": {},
     "output_type": "display_data"
    },
    {
     "data": {
      "text/html": [
       "Run data is saved locally in <code>/home/siyun/ephemeral/WDN/wandb/run-20240313_194100-vjqjb7os</code>"
      ],
      "text/plain": [
       "<IPython.core.display.HTML object>"
      ]
     },
     "metadata": {},
     "output_type": "display_data"
    },
    {
     "data": {
      "text/html": [
       "Syncing run <strong><a href='https://wandb.ai/tldbs5026/uncategorized/runs/vjqjb7os' target=\"_blank\">youthful-sweep-23</a></strong> to <a href='https://wandb.ai/tldbs5026/uncategorized' target=\"_blank\">Weights & Biases</a> (<a href='https://wandb.me/run' target=\"_blank\">docs</a>)<br/>Sweep page: <a href='https://wandb.ai/tldbs5026/uncategorized/sweeps/vcevyz8u' target=\"_blank\">https://wandb.ai/tldbs5026/uncategorized/sweeps/vcevyz8u</a>"
      ],
      "text/plain": [
       "<IPython.core.display.HTML object>"
      ]
     },
     "metadata": {},
     "output_type": "display_data"
    },
    {
     "data": {
      "text/html": [
       " View project at <a href='https://wandb.ai/tldbs5026/uncategorized' target=\"_blank\">https://wandb.ai/tldbs5026/uncategorized</a>"
      ],
      "text/plain": [
       "<IPython.core.display.HTML object>"
      ]
     },
     "metadata": {},
     "output_type": "display_data"
    },
    {
     "data": {
      "text/html": [
       " View sweep at <a href='https://wandb.ai/tldbs5026/uncategorized/sweeps/vcevyz8u' target=\"_blank\">https://wandb.ai/tldbs5026/uncategorized/sweeps/vcevyz8u</a>"
      ],
      "text/plain": [
       "<IPython.core.display.HTML object>"
      ]
     },
     "metadata": {},
     "output_type": "display_data"
    },
    {
     "data": {
      "text/html": [
       " View run at <a href='https://wandb.ai/tldbs5026/uncategorized/runs/vjqjb7os' target=\"_blank\">https://wandb.ai/tldbs5026/uncategorized/runs/vjqjb7os</a>"
      ],
      "text/plain": [
       "<IPython.core.display.HTML object>"
      ]
     },
     "metadata": {},
     "output_type": "display_data"
    },
    {
     "data": {
      "text/html": [
       "<style>\n",
       "    table.wandb td:nth-child(1) { padding: 0 10px; text-align: left ; width: auto;} td:nth-child(2) {text-align: left ; width: 100%}\n",
       "    .wandb-row { display: flex; flex-direction: row; flex-wrap: wrap; justify-content: flex-start; width: 100% }\n",
       "    .wandb-col { display: flex; flex-direction: column; flex-basis: 100%; flex: 1; padding: 10px; }\n",
       "    </style>\n",
       "<div class=\"wandb-row\"><div class=\"wandb-col\"><h3>Run history:</h3><br/><table class=\"wandb\"><tr><td>accuracy1</td><td>▃▁▁▃▁▁▁▆▁▃▆▆▃▁▃▁▃▃█▃▁▁▁▁▁▁▃▁▁▁▃▃▁▃▁▁▁▁▃▁</td></tr><tr><td>accuracy10</td><td>▆▄█▇▃▅▄▃▄▆▅▄▃▃▆▃▅▅▅▆▃▆▅▁▅▅▄▃▅▅▆▅▆▅▃▆▄▇▃▆</td></tr><tr><td>epoch</td><td>▁▁▁▁▂▂▂▂▂▃▃▃▃▃▃▄▄▄▄▄▅▅▅▅▅▅▆▆▆▆▆▇▇▇▇▇▇███</td></tr><tr><td>f1_score</td><td>▁▁▁▁▁▁▁▁▁▁▁▁▁▁▁▁▁▁▁▁▁▁▁▁▁▁▁▁▁▁▁▁▁▁▁▁▁▁▁▁</td></tr><tr><td>loss</td><td>▅▅▁▅▅▅▅▅▁▅█▅▅▁▅▅▅▅▅▁▅▅▅▁▅▅▅▅▅█▅▅▅▅▅█▅▅▅▅</td></tr><tr><td>precision</td><td>▁▁▁▁▁▁▁▁▁▁▁▁▁▁▁▁▁▁▁▁▁▁▁▁▁▁▁▁▁▁▁▁▁▁▁▁▁▁▁▁</td></tr><tr><td>recall</td><td>▁▁▁▁▁▁▁▁▁▁▁▁▁▁▁▁▁▁▁▁▁▁▁▁▁▁▁▁▁▁▁▁▁▁▁▁▁▁▁▁</td></tr></table><br/></div><div class=\"wandb-col\"><h3>Run summary:</h3><br/><table class=\"wandb\"><tr><td>accuracy1</td><td>0.0</td></tr><tr><td>accuracy10</td><td>0.00134</td></tr><tr><td>epoch</td><td>199</td></tr><tr><td>f1_score</td><td>0.0</td></tr><tr><td>loss</td><td>8.71342</td></tr><tr><td>precision</td><td>0.0</td></tr><tr><td>recall</td><td>0.0</td></tr></table><br/></div></div>"
      ],
      "text/plain": [
       "<IPython.core.display.HTML object>"
      ]
     },
     "metadata": {},
     "output_type": "display_data"
    },
    {
     "data": {
      "text/html": [
       " View run <strong style=\"color:#cdcd00\">youthful-sweep-23</strong> at: <a href='https://wandb.ai/tldbs5026/uncategorized/runs/vjqjb7os' target=\"_blank\">https://wandb.ai/tldbs5026/uncategorized/runs/vjqjb7os</a><br/>Synced 5 W&B file(s), 0 media file(s), 0 artifact file(s) and 0 other file(s)"
      ],
      "text/plain": [
       "<IPython.core.display.HTML object>"
      ]
     },
     "metadata": {},
     "output_type": "display_data"
    },
    {
     "data": {
      "text/html": [
       "Find logs at: <code>./wandb/run-20240313_194100-vjqjb7os/logs</code>"
      ],
      "text/plain": [
       "<IPython.core.display.HTML object>"
      ]
     },
     "metadata": {},
     "output_type": "display_data"
    },
    {
     "name": "stderr",
     "output_type": "stream",
     "text": [
      "\u001b[34m\u001b[1mwandb\u001b[0m: Agent Starting Run: a58p1912 with config:\n",
      "\u001b[34m\u001b[1mwandb\u001b[0m: \tbatch_size: 256\n",
      "\u001b[34m\u001b[1mwandb\u001b[0m: \tdropout: 0.1\n",
      "\u001b[34m\u001b[1mwandb\u001b[0m: \tembed_dim: 256\n",
      "\u001b[34m\u001b[1mwandb\u001b[0m: \tepochs: 200\n",
      "\u001b[34m\u001b[1mwandb\u001b[0m: \tlr: 0.001\n",
      "\u001b[34m\u001b[1mwandb\u001b[0m: \tmlp_dims: [256, 256, 128, 128, 64, 64, 32, 32, 16, 16]\n",
      "\u001b[34m\u001b[1mwandb\u001b[0m: \tweight_decay: 0.001\n",
      "\u001b[34m\u001b[1mwandb\u001b[0m: \u001b[33mWARNING\u001b[0m Ignored wandb.init() arg project when running a sweep.\n"
     ]
    },
    {
     "data": {
      "text/html": [
       "wandb version 0.16.4 is available!  To upgrade, please run:\n",
       " $ pip install wandb --upgrade"
      ],
      "text/plain": [
       "<IPython.core.display.HTML object>"
      ]
     },
     "metadata": {},
     "output_type": "display_data"
    },
    {
     "data": {
      "text/html": [
       "Tracking run with wandb version 0.16.3"
      ],
      "text/plain": [
       "<IPython.core.display.HTML object>"
      ]
     },
     "metadata": {},
     "output_type": "display_data"
    },
    {
     "data": {
      "text/html": [
       "Run data is saved locally in <code>/home/siyun/ephemeral/WDN/wandb/run-20240313_194921-a58p1912</code>"
      ],
      "text/plain": [
       "<IPython.core.display.HTML object>"
      ]
     },
     "metadata": {},
     "output_type": "display_data"
    },
    {
     "data": {
      "text/html": [
       "Syncing run <strong><a href='https://wandb.ai/tldbs5026/uncategorized/runs/a58p1912' target=\"_blank\">different-sweep-24</a></strong> to <a href='https://wandb.ai/tldbs5026/uncategorized' target=\"_blank\">Weights & Biases</a> (<a href='https://wandb.me/run' target=\"_blank\">docs</a>)<br/>Sweep page: <a href='https://wandb.ai/tldbs5026/uncategorized/sweeps/vcevyz8u' target=\"_blank\">https://wandb.ai/tldbs5026/uncategorized/sweeps/vcevyz8u</a>"
      ],
      "text/plain": [
       "<IPython.core.display.HTML object>"
      ]
     },
     "metadata": {},
     "output_type": "display_data"
    },
    {
     "data": {
      "text/html": [
       " View project at <a href='https://wandb.ai/tldbs5026/uncategorized' target=\"_blank\">https://wandb.ai/tldbs5026/uncategorized</a>"
      ],
      "text/plain": [
       "<IPython.core.display.HTML object>"
      ]
     },
     "metadata": {},
     "output_type": "display_data"
    },
    {
     "data": {
      "text/html": [
       " View sweep at <a href='https://wandb.ai/tldbs5026/uncategorized/sweeps/vcevyz8u' target=\"_blank\">https://wandb.ai/tldbs5026/uncategorized/sweeps/vcevyz8u</a>"
      ],
      "text/plain": [
       "<IPython.core.display.HTML object>"
      ]
     },
     "metadata": {},
     "output_type": "display_data"
    },
    {
     "data": {
      "text/html": [
       " View run at <a href='https://wandb.ai/tldbs5026/uncategorized/runs/a58p1912' target=\"_blank\">https://wandb.ai/tldbs5026/uncategorized/runs/a58p1912</a>"
      ],
      "text/plain": [
       "<IPython.core.display.HTML object>"
      ]
     },
     "metadata": {},
     "output_type": "display_data"
    },
    {
     "data": {
      "text/html": [
       "<style>\n",
       "    table.wandb td:nth-child(1) { padding: 0 10px; text-align: left ; width: auto;} td:nth-child(2) {text-align: left ; width: 100%}\n",
       "    .wandb-row { display: flex; flex-direction: row; flex-wrap: wrap; justify-content: flex-start; width: 100% }\n",
       "    .wandb-col { display: flex; flex-direction: column; flex-basis: 100%; flex: 1; padding: 10px; }\n",
       "    </style>\n",
       "<div class=\"wandb-row\"><div class=\"wandb-col\"><h3>Run history:</h3><br/><table class=\"wandb\"><tr><td>accuracy1</td><td>▁▅▁▁▁▁▁▁▁▁▅▁▁▁▅█▁▁█▅▁▁▁▅▁▅█▁▅▅▅▁▅▁▁▁▅▅▁▁</td></tr><tr><td>accuracy10</td><td>▆▅▄▆▅▅▅▂▂▁▂▃▅▂▃▃▂▃▂▅▂▄▂▅▄▆▅▅▆▆▃▂▂▁▂▃▆▅█▂</td></tr><tr><td>epoch</td><td>▁▁▁▁▂▂▂▂▂▃▃▃▃▃▃▄▄▄▄▄▅▅▅▅▅▅▆▆▆▆▆▇▇▇▇▇▇███</td></tr><tr><td>f1_score</td><td>▁▁▁▁▁▁▁▁▁▁▁▁▁▁▁▁▁▁▁▁▁▁▁▁▁▁▁▁▁▁▁▁▁▁▁▁▁▁▁▁</td></tr><tr><td>loss</td><td>▁███████████████████████████████████████</td></tr><tr><td>precision</td><td>▁▁▁▁▁▁▁▁▁▁▁▁▁▁▁▁▁▁▁▁▁▁▁▁▁▁▁▁▁▁▁▁▁▁▁▁▁▁▁▁</td></tr><tr><td>recall</td><td>▁▁▁▁▁▁▁▁▁▁▁▁▁▁▁▁▁▁▁▁▁▁▁▁▁▁▁▁▁▁▁▁▁▁▁▁▁▁▁▁</td></tr></table><br/></div><div class=\"wandb-col\"><h3>Run summary:</h3><br/><table class=\"wandb\"><tr><td>accuracy1</td><td>0.0</td></tr><tr><td>accuracy10</td><td>0.0005</td></tr><tr><td>epoch</td><td>199</td></tr><tr><td>f1_score</td><td>0.0</td></tr><tr><td>loss</td><td>8.71342</td></tr><tr><td>precision</td><td>0.0</td></tr><tr><td>recall</td><td>0.0</td></tr></table><br/></div></div>"
      ],
      "text/plain": [
       "<IPython.core.display.HTML object>"
      ]
     },
     "metadata": {},
     "output_type": "display_data"
    },
    {
     "data": {
      "text/html": [
       " View run <strong style=\"color:#cdcd00\">different-sweep-24</strong> at: <a href='https://wandb.ai/tldbs5026/uncategorized/runs/a58p1912' target=\"_blank\">https://wandb.ai/tldbs5026/uncategorized/runs/a58p1912</a><br/>Synced 5 W&B file(s), 0 media file(s), 0 artifact file(s) and 0 other file(s)"
      ],
      "text/plain": [
       "<IPython.core.display.HTML object>"
      ]
     },
     "metadata": {},
     "output_type": "display_data"
    },
    {
     "data": {
      "text/html": [
       "Find logs at: <code>./wandb/run-20240313_194921-a58p1912/logs</code>"
      ],
      "text/plain": [
       "<IPython.core.display.HTML object>"
      ]
     },
     "metadata": {},
     "output_type": "display_data"
    },
    {
     "name": "stderr",
     "output_type": "stream",
     "text": [
      "\u001b[34m\u001b[1mwandb\u001b[0m: Agent Starting Run: 9vfbv2ek with config:\n",
      "\u001b[34m\u001b[1mwandb\u001b[0m: \tbatch_size: 256\n",
      "\u001b[34m\u001b[1mwandb\u001b[0m: \tdropout: 0.1\n",
      "\u001b[34m\u001b[1mwandb\u001b[0m: \tembed_dim: 256\n",
      "\u001b[34m\u001b[1mwandb\u001b[0m: \tepochs: 200\n",
      "\u001b[34m\u001b[1mwandb\u001b[0m: \tlr: 0.0005\n",
      "\u001b[34m\u001b[1mwandb\u001b[0m: \tmlp_dims: [256, 128, 64, 64, 32, 32]\n",
      "\u001b[34m\u001b[1mwandb\u001b[0m: \tweight_decay: 1e-05\n",
      "\u001b[34m\u001b[1mwandb\u001b[0m: \u001b[33mWARNING\u001b[0m Ignored wandb.init() arg project when running a sweep.\n"
     ]
    },
    {
     "data": {
      "text/html": [
       "wandb version 0.16.4 is available!  To upgrade, please run:\n",
       " $ pip install wandb --upgrade"
      ],
      "text/plain": [
       "<IPython.core.display.HTML object>"
      ]
     },
     "metadata": {},
     "output_type": "display_data"
    },
    {
     "data": {
      "text/html": [
       "Tracking run with wandb version 0.16.3"
      ],
      "text/plain": [
       "<IPython.core.display.HTML object>"
      ]
     },
     "metadata": {},
     "output_type": "display_data"
    },
    {
     "data": {
      "text/html": [
       "Run data is saved locally in <code>/home/siyun/ephemeral/WDN/wandb/run-20240313_195741-9vfbv2ek</code>"
      ],
      "text/plain": [
       "<IPython.core.display.HTML object>"
      ]
     },
     "metadata": {},
     "output_type": "display_data"
    },
    {
     "data": {
      "text/html": [
       "Syncing run <strong><a href='https://wandb.ai/tldbs5026/uncategorized/runs/9vfbv2ek' target=\"_blank\">pretty-sweep-25</a></strong> to <a href='https://wandb.ai/tldbs5026/uncategorized' target=\"_blank\">Weights & Biases</a> (<a href='https://wandb.me/run' target=\"_blank\">docs</a>)<br/>Sweep page: <a href='https://wandb.ai/tldbs5026/uncategorized/sweeps/vcevyz8u' target=\"_blank\">https://wandb.ai/tldbs5026/uncategorized/sweeps/vcevyz8u</a>"
      ],
      "text/plain": [
       "<IPython.core.display.HTML object>"
      ]
     },
     "metadata": {},
     "output_type": "display_data"
    },
    {
     "data": {
      "text/html": [
       " View project at <a href='https://wandb.ai/tldbs5026/uncategorized' target=\"_blank\">https://wandb.ai/tldbs5026/uncategorized</a>"
      ],
      "text/plain": [
       "<IPython.core.display.HTML object>"
      ]
     },
     "metadata": {},
     "output_type": "display_data"
    },
    {
     "data": {
      "text/html": [
       " View sweep at <a href='https://wandb.ai/tldbs5026/uncategorized/sweeps/vcevyz8u' target=\"_blank\">https://wandb.ai/tldbs5026/uncategorized/sweeps/vcevyz8u</a>"
      ],
      "text/plain": [
       "<IPython.core.display.HTML object>"
      ]
     },
     "metadata": {},
     "output_type": "display_data"
    },
    {
     "data": {
      "text/html": [
       " View run at <a href='https://wandb.ai/tldbs5026/uncategorized/runs/9vfbv2ek' target=\"_blank\">https://wandb.ai/tldbs5026/uncategorized/runs/9vfbv2ek</a>"
      ],
      "text/plain": [
       "<IPython.core.display.HTML object>"
      ]
     },
     "metadata": {},
     "output_type": "display_data"
    },
    {
     "data": {
      "text/html": [
       "<style>\n",
       "    table.wandb td:nth-child(1) { padding: 0 10px; text-align: left ; width: auto;} td:nth-child(2) {text-align: left ; width: 100%}\n",
       "    .wandb-row { display: flex; flex-direction: row; flex-wrap: wrap; justify-content: flex-start; width: 100% }\n",
       "    .wandb-col { display: flex; flex-direction: column; flex-basis: 100%; flex: 1; padding: 10px; }\n",
       "    </style>\n",
       "<div class=\"wandb-row\"><div class=\"wandb-col\"><h3>Run history:</h3><br/><table class=\"wandb\"><tr><td>accuracy1</td><td>▃▅▅▃█▃▁▃▅▃▁▅▁▁▃▆▃▁▃▃▃▆▁▁▅▃▃▅▅▃▃▃▁▁▁▁▅▅▃▃</td></tr><tr><td>accuracy10</td><td>▃█▆▅▅▃▃▄▃▂▃▃▃▃▆▄▃▃▄▄▄▄▂▁▇▅▃▄▄▆▃▅▆▃▅▄▅▂▂▃</td></tr><tr><td>epoch</td><td>▁▁▁▁▂▂▂▂▂▃▃▃▃▃▃▄▄▄▄▄▅▅▅▅▅▅▆▆▆▆▆▇▇▇▇▇▇███</td></tr><tr><td>f1_score</td><td>▁▁▁▁▁▁▁▁▁▁▁▁▁▁▁▁▁▁▁▁▁▁▁▁▁▁▁▁▁▁▁▁▁▁▁▁▁▁▁▁</td></tr><tr><td>loss</td><td>▅█▅█▅██▅▅▅▅▅▅▅▅█▅█▅▅▅▁█▅▅▅▅▁█▅█▅▅█▅█▅▅██</td></tr><tr><td>precision</td><td>▁▁▁▁▁▁▁▁▁▁▁▁▁▁▁▁▁▁▁▁▁▁▁▁▁▁▁▁▁▁▁▁▁▁▁▁▁▁▁▁</td></tr><tr><td>recall</td><td>▁▁▁▁▁▁▁▁▁▁▁▁▁▁▁▁▁▁▁▁▁▁▁▁▁▁▁▁▁▁▁▁▁▁▁▁▁▁▁▁</td></tr></table><br/></div><div class=\"wandb-col\"><h3>Run summary:</h3><br/><table class=\"wandb\"><tr><td>accuracy1</td><td>0.0107</td></tr><tr><td>accuracy10</td><td>0.00184</td></tr><tr><td>epoch</td><td>199</td></tr><tr><td>f1_score</td><td>0.0</td></tr><tr><td>loss</td><td>8.71342</td></tr><tr><td>precision</td><td>0.0</td></tr><tr><td>recall</td><td>0.0</td></tr></table><br/></div></div>"
      ],
      "text/plain": [
       "<IPython.core.display.HTML object>"
      ]
     },
     "metadata": {},
     "output_type": "display_data"
    },
    {
     "data": {
      "text/html": [
       " View run <strong style=\"color:#cdcd00\">pretty-sweep-25</strong> at: <a href='https://wandb.ai/tldbs5026/uncategorized/runs/9vfbv2ek' target=\"_blank\">https://wandb.ai/tldbs5026/uncategorized/runs/9vfbv2ek</a><br/>Synced 5 W&B file(s), 0 media file(s), 0 artifact file(s) and 0 other file(s)"
      ],
      "text/plain": [
       "<IPython.core.display.HTML object>"
      ]
     },
     "metadata": {},
     "output_type": "display_data"
    },
    {
     "data": {
      "text/html": [
       "Find logs at: <code>./wandb/run-20240313_195741-9vfbv2ek/logs</code>"
      ],
      "text/plain": [
       "<IPython.core.display.HTML object>"
      ]
     },
     "metadata": {},
     "output_type": "display_data"
    },
    {
     "name": "stderr",
     "output_type": "stream",
     "text": [
      "\u001b[34m\u001b[1mwandb\u001b[0m: Agent Starting Run: pcrgngtn with config:\n",
      "\u001b[34m\u001b[1mwandb\u001b[0m: \tbatch_size: 256\n",
      "\u001b[34m\u001b[1mwandb\u001b[0m: \tdropout: 0.1\n",
      "\u001b[34m\u001b[1mwandb\u001b[0m: \tembed_dim: 256\n",
      "\u001b[34m\u001b[1mwandb\u001b[0m: \tepochs: 200\n",
      "\u001b[34m\u001b[1mwandb\u001b[0m: \tlr: 0.0005\n",
      "\u001b[34m\u001b[1mwandb\u001b[0m: \tmlp_dims: [256, 128, 64, 64, 32, 32]\n",
      "\u001b[34m\u001b[1mwandb\u001b[0m: \tweight_decay: 0.001\n",
      "\u001b[34m\u001b[1mwandb\u001b[0m: \u001b[33mWARNING\u001b[0m Ignored wandb.init() arg project when running a sweep.\n"
     ]
    },
    {
     "data": {
      "text/html": [
       "wandb version 0.16.4 is available!  To upgrade, please run:\n",
       " $ pip install wandb --upgrade"
      ],
      "text/plain": [
       "<IPython.core.display.HTML object>"
      ]
     },
     "metadata": {},
     "output_type": "display_data"
    },
    {
     "data": {
      "text/html": [
       "Tracking run with wandb version 0.16.3"
      ],
      "text/plain": [
       "<IPython.core.display.HTML object>"
      ]
     },
     "metadata": {},
     "output_type": "display_data"
    },
    {
     "data": {
      "text/html": [
       "Run data is saved locally in <code>/home/siyun/ephemeral/WDN/wandb/run-20240313_200448-pcrgngtn</code>"
      ],
      "text/plain": [
       "<IPython.core.display.HTML object>"
      ]
     },
     "metadata": {},
     "output_type": "display_data"
    },
    {
     "data": {
      "text/html": [
       "Syncing run <strong><a href='https://wandb.ai/tldbs5026/uncategorized/runs/pcrgngtn' target=\"_blank\">light-sweep-26</a></strong> to <a href='https://wandb.ai/tldbs5026/uncategorized' target=\"_blank\">Weights & Biases</a> (<a href='https://wandb.me/run' target=\"_blank\">docs</a>)<br/>Sweep page: <a href='https://wandb.ai/tldbs5026/uncategorized/sweeps/vcevyz8u' target=\"_blank\">https://wandb.ai/tldbs5026/uncategorized/sweeps/vcevyz8u</a>"
      ],
      "text/plain": [
       "<IPython.core.display.HTML object>"
      ]
     },
     "metadata": {},
     "output_type": "display_data"
    },
    {
     "data": {
      "text/html": [
       " View project at <a href='https://wandb.ai/tldbs5026/uncategorized' target=\"_blank\">https://wandb.ai/tldbs5026/uncategorized</a>"
      ],
      "text/plain": [
       "<IPython.core.display.HTML object>"
      ]
     },
     "metadata": {},
     "output_type": "display_data"
    },
    {
     "data": {
      "text/html": [
       " View sweep at <a href='https://wandb.ai/tldbs5026/uncategorized/sweeps/vcevyz8u' target=\"_blank\">https://wandb.ai/tldbs5026/uncategorized/sweeps/vcevyz8u</a>"
      ],
      "text/plain": [
       "<IPython.core.display.HTML object>"
      ]
     },
     "metadata": {},
     "output_type": "display_data"
    },
    {
     "data": {
      "text/html": [
       " View run at <a href='https://wandb.ai/tldbs5026/uncategorized/runs/pcrgngtn' target=\"_blank\">https://wandb.ai/tldbs5026/uncategorized/runs/pcrgngtn</a>"
      ],
      "text/plain": [
       "<IPython.core.display.HTML object>"
      ]
     },
     "metadata": {},
     "output_type": "display_data"
    },
    {
     "data": {
      "text/html": [
       "<style>\n",
       "    table.wandb td:nth-child(1) { padding: 0 10px; text-align: left ; width: auto;} td:nth-child(2) {text-align: left ; width: 100%}\n",
       "    .wandb-row { display: flex; flex-direction: row; flex-wrap: wrap; justify-content: flex-start; width: 100% }\n",
       "    .wandb-col { display: flex; flex-direction: column; flex-basis: 100%; flex: 1; padding: 10px; }\n",
       "    </style>\n",
       "<div class=\"wandb-row\"><div class=\"wandb-col\"><h3>Run history:</h3><br/><table class=\"wandb\"><tr><td>accuracy1</td><td>▆▃▃▁▁▃▁▁▁▁▃▁▁▁▆▁▃▁▁▄▁▁▆▃▃▁▁▁▁▁▁▁▁▁▁█▁▁▁▃</td></tr><tr><td>accuracy10</td><td>█▅▃▃▂▂▂▂▂▂▂▂▂▅▂▃▅▃▃▃▂▃▄▅▂▃▃▃▂▄▂▁▁▄▃▅▄▂▃▁</td></tr><tr><td>epoch</td><td>▁▁▁▁▂▂▂▂▂▃▃▃▃▃▃▄▄▄▄▄▅▅▅▅▅▅▆▆▆▆▆▇▇▇▇▇▇███</td></tr><tr><td>f1_score</td><td>▁▁▁▁▁▁▁▁▁▁▁▁▁▁▁▁▁▁▁█▁▁▁▁▁▁▁▁▁▁▁▁▁▁▁▁▁▁▁▁</td></tr><tr><td>loss</td><td>▁███████████████████████████████████████</td></tr><tr><td>precision</td><td>▁▁▁▁▁▁▁▁▁▁▁▁▁▁▁▁▁▁▁█▁▁▁▁▁▁▁▁▁▁▁▁▁▁▁▁▁▁▁▁</td></tr><tr><td>recall</td><td>▁▁▁▁▁▁▁▁▁▁▁▁▁▁▁▁▁▁▁█▁▁▁▁▁▁▁▁▁▁▁▁▁▁▁▁▁▁▁▁</td></tr></table><br/></div><div class=\"wandb-col\"><h3>Run summary:</h3><br/><table class=\"wandb\"><tr><td>accuracy1</td><td>0.0107</td></tr><tr><td>accuracy10</td><td>0.00033</td></tr><tr><td>epoch</td><td>199</td></tr><tr><td>f1_score</td><td>0.0</td></tr><tr><td>loss</td><td>8.71342</td></tr><tr><td>precision</td><td>0.0</td></tr><tr><td>recall</td><td>0.0</td></tr></table><br/></div></div>"
      ],
      "text/plain": [
       "<IPython.core.display.HTML object>"
      ]
     },
     "metadata": {},
     "output_type": "display_data"
    },
    {
     "data": {
      "text/html": [
       " View run <strong style=\"color:#cdcd00\">light-sweep-26</strong> at: <a href='https://wandb.ai/tldbs5026/uncategorized/runs/pcrgngtn' target=\"_blank\">https://wandb.ai/tldbs5026/uncategorized/runs/pcrgngtn</a><br/>Synced 5 W&B file(s), 0 media file(s), 0 artifact file(s) and 0 other file(s)"
      ],
      "text/plain": [
       "<IPython.core.display.HTML object>"
      ]
     },
     "metadata": {},
     "output_type": "display_data"
    },
    {
     "data": {
      "text/html": [
       "Find logs at: <code>./wandb/run-20240313_200448-pcrgngtn/logs</code>"
      ],
      "text/plain": [
       "<IPython.core.display.HTML object>"
      ]
     },
     "metadata": {},
     "output_type": "display_data"
    },
    {
     "name": "stderr",
     "output_type": "stream",
     "text": [
      "\u001b[34m\u001b[1mwandb\u001b[0m: Agent Starting Run: 0vngidcl with config:\n",
      "\u001b[34m\u001b[1mwandb\u001b[0m: \tbatch_size: 256\n",
      "\u001b[34m\u001b[1mwandb\u001b[0m: \tdropout: 0.1\n",
      "\u001b[34m\u001b[1mwandb\u001b[0m: \tembed_dim: 256\n",
      "\u001b[34m\u001b[1mwandb\u001b[0m: \tepochs: 200\n",
      "\u001b[34m\u001b[1mwandb\u001b[0m: \tlr: 0.0005\n",
      "\u001b[34m\u001b[1mwandb\u001b[0m: \tmlp_dims: [256, 256, 128, 128, 64, 64, 32, 32, 16, 16]\n",
      "\u001b[34m\u001b[1mwandb\u001b[0m: \tweight_decay: 1e-05\n",
      "\u001b[34m\u001b[1mwandb\u001b[0m: \u001b[33mWARNING\u001b[0m Ignored wandb.init() arg project when running a sweep.\n"
     ]
    },
    {
     "data": {
      "text/html": [
       "wandb version 0.16.4 is available!  To upgrade, please run:\n",
       " $ pip install wandb --upgrade"
      ],
      "text/plain": [
       "<IPython.core.display.HTML object>"
      ]
     },
     "metadata": {},
     "output_type": "display_data"
    },
    {
     "data": {
      "text/html": [
       "Tracking run with wandb version 0.16.3"
      ],
      "text/plain": [
       "<IPython.core.display.HTML object>"
      ]
     },
     "metadata": {},
     "output_type": "display_data"
    },
    {
     "data": {
      "text/html": [
       "Run data is saved locally in <code>/home/siyun/ephemeral/WDN/wandb/run-20240313_201201-0vngidcl</code>"
      ],
      "text/plain": [
       "<IPython.core.display.HTML object>"
      ]
     },
     "metadata": {},
     "output_type": "display_data"
    },
    {
     "data": {
      "text/html": [
       "Syncing run <strong><a href='https://wandb.ai/tldbs5026/uncategorized/runs/0vngidcl' target=\"_blank\">wobbly-sweep-27</a></strong> to <a href='https://wandb.ai/tldbs5026/uncategorized' target=\"_blank\">Weights & Biases</a> (<a href='https://wandb.me/run' target=\"_blank\">docs</a>)<br/>Sweep page: <a href='https://wandb.ai/tldbs5026/uncategorized/sweeps/vcevyz8u' target=\"_blank\">https://wandb.ai/tldbs5026/uncategorized/sweeps/vcevyz8u</a>"
      ],
      "text/plain": [
       "<IPython.core.display.HTML object>"
      ]
     },
     "metadata": {},
     "output_type": "display_data"
    },
    {
     "data": {
      "text/html": [
       " View project at <a href='https://wandb.ai/tldbs5026/uncategorized' target=\"_blank\">https://wandb.ai/tldbs5026/uncategorized</a>"
      ],
      "text/plain": [
       "<IPython.core.display.HTML object>"
      ]
     },
     "metadata": {},
     "output_type": "display_data"
    },
    {
     "data": {
      "text/html": [
       " View sweep at <a href='https://wandb.ai/tldbs5026/uncategorized/sweeps/vcevyz8u' target=\"_blank\">https://wandb.ai/tldbs5026/uncategorized/sweeps/vcevyz8u</a>"
      ],
      "text/plain": [
       "<IPython.core.display.HTML object>"
      ]
     },
     "metadata": {},
     "output_type": "display_data"
    },
    {
     "data": {
      "text/html": [
       " View run at <a href='https://wandb.ai/tldbs5026/uncategorized/runs/0vngidcl' target=\"_blank\">https://wandb.ai/tldbs5026/uncategorized/runs/0vngidcl</a>"
      ],
      "text/plain": [
       "<IPython.core.display.HTML object>"
      ]
     },
     "metadata": {},
     "output_type": "display_data"
    },
    {
     "data": {
      "text/html": [
       "<style>\n",
       "    table.wandb td:nth-child(1) { padding: 0 10px; text-align: left ; width: auto;} td:nth-child(2) {text-align: left ; width: 100%}\n",
       "    .wandb-row { display: flex; flex-direction: row; flex-wrap: wrap; justify-content: flex-start; width: 100% }\n",
       "    .wandb-col { display: flex; flex-direction: column; flex-basis: 100%; flex: 1; padding: 10px; }\n",
       "    </style>\n",
       "<div class=\"wandb-row\"><div class=\"wandb-col\"><h3>Run history:</h3><br/><table class=\"wandb\"><tr><td>accuracy1</td><td>▃█▃▆▁▃▃▁▁▃▁▁█▃▃▃▆▁▁▆▁▁▃▃▆▃▃▁█▃▃▆▁▆▃▆▁▃█▁</td></tr><tr><td>accuracy10</td><td>▆█▅▃▄▄▄▅▃▃▂▄▄▅▄▃▅▃▃▃▄▆▆▄▄▂▂▃▆▂▃▃▃▃▅▃▁▅▅▇</td></tr><tr><td>epoch</td><td>▁▁▁▁▂▂▂▂▂▃▃▃▃▃▃▄▄▄▄▄▅▅▅▅▅▅▆▆▆▆▆▇▇▇▇▇▇███</td></tr><tr><td>f1_score</td><td>▁▁▁▁▁▁▁▁▁▁▁▁▁▁▁▁▁▁▁▁▁▁▁▁▁▁▁▁▁▁▁▁▁▁▁▁▁▁▁▁</td></tr><tr><td>loss</td><td>███▅▅▅▁██▅▅█▅▅█▅█▅▅████▅█▅██▅▅█▅█▅▅▁▁█▁█</td></tr><tr><td>precision</td><td>▁▁▁▁▁▁▁▁▁▁▁▁▁▁▁▁▁▁▁▁▁▁▁▁▁▁▁▁▁▁▁▁▁▁▁▁▁▁▁▁</td></tr><tr><td>recall</td><td>▁▁▁▁▁▁▁▁▁▁▁▁▁▁▁▁▁▁▁▁▁▁▁▁▁▁▁▁▁▁▁▁▁▁▁▁▁▁▁▁</td></tr></table><br/></div><div class=\"wandb-col\"><h3>Run summary:</h3><br/><table class=\"wandb\"><tr><td>accuracy1</td><td>0.0</td></tr><tr><td>accuracy10</td><td>0.00335</td></tr><tr><td>epoch</td><td>199</td></tr><tr><td>f1_score</td><td>0.0</td></tr><tr><td>loss</td><td>8.71342</td></tr><tr><td>precision</td><td>0.0</td></tr><tr><td>recall</td><td>0.0</td></tr></table><br/></div></div>"
      ],
      "text/plain": [
       "<IPython.core.display.HTML object>"
      ]
     },
     "metadata": {},
     "output_type": "display_data"
    },
    {
     "data": {
      "text/html": [
       " View run <strong style=\"color:#cdcd00\">wobbly-sweep-27</strong> at: <a href='https://wandb.ai/tldbs5026/uncategorized/runs/0vngidcl' target=\"_blank\">https://wandb.ai/tldbs5026/uncategorized/runs/0vngidcl</a><br/>Synced 5 W&B file(s), 0 media file(s), 0 artifact file(s) and 0 other file(s)"
      ],
      "text/plain": [
       "<IPython.core.display.HTML object>"
      ]
     },
     "metadata": {},
     "output_type": "display_data"
    },
    {
     "data": {
      "text/html": [
       "Find logs at: <code>./wandb/run-20240313_201201-0vngidcl/logs</code>"
      ],
      "text/plain": [
       "<IPython.core.display.HTML object>"
      ]
     },
     "metadata": {},
     "output_type": "display_data"
    },
    {
     "name": "stderr",
     "output_type": "stream",
     "text": [
      "\u001b[34m\u001b[1mwandb\u001b[0m: Agent Starting Run: 7t8qyc9l with config:\n",
      "\u001b[34m\u001b[1mwandb\u001b[0m: \tbatch_size: 256\n",
      "\u001b[34m\u001b[1mwandb\u001b[0m: \tdropout: 0.1\n",
      "\u001b[34m\u001b[1mwandb\u001b[0m: \tembed_dim: 256\n",
      "\u001b[34m\u001b[1mwandb\u001b[0m: \tepochs: 200\n",
      "\u001b[34m\u001b[1mwandb\u001b[0m: \tlr: 0.0005\n",
      "\u001b[34m\u001b[1mwandb\u001b[0m: \tmlp_dims: [256, 256, 128, 128, 64, 64, 32, 32, 16, 16]\n",
      "\u001b[34m\u001b[1mwandb\u001b[0m: \tweight_decay: 0.001\n",
      "\u001b[34m\u001b[1mwandb\u001b[0m: \u001b[33mWARNING\u001b[0m Ignored wandb.init() arg project when running a sweep.\n"
     ]
    },
    {
     "data": {
      "text/html": [
       "wandb version 0.16.4 is available!  To upgrade, please run:\n",
       " $ pip install wandb --upgrade"
      ],
      "text/plain": [
       "<IPython.core.display.HTML object>"
      ]
     },
     "metadata": {},
     "output_type": "display_data"
    },
    {
     "data": {
      "text/html": [
       "Tracking run with wandb version 0.16.3"
      ],
      "text/plain": [
       "<IPython.core.display.HTML object>"
      ]
     },
     "metadata": {},
     "output_type": "display_data"
    },
    {
     "data": {
      "text/html": [
       "Run data is saved locally in <code>/home/siyun/ephemeral/WDN/wandb/run-20240313_202021-7t8qyc9l</code>"
      ],
      "text/plain": [
       "<IPython.core.display.HTML object>"
      ]
     },
     "metadata": {},
     "output_type": "display_data"
    },
    {
     "data": {
      "text/html": [
       "Syncing run <strong><a href='https://wandb.ai/tldbs5026/uncategorized/runs/7t8qyc9l' target=\"_blank\">cosmic-sweep-28</a></strong> to <a href='https://wandb.ai/tldbs5026/uncategorized' target=\"_blank\">Weights & Biases</a> (<a href='https://wandb.me/run' target=\"_blank\">docs</a>)<br/>Sweep page: <a href='https://wandb.ai/tldbs5026/uncategorized/sweeps/vcevyz8u' target=\"_blank\">https://wandb.ai/tldbs5026/uncategorized/sweeps/vcevyz8u</a>"
      ],
      "text/plain": [
       "<IPython.core.display.HTML object>"
      ]
     },
     "metadata": {},
     "output_type": "display_data"
    },
    {
     "data": {
      "text/html": [
       " View project at <a href='https://wandb.ai/tldbs5026/uncategorized' target=\"_blank\">https://wandb.ai/tldbs5026/uncategorized</a>"
      ],
      "text/plain": [
       "<IPython.core.display.HTML object>"
      ]
     },
     "metadata": {},
     "output_type": "display_data"
    },
    {
     "data": {
      "text/html": [
       " View sweep at <a href='https://wandb.ai/tldbs5026/uncategorized/sweeps/vcevyz8u' target=\"_blank\">https://wandb.ai/tldbs5026/uncategorized/sweeps/vcevyz8u</a>"
      ],
      "text/plain": [
       "<IPython.core.display.HTML object>"
      ]
     },
     "metadata": {},
     "output_type": "display_data"
    },
    {
     "data": {
      "text/html": [
       " View run at <a href='https://wandb.ai/tldbs5026/uncategorized/runs/7t8qyc9l' target=\"_blank\">https://wandb.ai/tldbs5026/uncategorized/runs/7t8qyc9l</a>"
      ],
      "text/plain": [
       "<IPython.core.display.HTML object>"
      ]
     },
     "metadata": {},
     "output_type": "display_data"
    },
    {
     "data": {
      "text/html": [
       "<style>\n",
       "    table.wandb td:nth-child(1) { padding: 0 10px; text-align: left ; width: auto;} td:nth-child(2) {text-align: left ; width: 100%}\n",
       "    .wandb-row { display: flex; flex-direction: row; flex-wrap: wrap; justify-content: flex-start; width: 100% }\n",
       "    .wandb-col { display: flex; flex-direction: column; flex-basis: 100%; flex: 1; padding: 10px; }\n",
       "    </style>\n",
       "<div class=\"wandb-row\"><div class=\"wandb-col\"><h3>Run history:</h3><br/><table class=\"wandb\"><tr><td>accuracy1</td><td>██▁▁▁▁▁▁▁▁▅▁▁▁█▁▁▅▁▁▅▁▁▁▁▁█▅▁█▁▁▁▁▅▅▅▁▅▁</td></tr><tr><td>accuracy10</td><td>██▅▂▄▂▂▁▃▃▄▃▃▄▅▄▂▄▂▃▄▃▄▂▅▂▄▄▃▃▂▄▄▄▄▃▃▄▅▄</td></tr><tr><td>epoch</td><td>▁▁▁▁▂▂▂▂▂▃▃▃▃▃▃▄▄▄▄▄▅▅▅▅▅▅▆▆▆▆▆▇▇▇▇▇▇███</td></tr><tr><td>f1_score</td><td>▁▁▁▁▁▁▁▁▁▁▁▁▁▁▁▁▁▁▁▁▁▁▁▁▁▁▁▁▁▁▁▁▁▁▁▁▁▁▁▁</td></tr><tr><td>loss</td><td>▁▁██████████████████████████████████████</td></tr><tr><td>precision</td><td>▁▁▁▁▁▁▁▁▁▁▁▁▁▁▁▁▁▁▁▁▁▁▁▁▁▁▁▁▁▁▁▁▁▁▁▁▁▁▁▁</td></tr><tr><td>recall</td><td>▁▁▁▁▁▁▁▁▁▁▁▁▁▁▁▁▁▁▁▁▁▁▁▁▁▁▁▁▁▁▁▁▁▁▁▁▁▁▁▁</td></tr></table><br/></div><div class=\"wandb-col\"><h3>Run summary:</h3><br/><table class=\"wandb\"><tr><td>accuracy1</td><td>0.0</td></tr><tr><td>accuracy10</td><td>0.001</td></tr><tr><td>epoch</td><td>199</td></tr><tr><td>f1_score</td><td>0.0</td></tr><tr><td>loss</td><td>8.71342</td></tr><tr><td>precision</td><td>0.0</td></tr><tr><td>recall</td><td>0.0</td></tr></table><br/></div></div>"
      ],
      "text/plain": [
       "<IPython.core.display.HTML object>"
      ]
     },
     "metadata": {},
     "output_type": "display_data"
    },
    {
     "data": {
      "text/html": [
       " View run <strong style=\"color:#cdcd00\">cosmic-sweep-28</strong> at: <a href='https://wandb.ai/tldbs5026/uncategorized/runs/7t8qyc9l' target=\"_blank\">https://wandb.ai/tldbs5026/uncategorized/runs/7t8qyc9l</a><br/>Synced 5 W&B file(s), 0 media file(s), 0 artifact file(s) and 0 other file(s)"
      ],
      "text/plain": [
       "<IPython.core.display.HTML object>"
      ]
     },
     "metadata": {},
     "output_type": "display_data"
    },
    {
     "data": {
      "text/html": [
       "Find logs at: <code>./wandb/run-20240313_202021-7t8qyc9l/logs</code>"
      ],
      "text/plain": [
       "<IPython.core.display.HTML object>"
      ]
     },
     "metadata": {},
     "output_type": "display_data"
    },
    {
     "name": "stderr",
     "output_type": "stream",
     "text": [
      "\u001b[34m\u001b[1mwandb\u001b[0m: Agent Starting Run: 5ue3amm3 with config:\n",
      "\u001b[34m\u001b[1mwandb\u001b[0m: \tbatch_size: 256\n",
      "\u001b[34m\u001b[1mwandb\u001b[0m: \tdropout: 0.1\n",
      "\u001b[34m\u001b[1mwandb\u001b[0m: \tembed_dim: 256\n",
      "\u001b[34m\u001b[1mwandb\u001b[0m: \tepochs: 200\n",
      "\u001b[34m\u001b[1mwandb\u001b[0m: \tlr: 0.0001\n",
      "\u001b[34m\u001b[1mwandb\u001b[0m: \tmlp_dims: [256, 128, 64, 64, 32, 32]\n",
      "\u001b[34m\u001b[1mwandb\u001b[0m: \tweight_decay: 1e-05\n",
      "\u001b[34m\u001b[1mwandb\u001b[0m: \u001b[33mWARNING\u001b[0m Ignored wandb.init() arg project when running a sweep.\n"
     ]
    },
    {
     "data": {
      "text/html": [
       "wandb version 0.16.4 is available!  To upgrade, please run:\n",
       " $ pip install wandb --upgrade"
      ],
      "text/plain": [
       "<IPython.core.display.HTML object>"
      ]
     },
     "metadata": {},
     "output_type": "display_data"
    },
    {
     "data": {
      "text/html": [
       "Tracking run with wandb version 0.16.3"
      ],
      "text/plain": [
       "<IPython.core.display.HTML object>"
      ]
     },
     "metadata": {},
     "output_type": "display_data"
    },
    {
     "data": {
      "text/html": [
       "Run data is saved locally in <code>/home/siyun/ephemeral/WDN/wandb/run-20240313_202840-5ue3amm3</code>"
      ],
      "text/plain": [
       "<IPython.core.display.HTML object>"
      ]
     },
     "metadata": {},
     "output_type": "display_data"
    },
    {
     "data": {
      "text/html": [
       "Syncing run <strong><a href='https://wandb.ai/tldbs5026/uncategorized/runs/5ue3amm3' target=\"_blank\">electric-sweep-29</a></strong> to <a href='https://wandb.ai/tldbs5026/uncategorized' target=\"_blank\">Weights & Biases</a> (<a href='https://wandb.me/run' target=\"_blank\">docs</a>)<br/>Sweep page: <a href='https://wandb.ai/tldbs5026/uncategorized/sweeps/vcevyz8u' target=\"_blank\">https://wandb.ai/tldbs5026/uncategorized/sweeps/vcevyz8u</a>"
      ],
      "text/plain": [
       "<IPython.core.display.HTML object>"
      ]
     },
     "metadata": {},
     "output_type": "display_data"
    },
    {
     "data": {
      "text/html": [
       " View project at <a href='https://wandb.ai/tldbs5026/uncategorized' target=\"_blank\">https://wandb.ai/tldbs5026/uncategorized</a>"
      ],
      "text/plain": [
       "<IPython.core.display.HTML object>"
      ]
     },
     "metadata": {},
     "output_type": "display_data"
    },
    {
     "data": {
      "text/html": [
       " View sweep at <a href='https://wandb.ai/tldbs5026/uncategorized/sweeps/vcevyz8u' target=\"_blank\">https://wandb.ai/tldbs5026/uncategorized/sweeps/vcevyz8u</a>"
      ],
      "text/plain": [
       "<IPython.core.display.HTML object>"
      ]
     },
     "metadata": {},
     "output_type": "display_data"
    },
    {
     "data": {
      "text/html": [
       " View run at <a href='https://wandb.ai/tldbs5026/uncategorized/runs/5ue3amm3' target=\"_blank\">https://wandb.ai/tldbs5026/uncategorized/runs/5ue3amm3</a>"
      ],
      "text/plain": [
       "<IPython.core.display.HTML object>"
      ]
     },
     "metadata": {},
     "output_type": "display_data"
    },
    {
     "data": {
      "text/html": [
       "<style>\n",
       "    table.wandb td:nth-child(1) { padding: 0 10px; text-align: left ; width: auto;} td:nth-child(2) {text-align: left ; width: 100%}\n",
       "    .wandb-row { display: flex; flex-direction: row; flex-wrap: wrap; justify-content: flex-start; width: 100% }\n",
       "    .wandb-col { display: flex; flex-direction: column; flex-basis: 100%; flex: 1; padding: 10px; }\n",
       "    </style>\n",
       "<div class=\"wandb-row\"><div class=\"wandb-col\"><h3>Run history:</h3><br/><table class=\"wandb\"><tr><td>accuracy1</td><td>▅▄▂▄█▇▄▂▂▄▂▇▅▄▄▄▇▅▇▅▄▄▄▂▂▇▄▂▇▁▁▄▄▅▂▂▂▅▄▄</td></tr><tr><td>accuracy10</td><td>▁▁▂▄▅▅▇▇▇█▇▇▇██▇███▇█▇▇██▇▇█▆▇█▇█▇▇███▇▇</td></tr><tr><td>epoch</td><td>▁▁▁▁▂▂▂▂▂▃▃▃▃▃▃▄▄▄▄▄▅▅▅▅▅▅▆▆▆▆▆▇▇▇▇▇▇███</td></tr><tr><td>f1_score</td><td>▁▁▁▁▁▁▁▁▁▁▁▁▁▁▁▁▁▁▁▁▁▁▁▁▁▁▁▁▁▁▁▁▁▁▁▁▁▁▁▁</td></tr><tr><td>loss</td><td>▆▅▅▄▁▃████████▇▇█▇██▇████▇███████▇███▇██</td></tr><tr><td>precision</td><td>▁▁▁▁▁▁▁▁▁▁▁▁▁▁▁▁▁▁▁▁▁▁▁▁▁▁▁▁▁▁▁▁▁▁▁▁▁▁▁▁</td></tr><tr><td>recall</td><td>▁▁▁▁▁▁▁▁▁▁▁▁▁▁▁▁▁▁▁▁▁▁▁▁▁▁▁▁▁▁▁▁▁▁▁▁▁▁▁▁</td></tr></table><br/></div><div class=\"wandb-col\"><h3>Run summary:</h3><br/><table class=\"wandb\"><tr><td>accuracy1</td><td>0.0214</td></tr><tr><td>accuracy10</td><td>0.0077</td></tr><tr><td>epoch</td><td>199</td></tr><tr><td>f1_score</td><td>0.0</td></tr><tr><td>loss</td><td>8.71342</td></tr><tr><td>precision</td><td>0.0</td></tr><tr><td>recall</td><td>0.0</td></tr></table><br/></div></div>"
      ],
      "text/plain": [
       "<IPython.core.display.HTML object>"
      ]
     },
     "metadata": {},
     "output_type": "display_data"
    },
    {
     "data": {
      "text/html": [
       " View run <strong style=\"color:#cdcd00\">electric-sweep-29</strong> at: <a href='https://wandb.ai/tldbs5026/uncategorized/runs/5ue3amm3' target=\"_blank\">https://wandb.ai/tldbs5026/uncategorized/runs/5ue3amm3</a><br/>Synced 5 W&B file(s), 0 media file(s), 0 artifact file(s) and 0 other file(s)"
      ],
      "text/plain": [
       "<IPython.core.display.HTML object>"
      ]
     },
     "metadata": {},
     "output_type": "display_data"
    },
    {
     "data": {
      "text/html": [
       "Find logs at: <code>./wandb/run-20240313_202840-5ue3amm3/logs</code>"
      ],
      "text/plain": [
       "<IPython.core.display.HTML object>"
      ]
     },
     "metadata": {},
     "output_type": "display_data"
    },
    {
     "name": "stderr",
     "output_type": "stream",
     "text": [
      "\u001b[34m\u001b[1mwandb\u001b[0m: Agent Starting Run: amtquram with config:\n",
      "\u001b[34m\u001b[1mwandb\u001b[0m: \tbatch_size: 256\n",
      "\u001b[34m\u001b[1mwandb\u001b[0m: \tdropout: 0.1\n",
      "\u001b[34m\u001b[1mwandb\u001b[0m: \tembed_dim: 256\n",
      "\u001b[34m\u001b[1mwandb\u001b[0m: \tepochs: 200\n",
      "\u001b[34m\u001b[1mwandb\u001b[0m: \tlr: 0.0001\n",
      "\u001b[34m\u001b[1mwandb\u001b[0m: \tmlp_dims: [256, 128, 64, 64, 32, 32]\n",
      "\u001b[34m\u001b[1mwandb\u001b[0m: \tweight_decay: 0.001\n",
      "\u001b[34m\u001b[1mwandb\u001b[0m: \u001b[33mWARNING\u001b[0m Ignored wandb.init() arg project when running a sweep.\n"
     ]
    },
    {
     "data": {
      "text/html": [
       "wandb version 0.16.4 is available!  To upgrade, please run:\n",
       " $ pip install wandb --upgrade"
      ],
      "text/plain": [
       "<IPython.core.display.HTML object>"
      ]
     },
     "metadata": {},
     "output_type": "display_data"
    },
    {
     "data": {
      "text/html": [
       "Tracking run with wandb version 0.16.3"
      ],
      "text/plain": [
       "<IPython.core.display.HTML object>"
      ]
     },
     "metadata": {},
     "output_type": "display_data"
    },
    {
     "data": {
      "text/html": [
       "Run data is saved locally in <code>/home/siyun/ephemeral/WDN/wandb/run-20240313_203547-amtquram</code>"
      ],
      "text/plain": [
       "<IPython.core.display.HTML object>"
      ]
     },
     "metadata": {},
     "output_type": "display_data"
    },
    {
     "data": {
      "text/html": [
       "Syncing run <strong><a href='https://wandb.ai/tldbs5026/uncategorized/runs/amtquram' target=\"_blank\">elated-sweep-30</a></strong> to <a href='https://wandb.ai/tldbs5026/uncategorized' target=\"_blank\">Weights & Biases</a> (<a href='https://wandb.me/run' target=\"_blank\">docs</a>)<br/>Sweep page: <a href='https://wandb.ai/tldbs5026/uncategorized/sweeps/vcevyz8u' target=\"_blank\">https://wandb.ai/tldbs5026/uncategorized/sweeps/vcevyz8u</a>"
      ],
      "text/plain": [
       "<IPython.core.display.HTML object>"
      ]
     },
     "metadata": {},
     "output_type": "display_data"
    },
    {
     "data": {
      "text/html": [
       " View project at <a href='https://wandb.ai/tldbs5026/uncategorized' target=\"_blank\">https://wandb.ai/tldbs5026/uncategorized</a>"
      ],
      "text/plain": [
       "<IPython.core.display.HTML object>"
      ]
     },
     "metadata": {},
     "output_type": "display_data"
    },
    {
     "data": {
      "text/html": [
       " View sweep at <a href='https://wandb.ai/tldbs5026/uncategorized/sweeps/vcevyz8u' target=\"_blank\">https://wandb.ai/tldbs5026/uncategorized/sweeps/vcevyz8u</a>"
      ],
      "text/plain": [
       "<IPython.core.display.HTML object>"
      ]
     },
     "metadata": {},
     "output_type": "display_data"
    },
    {
     "data": {
      "text/html": [
       " View run at <a href='https://wandb.ai/tldbs5026/uncategorized/runs/amtquram' target=\"_blank\">https://wandb.ai/tldbs5026/uncategorized/runs/amtquram</a>"
      ],
      "text/plain": [
       "<IPython.core.display.HTML object>"
      ]
     },
     "metadata": {},
     "output_type": "display_data"
    },
    {
     "data": {
      "text/html": [
       "<style>\n",
       "    table.wandb td:nth-child(1) { padding: 0 10px; text-align: left ; width: auto;} td:nth-child(2) {text-align: left ; width: 100%}\n",
       "    .wandb-row { display: flex; flex-direction: row; flex-wrap: wrap; justify-content: flex-start; width: 100% }\n",
       "    .wandb-col { display: flex; flex-direction: column; flex-basis: 100%; flex: 1; padding: 10px; }\n",
       "    </style>\n",
       "<div class=\"wandb-row\"><div class=\"wandb-col\"><h3>Run history:</h3><br/><table class=\"wandb\"><tr><td>accuracy1</td><td>▁█▁▃▅▇▅▅▁▁▁▃▁▁▁▁▃▁▁▁▁▁▁▁▃▃▁▁▁▁▃▁▁▁▁▁▁▁▁▁</td></tr><tr><td>accuracy10</td><td>█▆▆▄▅▅▂▂▁▂▃▃▃▂▄▅▃▂▁▃▂▃▁▃▃▂▃▃▂▂▂▂▄▂▂▃▃▂▃▃</td></tr><tr><td>epoch</td><td>▁▁▁▁▂▂▂▂▂▃▃▃▃▃▃▄▄▄▄▄▅▅▅▅▅▅▆▆▆▆▆▇▇▇▇▇▇███</td></tr><tr><td>f1_score</td><td>▁█▁▁▁▁▁▁▁▁▁▁▁▁▁▁▁▁▁▁▁▁▁▁▁▁▁▁▁▁▁▁▁▁▁▁▁▁▁▁</td></tr><tr><td>loss</td><td>▃▁▃▃████████████████████████████████████</td></tr><tr><td>precision</td><td>▁█▁▁▁▁▁▁▁▁▁▁▁▁▁▁▁▁▁▁▁▁▁▁▁▁▁▁▁▁▁▁▁▁▁▁▁▁▁▁</td></tr><tr><td>recall</td><td>▁█▁▁▁▁▁▁▁▁▁▁▁▁▁▁▁▁▁▁▁▁▁▁▁▁▁▁▁▁▁▁▁▁▁▁▁▁▁▁</td></tr></table><br/></div><div class=\"wandb-col\"><h3>Run summary:</h3><br/><table class=\"wandb\"><tr><td>accuracy1</td><td>0.0</td></tr><tr><td>accuracy10</td><td>0.00134</td></tr><tr><td>epoch</td><td>199</td></tr><tr><td>f1_score</td><td>0.0</td></tr><tr><td>loss</td><td>8.71342</td></tr><tr><td>precision</td><td>0.0</td></tr><tr><td>recall</td><td>0.0</td></tr></table><br/></div></div>"
      ],
      "text/plain": [
       "<IPython.core.display.HTML object>"
      ]
     },
     "metadata": {},
     "output_type": "display_data"
    },
    {
     "data": {
      "text/html": [
       " View run <strong style=\"color:#cdcd00\">elated-sweep-30</strong> at: <a href='https://wandb.ai/tldbs5026/uncategorized/runs/amtquram' target=\"_blank\">https://wandb.ai/tldbs5026/uncategorized/runs/amtquram</a><br/>Synced 5 W&B file(s), 0 media file(s), 0 artifact file(s) and 0 other file(s)"
      ],
      "text/plain": [
       "<IPython.core.display.HTML object>"
      ]
     },
     "metadata": {},
     "output_type": "display_data"
    },
    {
     "data": {
      "text/html": [
       "Find logs at: <code>./wandb/run-20240313_203547-amtquram/logs</code>"
      ],
      "text/plain": [
       "<IPython.core.display.HTML object>"
      ]
     },
     "metadata": {},
     "output_type": "display_data"
    },
    {
     "name": "stderr",
     "output_type": "stream",
     "text": [
      "\u001b[34m\u001b[1mwandb\u001b[0m: Sweep Agent: Waiting for job.\n",
      "\u001b[34m\u001b[1mwandb\u001b[0m: Job received.\n",
      "\u001b[34m\u001b[1mwandb\u001b[0m: Agent Starting Run: wc2rcou1 with config:\n",
      "\u001b[34m\u001b[1mwandb\u001b[0m: \tbatch_size: 256\n",
      "\u001b[34m\u001b[1mwandb\u001b[0m: \tdropout: 0.1\n",
      "\u001b[34m\u001b[1mwandb\u001b[0m: \tembed_dim: 256\n",
      "\u001b[34m\u001b[1mwandb\u001b[0m: \tepochs: 200\n",
      "\u001b[34m\u001b[1mwandb\u001b[0m: \tlr: 0.0001\n",
      "\u001b[34m\u001b[1mwandb\u001b[0m: \tmlp_dims: [256, 256, 128, 128, 64, 64, 32, 32, 16, 16]\n",
      "\u001b[34m\u001b[1mwandb\u001b[0m: \tweight_decay: 1e-05\n",
      "\u001b[34m\u001b[1mwandb\u001b[0m: \u001b[33mWARNING\u001b[0m Ignored wandb.init() arg project when running a sweep.\n"
     ]
    },
    {
     "data": {
      "text/html": [
       "wandb version 0.16.4 is available!  To upgrade, please run:\n",
       " $ pip install wandb --upgrade"
      ],
      "text/plain": [
       "<IPython.core.display.HTML object>"
      ]
     },
     "metadata": {},
     "output_type": "display_data"
    },
    {
     "data": {
      "text/html": [
       "Tracking run with wandb version 0.16.3"
      ],
      "text/plain": [
       "<IPython.core.display.HTML object>"
      ]
     },
     "metadata": {},
     "output_type": "display_data"
    },
    {
     "data": {
      "text/html": [
       "Run data is saved locally in <code>/home/siyun/ephemeral/WDN/wandb/run-20240313_204305-wc2rcou1</code>"
      ],
      "text/plain": [
       "<IPython.core.display.HTML object>"
      ]
     },
     "metadata": {},
     "output_type": "display_data"
    },
    {
     "data": {
      "text/html": [
       "Syncing run <strong><a href='https://wandb.ai/tldbs5026/uncategorized/runs/wc2rcou1' target=\"_blank\">vocal-sweep-31</a></strong> to <a href='https://wandb.ai/tldbs5026/uncategorized' target=\"_blank\">Weights & Biases</a> (<a href='https://wandb.me/run' target=\"_blank\">docs</a>)<br/>Sweep page: <a href='https://wandb.ai/tldbs5026/uncategorized/sweeps/vcevyz8u' target=\"_blank\">https://wandb.ai/tldbs5026/uncategorized/sweeps/vcevyz8u</a>"
      ],
      "text/plain": [
       "<IPython.core.display.HTML object>"
      ]
     },
     "metadata": {},
     "output_type": "display_data"
    },
    {
     "data": {
      "text/html": [
       " View project at <a href='https://wandb.ai/tldbs5026/uncategorized' target=\"_blank\">https://wandb.ai/tldbs5026/uncategorized</a>"
      ],
      "text/plain": [
       "<IPython.core.display.HTML object>"
      ]
     },
     "metadata": {},
     "output_type": "display_data"
    },
    {
     "data": {
      "text/html": [
       " View sweep at <a href='https://wandb.ai/tldbs5026/uncategorized/sweeps/vcevyz8u' target=\"_blank\">https://wandb.ai/tldbs5026/uncategorized/sweeps/vcevyz8u</a>"
      ],
      "text/plain": [
       "<IPython.core.display.HTML object>"
      ]
     },
     "metadata": {},
     "output_type": "display_data"
    },
    {
     "data": {
      "text/html": [
       " View run at <a href='https://wandb.ai/tldbs5026/uncategorized/runs/wc2rcou1' target=\"_blank\">https://wandb.ai/tldbs5026/uncategorized/runs/wc2rcou1</a>"
      ],
      "text/plain": [
       "<IPython.core.display.HTML object>"
      ]
     },
     "metadata": {},
     "output_type": "display_data"
    },
    {
     "data": {
      "text/html": [
       "<style>\n",
       "    table.wandb td:nth-child(1) { padding: 0 10px; text-align: left ; width: auto;} td:nth-child(2) {text-align: left ; width: 100%}\n",
       "    .wandb-row { display: flex; flex-direction: row; flex-wrap: wrap; justify-content: flex-start; width: 100% }\n",
       "    .wandb-col { display: flex; flex-direction: column; flex-basis: 100%; flex: 1; padding: 10px; }\n",
       "    </style>\n",
       "<div class=\"wandb-row\"><div class=\"wandb-col\"><h3>Run history:</h3><br/><table class=\"wandb\"><tr><td>accuracy1</td><td>▂▂▂▇▇▇▇▄▁▄▂▅▇▄▄▄▄▅▄▅▄▄▁█▂▄▄▄▄▂▄▅▇▅▂▄▂▂▁▅</td></tr><tr><td>accuracy10</td><td>▂▁▂▂▃▅▃▆▇▇▇█▇█▆▇▇█▇▇█▇██▇▇▇█▇▇▇██▇▇▇▇▇█▇</td></tr><tr><td>epoch</td><td>▁▁▁▁▂▂▂▂▂▃▃▃▃▃▃▄▄▄▄▄▅▅▅▅▅▅▆▆▆▆▆▇▇▇▇▇▇███</td></tr><tr><td>f1_score</td><td>▁▁▁▁▁▁▁▁▁▁▁▁▁▁▁▁▁▁▁▁▁▁▁▁▁▁▁▁▁▁▁▁▁▁▁▁▁▁▁▁</td></tr><tr><td>loss</td><td>▃▃▁▁▁▆▁█████▆██████████▆█████████▃█▆████</td></tr><tr><td>precision</td><td>▁▁▁▁▁▁▁▁▁▁▁▁▁▁▁▁▁▁▁▁▁▁▁▁▁▁▁▁▁▁▁▁▁▁▁▁▁▁▁▁</td></tr><tr><td>recall</td><td>▁▁▁▁▁▁▁▁▁▁▁▁▁▁▁▁▁▁▁▁▁▁▁▁▁▁▁▁▁▁▁▁▁▁▁▁▁▁▁▁</td></tr></table><br/></div><div class=\"wandb-col\"><h3>Run summary:</h3><br/><table class=\"wandb\"><tr><td>accuracy1</td><td>0.03211</td></tr><tr><td>accuracy10</td><td>0.0077</td></tr><tr><td>epoch</td><td>199</td></tr><tr><td>f1_score</td><td>0.0</td></tr><tr><td>loss</td><td>8.71342</td></tr><tr><td>precision</td><td>0.0</td></tr><tr><td>recall</td><td>0.0</td></tr></table><br/></div></div>"
      ],
      "text/plain": [
       "<IPython.core.display.HTML object>"
      ]
     },
     "metadata": {},
     "output_type": "display_data"
    },
    {
     "data": {
      "text/html": [
       " View run <strong style=\"color:#cdcd00\">vocal-sweep-31</strong> at: <a href='https://wandb.ai/tldbs5026/uncategorized/runs/wc2rcou1' target=\"_blank\">https://wandb.ai/tldbs5026/uncategorized/runs/wc2rcou1</a><br/>Synced 5 W&B file(s), 0 media file(s), 0 artifact file(s) and 0 other file(s)"
      ],
      "text/plain": [
       "<IPython.core.display.HTML object>"
      ]
     },
     "metadata": {},
     "output_type": "display_data"
    },
    {
     "data": {
      "text/html": [
       "Find logs at: <code>./wandb/run-20240313_204305-wc2rcou1/logs</code>"
      ],
      "text/plain": [
       "<IPython.core.display.HTML object>"
      ]
     },
     "metadata": {},
     "output_type": "display_data"
    },
    {
     "name": "stderr",
     "output_type": "stream",
     "text": [
      "\u001b[34m\u001b[1mwandb\u001b[0m: Agent Starting Run: koenopwf with config:\n",
      "\u001b[34m\u001b[1mwandb\u001b[0m: \tbatch_size: 256\n",
      "\u001b[34m\u001b[1mwandb\u001b[0m: \tdropout: 0.1\n",
      "\u001b[34m\u001b[1mwandb\u001b[0m: \tembed_dim: 256\n",
      "\u001b[34m\u001b[1mwandb\u001b[0m: \tepochs: 200\n",
      "\u001b[34m\u001b[1mwandb\u001b[0m: \tlr: 0.0001\n",
      "\u001b[34m\u001b[1mwandb\u001b[0m: \tmlp_dims: [256, 256, 128, 128, 64, 64, 32, 32, 16, 16]\n",
      "\u001b[34m\u001b[1mwandb\u001b[0m: \tweight_decay: 0.001\n",
      "\u001b[34m\u001b[1mwandb\u001b[0m: \u001b[33mWARNING\u001b[0m Ignored wandb.init() arg project when running a sweep.\n"
     ]
    },
    {
     "data": {
      "text/html": [
       "wandb version 0.16.4 is available!  To upgrade, please run:\n",
       " $ pip install wandb --upgrade"
      ],
      "text/plain": [
       "<IPython.core.display.HTML object>"
      ]
     },
     "metadata": {},
     "output_type": "display_data"
    },
    {
     "data": {
      "text/html": [
       "Tracking run with wandb version 0.16.3"
      ],
      "text/plain": [
       "<IPython.core.display.HTML object>"
      ]
     },
     "metadata": {},
     "output_type": "display_data"
    },
    {
     "data": {
      "text/html": [
       "Run data is saved locally in <code>/home/siyun/ephemeral/WDN/wandb/run-20240313_205130-koenopwf</code>"
      ],
      "text/plain": [
       "<IPython.core.display.HTML object>"
      ]
     },
     "metadata": {},
     "output_type": "display_data"
    },
    {
     "data": {
      "text/html": [
       "Syncing run <strong><a href='https://wandb.ai/tldbs5026/uncategorized/runs/koenopwf' target=\"_blank\">drawn-sweep-32</a></strong> to <a href='https://wandb.ai/tldbs5026/uncategorized' target=\"_blank\">Weights & Biases</a> (<a href='https://wandb.me/run' target=\"_blank\">docs</a>)<br/>Sweep page: <a href='https://wandb.ai/tldbs5026/uncategorized/sweeps/vcevyz8u' target=\"_blank\">https://wandb.ai/tldbs5026/uncategorized/sweeps/vcevyz8u</a>"
      ],
      "text/plain": [
       "<IPython.core.display.HTML object>"
      ]
     },
     "metadata": {},
     "output_type": "display_data"
    },
    {
     "data": {
      "text/html": [
       " View project at <a href='https://wandb.ai/tldbs5026/uncategorized' target=\"_blank\">https://wandb.ai/tldbs5026/uncategorized</a>"
      ],
      "text/plain": [
       "<IPython.core.display.HTML object>"
      ]
     },
     "metadata": {},
     "output_type": "display_data"
    },
    {
     "data": {
      "text/html": [
       " View sweep at <a href='https://wandb.ai/tldbs5026/uncategorized/sweeps/vcevyz8u' target=\"_blank\">https://wandb.ai/tldbs5026/uncategorized/sweeps/vcevyz8u</a>"
      ],
      "text/plain": [
       "<IPython.core.display.HTML object>"
      ]
     },
     "metadata": {},
     "output_type": "display_data"
    },
    {
     "data": {
      "text/html": [
       " View run at <a href='https://wandb.ai/tldbs5026/uncategorized/runs/koenopwf' target=\"_blank\">https://wandb.ai/tldbs5026/uncategorized/runs/koenopwf</a>"
      ],
      "text/plain": [
       "<IPython.core.display.HTML object>"
      ]
     },
     "metadata": {},
     "output_type": "display_data"
    },
    {
     "data": {
      "text/html": [
       "<style>\n",
       "    table.wandb td:nth-child(1) { padding: 0 10px; text-align: left ; width: auto;} td:nth-child(2) {text-align: left ; width: 100%}\n",
       "    .wandb-row { display: flex; flex-direction: row; flex-wrap: wrap; justify-content: flex-start; width: 100% }\n",
       "    .wandb-col { display: flex; flex-direction: column; flex-basis: 100%; flex: 1; padding: 10px; }\n",
       "    </style>\n",
       "<div class=\"wandb-row\"><div class=\"wandb-col\"><h3>Run history:</h3><br/><table class=\"wandb\"><tr><td>accuracy1</td><td>▅█▁███▅▁▁▅▁▅█▁▅▁▁▁▁▁▁▁▁▁▁▁▅▁▁▁▁▅▁▅▁▁▁▁▁▁</td></tr><tr><td>accuracy10</td><td>█▇▇██▇▇▇▂▂▁▂▄▄▂▅▃▄▄▁▃▄▄▅▂▃▂▃▂▃▄▂▂▄▁▂▂▂▂▃</td></tr><tr><td>epoch</td><td>▁▁▁▁▂▂▂▂▂▃▃▃▃▃▃▄▄▄▄▄▅▅▅▅▅▅▆▆▆▆▆▇▇▇▇▇▇███</td></tr><tr><td>f1_score</td><td>▁▁▁▁▁▁▁▁▁▁▁▁▁▁▁▁▁▁▁▁▁▁▁▁▁▁▁▁▁▁▁▁▁▁▁▁▁▁▁▁</td></tr><tr><td>loss</td><td>▃▃▁▁▁▃██████████████████████████████████</td></tr><tr><td>precision</td><td>▁▁▁▁▁▁▁▁▁▁▁▁▁▁▁▁▁▁▁▁▁▁▁▁▁▁▁▁▁▁▁▁▁▁▁▁▁▁▁▁</td></tr><tr><td>recall</td><td>▁▁▁▁▁▁▁▁▁▁▁▁▁▁▁▁▁▁▁▁▁▁▁▁▁▁▁▁▁▁▁▁▁▁▁▁▁▁▁▁</td></tr></table><br/></div><div class=\"wandb-col\"><h3>Run summary:</h3><br/><table class=\"wandb\"><tr><td>accuracy1</td><td>0.0</td></tr><tr><td>accuracy10</td><td>0.001</td></tr><tr><td>epoch</td><td>199</td></tr><tr><td>f1_score</td><td>0.0</td></tr><tr><td>loss</td><td>8.71342</td></tr><tr><td>precision</td><td>0.0</td></tr><tr><td>recall</td><td>0.0</td></tr></table><br/></div></div>"
      ],
      "text/plain": [
       "<IPython.core.display.HTML object>"
      ]
     },
     "metadata": {},
     "output_type": "display_data"
    },
    {
     "data": {
      "text/html": [
       " View run <strong style=\"color:#cdcd00\">drawn-sweep-32</strong> at: <a href='https://wandb.ai/tldbs5026/uncategorized/runs/koenopwf' target=\"_blank\">https://wandb.ai/tldbs5026/uncategorized/runs/koenopwf</a><br/>Synced 5 W&B file(s), 0 media file(s), 0 artifact file(s) and 0 other file(s)"
      ],
      "text/plain": [
       "<IPython.core.display.HTML object>"
      ]
     },
     "metadata": {},
     "output_type": "display_data"
    },
    {
     "data": {
      "text/html": [
       "Find logs at: <code>./wandb/run-20240313_205130-koenopwf/logs</code>"
      ],
      "text/plain": [
       "<IPython.core.display.HTML object>"
      ]
     },
     "metadata": {},
     "output_type": "display_data"
    },
    {
     "name": "stderr",
     "output_type": "stream",
     "text": [
      "\u001b[34m\u001b[1mwandb\u001b[0m: Agent Starting Run: iped1n1k with config:\n",
      "\u001b[34m\u001b[1mwandb\u001b[0m: \tbatch_size: 256\n",
      "\u001b[34m\u001b[1mwandb\u001b[0m: \tdropout: 0.1\n",
      "\u001b[34m\u001b[1mwandb\u001b[0m: \tembed_dim: 256\n",
      "\u001b[34m\u001b[1mwandb\u001b[0m: \tepochs: 300\n",
      "\u001b[34m\u001b[1mwandb\u001b[0m: \tlr: 0.005\n",
      "\u001b[34m\u001b[1mwandb\u001b[0m: \tmlp_dims: [256, 128, 64, 64, 32, 32]\n",
      "\u001b[34m\u001b[1mwandb\u001b[0m: \tweight_decay: 1e-05\n",
      "\u001b[34m\u001b[1mwandb\u001b[0m: \u001b[33mWARNING\u001b[0m Ignored wandb.init() arg project when running a sweep.\n"
     ]
    },
    {
     "data": {
      "text/html": [
       "wandb version 0.16.4 is available!  To upgrade, please run:\n",
       " $ pip install wandb --upgrade"
      ],
      "text/plain": [
       "<IPython.core.display.HTML object>"
      ]
     },
     "metadata": {},
     "output_type": "display_data"
    },
    {
     "data": {
      "text/html": [
       "Tracking run with wandb version 0.16.3"
      ],
      "text/plain": [
       "<IPython.core.display.HTML object>"
      ]
     },
     "metadata": {},
     "output_type": "display_data"
    },
    {
     "data": {
      "text/html": [
       "Run data is saved locally in <code>/home/siyun/ephemeral/WDN/wandb/run-20240313_205959-iped1n1k</code>"
      ],
      "text/plain": [
       "<IPython.core.display.HTML object>"
      ]
     },
     "metadata": {},
     "output_type": "display_data"
    },
    {
     "data": {
      "text/html": [
       "Syncing run <strong><a href='https://wandb.ai/tldbs5026/uncategorized/runs/iped1n1k' target=\"_blank\">dutiful-sweep-33</a></strong> to <a href='https://wandb.ai/tldbs5026/uncategorized' target=\"_blank\">Weights & Biases</a> (<a href='https://wandb.me/run' target=\"_blank\">docs</a>)<br/>Sweep page: <a href='https://wandb.ai/tldbs5026/uncategorized/sweeps/vcevyz8u' target=\"_blank\">https://wandb.ai/tldbs5026/uncategorized/sweeps/vcevyz8u</a>"
      ],
      "text/plain": [
       "<IPython.core.display.HTML object>"
      ]
     },
     "metadata": {},
     "output_type": "display_data"
    },
    {
     "data": {
      "text/html": [
       " View project at <a href='https://wandb.ai/tldbs5026/uncategorized' target=\"_blank\">https://wandb.ai/tldbs5026/uncategorized</a>"
      ],
      "text/plain": [
       "<IPython.core.display.HTML object>"
      ]
     },
     "metadata": {},
     "output_type": "display_data"
    },
    {
     "data": {
      "text/html": [
       " View sweep at <a href='https://wandb.ai/tldbs5026/uncategorized/sweeps/vcevyz8u' target=\"_blank\">https://wandb.ai/tldbs5026/uncategorized/sweeps/vcevyz8u</a>"
      ],
      "text/plain": [
       "<IPython.core.display.HTML object>"
      ]
     },
     "metadata": {},
     "output_type": "display_data"
    },
    {
     "data": {
      "text/html": [
       " View run at <a href='https://wandb.ai/tldbs5026/uncategorized/runs/iped1n1k' target=\"_blank\">https://wandb.ai/tldbs5026/uncategorized/runs/iped1n1k</a>"
      ],
      "text/plain": [
       "<IPython.core.display.HTML object>"
      ]
     },
     "metadata": {},
     "output_type": "display_data"
    },
    {
     "data": {
      "text/html": [
       "<style>\n",
       "    table.wandb td:nth-child(1) { padding: 0 10px; text-align: left ; width: auto;} td:nth-child(2) {text-align: left ; width: 100%}\n",
       "    .wandb-row { display: flex; flex-direction: row; flex-wrap: wrap; justify-content: flex-start; width: 100% }\n",
       "    .wandb-col { display: flex; flex-direction: column; flex-basis: 100%; flex: 1; padding: 10px; }\n",
       "    </style>\n",
       "<div class=\"wandb-row\"><div class=\"wandb-col\"><h3>Run history:</h3><br/><table class=\"wandb\"><tr><td>accuracy1</td><td>▁▁▁▁▁▁█▅▁▁▅▅▁▅█▁█▅▁▁▁▅▁▁▁▁▁▅▅▁▁▁▁▁▁▁▁▁▁▁</td></tr><tr><td>accuracy10</td><td>▅▄▂▅▁▄▅▇▅▇█▇▄█▅▂▅▂▁▁▄▂▂▂▄█▂▅▅▁▆▅▇▁▂█▁▁▅▁</td></tr><tr><td>epoch</td><td>▁▁▁▁▂▂▂▂▂▃▃▃▃▃▃▄▄▄▄▄▅▅▅▅▅▅▆▆▆▆▆▆▇▇▇▇▇███</td></tr><tr><td>f1_score</td><td>▁▁▁▁▁▁▁▁▁▁▁▁▁▁▁▁▁▁▁▁▁▁▁▁▁▁▁▁▁▁▁▁▁▁▁▁▁▁▁▁</td></tr><tr><td>loss</td><td>▁▁▁▁▁▁▁▁▁▁▁▁▁▁▁▁▁▁▁▁▁▁▁▁▁▁▁▁▁▁▁▁▁▁▁▁▁▁▁▁</td></tr><tr><td>precision</td><td>▁▁▁▁▁▁▁▁▁▁▁▁▁▁▁▁▁▁▁▁▁▁▁▁▁▁▁▁▁▁▁▁▁▁▁▁▁▁▁▁</td></tr><tr><td>recall</td><td>▁▁▁▁▁▁▁▁▁▁▁▁▁▁▁▁▁▁▁▁▁▁▁▁▁▁▁▁▁▁▁▁▁▁▁▁▁▁▁▁</td></tr></table><br/></div><div class=\"wandb-col\"><h3>Run summary:</h3><br/><table class=\"wandb\"><tr><td>accuracy1</td><td>0.0</td></tr><tr><td>accuracy10</td><td>0.00017</td></tr><tr><td>epoch</td><td>299</td></tr><tr><td>f1_score</td><td>0.0</td></tr><tr><td>loss</td><td>8.71342</td></tr><tr><td>precision</td><td>0.0</td></tr><tr><td>recall</td><td>0.0</td></tr></table><br/></div></div>"
      ],
      "text/plain": [
       "<IPython.core.display.HTML object>"
      ]
     },
     "metadata": {},
     "output_type": "display_data"
    },
    {
     "data": {
      "text/html": [
       " View run <strong style=\"color:#cdcd00\">dutiful-sweep-33</strong> at: <a href='https://wandb.ai/tldbs5026/uncategorized/runs/iped1n1k' target=\"_blank\">https://wandb.ai/tldbs5026/uncategorized/runs/iped1n1k</a><br/>Synced 5 W&B file(s), 0 media file(s), 0 artifact file(s) and 0 other file(s)"
      ],
      "text/plain": [
       "<IPython.core.display.HTML object>"
      ]
     },
     "metadata": {},
     "output_type": "display_data"
    },
    {
     "data": {
      "text/html": [
       "Find logs at: <code>./wandb/run-20240313_205959-iped1n1k/logs</code>"
      ],
      "text/plain": [
       "<IPython.core.display.HTML object>"
      ]
     },
     "metadata": {},
     "output_type": "display_data"
    },
    {
     "name": "stderr",
     "output_type": "stream",
     "text": [
      "\u001b[34m\u001b[1mwandb\u001b[0m: Agent Starting Run: w38g6ety with config:\n",
      "\u001b[34m\u001b[1mwandb\u001b[0m: \tbatch_size: 256\n",
      "\u001b[34m\u001b[1mwandb\u001b[0m: \tdropout: 0.1\n",
      "\u001b[34m\u001b[1mwandb\u001b[0m: \tembed_dim: 256\n",
      "\u001b[34m\u001b[1mwandb\u001b[0m: \tepochs: 300\n",
      "\u001b[34m\u001b[1mwandb\u001b[0m: \tlr: 0.005\n",
      "\u001b[34m\u001b[1mwandb\u001b[0m: \tmlp_dims: [256, 128, 64, 64, 32, 32]\n",
      "\u001b[34m\u001b[1mwandb\u001b[0m: \tweight_decay: 0.001\n",
      "\u001b[34m\u001b[1mwandb\u001b[0m: \u001b[33mWARNING\u001b[0m Ignored wandb.init() arg project when running a sweep.\n"
     ]
    },
    {
     "data": {
      "text/html": [
       "wandb version 0.16.4 is available!  To upgrade, please run:\n",
       " $ pip install wandb --upgrade"
      ],
      "text/plain": [
       "<IPython.core.display.HTML object>"
      ]
     },
     "metadata": {},
     "output_type": "display_data"
    },
    {
     "data": {
      "text/html": [
       "Tracking run with wandb version 0.16.3"
      ],
      "text/plain": [
       "<IPython.core.display.HTML object>"
      ]
     },
     "metadata": {},
     "output_type": "display_data"
    },
    {
     "data": {
      "text/html": [
       "Run data is saved locally in <code>/home/siyun/ephemeral/WDN/wandb/run-20240313_211040-w38g6ety</code>"
      ],
      "text/plain": [
       "<IPython.core.display.HTML object>"
      ]
     },
     "metadata": {},
     "output_type": "display_data"
    },
    {
     "data": {
      "text/html": [
       "Syncing run <strong><a href='https://wandb.ai/tldbs5026/uncategorized/runs/w38g6ety' target=\"_blank\">grateful-sweep-34</a></strong> to <a href='https://wandb.ai/tldbs5026/uncategorized' target=\"_blank\">Weights & Biases</a> (<a href='https://wandb.me/run' target=\"_blank\">docs</a>)<br/>Sweep page: <a href='https://wandb.ai/tldbs5026/uncategorized/sweeps/vcevyz8u' target=\"_blank\">https://wandb.ai/tldbs5026/uncategorized/sweeps/vcevyz8u</a>"
      ],
      "text/plain": [
       "<IPython.core.display.HTML object>"
      ]
     },
     "metadata": {},
     "output_type": "display_data"
    },
    {
     "data": {
      "text/html": [
       " View project at <a href='https://wandb.ai/tldbs5026/uncategorized' target=\"_blank\">https://wandb.ai/tldbs5026/uncategorized</a>"
      ],
      "text/plain": [
       "<IPython.core.display.HTML object>"
      ]
     },
     "metadata": {},
     "output_type": "display_data"
    },
    {
     "data": {
      "text/html": [
       " View sweep at <a href='https://wandb.ai/tldbs5026/uncategorized/sweeps/vcevyz8u' target=\"_blank\">https://wandb.ai/tldbs5026/uncategorized/sweeps/vcevyz8u</a>"
      ],
      "text/plain": [
       "<IPython.core.display.HTML object>"
      ]
     },
     "metadata": {},
     "output_type": "display_data"
    },
    {
     "data": {
      "text/html": [
       " View run at <a href='https://wandb.ai/tldbs5026/uncategorized/runs/w38g6ety' target=\"_blank\">https://wandb.ai/tldbs5026/uncategorized/runs/w38g6ety</a>"
      ],
      "text/plain": [
       "<IPython.core.display.HTML object>"
      ]
     },
     "metadata": {},
     "output_type": "display_data"
    },
    {
     "data": {
      "text/html": [
       "<style>\n",
       "    table.wandb td:nth-child(1) { padding: 0 10px; text-align: left ; width: auto;} td:nth-child(2) {text-align: left ; width: 100%}\n",
       "    .wandb-row { display: flex; flex-direction: row; flex-wrap: wrap; justify-content: flex-start; width: 100% }\n",
       "    .wandb-col { display: flex; flex-direction: column; flex-basis: 100%; flex: 1; padding: 10px; }\n",
       "    </style>\n",
       "<div class=\"wandb-row\"><div class=\"wandb-col\"><h3>Run history:</h3><br/><table class=\"wandb\"><tr><td>accuracy1</td><td>▁▃▃▁▆▁▃▁▃▁█▁▃▁▃█▁▁▁▃▁▁▁▁▆▁▃▁▁▃▆▃▆▁▃▃▁▁▁▃</td></tr><tr><td>accuracy10</td><td>▂▃▃▂▃▃▂▄▄▁▆▁▅▅▃▅▃▂▄█▅▁▃▃▃▄▄▂▄▄▅▄▄▃▅▄▃▃▂▄</td></tr><tr><td>epoch</td><td>▁▁▁▁▂▂▂▂▂▃▃▃▃▃▃▄▄▄▄▄▅▅▅▅▅▅▆▆▆▆▆▆▇▇▇▇▇███</td></tr><tr><td>f1_score</td><td>▁▁▁▁▁▁▁▁▁▁▁▁▁▁▁▁▁▁▁▁▁▁▁▁▁▁▁▁▁▁▁▁▁▁▁▁▁▁▁▁</td></tr><tr><td>loss</td><td>▁▁▁▁▁▁▁▁▁▁▁▁▁▁▁▁▁▁▁▁▁▁▁▁▁▁▁▁▁▁▁▁▁▁▁▁▁▁▁▁</td></tr><tr><td>precision</td><td>▁▁▁▁▁▁▁▁▁▁▁▁▁▁▁▁▁▁▁▁▁▁▁▁▁▁▁▁▁▁▁▁▁▁▁▁▁▁▁▁</td></tr><tr><td>recall</td><td>▁▁▁▁▁▁▁▁▁▁▁▁▁▁▁▁▁▁▁▁▁▁▁▁▁▁▁▁▁▁▁▁▁▁▁▁▁▁▁▁</td></tr></table><br/></div><div class=\"wandb-col\"><h3>Run summary:</h3><br/><table class=\"wandb\"><tr><td>accuracy1</td><td>0.0107</td></tr><tr><td>accuracy10</td><td>0.00117</td></tr><tr><td>epoch</td><td>299</td></tr><tr><td>f1_score</td><td>0.0</td></tr><tr><td>loss</td><td>8.71342</td></tr><tr><td>precision</td><td>0.0</td></tr><tr><td>recall</td><td>0.0</td></tr></table><br/></div></div>"
      ],
      "text/plain": [
       "<IPython.core.display.HTML object>"
      ]
     },
     "metadata": {},
     "output_type": "display_data"
    },
    {
     "data": {
      "text/html": [
       " View run <strong style=\"color:#cdcd00\">grateful-sweep-34</strong> at: <a href='https://wandb.ai/tldbs5026/uncategorized/runs/w38g6ety' target=\"_blank\">https://wandb.ai/tldbs5026/uncategorized/runs/w38g6ety</a><br/>Synced 5 W&B file(s), 0 media file(s), 0 artifact file(s) and 0 other file(s)"
      ],
      "text/plain": [
       "<IPython.core.display.HTML object>"
      ]
     },
     "metadata": {},
     "output_type": "display_data"
    },
    {
     "data": {
      "text/html": [
       "Find logs at: <code>./wandb/run-20240313_211040-w38g6ety/logs</code>"
      ],
      "text/plain": [
       "<IPython.core.display.HTML object>"
      ]
     },
     "metadata": {},
     "output_type": "display_data"
    },
    {
     "name": "stderr",
     "output_type": "stream",
     "text": [
      "\u001b[34m\u001b[1mwandb\u001b[0m: Agent Starting Run: uhtyda7m with config:\n",
      "\u001b[34m\u001b[1mwandb\u001b[0m: \tbatch_size: 256\n",
      "\u001b[34m\u001b[1mwandb\u001b[0m: \tdropout: 0.1\n",
      "\u001b[34m\u001b[1mwandb\u001b[0m: \tembed_dim: 256\n",
      "\u001b[34m\u001b[1mwandb\u001b[0m: \tepochs: 300\n",
      "\u001b[34m\u001b[1mwandb\u001b[0m: \tlr: 0.005\n",
      "\u001b[34m\u001b[1mwandb\u001b[0m: \tmlp_dims: [256, 256, 128, 128, 64, 64, 32, 32, 16, 16]\n",
      "\u001b[34m\u001b[1mwandb\u001b[0m: \tweight_decay: 1e-05\n",
      "\u001b[34m\u001b[1mwandb\u001b[0m: \u001b[33mWARNING\u001b[0m Ignored wandb.init() arg project when running a sweep.\n"
     ]
    },
    {
     "data": {
      "text/html": [
       "wandb version 0.16.4 is available!  To upgrade, please run:\n",
       " $ pip install wandb --upgrade"
      ],
      "text/plain": [
       "<IPython.core.display.HTML object>"
      ]
     },
     "metadata": {},
     "output_type": "display_data"
    },
    {
     "data": {
      "text/html": [
       "Tracking run with wandb version 0.16.3"
      ],
      "text/plain": [
       "<IPython.core.display.HTML object>"
      ]
     },
     "metadata": {},
     "output_type": "display_data"
    },
    {
     "data": {
      "text/html": [
       "Run data is saved locally in <code>/home/siyun/ephemeral/WDN/wandb/run-20240313_212137-uhtyda7m</code>"
      ],
      "text/plain": [
       "<IPython.core.display.HTML object>"
      ]
     },
     "metadata": {},
     "output_type": "display_data"
    },
    {
     "data": {
      "text/html": [
       "Syncing run <strong><a href='https://wandb.ai/tldbs5026/uncategorized/runs/uhtyda7m' target=\"_blank\">snowy-sweep-35</a></strong> to <a href='https://wandb.ai/tldbs5026/uncategorized' target=\"_blank\">Weights & Biases</a> (<a href='https://wandb.me/run' target=\"_blank\">docs</a>)<br/>Sweep page: <a href='https://wandb.ai/tldbs5026/uncategorized/sweeps/vcevyz8u' target=\"_blank\">https://wandb.ai/tldbs5026/uncategorized/sweeps/vcevyz8u</a>"
      ],
      "text/plain": [
       "<IPython.core.display.HTML object>"
      ]
     },
     "metadata": {},
     "output_type": "display_data"
    },
    {
     "data": {
      "text/html": [
       " View project at <a href='https://wandb.ai/tldbs5026/uncategorized' target=\"_blank\">https://wandb.ai/tldbs5026/uncategorized</a>"
      ],
      "text/plain": [
       "<IPython.core.display.HTML object>"
      ]
     },
     "metadata": {},
     "output_type": "display_data"
    },
    {
     "data": {
      "text/html": [
       " View sweep at <a href='https://wandb.ai/tldbs5026/uncategorized/sweeps/vcevyz8u' target=\"_blank\">https://wandb.ai/tldbs5026/uncategorized/sweeps/vcevyz8u</a>"
      ],
      "text/plain": [
       "<IPython.core.display.HTML object>"
      ]
     },
     "metadata": {},
     "output_type": "display_data"
    },
    {
     "data": {
      "text/html": [
       " View run at <a href='https://wandb.ai/tldbs5026/uncategorized/runs/uhtyda7m' target=\"_blank\">https://wandb.ai/tldbs5026/uncategorized/runs/uhtyda7m</a>"
      ],
      "text/plain": [
       "<IPython.core.display.HTML object>"
      ]
     },
     "metadata": {},
     "output_type": "display_data"
    },
    {
     "data": {
      "text/html": [
       "<style>\n",
       "    table.wandb td:nth-child(1) { padding: 0 10px; text-align: left ; width: auto;} td:nth-child(2) {text-align: left ; width: 100%}\n",
       "    .wandb-row { display: flex; flex-direction: row; flex-wrap: wrap; justify-content: flex-start; width: 100% }\n",
       "    .wandb-col { display: flex; flex-direction: column; flex-basis: 100%; flex: 1; padding: 10px; }\n",
       "    </style>\n",
       "<div class=\"wandb-row\"><div class=\"wandb-col\"><h3>Run history:</h3><br/><table class=\"wandb\"><tr><td>accuracy1</td><td>▃▆▁▁▁▁▁█▁▃▃▁▃▁▁▃▁▁▃▃▁▃▁▁▃▁▁▃▃▁▁▁▃▁▁▁▁▁▃▁</td></tr><tr><td>accuracy10</td><td>█▆▁▃▃▃▃▅▃▂▃▆▄▃▄▆▂▃▅▅▃▆▅▂▄▃▃▃▃▄▂▃▃▃▃▃▃▃▆▄</td></tr><tr><td>epoch</td><td>▁▁▁▁▂▂▂▂▂▃▃▃▃▃▃▄▄▄▄▄▅▅▅▅▅▅▆▆▆▆▆▆▇▇▇▇▇███</td></tr><tr><td>f1_score</td><td>▁▁▁▁▁▁▁▁▁▁▁▁▁▁▁▁▁▁▁▁▁▁▁▁▁▁▁▁▁▁▁▁▁▁▁▁▁▁▁▁</td></tr><tr><td>loss</td><td>▁▁▁▁▁▁▁▁▁▁▁▁▁▁▁▁▁▁▁▁▁▁▁▁▁▁▁▁▁▁▁▁▁▁▁▁▁▁▁▁</td></tr><tr><td>precision</td><td>▁▁▁▁▁▁▁▁▁▁▁▁▁▁▁▁▁▁▁▁▁▁▁▁▁▁▁▁▁▁▁▁▁▁▁▁▁▁▁▁</td></tr><tr><td>recall</td><td>▁▁▁▁▁▁▁▁▁▁▁▁▁▁▁▁▁▁▁▁▁▁▁▁▁▁▁▁▁▁▁▁▁▁▁▁▁▁▁▁</td></tr></table><br/></div><div class=\"wandb-col\"><h3>Run summary:</h3><br/><table class=\"wandb\"><tr><td>accuracy1</td><td>0.0</td></tr><tr><td>accuracy10</td><td>0.00067</td></tr><tr><td>epoch</td><td>299</td></tr><tr><td>f1_score</td><td>0.0</td></tr><tr><td>loss</td><td>8.71342</td></tr><tr><td>precision</td><td>0.0</td></tr><tr><td>recall</td><td>0.0</td></tr></table><br/></div></div>"
      ],
      "text/plain": [
       "<IPython.core.display.HTML object>"
      ]
     },
     "metadata": {},
     "output_type": "display_data"
    },
    {
     "data": {
      "text/html": [
       " View run <strong style=\"color:#cdcd00\">snowy-sweep-35</strong> at: <a href='https://wandb.ai/tldbs5026/uncategorized/runs/uhtyda7m' target=\"_blank\">https://wandb.ai/tldbs5026/uncategorized/runs/uhtyda7m</a><br/>Synced 5 W&B file(s), 0 media file(s), 0 artifact file(s) and 0 other file(s)"
      ],
      "text/plain": [
       "<IPython.core.display.HTML object>"
      ]
     },
     "metadata": {},
     "output_type": "display_data"
    },
    {
     "data": {
      "text/html": [
       "Find logs at: <code>./wandb/run-20240313_212137-uhtyda7m/logs</code>"
      ],
      "text/plain": [
       "<IPython.core.display.HTML object>"
      ]
     },
     "metadata": {},
     "output_type": "display_data"
    },
    {
     "name": "stderr",
     "output_type": "stream",
     "text": [
      "\u001b[34m\u001b[1mwandb\u001b[0m: Agent Starting Run: 21dtnfq2 with config:\n",
      "\u001b[34m\u001b[1mwandb\u001b[0m: \tbatch_size: 256\n",
      "\u001b[34m\u001b[1mwandb\u001b[0m: \tdropout: 0.1\n",
      "\u001b[34m\u001b[1mwandb\u001b[0m: \tembed_dim: 256\n",
      "\u001b[34m\u001b[1mwandb\u001b[0m: \tepochs: 300\n",
      "\u001b[34m\u001b[1mwandb\u001b[0m: \tlr: 0.005\n",
      "\u001b[34m\u001b[1mwandb\u001b[0m: \tmlp_dims: [256, 256, 128, 128, 64, 64, 32, 32, 16, 16]\n",
      "\u001b[34m\u001b[1mwandb\u001b[0m: \tweight_decay: 0.001\n",
      "\u001b[34m\u001b[1mwandb\u001b[0m: \u001b[33mWARNING\u001b[0m Ignored wandb.init() arg project when running a sweep.\n"
     ]
    },
    {
     "data": {
      "text/html": [
       "wandb version 0.16.4 is available!  To upgrade, please run:\n",
       " $ pip install wandb --upgrade"
      ],
      "text/plain": [
       "<IPython.core.display.HTML object>"
      ]
     },
     "metadata": {},
     "output_type": "display_data"
    },
    {
     "data": {
      "text/html": [
       "Tracking run with wandb version 0.16.3"
      ],
      "text/plain": [
       "<IPython.core.display.HTML object>"
      ]
     },
     "metadata": {},
     "output_type": "display_data"
    },
    {
     "data": {
      "text/html": [
       "Run data is saved locally in <code>/home/siyun/ephemeral/WDN/wandb/run-20240313_213402-21dtnfq2</code>"
      ],
      "text/plain": [
       "<IPython.core.display.HTML object>"
      ]
     },
     "metadata": {},
     "output_type": "display_data"
    },
    {
     "data": {
      "text/html": [
       "Syncing run <strong><a href='https://wandb.ai/tldbs5026/uncategorized/runs/21dtnfq2' target=\"_blank\">sweepy-sweep-36</a></strong> to <a href='https://wandb.ai/tldbs5026/uncategorized' target=\"_blank\">Weights & Biases</a> (<a href='https://wandb.me/run' target=\"_blank\">docs</a>)<br/>Sweep page: <a href='https://wandb.ai/tldbs5026/uncategorized/sweeps/vcevyz8u' target=\"_blank\">https://wandb.ai/tldbs5026/uncategorized/sweeps/vcevyz8u</a>"
      ],
      "text/plain": [
       "<IPython.core.display.HTML object>"
      ]
     },
     "metadata": {},
     "output_type": "display_data"
    },
    {
     "data": {
      "text/html": [
       " View project at <a href='https://wandb.ai/tldbs5026/uncategorized' target=\"_blank\">https://wandb.ai/tldbs5026/uncategorized</a>"
      ],
      "text/plain": [
       "<IPython.core.display.HTML object>"
      ]
     },
     "metadata": {},
     "output_type": "display_data"
    },
    {
     "data": {
      "text/html": [
       " View sweep at <a href='https://wandb.ai/tldbs5026/uncategorized/sweeps/vcevyz8u' target=\"_blank\">https://wandb.ai/tldbs5026/uncategorized/sweeps/vcevyz8u</a>"
      ],
      "text/plain": [
       "<IPython.core.display.HTML object>"
      ]
     },
     "metadata": {},
     "output_type": "display_data"
    },
    {
     "data": {
      "text/html": [
       " View run at <a href='https://wandb.ai/tldbs5026/uncategorized/runs/21dtnfq2' target=\"_blank\">https://wandb.ai/tldbs5026/uncategorized/runs/21dtnfq2</a>"
      ],
      "text/plain": [
       "<IPython.core.display.HTML object>"
      ]
     },
     "metadata": {},
     "output_type": "display_data"
    },
    {
     "data": {
      "text/html": [
       "<style>\n",
       "    table.wandb td:nth-child(1) { padding: 0 10px; text-align: left ; width: auto;} td:nth-child(2) {text-align: left ; width: 100%}\n",
       "    .wandb-row { display: flex; flex-direction: row; flex-wrap: wrap; justify-content: flex-start; width: 100% }\n",
       "    .wandb-col { display: flex; flex-direction: column; flex-basis: 100%; flex: 1; padding: 10px; }\n",
       "    </style>\n",
       "<div class=\"wandb-row\"><div class=\"wandb-col\"><h3>Run history:</h3><br/><table class=\"wandb\"><tr><td>accuracy1</td><td>▁▅▅▁▁▅▅▁▁▅▅▁▅▁▅▅▁▁█▁▁▅▁▁▅▅▁▅▅▁▁█▁█▅▅▅▅▁▅</td></tr><tr><td>accuracy10</td><td>█▇▄▂▁▂▆▅▃▅▂▂▆▄▂▆▄▅█▂▃▅▃▇▂▃▅▂▃▅▅▅▄▆▄▆▃▄▇▃</td></tr><tr><td>epoch</td><td>▁▁▁▁▂▂▂▂▂▃▃▃▃▃▃▄▄▄▄▄▅▅▅▅▅▅▆▆▆▆▆▆▇▇▇▇▇███</td></tr><tr><td>f1_score</td><td>▁▁▁▁▁▁▁▁▁▁▁▁▁▁▁▁▁▁▁▁▁▁▁▁▁▁▁▁▁▁▁▁▁▁▁▁▁▁▁▁</td></tr><tr><td>loss</td><td>▁▁▁▁▁▁▁▁▁▁▁▁▁▁▁▁▁▁▁▁▁▁▁▁▁▁▁▁▁▁▁▁▁▁▁▁▁▁▁▁</td></tr><tr><td>precision</td><td>▁▁▁▁▁▁▁▁▁▁▁▁▁▁▁▁▁▁▁▁▁▁▁▁▁▁▁▁▁▁▁▁▁▁▁▁▁▁▁▁</td></tr><tr><td>recall</td><td>▁▁▁▁▁▁▁▁▁▁▁▁▁▁▁▁▁▁▁▁▁▁▁▁▁▁▁▁▁▁▁▁▁▁▁▁▁▁▁▁</td></tr></table><br/></div><div class=\"wandb-col\"><h3>Run summary:</h3><br/><table class=\"wandb\"><tr><td>accuracy1</td><td>0.0107</td></tr><tr><td>accuracy10</td><td>0.00067</td></tr><tr><td>epoch</td><td>299</td></tr><tr><td>f1_score</td><td>0.0</td></tr><tr><td>loss</td><td>8.71342</td></tr><tr><td>precision</td><td>0.0</td></tr><tr><td>recall</td><td>0.0</td></tr></table><br/></div></div>"
      ],
      "text/plain": [
       "<IPython.core.display.HTML object>"
      ]
     },
     "metadata": {},
     "output_type": "display_data"
    },
    {
     "data": {
      "text/html": [
       " View run <strong style=\"color:#cdcd00\">sweepy-sweep-36</strong> at: <a href='https://wandb.ai/tldbs5026/uncategorized/runs/21dtnfq2' target=\"_blank\">https://wandb.ai/tldbs5026/uncategorized/runs/21dtnfq2</a><br/>Synced 5 W&B file(s), 0 media file(s), 0 artifact file(s) and 0 other file(s)"
      ],
      "text/plain": [
       "<IPython.core.display.HTML object>"
      ]
     },
     "metadata": {},
     "output_type": "display_data"
    },
    {
     "data": {
      "text/html": [
       "Find logs at: <code>./wandb/run-20240313_213402-21dtnfq2/logs</code>"
      ],
      "text/plain": [
       "<IPython.core.display.HTML object>"
      ]
     },
     "metadata": {},
     "output_type": "display_data"
    },
    {
     "name": "stderr",
     "output_type": "stream",
     "text": [
      "\u001b[34m\u001b[1mwandb\u001b[0m: Agent Starting Run: a87xlfa2 with config:\n",
      "\u001b[34m\u001b[1mwandb\u001b[0m: \tbatch_size: 256\n",
      "\u001b[34m\u001b[1mwandb\u001b[0m: \tdropout: 0.1\n",
      "\u001b[34m\u001b[1mwandb\u001b[0m: \tembed_dim: 256\n",
      "\u001b[34m\u001b[1mwandb\u001b[0m: \tepochs: 300\n",
      "\u001b[34m\u001b[1mwandb\u001b[0m: \tlr: 0.001\n",
      "\u001b[34m\u001b[1mwandb\u001b[0m: \tmlp_dims: [256, 128, 64, 64, 32, 32]\n",
      "\u001b[34m\u001b[1mwandb\u001b[0m: \tweight_decay: 1e-05\n",
      "\u001b[34m\u001b[1mwandb\u001b[0m: \u001b[33mWARNING\u001b[0m Ignored wandb.init() arg project when running a sweep.\n"
     ]
    },
    {
     "data": {
      "text/html": [
       "wandb version 0.16.4 is available!  To upgrade, please run:\n",
       " $ pip install wandb --upgrade"
      ],
      "text/plain": [
       "<IPython.core.display.HTML object>"
      ]
     },
     "metadata": {},
     "output_type": "display_data"
    },
    {
     "data": {
      "text/html": [
       "Tracking run with wandb version 0.16.3"
      ],
      "text/plain": [
       "<IPython.core.display.HTML object>"
      ]
     },
     "metadata": {},
     "output_type": "display_data"
    },
    {
     "data": {
      "text/html": [
       "Run data is saved locally in <code>/home/siyun/ephemeral/WDN/wandb/run-20240313_214621-a87xlfa2</code>"
      ],
      "text/plain": [
       "<IPython.core.display.HTML object>"
      ]
     },
     "metadata": {},
     "output_type": "display_data"
    },
    {
     "data": {
      "text/html": [
       "Syncing run <strong><a href='https://wandb.ai/tldbs5026/uncategorized/runs/a87xlfa2' target=\"_blank\">fragrant-sweep-37</a></strong> to <a href='https://wandb.ai/tldbs5026/uncategorized' target=\"_blank\">Weights & Biases</a> (<a href='https://wandb.me/run' target=\"_blank\">docs</a>)<br/>Sweep page: <a href='https://wandb.ai/tldbs5026/uncategorized/sweeps/vcevyz8u' target=\"_blank\">https://wandb.ai/tldbs5026/uncategorized/sweeps/vcevyz8u</a>"
      ],
      "text/plain": [
       "<IPython.core.display.HTML object>"
      ]
     },
     "metadata": {},
     "output_type": "display_data"
    },
    {
     "data": {
      "text/html": [
       " View project at <a href='https://wandb.ai/tldbs5026/uncategorized' target=\"_blank\">https://wandb.ai/tldbs5026/uncategorized</a>"
      ],
      "text/plain": [
       "<IPython.core.display.HTML object>"
      ]
     },
     "metadata": {},
     "output_type": "display_data"
    },
    {
     "data": {
      "text/html": [
       " View sweep at <a href='https://wandb.ai/tldbs5026/uncategorized/sweeps/vcevyz8u' target=\"_blank\">https://wandb.ai/tldbs5026/uncategorized/sweeps/vcevyz8u</a>"
      ],
      "text/plain": [
       "<IPython.core.display.HTML object>"
      ]
     },
     "metadata": {},
     "output_type": "display_data"
    },
    {
     "data": {
      "text/html": [
       " View run at <a href='https://wandb.ai/tldbs5026/uncategorized/runs/a87xlfa2' target=\"_blank\">https://wandb.ai/tldbs5026/uncategorized/runs/a87xlfa2</a>"
      ],
      "text/plain": [
       "<IPython.core.display.HTML object>"
      ]
     },
     "metadata": {},
     "output_type": "display_data"
    },
    {
     "data": {
      "text/html": [
       "<style>\n",
       "    table.wandb td:nth-child(1) { padding: 0 10px; text-align: left ; width: auto;} td:nth-child(2) {text-align: left ; width: 100%}\n",
       "    .wandb-row { display: flex; flex-direction: row; flex-wrap: wrap; justify-content: flex-start; width: 100% }\n",
       "    .wandb-col { display: flex; flex-direction: column; flex-basis: 100%; flex: 1; padding: 10px; }\n",
       "    </style>\n",
       "<div class=\"wandb-row\"><div class=\"wandb-col\"><h3>Run history:</h3><br/><table class=\"wandb\"><tr><td>accuracy1</td><td>▃▃█▁▃▆▁▁▁▁▃▆▁▁▃▃▃▆▃▆▁▃▃▁▁▃▃▁▁▆▁▁▁▁▁▃▁▃▃▁</td></tr><tr><td>accuracy10</td><td>▅▅▅▂▂▅▆▄▂▂▄▅▃▄▄▆▃▄▅▃▃▃▁▄▆▅▃▄█▄▃▁▃▂▆▅▇▄▅▄</td></tr><tr><td>epoch</td><td>▁▁▁▁▂▂▂▂▂▃▃▃▃▃▃▄▄▄▄▄▅▅▅▅▅▅▆▆▆▆▆▆▇▇▇▇▇███</td></tr><tr><td>f1_score</td><td>▁▁▁▁▁▁▁▁▁▁▁▁▁▁▁▁▁▁▁▁▁▁▁▁▁▁▁▁▁▁▁▁▁▁▁▁▁▁▁▁</td></tr><tr><td>loss</td><td>▅▅▅▅▅▅▅▅▅▅▅█▅▅▅▅▅▅▅▅▅▅▅▅▅▅▁▅██▅▅▅▅▅▅▅▅▅▅</td></tr><tr><td>precision</td><td>▁▁▁▁▁▁▁▁▁▁▁▁▁▁▁▁▁▁▁▁▁▁▁▁▁▁▁▁▁▁▁▁▁▁▁▁▁▁▁▁</td></tr><tr><td>recall</td><td>▁▁▁▁▁▁▁▁▁▁▁▁▁▁▁▁▁▁▁▁▁▁▁▁▁▁▁▁▁▁▁▁▁▁▁▁▁▁▁▁</td></tr></table><br/></div><div class=\"wandb-col\"><h3>Run summary:</h3><br/><table class=\"wandb\"><tr><td>accuracy1</td><td>0.0</td></tr><tr><td>accuracy10</td><td>0.001</td></tr><tr><td>epoch</td><td>299</td></tr><tr><td>f1_score</td><td>0.0</td></tr><tr><td>loss</td><td>8.71342</td></tr><tr><td>precision</td><td>0.0</td></tr><tr><td>recall</td><td>0.0</td></tr></table><br/></div></div>"
      ],
      "text/plain": [
       "<IPython.core.display.HTML object>"
      ]
     },
     "metadata": {},
     "output_type": "display_data"
    },
    {
     "data": {
      "text/html": [
       " View run <strong style=\"color:#cdcd00\">fragrant-sweep-37</strong> at: <a href='https://wandb.ai/tldbs5026/uncategorized/runs/a87xlfa2' target=\"_blank\">https://wandb.ai/tldbs5026/uncategorized/runs/a87xlfa2</a><br/>Synced 5 W&B file(s), 0 media file(s), 0 artifact file(s) and 0 other file(s)"
      ],
      "text/plain": [
       "<IPython.core.display.HTML object>"
      ]
     },
     "metadata": {},
     "output_type": "display_data"
    },
    {
     "data": {
      "text/html": [
       "Find logs at: <code>./wandb/run-20240313_214621-a87xlfa2/logs</code>"
      ],
      "text/plain": [
       "<IPython.core.display.HTML object>"
      ]
     },
     "metadata": {},
     "output_type": "display_data"
    },
    {
     "name": "stderr",
     "output_type": "stream",
     "text": [
      "\u001b[34m\u001b[1mwandb\u001b[0m: Agent Starting Run: 5g6g0jw2 with config:\n",
      "\u001b[34m\u001b[1mwandb\u001b[0m: \tbatch_size: 256\n",
      "\u001b[34m\u001b[1mwandb\u001b[0m: \tdropout: 0.1\n",
      "\u001b[34m\u001b[1mwandb\u001b[0m: \tembed_dim: 256\n",
      "\u001b[34m\u001b[1mwandb\u001b[0m: \tepochs: 300\n",
      "\u001b[34m\u001b[1mwandb\u001b[0m: \tlr: 0.001\n",
      "\u001b[34m\u001b[1mwandb\u001b[0m: \tmlp_dims: [256, 128, 64, 64, 32, 32]\n",
      "\u001b[34m\u001b[1mwandb\u001b[0m: \tweight_decay: 0.001\n",
      "\u001b[34m\u001b[1mwandb\u001b[0m: \u001b[33mWARNING\u001b[0m Ignored wandb.init() arg project when running a sweep.\n"
     ]
    },
    {
     "data": {
      "text/html": [
       "wandb version 0.16.4 is available!  To upgrade, please run:\n",
       " $ pip install wandb --upgrade"
      ],
      "text/plain": [
       "<IPython.core.display.HTML object>"
      ]
     },
     "metadata": {},
     "output_type": "display_data"
    },
    {
     "data": {
      "text/html": [
       "Tracking run with wandb version 0.16.3"
      ],
      "text/plain": [
       "<IPython.core.display.HTML object>"
      ]
     },
     "metadata": {},
     "output_type": "display_data"
    },
    {
     "data": {
      "text/html": [
       "Run data is saved locally in <code>/home/siyun/ephemeral/WDN/wandb/run-20240313_215656-5g6g0jw2</code>"
      ],
      "text/plain": [
       "<IPython.core.display.HTML object>"
      ]
     },
     "metadata": {},
     "output_type": "display_data"
    },
    {
     "data": {
      "text/html": [
       "Syncing run <strong><a href='https://wandb.ai/tldbs5026/uncategorized/runs/5g6g0jw2' target=\"_blank\">fresh-sweep-38</a></strong> to <a href='https://wandb.ai/tldbs5026/uncategorized' target=\"_blank\">Weights & Biases</a> (<a href='https://wandb.me/run' target=\"_blank\">docs</a>)<br/>Sweep page: <a href='https://wandb.ai/tldbs5026/uncategorized/sweeps/vcevyz8u' target=\"_blank\">https://wandb.ai/tldbs5026/uncategorized/sweeps/vcevyz8u</a>"
      ],
      "text/plain": [
       "<IPython.core.display.HTML object>"
      ]
     },
     "metadata": {},
     "output_type": "display_data"
    },
    {
     "data": {
      "text/html": [
       " View project at <a href='https://wandb.ai/tldbs5026/uncategorized' target=\"_blank\">https://wandb.ai/tldbs5026/uncategorized</a>"
      ],
      "text/plain": [
       "<IPython.core.display.HTML object>"
      ]
     },
     "metadata": {},
     "output_type": "display_data"
    },
    {
     "data": {
      "text/html": [
       " View sweep at <a href='https://wandb.ai/tldbs5026/uncategorized/sweeps/vcevyz8u' target=\"_blank\">https://wandb.ai/tldbs5026/uncategorized/sweeps/vcevyz8u</a>"
      ],
      "text/plain": [
       "<IPython.core.display.HTML object>"
      ]
     },
     "metadata": {},
     "output_type": "display_data"
    },
    {
     "data": {
      "text/html": [
       " View run at <a href='https://wandb.ai/tldbs5026/uncategorized/runs/5g6g0jw2' target=\"_blank\">https://wandb.ai/tldbs5026/uncategorized/runs/5g6g0jw2</a>"
      ],
      "text/plain": [
       "<IPython.core.display.HTML object>"
      ]
     },
     "metadata": {},
     "output_type": "display_data"
    },
    {
     "data": {
      "text/html": [
       "<style>\n",
       "    table.wandb td:nth-child(1) { padding: 0 10px; text-align: left ; width: auto;} td:nth-child(2) {text-align: left ; width: 100%}\n",
       "    .wandb-row { display: flex; flex-direction: row; flex-wrap: wrap; justify-content: flex-start; width: 100% }\n",
       "    .wandb-col { display: flex; flex-direction: column; flex-basis: 100%; flex: 1; padding: 10px; }\n",
       "    </style>\n",
       "<div class=\"wandb-row\"><div class=\"wandb-col\"><h3>Run history:</h3><br/><table class=\"wandb\"><tr><td>accuracy1</td><td>▅▁▅▅▅▁▅▁▅▁▅▁▁▅▁▅▅▁▅▁▁▅▁▁▅▁▅▁▁▅▁▅▁▅▁█▅▁▁▁</td></tr><tr><td>accuracy10</td><td>▇▄▄▂▂▃▅▄▆▅▄▂▇▄▁▅█▅▆▆▄▄▃▅▅▇▄▄▄▂▅▃▂▂▃▄█▅▄▅</td></tr><tr><td>epoch</td><td>▁▁▁▁▂▂▂▂▂▃▃▃▃▃▃▄▄▄▄▄▅▅▅▅▅▅▆▆▆▆▆▆▇▇▇▇▇███</td></tr><tr><td>f1_score</td><td>▁▁▁▁▁▁▁▁▁▁▁▁▁▁▁▁█▁▁▁▁▁▁▁▁▁▁▁▁▁▁▁▁▁▁▁▁▁▁▁</td></tr><tr><td>loss</td><td>▁▁▁▁▁▁▁▁▁▁▁▁▁▁▁▁▁▁▁▁▁▁▁▁▁▁▁▁▁▁▁▁▁▁▁▁▁▁▁▁</td></tr><tr><td>precision</td><td>▁▁▁▁▁▁▁▁▁▁▁▁▁▁▁▁█▁▁▁▁▁▁▁▁▁▁▁▁▁▁▁▁▁▁▁▁▁▁▁</td></tr><tr><td>recall</td><td>▁▁▁▁▁▁▁▁▁▁▁▁▁▁▁▁█▁▁▁▁▁▁▁▁▁▁▁▁▁▁▁▁▁▁▁▁▁▁▁</td></tr></table><br/></div><div class=\"wandb-col\"><h3>Run summary:</h3><br/><table class=\"wandb\"><tr><td>accuracy1</td><td>0.0</td></tr><tr><td>accuracy10</td><td>0.00117</td></tr><tr><td>epoch</td><td>299</td></tr><tr><td>f1_score</td><td>0.0</td></tr><tr><td>loss</td><td>8.71342</td></tr><tr><td>precision</td><td>0.0</td></tr><tr><td>recall</td><td>0.0</td></tr></table><br/></div></div>"
      ],
      "text/plain": [
       "<IPython.core.display.HTML object>"
      ]
     },
     "metadata": {},
     "output_type": "display_data"
    },
    {
     "data": {
      "text/html": [
       " View run <strong style=\"color:#cdcd00\">fresh-sweep-38</strong> at: <a href='https://wandb.ai/tldbs5026/uncategorized/runs/5g6g0jw2' target=\"_blank\">https://wandb.ai/tldbs5026/uncategorized/runs/5g6g0jw2</a><br/>Synced 5 W&B file(s), 0 media file(s), 0 artifact file(s) and 0 other file(s)"
      ],
      "text/plain": [
       "<IPython.core.display.HTML object>"
      ]
     },
     "metadata": {},
     "output_type": "display_data"
    },
    {
     "data": {
      "text/html": [
       "Find logs at: <code>./wandb/run-20240313_215656-5g6g0jw2/logs</code>"
      ],
      "text/plain": [
       "<IPython.core.display.HTML object>"
      ]
     },
     "metadata": {},
     "output_type": "display_data"
    },
    {
     "name": "stderr",
     "output_type": "stream",
     "text": [
      "\u001b[34m\u001b[1mwandb\u001b[0m: Agent Starting Run: w8ogftfe with config:\n",
      "\u001b[34m\u001b[1mwandb\u001b[0m: \tbatch_size: 256\n",
      "\u001b[34m\u001b[1mwandb\u001b[0m: \tdropout: 0.1\n",
      "\u001b[34m\u001b[1mwandb\u001b[0m: \tembed_dim: 256\n",
      "\u001b[34m\u001b[1mwandb\u001b[0m: \tepochs: 300\n",
      "\u001b[34m\u001b[1mwandb\u001b[0m: \tlr: 0.001\n",
      "\u001b[34m\u001b[1mwandb\u001b[0m: \tmlp_dims: [256, 256, 128, 128, 64, 64, 32, 32, 16, 16]\n",
      "\u001b[34m\u001b[1mwandb\u001b[0m: \tweight_decay: 1e-05\n",
      "\u001b[34m\u001b[1mwandb\u001b[0m: \u001b[33mWARNING\u001b[0m Ignored wandb.init() arg project when running a sweep.\n"
     ]
    },
    {
     "data": {
      "text/html": [
       "wandb version 0.16.4 is available!  To upgrade, please run:\n",
       " $ pip install wandb --upgrade"
      ],
      "text/plain": [
       "<IPython.core.display.HTML object>"
      ]
     },
     "metadata": {},
     "output_type": "display_data"
    },
    {
     "data": {
      "text/html": [
       "Tracking run with wandb version 0.16.3"
      ],
      "text/plain": [
       "<IPython.core.display.HTML object>"
      ]
     },
     "metadata": {},
     "output_type": "display_data"
    },
    {
     "data": {
      "text/html": [
       "Run data is saved locally in <code>/home/siyun/ephemeral/WDN/wandb/run-20240313_220731-w8ogftfe</code>"
      ],
      "text/plain": [
       "<IPython.core.display.HTML object>"
      ]
     },
     "metadata": {},
     "output_type": "display_data"
    },
    {
     "data": {
      "text/html": [
       "Syncing run <strong><a href='https://wandb.ai/tldbs5026/uncategorized/runs/w8ogftfe' target=\"_blank\">dandy-sweep-39</a></strong> to <a href='https://wandb.ai/tldbs5026/uncategorized' target=\"_blank\">Weights & Biases</a> (<a href='https://wandb.me/run' target=\"_blank\">docs</a>)<br/>Sweep page: <a href='https://wandb.ai/tldbs5026/uncategorized/sweeps/vcevyz8u' target=\"_blank\">https://wandb.ai/tldbs5026/uncategorized/sweeps/vcevyz8u</a>"
      ],
      "text/plain": [
       "<IPython.core.display.HTML object>"
      ]
     },
     "metadata": {},
     "output_type": "display_data"
    },
    {
     "data": {
      "text/html": [
       " View project at <a href='https://wandb.ai/tldbs5026/uncategorized' target=\"_blank\">https://wandb.ai/tldbs5026/uncategorized</a>"
      ],
      "text/plain": [
       "<IPython.core.display.HTML object>"
      ]
     },
     "metadata": {},
     "output_type": "display_data"
    },
    {
     "data": {
      "text/html": [
       " View sweep at <a href='https://wandb.ai/tldbs5026/uncategorized/sweeps/vcevyz8u' target=\"_blank\">https://wandb.ai/tldbs5026/uncategorized/sweeps/vcevyz8u</a>"
      ],
      "text/plain": [
       "<IPython.core.display.HTML object>"
      ]
     },
     "metadata": {},
     "output_type": "display_data"
    },
    {
     "data": {
      "text/html": [
       " View run at <a href='https://wandb.ai/tldbs5026/uncategorized/runs/w8ogftfe' target=\"_blank\">https://wandb.ai/tldbs5026/uncategorized/runs/w8ogftfe</a>"
      ],
      "text/plain": [
       "<IPython.core.display.HTML object>"
      ]
     },
     "metadata": {},
     "output_type": "display_data"
    },
    {
     "data": {
      "text/html": [
       "<style>\n",
       "    table.wandb td:nth-child(1) { padding: 0 10px; text-align: left ; width: auto;} td:nth-child(2) {text-align: left ; width: 100%}\n",
       "    .wandb-row { display: flex; flex-direction: row; flex-wrap: wrap; justify-content: flex-start; width: 100% }\n",
       "    .wandb-col { display: flex; flex-direction: column; flex-basis: 100%; flex: 1; padding: 10px; }\n",
       "    </style>\n",
       "<div class=\"wandb-row\"><div class=\"wandb-col\"><h3>Run history:</h3><br/><table class=\"wandb\"><tr><td>accuracy1</td><td>▅▁▁▁▁▁▁▁▁▁▅▅▁▅▅▅█▁▁▁▁▁▁█▅▁▅▅▅▁▁▁▁▁▅▁▅▁▅▅</td></tr><tr><td>accuracy10</td><td>▇▂▃▃▃▅▄▃▅▄▇▂▃▅▂▅▇▁▂▄▂▁▃█▅▅▂▅▆▁▄▅▂▅▂▂▄▄▄▅</td></tr><tr><td>epoch</td><td>▁▁▁▁▂▂▂▂▂▃▃▃▃▃▃▄▄▄▄▄▅▅▅▅▅▅▆▆▆▆▆▆▇▇▇▇▇███</td></tr><tr><td>f1_score</td><td>▁▁▁▁▁▁▁▁▁▁▁▁▁▁▁▁▁▁▁▁▁▁▁▁▁▁▁▁▁▁▁▁▁▁▁▁▁▁▁▁</td></tr><tr><td>loss</td><td>▅▅▁▁▁▁▅▅▁▅▅▁▅▅▅█▅▅▅▅▅▅▅█▅▅▅▅▅▅▅▁▁▅▅▁▅▅▅▅</td></tr><tr><td>precision</td><td>▁▁▁▁▁▁▁▁▁▁▁▁▁▁▁▁▁▁▁▁▁▁▁▁▁▁▁▁▁▁▁▁▁▁▁▁▁▁▁▁</td></tr><tr><td>recall</td><td>▁▁▁▁▁▁▁▁▁▁▁▁▁▁▁▁▁▁▁▁▁▁▁▁▁▁▁▁▁▁▁▁▁▁▁▁▁▁▁▁</td></tr></table><br/></div><div class=\"wandb-col\"><h3>Run summary:</h3><br/><table class=\"wandb\"><tr><td>accuracy1</td><td>0.0107</td></tr><tr><td>accuracy10</td><td>0.00117</td></tr><tr><td>epoch</td><td>299</td></tr><tr><td>f1_score</td><td>0.0</td></tr><tr><td>loss</td><td>8.71342</td></tr><tr><td>precision</td><td>0.0</td></tr><tr><td>recall</td><td>0.0</td></tr></table><br/></div></div>"
      ],
      "text/plain": [
       "<IPython.core.display.HTML object>"
      ]
     },
     "metadata": {},
     "output_type": "display_data"
    },
    {
     "data": {
      "text/html": [
       " View run <strong style=\"color:#cdcd00\">dandy-sweep-39</strong> at: <a href='https://wandb.ai/tldbs5026/uncategorized/runs/w8ogftfe' target=\"_blank\">https://wandb.ai/tldbs5026/uncategorized/runs/w8ogftfe</a><br/>Synced 5 W&B file(s), 0 media file(s), 0 artifact file(s) and 0 other file(s)"
      ],
      "text/plain": [
       "<IPython.core.display.HTML object>"
      ]
     },
     "metadata": {},
     "output_type": "display_data"
    },
    {
     "data": {
      "text/html": [
       "Find logs at: <code>./wandb/run-20240313_220731-w8ogftfe/logs</code>"
      ],
      "text/plain": [
       "<IPython.core.display.HTML object>"
      ]
     },
     "metadata": {},
     "output_type": "display_data"
    },
    {
     "name": "stderr",
     "output_type": "stream",
     "text": [
      "\u001b[34m\u001b[1mwandb\u001b[0m: Agent Starting Run: bfvizwrp with config:\n",
      "\u001b[34m\u001b[1mwandb\u001b[0m: \tbatch_size: 256\n",
      "\u001b[34m\u001b[1mwandb\u001b[0m: \tdropout: 0.1\n",
      "\u001b[34m\u001b[1mwandb\u001b[0m: \tembed_dim: 256\n",
      "\u001b[34m\u001b[1mwandb\u001b[0m: \tepochs: 300\n",
      "\u001b[34m\u001b[1mwandb\u001b[0m: \tlr: 0.001\n",
      "\u001b[34m\u001b[1mwandb\u001b[0m: \tmlp_dims: [256, 256, 128, 128, 64, 64, 32, 32, 16, 16]\n",
      "\u001b[34m\u001b[1mwandb\u001b[0m: \tweight_decay: 0.001\n",
      "\u001b[34m\u001b[1mwandb\u001b[0m: \u001b[33mWARNING\u001b[0m Ignored wandb.init() arg project when running a sweep.\n"
     ]
    },
    {
     "data": {
      "text/html": [
       "wandb version 0.16.4 is available!  To upgrade, please run:\n",
       " $ pip install wandb --upgrade"
      ],
      "text/plain": [
       "<IPython.core.display.HTML object>"
      ]
     },
     "metadata": {},
     "output_type": "display_data"
    },
    {
     "data": {
      "text/html": [
       "Tracking run with wandb version 0.16.3"
      ],
      "text/plain": [
       "<IPython.core.display.HTML object>"
      ]
     },
     "metadata": {},
     "output_type": "display_data"
    },
    {
     "data": {
      "text/html": [
       "Run data is saved locally in <code>/home/siyun/ephemeral/WDN/wandb/run-20240313_221951-bfvizwrp</code>"
      ],
      "text/plain": [
       "<IPython.core.display.HTML object>"
      ]
     },
     "metadata": {},
     "output_type": "display_data"
    },
    {
     "data": {
      "text/html": [
       "Syncing run <strong><a href='https://wandb.ai/tldbs5026/uncategorized/runs/bfvizwrp' target=\"_blank\">smooth-sweep-40</a></strong> to <a href='https://wandb.ai/tldbs5026/uncategorized' target=\"_blank\">Weights & Biases</a> (<a href='https://wandb.me/run' target=\"_blank\">docs</a>)<br/>Sweep page: <a href='https://wandb.ai/tldbs5026/uncategorized/sweeps/vcevyz8u' target=\"_blank\">https://wandb.ai/tldbs5026/uncategorized/sweeps/vcevyz8u</a>"
      ],
      "text/plain": [
       "<IPython.core.display.HTML object>"
      ]
     },
     "metadata": {},
     "output_type": "display_data"
    },
    {
     "data": {
      "text/html": [
       " View project at <a href='https://wandb.ai/tldbs5026/uncategorized' target=\"_blank\">https://wandb.ai/tldbs5026/uncategorized</a>"
      ],
      "text/plain": [
       "<IPython.core.display.HTML object>"
      ]
     },
     "metadata": {},
     "output_type": "display_data"
    },
    {
     "data": {
      "text/html": [
       " View sweep at <a href='https://wandb.ai/tldbs5026/uncategorized/sweeps/vcevyz8u' target=\"_blank\">https://wandb.ai/tldbs5026/uncategorized/sweeps/vcevyz8u</a>"
      ],
      "text/plain": [
       "<IPython.core.display.HTML object>"
      ]
     },
     "metadata": {},
     "output_type": "display_data"
    },
    {
     "data": {
      "text/html": [
       " View run at <a href='https://wandb.ai/tldbs5026/uncategorized/runs/bfvizwrp' target=\"_blank\">https://wandb.ai/tldbs5026/uncategorized/runs/bfvizwrp</a>"
      ],
      "text/plain": [
       "<IPython.core.display.HTML object>"
      ]
     },
     "metadata": {},
     "output_type": "display_data"
    },
    {
     "data": {
      "text/html": [
       "<style>\n",
       "    table.wandb td:nth-child(1) { padding: 0 10px; text-align: left ; width: auto;} td:nth-child(2) {text-align: left ; width: 100%}\n",
       "    .wandb-row { display: flex; flex-direction: row; flex-wrap: wrap; justify-content: flex-start; width: 100% }\n",
       "    .wandb-col { display: flex; flex-direction: column; flex-basis: 100%; flex: 1; padding: 10px; }\n",
       "    </style>\n",
       "<div class=\"wandb-row\"><div class=\"wandb-col\"><h3>Run history:</h3><br/><table class=\"wandb\"><tr><td>accuracy1</td><td>█▁▁▅█▁▅▁▅▅▁▁▅▁▅▁▁▅▁▁▁█▁▁▁▁▁▅▁▁▁▁▅▅▁█▅█▁▁</td></tr><tr><td>accuracy10</td><td>█▃▄▂▅▂▂▁▃▃▂▃▂▃▄▁▃▃▂▃▂▄▂▂▂▁▂▃▃▃▃▄▁▃▃▃▁▅▃▂</td></tr><tr><td>epoch</td><td>▁▁▁▁▂▂▂▂▂▃▃▃▃▃▃▄▄▄▄▄▅▅▅▅▅▅▆▆▆▆▆▆▇▇▇▇▇███</td></tr><tr><td>f1_score</td><td>▁▁▁▁▁▁▁▁▁▁▁▁▁▁▁▁▁▁▁▁▁▁▁▁▁▁▁▁▁▁▁▁▁▁▁▁▁▁▁▁</td></tr><tr><td>loss</td><td>▁███████████████████████████████████████</td></tr><tr><td>precision</td><td>▁▁▁▁▁▁▁▁▁▁▁▁▁▁▁▁▁▁▁▁▁▁▁▁▁▁▁▁▁▁▁▁▁▁▁▁▁▁▁▁</td></tr><tr><td>recall</td><td>▁▁▁▁▁▁▁▁▁▁▁▁▁▁▁▁▁▁▁▁▁▁▁▁▁▁▁▁▁▁▁▁▁▁▁▁▁▁▁▁</td></tr></table><br/></div><div class=\"wandb-col\"><h3>Run summary:</h3><br/><table class=\"wandb\"><tr><td>accuracy1</td><td>0.0</td></tr><tr><td>accuracy10</td><td>0.00067</td></tr><tr><td>epoch</td><td>299</td></tr><tr><td>f1_score</td><td>0.0</td></tr><tr><td>loss</td><td>8.71342</td></tr><tr><td>precision</td><td>0.0</td></tr><tr><td>recall</td><td>0.0</td></tr></table><br/></div></div>"
      ],
      "text/plain": [
       "<IPython.core.display.HTML object>"
      ]
     },
     "metadata": {},
     "output_type": "display_data"
    },
    {
     "data": {
      "text/html": [
       " View run <strong style=\"color:#cdcd00\">smooth-sweep-40</strong> at: <a href='https://wandb.ai/tldbs5026/uncategorized/runs/bfvizwrp' target=\"_blank\">https://wandb.ai/tldbs5026/uncategorized/runs/bfvizwrp</a><br/>Synced 5 W&B file(s), 0 media file(s), 0 artifact file(s) and 0 other file(s)"
      ],
      "text/plain": [
       "<IPython.core.display.HTML object>"
      ]
     },
     "metadata": {},
     "output_type": "display_data"
    },
    {
     "data": {
      "text/html": [
       "Find logs at: <code>./wandb/run-20240313_221951-bfvizwrp/logs</code>"
      ],
      "text/plain": [
       "<IPython.core.display.HTML object>"
      ]
     },
     "metadata": {},
     "output_type": "display_data"
    },
    {
     "name": "stderr",
     "output_type": "stream",
     "text": [
      "\u001b[34m\u001b[1mwandb\u001b[0m: Sweep Agent: Waiting for job.\n",
      "\u001b[34m\u001b[1mwandb\u001b[0m: Job received.\n",
      "\u001b[34m\u001b[1mwandb\u001b[0m: Agent Starting Run: zr8gse15 with config:\n",
      "\u001b[34m\u001b[1mwandb\u001b[0m: \tbatch_size: 256\n",
      "\u001b[34m\u001b[1mwandb\u001b[0m: \tdropout: 0.1\n",
      "\u001b[34m\u001b[1mwandb\u001b[0m: \tembed_dim: 256\n",
      "\u001b[34m\u001b[1mwandb\u001b[0m: \tepochs: 300\n",
      "\u001b[34m\u001b[1mwandb\u001b[0m: \tlr: 0.0005\n",
      "\u001b[34m\u001b[1mwandb\u001b[0m: \tmlp_dims: [256, 128, 64, 64, 32, 32]\n",
      "\u001b[34m\u001b[1mwandb\u001b[0m: \tweight_decay: 1e-05\n",
      "\u001b[34m\u001b[1mwandb\u001b[0m: \u001b[33mWARNING\u001b[0m Ignored wandb.init() arg project when running a sweep.\n"
     ]
    },
    {
     "data": {
      "text/html": [
       "Tracking run with wandb version 0.16.3"
      ],
      "text/plain": [
       "<IPython.core.display.HTML object>"
      ]
     },
     "metadata": {},
     "output_type": "display_data"
    },
    {
     "data": {
      "text/html": [
       "Run data is saved locally in <code>/home/siyun/ephemeral/WDN/wandb/run-20240313_223228-zr8gse15</code>"
      ],
      "text/plain": [
       "<IPython.core.display.HTML object>"
      ]
     },
     "metadata": {},
     "output_type": "display_data"
    },
    {
     "data": {
      "text/html": [
       "Syncing run <strong><a href='https://wandb.ai/tldbs5026/uncategorized/runs/zr8gse15' target=\"_blank\">warm-sweep-41</a></strong> to <a href='https://wandb.ai/tldbs5026/uncategorized' target=\"_blank\">Weights & Biases</a> (<a href='https://wandb.me/run' target=\"_blank\">docs</a>)<br/>Sweep page: <a href='https://wandb.ai/tldbs5026/uncategorized/sweeps/vcevyz8u' target=\"_blank\">https://wandb.ai/tldbs5026/uncategorized/sweeps/vcevyz8u</a>"
      ],
      "text/plain": [
       "<IPython.core.display.HTML object>"
      ]
     },
     "metadata": {},
     "output_type": "display_data"
    },
    {
     "data": {
      "text/html": [
       " View project at <a href='https://wandb.ai/tldbs5026/uncategorized' target=\"_blank\">https://wandb.ai/tldbs5026/uncategorized</a>"
      ],
      "text/plain": [
       "<IPython.core.display.HTML object>"
      ]
     },
     "metadata": {},
     "output_type": "display_data"
    },
    {
     "data": {
      "text/html": [
       " View sweep at <a href='https://wandb.ai/tldbs5026/uncategorized/sweeps/vcevyz8u' target=\"_blank\">https://wandb.ai/tldbs5026/uncategorized/sweeps/vcevyz8u</a>"
      ],
      "text/plain": [
       "<IPython.core.display.HTML object>"
      ]
     },
     "metadata": {},
     "output_type": "display_data"
    },
    {
     "data": {
      "text/html": [
       " View run at <a href='https://wandb.ai/tldbs5026/uncategorized/runs/zr8gse15' target=\"_blank\">https://wandb.ai/tldbs5026/uncategorized/runs/zr8gse15</a>"
      ],
      "text/plain": [
       "<IPython.core.display.HTML object>"
      ]
     },
     "metadata": {},
     "output_type": "display_data"
    },
    {
     "data": {
      "text/html": [
       "<style>\n",
       "    table.wandb td:nth-child(1) { padding: 0 10px; text-align: left ; width: auto;} td:nth-child(2) {text-align: left ; width: 100%}\n",
       "    .wandb-row { display: flex; flex-direction: row; flex-wrap: wrap; justify-content: flex-start; width: 100% }\n",
       "    .wandb-col { display: flex; flex-direction: column; flex-basis: 100%; flex: 1; padding: 10px; }\n",
       "    </style>\n",
       "<div class=\"wandb-row\"><div class=\"wandb-col\"><h3>Run history:</h3><br/><table class=\"wandb\"><tr><td>accuracy1</td><td>▄▁▄▁▂▄▂▂▄▁▂▁▄▂▄▂▂▄▅▂▁▁▁▄▁▁▄▁▇▂▁▁▁▂█▂▁▂▂▂</td></tr><tr><td>accuracy10</td><td>▄▃▃▄▄▄▅▃▄▃▄▃▅▃▄▂▄▇▄█▄▄▅▅▂▃▃▁▄▆▅▃▃▂▆▄▃▃▄▅</td></tr><tr><td>epoch</td><td>▁▁▁▁▂▂▂▂▂▃▃▃▃▃▃▄▄▄▄▄▅▅▅▅▅▅▆▆▆▆▆▆▇▇▇▇▇███</td></tr><tr><td>f1_score</td><td>█▁▁▁▁▁▁▁▁▁▁▁▁▁▁▁▁▁▁▁▁▁▁▁▁▁▁▁▁▁▁▁▁▁▁▁▁▁▁▁</td></tr><tr><td>loss</td><td>█▅▅█▅▅▅▅▅█▅▅▅▅█▅▅▁▅▅▁█▁▅█▅▅▅▁▅▅█▅▅▅█▅▅▅▅</td></tr><tr><td>precision</td><td>█▁▁▁▁▁▁▁▁▁▁▁▁▁▁▁▁▁▁▁▁▁▁▁▁▁▁▁▁▁▁▁▁▁▁▁▁▁▁▁</td></tr><tr><td>recall</td><td>█▁▁▁▁▁▁▁▁▁▁▁▁▁▁▁▁▁▁▁▁▁▁▁▁▁▁▁▁▁▁▁▁▁▁▁▁▁▁▁</td></tr></table><br/></div><div class=\"wandb-col\"><h3>Run summary:</h3><br/><table class=\"wandb\"><tr><td>accuracy1</td><td>0.0107</td></tr><tr><td>accuracy10</td><td>0.00251</td></tr><tr><td>epoch</td><td>299</td></tr><tr><td>f1_score</td><td>0.0</td></tr><tr><td>loss</td><td>8.71342</td></tr><tr><td>precision</td><td>0.0</td></tr><tr><td>recall</td><td>0.0</td></tr></table><br/></div></div>"
      ],
      "text/plain": [
       "<IPython.core.display.HTML object>"
      ]
     },
     "metadata": {},
     "output_type": "display_data"
    },
    {
     "data": {
      "text/html": [
       " View run <strong style=\"color:#cdcd00\">warm-sweep-41</strong> at: <a href='https://wandb.ai/tldbs5026/uncategorized/runs/zr8gse15' target=\"_blank\">https://wandb.ai/tldbs5026/uncategorized/runs/zr8gse15</a><br/>Synced 5 W&B file(s), 0 media file(s), 0 artifact file(s) and 0 other file(s)"
      ],
      "text/plain": [
       "<IPython.core.display.HTML object>"
      ]
     },
     "metadata": {},
     "output_type": "display_data"
    },
    {
     "data": {
      "text/html": [
       "Find logs at: <code>./wandb/run-20240313_223228-zr8gse15/logs</code>"
      ],
      "text/plain": [
       "<IPython.core.display.HTML object>"
      ]
     },
     "metadata": {},
     "output_type": "display_data"
    },
    {
     "name": "stderr",
     "output_type": "stream",
     "text": [
      "\u001b[34m\u001b[1mwandb\u001b[0m: Sweep Agent: Waiting for job.\n",
      "\u001b[34m\u001b[1mwandb\u001b[0m: Job received.\n",
      "\u001b[34m\u001b[1mwandb\u001b[0m: Agent Starting Run: 8p8r9ktv with config:\n",
      "\u001b[34m\u001b[1mwandb\u001b[0m: \tbatch_size: 256\n",
      "\u001b[34m\u001b[1mwandb\u001b[0m: \tdropout: 0.1\n",
      "\u001b[34m\u001b[1mwandb\u001b[0m: \tembed_dim: 256\n",
      "\u001b[34m\u001b[1mwandb\u001b[0m: \tepochs: 300\n",
      "\u001b[34m\u001b[1mwandb\u001b[0m: \tlr: 0.0005\n",
      "\u001b[34m\u001b[1mwandb\u001b[0m: \tmlp_dims: [256, 128, 64, 64, 32, 32]\n",
      "\u001b[34m\u001b[1mwandb\u001b[0m: \tweight_decay: 0.001\n",
      "\u001b[34m\u001b[1mwandb\u001b[0m: \u001b[33mWARNING\u001b[0m Ignored wandb.init() arg project when running a sweep.\n"
     ]
    },
    {
     "data": {
      "text/html": [
       "wandb version 0.16.4 is available!  To upgrade, please run:\n",
       " $ pip install wandb --upgrade"
      ],
      "text/plain": [
       "<IPython.core.display.HTML object>"
      ]
     },
     "metadata": {},
     "output_type": "display_data"
    },
    {
     "data": {
      "text/html": [
       "Tracking run with wandb version 0.16.3"
      ],
      "text/plain": [
       "<IPython.core.display.HTML object>"
      ]
     },
     "metadata": {},
     "output_type": "display_data"
    },
    {
     "data": {
      "text/html": [
       "Run data is saved locally in <code>/home/siyun/ephemeral/WDN/wandb/run-20240313_224313-8p8r9ktv</code>"
      ],
      "text/plain": [
       "<IPython.core.display.HTML object>"
      ]
     },
     "metadata": {},
     "output_type": "display_data"
    },
    {
     "data": {
      "text/html": [
       "Syncing run <strong><a href='https://wandb.ai/tldbs5026/uncategorized/runs/8p8r9ktv' target=\"_blank\">stilted-sweep-42</a></strong> to <a href='https://wandb.ai/tldbs5026/uncategorized' target=\"_blank\">Weights & Biases</a> (<a href='https://wandb.me/run' target=\"_blank\">docs</a>)<br/>Sweep page: <a href='https://wandb.ai/tldbs5026/uncategorized/sweeps/vcevyz8u' target=\"_blank\">https://wandb.ai/tldbs5026/uncategorized/sweeps/vcevyz8u</a>"
      ],
      "text/plain": [
       "<IPython.core.display.HTML object>"
      ]
     },
     "metadata": {},
     "output_type": "display_data"
    },
    {
     "data": {
      "text/html": [
       " View project at <a href='https://wandb.ai/tldbs5026/uncategorized' target=\"_blank\">https://wandb.ai/tldbs5026/uncategorized</a>"
      ],
      "text/plain": [
       "<IPython.core.display.HTML object>"
      ]
     },
     "metadata": {},
     "output_type": "display_data"
    },
    {
     "data": {
      "text/html": [
       " View sweep at <a href='https://wandb.ai/tldbs5026/uncategorized/sweeps/vcevyz8u' target=\"_blank\">https://wandb.ai/tldbs5026/uncategorized/sweeps/vcevyz8u</a>"
      ],
      "text/plain": [
       "<IPython.core.display.HTML object>"
      ]
     },
     "metadata": {},
     "output_type": "display_data"
    },
    {
     "data": {
      "text/html": [
       " View run at <a href='https://wandb.ai/tldbs5026/uncategorized/runs/8p8r9ktv' target=\"_blank\">https://wandb.ai/tldbs5026/uncategorized/runs/8p8r9ktv</a>"
      ],
      "text/plain": [
       "<IPython.core.display.HTML object>"
      ]
     },
     "metadata": {},
     "output_type": "display_data"
    },
    {
     "data": {
      "text/html": [
       "<style>\n",
       "    table.wandb td:nth-child(1) { padding: 0 10px; text-align: left ; width: auto;} td:nth-child(2) {text-align: left ; width: 100%}\n",
       "    .wandb-row { display: flex; flex-direction: row; flex-wrap: wrap; justify-content: flex-start; width: 100% }\n",
       "    .wandb-col { display: flex; flex-direction: column; flex-basis: 100%; flex: 1; padding: 10px; }\n",
       "    </style>\n",
       "<div class=\"wandb-row\"><div class=\"wandb-col\"><h3>Run history:</h3><br/><table class=\"wandb\"><tr><td>accuracy1</td><td>▃▁▃▆▃▁▁█▁▃▁▃▃▃▁▁▃▆▆▁▃▃▁▁▃▁▁▁▁▃▁▃▁▁▁▁▁▃▃▁</td></tr><tr><td>accuracy10</td><td>█▃▃▃▁▁▁▃▁▁▅▃▄▁▃▄▃▄▆▂▃▃▂▂▅▃▃▃▃▂▃▅▄▃▁▆▁▅▃▃</td></tr><tr><td>epoch</td><td>▁▁▁▁▂▂▂▂▂▃▃▃▃▃▃▄▄▄▄▄▅▅▅▅▅▅▆▆▆▆▆▆▇▇▇▇▇███</td></tr><tr><td>f1_score</td><td>▁▁▁▁▁▁▁▁▁▁▁▁▁▁▁▁▁▁▁▁▁▁▁▁▁▁▁▁▁▁▁▁▁▁▁▁▁▁▁▁</td></tr><tr><td>loss</td><td>▁███████████████████████████████████████</td></tr><tr><td>precision</td><td>▁▁▁▁▁▁▁▁▁▁▁▁▁▁▁▁▁▁▁▁▁▁▁▁▁▁▁▁▁▁▁▁▁▁▁▁▁▁▁▁</td></tr><tr><td>recall</td><td>▁▁▁▁▁▁▁▁▁▁▁▁▁▁▁▁▁▁▁▁▁▁▁▁▁▁▁▁▁▁▁▁▁▁▁▁▁▁▁▁</td></tr></table><br/></div><div class=\"wandb-col\"><h3>Run summary:</h3><br/><table class=\"wandb\"><tr><td>accuracy1</td><td>0.0</td></tr><tr><td>accuracy10</td><td>0.00117</td></tr><tr><td>epoch</td><td>299</td></tr><tr><td>f1_score</td><td>0.0</td></tr><tr><td>loss</td><td>8.71342</td></tr><tr><td>precision</td><td>0.0</td></tr><tr><td>recall</td><td>0.0</td></tr></table><br/></div></div>"
      ],
      "text/plain": [
       "<IPython.core.display.HTML object>"
      ]
     },
     "metadata": {},
     "output_type": "display_data"
    },
    {
     "data": {
      "text/html": [
       " View run <strong style=\"color:#cdcd00\">stilted-sweep-42</strong> at: <a href='https://wandb.ai/tldbs5026/uncategorized/runs/8p8r9ktv' target=\"_blank\">https://wandb.ai/tldbs5026/uncategorized/runs/8p8r9ktv</a><br/>Synced 5 W&B file(s), 0 media file(s), 0 artifact file(s) and 0 other file(s)"
      ],
      "text/plain": [
       "<IPython.core.display.HTML object>"
      ]
     },
     "metadata": {},
     "output_type": "display_data"
    },
    {
     "data": {
      "text/html": [
       "Find logs at: <code>./wandb/run-20240313_224313-8p8r9ktv/logs</code>"
      ],
      "text/plain": [
       "<IPython.core.display.HTML object>"
      ]
     },
     "metadata": {},
     "output_type": "display_data"
    },
    {
     "name": "stderr",
     "output_type": "stream",
     "text": [
      "\u001b[34m\u001b[1mwandb\u001b[0m: Agent Starting Run: gp5zdnqs with config:\n",
      "\u001b[34m\u001b[1mwandb\u001b[0m: \tbatch_size: 256\n",
      "\u001b[34m\u001b[1mwandb\u001b[0m: \tdropout: 0.1\n",
      "\u001b[34m\u001b[1mwandb\u001b[0m: \tembed_dim: 256\n",
      "\u001b[34m\u001b[1mwandb\u001b[0m: \tepochs: 300\n",
      "\u001b[34m\u001b[1mwandb\u001b[0m: \tlr: 0.0005\n",
      "\u001b[34m\u001b[1mwandb\u001b[0m: \tmlp_dims: [256, 256, 128, 128, 64, 64, 32, 32, 16, 16]\n",
      "\u001b[34m\u001b[1mwandb\u001b[0m: \tweight_decay: 1e-05\n",
      "\u001b[34m\u001b[1mwandb\u001b[0m: \u001b[33mWARNING\u001b[0m Ignored wandb.init() arg project when running a sweep.\n"
     ]
    },
    {
     "data": {
      "text/html": [
       "wandb version 0.16.4 is available!  To upgrade, please run:\n",
       " $ pip install wandb --upgrade"
      ],
      "text/plain": [
       "<IPython.core.display.HTML object>"
      ]
     },
     "metadata": {},
     "output_type": "display_data"
    },
    {
     "data": {
      "text/html": [
       "Tracking run with wandb version 0.16.3"
      ],
      "text/plain": [
       "<IPython.core.display.HTML object>"
      ]
     },
     "metadata": {},
     "output_type": "display_data"
    },
    {
     "data": {
      "text/html": [
       "Run data is saved locally in <code>/home/siyun/ephemeral/WDN/wandb/run-20240313_225357-gp5zdnqs</code>"
      ],
      "text/plain": [
       "<IPython.core.display.HTML object>"
      ]
     },
     "metadata": {},
     "output_type": "display_data"
    },
    {
     "data": {
      "text/html": [
       "Syncing run <strong><a href='https://wandb.ai/tldbs5026/uncategorized/runs/gp5zdnqs' target=\"_blank\">crisp-sweep-43</a></strong> to <a href='https://wandb.ai/tldbs5026/uncategorized' target=\"_blank\">Weights & Biases</a> (<a href='https://wandb.me/run' target=\"_blank\">docs</a>)<br/>Sweep page: <a href='https://wandb.ai/tldbs5026/uncategorized/sweeps/vcevyz8u' target=\"_blank\">https://wandb.ai/tldbs5026/uncategorized/sweeps/vcevyz8u</a>"
      ],
      "text/plain": [
       "<IPython.core.display.HTML object>"
      ]
     },
     "metadata": {},
     "output_type": "display_data"
    },
    {
     "data": {
      "text/html": [
       " View project at <a href='https://wandb.ai/tldbs5026/uncategorized' target=\"_blank\">https://wandb.ai/tldbs5026/uncategorized</a>"
      ],
      "text/plain": [
       "<IPython.core.display.HTML object>"
      ]
     },
     "metadata": {},
     "output_type": "display_data"
    },
    {
     "data": {
      "text/html": [
       " View sweep at <a href='https://wandb.ai/tldbs5026/uncategorized/sweeps/vcevyz8u' target=\"_blank\">https://wandb.ai/tldbs5026/uncategorized/sweeps/vcevyz8u</a>"
      ],
      "text/plain": [
       "<IPython.core.display.HTML object>"
      ]
     },
     "metadata": {},
     "output_type": "display_data"
    },
    {
     "data": {
      "text/html": [
       " View run at <a href='https://wandb.ai/tldbs5026/uncategorized/runs/gp5zdnqs' target=\"_blank\">https://wandb.ai/tldbs5026/uncategorized/runs/gp5zdnqs</a>"
      ],
      "text/plain": [
       "<IPython.core.display.HTML object>"
      ]
     },
     "metadata": {},
     "output_type": "display_data"
    },
    {
     "data": {
      "text/html": [
       "<style>\n",
       "    table.wandb td:nth-child(1) { padding: 0 10px; text-align: left ; width: auto;} td:nth-child(2) {text-align: left ; width: 100%}\n",
       "    .wandb-row { display: flex; flex-direction: row; flex-wrap: wrap; justify-content: flex-start; width: 100% }\n",
       "    .wandb-col { display: flex; flex-direction: column; flex-basis: 100%; flex: 1; padding: 10px; }\n",
       "    </style>\n",
       "<div class=\"wandb-row\"><div class=\"wandb-col\"><h3>Run history:</h3><br/><table class=\"wandb\"><tr><td>accuracy1</td><td>▄▅▂▄▇▂▂▂▂▂▅▁▁▂▄▄▁▂▁▄▄▂▁▂█▂▁▄▂▂▅▂▁▁▅▂▂▁▄▂</td></tr><tr><td>accuracy10</td><td>▇█▅▅▄▄▄▁▃█▄▃▄▃▂▂▂▁▅█▄▄▄▃▄▃▂▆▃▃▄▃▃▅▆▁▃▄▄▃</td></tr><tr><td>epoch</td><td>▁▁▁▁▂▂▂▂▂▃▃▃▃▃▃▄▄▄▄▄▅▅▅▅▅▅▆▆▆▆▆▆▇▇▇▇▇███</td></tr><tr><td>f1_score</td><td>▁▁▁▁▁▁▁▁▁▁▁▁▁▁▁▁▁▁▁▁▁▁▁▁▁▁▁▁▁▁▁▁▁▁▁▁▁▁▁▁</td></tr><tr><td>loss</td><td>█▅█▁▁████▅█▁▅▅▅█▅██▅▅▅█▅▅▅▅█▅▅▅█▅█▁██▅█▅</td></tr><tr><td>precision</td><td>▁▁▁▁▁▁▁▁▁▁▁▁▁▁▁▁▁▁▁▁▁▁▁▁▁▁▁▁▁▁▁▁▁▁▁▁▁▁▁▁</td></tr><tr><td>recall</td><td>▁▁▁▁▁▁▁▁▁▁▁▁▁▁▁▁▁▁▁▁▁▁▁▁▁▁▁▁▁▁▁▁▁▁▁▁▁▁▁▁</td></tr></table><br/></div><div class=\"wandb-col\"><h3>Run summary:</h3><br/><table class=\"wandb\"><tr><td>accuracy1</td><td>0.0107</td></tr><tr><td>accuracy10</td><td>0.00167</td></tr><tr><td>epoch</td><td>299</td></tr><tr><td>f1_score</td><td>0.0</td></tr><tr><td>loss</td><td>8.71342</td></tr><tr><td>precision</td><td>0.0</td></tr><tr><td>recall</td><td>0.0</td></tr></table><br/></div></div>"
      ],
      "text/plain": [
       "<IPython.core.display.HTML object>"
      ]
     },
     "metadata": {},
     "output_type": "display_data"
    },
    {
     "data": {
      "text/html": [
       " View run <strong style=\"color:#cdcd00\">crisp-sweep-43</strong> at: <a href='https://wandb.ai/tldbs5026/uncategorized/runs/gp5zdnqs' target=\"_blank\">https://wandb.ai/tldbs5026/uncategorized/runs/gp5zdnqs</a><br/>Synced 5 W&B file(s), 0 media file(s), 0 artifact file(s) and 0 other file(s)"
      ],
      "text/plain": [
       "<IPython.core.display.HTML object>"
      ]
     },
     "metadata": {},
     "output_type": "display_data"
    },
    {
     "data": {
      "text/html": [
       "Find logs at: <code>./wandb/run-20240313_225357-gp5zdnqs/logs</code>"
      ],
      "text/plain": [
       "<IPython.core.display.HTML object>"
      ]
     },
     "metadata": {},
     "output_type": "display_data"
    },
    {
     "name": "stderr",
     "output_type": "stream",
     "text": [
      "\u001b[34m\u001b[1mwandb\u001b[0m: Sweep Agent: Waiting for job.\n",
      "\u001b[34m\u001b[1mwandb\u001b[0m: Job received.\n",
      "\u001b[34m\u001b[1mwandb\u001b[0m: Agent Starting Run: 13svh4p2 with config:\n",
      "\u001b[34m\u001b[1mwandb\u001b[0m: \tbatch_size: 256\n",
      "\u001b[34m\u001b[1mwandb\u001b[0m: \tdropout: 0.1\n",
      "\u001b[34m\u001b[1mwandb\u001b[0m: \tembed_dim: 256\n",
      "\u001b[34m\u001b[1mwandb\u001b[0m: \tepochs: 300\n",
      "\u001b[34m\u001b[1mwandb\u001b[0m: \tlr: 0.0005\n",
      "\u001b[34m\u001b[1mwandb\u001b[0m: \tmlp_dims: [256, 256, 128, 128, 64, 64, 32, 32, 16, 16]\n",
      "\u001b[34m\u001b[1mwandb\u001b[0m: \tweight_decay: 0.001\n",
      "\u001b[34m\u001b[1mwandb\u001b[0m: \u001b[33mWARNING\u001b[0m Ignored wandb.init() arg project when running a sweep.\n"
     ]
    },
    {
     "data": {
      "text/html": [
       "wandb version 0.16.4 is available!  To upgrade, please run:\n",
       " $ pip install wandb --upgrade"
      ],
      "text/plain": [
       "<IPython.core.display.HTML object>"
      ]
     },
     "metadata": {},
     "output_type": "display_data"
    },
    {
     "data": {
      "text/html": [
       "Tracking run with wandb version 0.16.3"
      ],
      "text/plain": [
       "<IPython.core.display.HTML object>"
      ]
     },
     "metadata": {},
     "output_type": "display_data"
    },
    {
     "data": {
      "text/html": [
       "Run data is saved locally in <code>/home/siyun/ephemeral/WDN/wandb/run-20240313_230644-13svh4p2</code>"
      ],
      "text/plain": [
       "<IPython.core.display.HTML object>"
      ]
     },
     "metadata": {},
     "output_type": "display_data"
    },
    {
     "data": {
      "text/html": [
       "Syncing run <strong><a href='https://wandb.ai/tldbs5026/uncategorized/runs/13svh4p2' target=\"_blank\">helpful-sweep-44</a></strong> to <a href='https://wandb.ai/tldbs5026/uncategorized' target=\"_blank\">Weights & Biases</a> (<a href='https://wandb.me/run' target=\"_blank\">docs</a>)<br/>Sweep page: <a href='https://wandb.ai/tldbs5026/uncategorized/sweeps/vcevyz8u' target=\"_blank\">https://wandb.ai/tldbs5026/uncategorized/sweeps/vcevyz8u</a>"
      ],
      "text/plain": [
       "<IPython.core.display.HTML object>"
      ]
     },
     "metadata": {},
     "output_type": "display_data"
    },
    {
     "data": {
      "text/html": [
       " View project at <a href='https://wandb.ai/tldbs5026/uncategorized' target=\"_blank\">https://wandb.ai/tldbs5026/uncategorized</a>"
      ],
      "text/plain": [
       "<IPython.core.display.HTML object>"
      ]
     },
     "metadata": {},
     "output_type": "display_data"
    },
    {
     "data": {
      "text/html": [
       " View sweep at <a href='https://wandb.ai/tldbs5026/uncategorized/sweeps/vcevyz8u' target=\"_blank\">https://wandb.ai/tldbs5026/uncategorized/sweeps/vcevyz8u</a>"
      ],
      "text/plain": [
       "<IPython.core.display.HTML object>"
      ]
     },
     "metadata": {},
     "output_type": "display_data"
    },
    {
     "data": {
      "text/html": [
       " View run at <a href='https://wandb.ai/tldbs5026/uncategorized/runs/13svh4p2' target=\"_blank\">https://wandb.ai/tldbs5026/uncategorized/runs/13svh4p2</a>"
      ],
      "text/plain": [
       "<IPython.core.display.HTML object>"
      ]
     },
     "metadata": {},
     "output_type": "display_data"
    },
    {
     "name": "stderr",
     "output_type": "stream",
     "text": [
      "\u001b[34m\u001b[1mwandb\u001b[0m: Ctrl + C detected. Stopping sweep.\n"
     ]
    },
    {
     "data": {
      "text/html": [
       "<style>\n",
       "    table.wandb td:nth-child(1) { padding: 0 10px; text-align: left ; width: auto;} td:nth-child(2) {text-align: left ; width: 100%}\n",
       "    .wandb-row { display: flex; flex-direction: row; flex-wrap: wrap; justify-content: flex-start; width: 100% }\n",
       "    .wandb-col { display: flex; flex-direction: column; flex-basis: 100%; flex: 1; padding: 10px; }\n",
       "    </style>\n",
       "<div class=\"wandb-row\"><div class=\"wandb-col\"><h3>Run history:</h3><br/><table class=\"wandb\"><tr><td>accuracy1</td><td>▁▆█▆▆▁▃▁▁▆█▁▁▁▆▃▁▁▁▃▁▆▆▃▃▁▁▃▃▁▁▁▁▁▁▃▃▆▁▁</td></tr><tr><td>accuracy10</td><td>▅█▇▆▄▂▂▂▄▃▄▁▃▂▂▁▂▂▂▂▁▂▂▂▃▂▃▂▆▄▃▃▂▂▄▃▄▃▂▂</td></tr><tr><td>epoch</td><td>▁▁▁▂▂▂▂▂▂▃▃▃▃▃▃▄▄▄▄▄▅▅▅▅▅▅▆▆▆▆▆▇▇▇▇▇▇███</td></tr><tr><td>f1_score</td><td>▁▁▁▁▁▁▁▁▁▁▁▁▁▁▁▁▁▁▁▁▁▁▁▁▁▁▁▁▁▁▁▁▁▁▁▁▁▁▁▁</td></tr><tr><td>loss</td><td>▁▁▁█████████████████████████████████████</td></tr><tr><td>precision</td><td>▁▁▁▁▁▁▁▁▁▁▁▁▁▁▁▁▁▁▁▁▁▁▁▁▁▁▁▁▁▁▁▁▁▁▁▁▁▁▁▁</td></tr><tr><td>recall</td><td>▁▁▁▁▁▁▁▁▁▁▁▁▁▁▁▁▁▁▁▁▁▁▁▁▁▁▁▁▁▁▁▁▁▁▁▁▁▁▁▁</td></tr></table><br/></div><div class=\"wandb-col\"><h3>Run summary:</h3><br/><table class=\"wandb\"><tr><td>accuracy1</td><td>0.0</td></tr><tr><td>accuracy10</td><td>0.00084</td></tr><tr><td>epoch</td><td>104</td></tr><tr><td>f1_score</td><td>0.0</td></tr><tr><td>loss</td><td>8.71342</td></tr><tr><td>precision</td><td>0.0</td></tr><tr><td>recall</td><td>0.0</td></tr></table><br/></div></div>"
      ],
      "text/plain": [
       "<IPython.core.display.HTML object>"
      ]
     },
     "metadata": {},
     "output_type": "display_data"
    },
    {
     "data": {
      "text/html": [
       " View run <strong style=\"color:#cdcd00\">helpful-sweep-44</strong> at: <a href='https://wandb.ai/tldbs5026/uncategorized/runs/13svh4p2' target=\"_blank\">https://wandb.ai/tldbs5026/uncategorized/runs/13svh4p2</a><br/>Synced 6 W&B file(s), 0 media file(s), 0 artifact file(s) and 0 other file(s)"
      ],
      "text/plain": [
       "<IPython.core.display.HTML object>"
      ]
     },
     "metadata": {},
     "output_type": "display_data"
    },
    {
     "data": {
      "text/html": [
       "Find logs at: <code>./wandb/run-20240313_230644-13svh4p2/logs</code>"
      ],
      "text/plain": [
       "<IPython.core.display.HTML object>"
      ]
     },
     "metadata": {},
     "output_type": "display_data"
    }
   ],
   "source": [
    "def train():\n",
    "    # WandB 초기화\n",
    "    wandb.init(project=\"wide deep model sweep\", config={\n",
    "        \"batch_size\": [256,512,1024],\n",
    "        \"lr\": [0.005,0.001,0.0005,0.0001],\n",
    "        \"weight_decay\": [1e-5,1e-3],\n",
    "        \"embed_dim\": [256,128],\n",
    "        \"dropout\": 0.1,\n",
    "        \"mlp_dims\": [[256,128,64,32], [128,64,32,16]],\n",
    "        \"epochs\": [100,200,300]\n",
    "    })\n",
    "\n",
    "    # Config 가져오기\n",
    "    config = wandb.config\n",
    "\n",
    "    # 모델 및 데이터 로드\n",
    "    # 모델 초기화\n",
    "    model = WideAndDeepModel(categorical_field_dims, \n",
    "                             continuous_field_dims, \n",
    "                             embed_dim=config.embed_dim, \n",
    "                             mlp_dims=config.mlp_dims, \n",
    "                             dropout=config.dropout).to(torch.device('cuda' if torch.cuda.is_available() else 'cpu'))\n",
    "\n",
    "    # 옵티마이저 및 손실 함수 정의\n",
    "    optimizer = torch.optim.Adam(model.parameters(), lr=config.lr, weight_decay=config.weight_decay)\n",
    "    criterion = nn.CrossEntropyLoss()\n",
    "\n",
    "    # 학습 코드 구현\n",
    "    total_batches = 0  # total_batches 변수 선언 및 초기화\n",
    "    for epoch in range(config.epochs):\n",
    "        model.train()\n",
    "        total_loss = 0\n",
    "        top1 = 0\n",
    "        top10 = 0\n",
    "        for batch_idx, batch in enumerate(train_dataloader):\n",
    "            # 학습 코드 작성\n",
    "            optimizer.zero_grad()  \n",
    "            x_cat, x_con, labels = batch\n",
    "            x_cat, x_con, labels = x_cat.to(device), x_con.to(device), labels.to(device)\n",
    "            outputs = model(x_cat, x_con)\n",
    "            loss = criterion(outputs, labels)\n",
    "            loss.backward()  \n",
    "            optimizer.step()  \n",
    "            total_loss += loss.item()\n",
    "\n",
    "            # 정확도 계산\n",
    "            precision, recall, f1 = calculate_metrics(outputs, labels)\n",
    "            acc1, acc10 = topkacc(outputs, labels, topk=(1,10))\n",
    "            top1 += acc1.item()\n",
    "            top10 += acc10.item()\n",
    "            # _, predicted = torch.max(outputs, 1)\n",
    "            # batch_acc = (predicted == labels).sum().item() / len(labels)\n",
    "            # total_acc += batch_acc\n",
    "            # total_batches += 1\n",
    "\n",
    "            # WandB에 배치별 정확도 기록\n",
    "            # wandb.log({f\"batch_{batch_idx}_accuracy\": batch_acc})\n",
    "        \n",
    "        avg_loss = total_loss / len(train_dataloader)\n",
    "        avg_top1 = top1 / len(train_dataloader)\n",
    "        avg_top10 = top10 /len(train_dataset)\n",
    "        \n",
    "\n",
    "        # wandb에 로그 기록\n",
    "        wandb.log({\"epoch\": epoch, \"loss\": avg_loss, \"accuracy1\": avg_top1, \"accuracy10\" : avg_top10, \"precision\": precision, \"recall\": recall, \"f1_score\": f1})\n",
    "\n",
    "# WandB sweep 실행\n",
    "wandb.agent(wandb.sweep({\"name\": \"Wide and Deep Model Sweep_epoches\", \"method\": \"grid\", \"parameters\": {\n",
    "    \"batch_size\": {\"values\": [256,512,1024]},\n",
    "    \"lr\": {\"values\": [0.005,0.001,0.0005,0.0001]},\n",
    "    \"weight_decay\": {\"values\": [1e-5,1e-3]},\n",
    "    \"embed_dim\": {\"values\": [256,128]},\n",
    "    \"dropout\": {\"values\": [0.1, 0.2, 0.3]},\n",
    "    \"mlp_dims\": {\"values\":[[256,128,64,64,32,32], [256,256,128,128,64,64,32,32,16,16]]},\n",
    "    \"epochs\": {\"values\": [100,200,300]}\n",
    "}}), function=train)\n",
    "\n"
   ]
  },
  {
   "cell_type": "markdown",
   "metadata": {},
   "source": [
    "모델의 output을 바탕으로 top k개를 추천"
   ]
  },
  {
   "cell_type": "code",
   "execution_count": 27,
   "metadata": {},
   "outputs": [
    {
     "ename": "NameError",
     "evalue": "name 'predict_all_top_k_products' is not defined",
     "output_type": "error",
     "traceback": [
      "\u001b[0;31m---------------------------------------------------------------------------\u001b[0m",
      "\u001b[0;31mNameError\u001b[0m                                 Traceback (most recent call last)",
      "Cell \u001b[0;32mIn[27], line 26\u001b[0m\n\u001b[1;32m     23\u001b[0m     \u001b[38;5;28;01mreturn\u001b[39;00m all_top_k_indices\n\u001b[1;32m     25\u001b[0m \u001b[38;5;66;03m# 모든 데이터에 대해 예측 수행\u001b[39;00m\n\u001b[0;32m---> 26\u001b[0m all_top_k_indices \u001b[38;5;241m=\u001b[39m \u001b[43mpredict_all_top_k_products\u001b[49m(model, valid_dataloader, k\u001b[38;5;241m=\u001b[39m\u001b[38;5;241m10\u001b[39m)\n\u001b[1;32m     28\u001b[0m \u001b[38;5;66;03m# 예측된 모든 product_id의 빈도 집계\u001b[39;00m\n\u001b[1;32m     29\u001b[0m predicted_counts \u001b[38;5;241m=\u001b[39m Counter([idx \u001b[38;5;28;01mfor\u001b[39;00m sublist \u001b[38;5;129;01min\u001b[39;00m all_top_k_indices \u001b[38;5;28;01mfor\u001b[39;00m idx \u001b[38;5;129;01min\u001b[39;00m sublist])\n",
      "\u001b[0;31mNameError\u001b[0m: name 'predict_all_top_k_products' is not defined"
     ]
    }
   ],
   "source": [
    "# # 모든 데이터에 대해서 가장 인기많은 top_10 반환하기\n",
    "# from collections import Counter\n",
    "\n",
    "# def predict_most_top_k_products(model, dataloader, k=10):\n",
    "#     model.eval()\n",
    "#     all_top_k_indices = []\n",
    "    \n",
    "#     with torch.no_grad():\n",
    "#         for batch in dataloader:\n",
    "#             x_categorical, x_continuous, _ = batch\n",
    "#             x_categorical = x_categorical.to(device)\n",
    "#             x_continuous = x_continuous.to(device)\n",
    "            \n",
    "#             outputs = model(x_categorical, x_continuous)\n",
    "            \n",
    "#             if outputs.dim() == 1:\n",
    "#                 outputs = outputs.unsqueeze(1)\n",
    "#             probabilities = F.softmax(outputs, dim=1)\n",
    "#             top_k_prob, top_k_indices = torch.topk(probabilities, k=k, dim=-1)\n",
    "            \n",
    "#             all_top_k_indices.extend(top_k_indices.cpu().numpy())\n",
    "            \n",
    "#     return all_top_k_indices\n",
    "\n",
    "# # 모든 데이터에 대해 예측 수행\n",
    "# all_top_k_indices = predict_all_top_k_products(model, valid_dataloader, k=10)\n",
    "\n",
    "# # 예측된 모든 product_id의 빈도 집계\n",
    "# predicted_counts = Counter([idx for sublist in all_top_k_indices for idx in sublist])\n",
    "\n",
    "# # 가장 자주 예측된 상위 10개 product_id 선정\n",
    "# top_10_predicted_ids = predicted_counts.most_common(10)\n",
    "# top_10_predicted_ids = [id_ for id_, count in top_10_predicted_ids]\n",
    "\n",
    "# print(\"Most frequently predicted top 10 product IDs:\", top_10_predicted_ids)"
   ]
  },
  {
   "cell_type": "code",
   "execution_count": 48,
   "metadata": {},
   "outputs": [
    {
     "name": "stdout",
     "output_type": "stream",
     "text": [
      "Top 10 predicted product ids: tensor([[11947, 12009, 11640,  6154, 12348,  5791, 10165, 11814,  4993, 12329],\n",
      "        [10250,   822,   467,  4022,  2851,  1405,  3213,  3227,  1231,   816],\n",
      "        [ 3224, 11813,  3092,  1009, 10556,  9238,  7993,  2082,  6178,  9891]],\n",
      "       device='cuda:0')\n"
     ]
    }
   ],
   "source": [
    "# import torch.nn.functional as F\n",
    "\n",
    "# # 모델의 예측 함수 정의\n",
    "# def predict_top_k_products(model, x_categorical, x_continuous, k=10):\n",
    "#     \"\"\"\n",
    "#     모델을 사용하여 상위 k개의 product_id를 예측하는 함수\n",
    "    \n",
    "#     Parameters:\n",
    "#     model (torch.nn.Module): 학습된 모델\n",
    "#     x_categorical (torch.Tensor): 카테고리형 특성 데이터\n",
    "#     x_continuous (torch.Tensor): 연속형 특성 데이터\n",
    "#     k (int): 반환할 상위 product_id의 개수\n",
    "\n",
    "#     Returns:\n",
    "#     torch.Tensor: 상위 k개의 product_id에 대한 인덱스\n",
    "#     \"\"\"\n",
    "#     # 모델을 평가 모드로 설정\n",
    "#     model.eval()\n",
    "    \n",
    "#     with torch.no_grad():\n",
    "#         # 데이터를 모델에 통과시키기\n",
    "#         outputs = model(x_categorical, x_continuous)\n",
    "#         # print(outputs)\n",
    "        \n",
    "#         if outputs.dim() == 1:\n",
    "#             outputs = outputs.unsqueeze(1)\n",
    "#         # Softmax 적용하여 확률 분포 얻기\n",
    "#         probabilities = F.softmax(outputs, dim=1)\n",
    "#         # print(probabilities.shape)\n",
    "        \n",
    "        \n",
    "#         # 상위 k개의 확률과 해당 인덱스(=product_id)를 얻기\n",
    "#         top_k_prob, top_k_indices = torch.topk(probabilities, k=10, dim=-1)\n",
    "\n",
    "#     return top_k_indices\n",
    "\n",
    "# # 예측 실행\n",
    "# # x_categorical과 x_continuous에 대한 데이터 준비가 필요\n",
    "# # 예: x_categorical, x_continuous = 데이터 로딩 로직\n",
    "# # device 설정 후 데이터를 device로 이동\n",
    "\n",
    "# x_categorical = x_categorical.to(device)\n",
    "# x_continuous = x_continuous.to(device)\n",
    "\n",
    "# top_k_products = predict_top_k_products(model, x_categorical, x_continuous, k=10)\n",
    "\n",
    "# print(\"Top 10 predicted product ids:\", top_k_products)"
   ]
  },
  {
   "cell_type": "code",
   "execution_count": null,
   "metadata": {},
   "outputs": [],
   "source": [
    "# # 상위 k개의 product_id 인덱스를 실제 product_id로 변환\n",
    "# top_k_product_ids = [[idx2id[idx.item()] for idx in batch] for batch in top_k_products]\n",
    "\n",
    "# print(\"Top k predicted product ids:\", top_k_product_ids)\n"
   ]
  },
  {
   "cell_type": "markdown",
   "metadata": {},
   "source": [
    "입력받은 유저의 product_id에 대한 topk"
   ]
  },
  {
   "cell_type": "code",
   "execution_count": 41,
   "metadata": {},
   "outputs": [
    {
     "name": "stdout",
     "output_type": "stream",
     "text": [
      "Top-k recommended product IDs for user's selected product: [585333654, 7119313092, 8899487287, 5765258746, 5091364698, 4428569497, 402444256, 4504101657, 4537559776, 5133168785]\n"
     ]
    }
   ],
   "source": [
    "import torch.nn.functional as F\n",
    "\n",
    "def prepare_user_product_data(user_product_id, df, categorical_columns, continuous_columns):\n",
    "    # 유저가 선택한 product_id 추출\n",
    "    user_product_data = filtered_data[filtered_data['product_id'] == user_product_id]\n",
    "    \n",
    "    # 카테고리형 및 연속형 특성을 추출\n",
    "    X_cat = user_product_data[categorical_columns]\n",
    "    X_cont = user_product_data[continuous_columns]\n",
    "    \n",
    "    # continuous variable 스케일링\n",
    "    scaler = StandardScaler()\n",
    "    X_cont_scaled = scaler.fit_transform(X_cont)\n",
    "    X_cont_scaled = pd.DataFrame(X_cont_scaled, columns=continuous_columns)\n",
    "    \n",
    "    return X_cat, X_cont_scaled\n",
    "\n",
    "\n",
    "# 유저의 product_id입력\n",
    "user_product_id = 379270836\n",
    "X_cat_user, X_cont_user = prepare_user_product_data(user_product_id, filtered_data, categorical_columns, continuous_columns)\n",
    "\n",
    "# 특성 데이터를 모델에 입력 가능한 형태로 변환\n",
    "X_cat_user_tensor = torch.tensor(X_cat_user.values, dtype=torch.long).to(device)\n",
    "X_cont_user_tensor = torch.tensor(X_cont_user.values, dtype=torch.float).to(device)\n",
    "\n",
    "# 모델을 평가 모드로 설정합니다.\n",
    "model.eval()\n",
    "\n",
    "# 유저의 product_id에 대한 예측을 수행합니다.\n",
    "with torch.no_grad():\n",
    "    output = model(X_cat_user_tensor, X_cont_user_tensor)\n",
    "    probabilities = F.softmax(output, dim=1)\n",
    "    top_k_prob, top_k_indices = torch.topk(probabilities, k=10, dim=-1)\n",
    "\n",
    "# 상위 10개 추천 상품의 인덱스를 추출합니다.\n",
    "top_k_product_idxs = top_k_indices.cpu().numpy()[0]\n",
    "top_k_product_ids = [idx2id[idx] for idx in top_k_product_idxs]\n",
    "\n",
    "print(\"Top-k recommended product IDs for user's selected product:\", top_k_product_ids)\n"
   ]
  },
  {
   "cell_type": "code",
   "execution_count": 45,
   "metadata": {},
   "outputs": [
    {
     "data": {
      "text/html": [
       "<div>\n",
       "<style scoped>\n",
       "    .dataframe tbody tr th:only-of-type {\n",
       "        vertical-align: middle;\n",
       "    }\n",
       "\n",
       "    .dataframe tbody tr th {\n",
       "        vertical-align: top;\n",
       "    }\n",
       "\n",
       "    .dataframe thead th {\n",
       "        text-align: right;\n",
       "    }\n",
       "</style>\n",
       "<table border=\"1\" class=\"dataframe\">\n",
       "  <thead>\n",
       "    <tr style=\"text-align: right;\">\n",
       "      <th></th>\n",
       "      <th>product_id</th>\n",
       "      <th>product_name</th>\n",
       "      <th>brand</th>\n",
       "      <th>category_1</th>\n",
       "      <th>category_2</th>\n",
       "      <th>category_3</th>\n",
       "      <th>rating</th>\n",
       "      <th>num_review</th>\n",
       "      <th>price</th>\n",
       "      <th>personality</th>\n",
       "      <th>product_idx</th>\n",
       "    </tr>\n",
       "  </thead>\n",
       "  <tbody>\n",
       "    <tr>\n",
       "      <th>174051</th>\n",
       "      <td>5133168785</td>\n",
       "      <td>휴럼사이언스 위간편케어 1개월분 감초추출물 밀크씨슬 함유 헬리코박터균 위 간 건강</td>\n",
       "      <td>2897</td>\n",
       "      <td>3</td>\n",
       "      <td>35</td>\n",
       "      <td>3</td>\n",
       "      <td>4.7</td>\n",
       "      <td>760</td>\n",
       "      <td>25800</td>\n",
       "      <td>2.807355</td>\n",
       "      <td>6487</td>\n",
       "    </tr>\n",
       "    <tr>\n",
       "      <th>174055</th>\n",
       "      <td>5133168785</td>\n",
       "      <td>휴럼사이언스 위간편케어 1개월분 감초추출물 밀크씨슬 함유 헬리코박터균 위 간 건강</td>\n",
       "      <td>2897</td>\n",
       "      <td>3</td>\n",
       "      <td>5</td>\n",
       "      <td>3</td>\n",
       "      <td>4.7</td>\n",
       "      <td>760</td>\n",
       "      <td>25800</td>\n",
       "      <td>2.807355</td>\n",
       "      <td>6487</td>\n",
       "    </tr>\n",
       "    <tr>\n",
       "      <th>174050</th>\n",
       "      <td>5133168785</td>\n",
       "      <td>휴럼사이언스 위간편케어 1개월분 감초추출물 밀크씨슬 함유 헬리코박터균 위 간 건강</td>\n",
       "      <td>2897</td>\n",
       "      <td>3</td>\n",
       "      <td>4</td>\n",
       "      <td>3</td>\n",
       "      <td>4.7</td>\n",
       "      <td>760</td>\n",
       "      <td>25800</td>\n",
       "      <td>2.807355</td>\n",
       "      <td>6487</td>\n",
       "    </tr>\n",
       "    <tr>\n",
       "      <th>174049</th>\n",
       "      <td>5133168785</td>\n",
       "      <td>휴럼사이언스 위간편케어 1개월분 감초추출물 밀크씨슬 함유 헬리코박터균 위 간 건강</td>\n",
       "      <td>2897</td>\n",
       "      <td>1</td>\n",
       "      <td>15</td>\n",
       "      <td>19</td>\n",
       "      <td>4.7</td>\n",
       "      <td>760</td>\n",
       "      <td>25800</td>\n",
       "      <td>2.807355</td>\n",
       "      <td>6487</td>\n",
       "    </tr>\n",
       "    <tr>\n",
       "      <th>174053</th>\n",
       "      <td>5133168785</td>\n",
       "      <td>휴럼사이언스 위간편케어 1개월분 감초추출물 밀크씨슬 함유 헬리코박터균 위 간 건강</td>\n",
       "      <td>2897</td>\n",
       "      <td>6</td>\n",
       "      <td>23</td>\n",
       "      <td>1</td>\n",
       "      <td>4.7</td>\n",
       "      <td>760</td>\n",
       "      <td>25800</td>\n",
       "      <td>2.807355</td>\n",
       "      <td>6487</td>\n",
       "    </tr>\n",
       "    <tr>\n",
       "      <th>174052</th>\n",
       "      <td>5133168785</td>\n",
       "      <td>휴럼사이언스 위간편케어 1개월분 감초추출물 밀크씨슬 함유 헬리코박터균 위 간 건강</td>\n",
       "      <td>2897</td>\n",
       "      <td>8</td>\n",
       "      <td>23</td>\n",
       "      <td>1</td>\n",
       "      <td>4.7</td>\n",
       "      <td>760</td>\n",
       "      <td>25800</td>\n",
       "      <td>2.807355</td>\n",
       "      <td>6487</td>\n",
       "    </tr>\n",
       "    <tr>\n",
       "      <th>174054</th>\n",
       "      <td>5133168785</td>\n",
       "      <td>휴럼사이언스 위간편케어 1개월분 감초추출물 밀크씨슬 함유 헬리코박터균 위 간 건강</td>\n",
       "      <td>2897</td>\n",
       "      <td>0</td>\n",
       "      <td>23</td>\n",
       "      <td>1</td>\n",
       "      <td>4.7</td>\n",
       "      <td>760</td>\n",
       "      <td>25800</td>\n",
       "      <td>2.807355</td>\n",
       "      <td>6487</td>\n",
       "    </tr>\n",
       "  </tbody>\n",
       "</table>\n",
       "</div>"
      ],
      "text/plain": [
       "        product_id                                   product_name  brand  \\\n",
       "174051  5133168785  휴럼사이언스 위간편케어 1개월분 감초추출물 밀크씨슬 함유 헬리코박터균 위 간 건강   2897   \n",
       "174055  5133168785  휴럼사이언스 위간편케어 1개월분 감초추출물 밀크씨슬 함유 헬리코박터균 위 간 건강   2897   \n",
       "174050  5133168785  휴럼사이언스 위간편케어 1개월분 감초추출물 밀크씨슬 함유 헬리코박터균 위 간 건강   2897   \n",
       "174049  5133168785  휴럼사이언스 위간편케어 1개월분 감초추출물 밀크씨슬 함유 헬리코박터균 위 간 건강   2897   \n",
       "174053  5133168785  휴럼사이언스 위간편케어 1개월분 감초추출물 밀크씨슬 함유 헬리코박터균 위 간 건강   2897   \n",
       "174052  5133168785  휴럼사이언스 위간편케어 1개월분 감초추출물 밀크씨슬 함유 헬리코박터균 위 간 건강   2897   \n",
       "174054  5133168785  휴럼사이언스 위간편케어 1개월분 감초추출물 밀크씨슬 함유 헬리코박터균 위 간 건강   2897   \n",
       "\n",
       "        category_1  category_2  category_3  rating  num_review  price  \\\n",
       "174051           3          35           3     4.7         760  25800   \n",
       "174055           3           5           3     4.7         760  25800   \n",
       "174050           3           4           3     4.7         760  25800   \n",
       "174049           1          15          19     4.7         760  25800   \n",
       "174053           6          23           1     4.7         760  25800   \n",
       "174052           8          23           1     4.7         760  25800   \n",
       "174054           0          23           1     4.7         760  25800   \n",
       "\n",
       "        personality  product_idx  \n",
       "174051     2.807355         6487  \n",
       "174055     2.807355         6487  \n",
       "174050     2.807355         6487  \n",
       "174049     2.807355         6487  \n",
       "174053     2.807355         6487  \n",
       "174052     2.807355         6487  \n",
       "174054     2.807355         6487  "
      ]
     },
     "execution_count": 45,
     "metadata": {},
     "output_type": "execute_result"
    }
   ],
   "source": [
    "filtered_data[filtered_data['product_id'] == 5133168785]"
   ]
  },
  {
   "cell_type": "code",
   "execution_count": null,
   "metadata": {},
   "outputs": [],
   "source": [
    "# def predict_for_new_input(model, user_input_features):\n",
    "#     \"\"\"\n",
    "#     새로운 유저 입력에 대해 상위 k개 product_id를 예측하고 반환하는 함수\n",
    "\n",
    "#     Parameters:\n",
    "#     model (torch.nn.Module): 학습된 모델\n",
    "#     user_input_features (dict): 새로운 유저 입력에서 추출한 특성 정보\n",
    "\n",
    "#     Returns:\n",
    "#     list: 상위 k개의 예측된 product_id\n",
    "#     \"\"\"\n",
    "#     # 유저 입력을 모델의 입력 형태로 변환\n",
    "#     x_categorical, x_continuous = preprocess_user_input(user_input_features)\n",
    "    \n",
    "#     # 모델의 예측 실행\n",
    "#     top_k_indices = predict_top_k_products(model, x_categorical, x_continuous, k=10)\n",
    "    \n",
    "#     # 예측된 인덱스를 실제 product_id로 변환\n",
    "#     top_k_product_ids = [idx2id[idx.item()] for idx in top_k_indices[0]]\n",
    "    \n",
    "#     return top_k_product_ids\n",
    "\n",
    "# # 새로운 유저 입력에 대한 예시 함수 호출\n",
    "# user_input_features = ''\n",
    "# top_k_product_ids = predict_for_new_input(model, user_input_features)\n"
   ]
  },
  {
   "cell_type": "markdown",
   "metadata": {},
   "source": [
    "한 세트 --------------"
   ]
  },
  {
   "cell_type": "code",
   "execution_count": null,
   "metadata": {},
   "outputs": [],
   "source": [
    "# class CustomDataset(Dataset):\n",
    "#     def __init__(self, X, y, cat_features, cont_features):\n",
    "#         self.X_cat = X[cat_features].astype(np.int64).values\n",
    "#         self.X_cont = X[cont_features].astype(np.float64).values\n",
    "#         self.y = y.values\n",
    "    \n",
    "#     def __len__(self):\n",
    "#         return len(self.y)\n",
    "    \n",
    "#     def __getitem__(self, idx):\n",
    "#         return (torch.tensor(self.X_cat[idx], dtype=torch.long),\n",
    "#                 torch.tensor(self.X_cont[idx], dtype=torch.float),\n",
    "#                 torch.tensor(self.y[idx], dtype=torch.long))\n",
    "\n",
    "# train_dataset = CustomDataset(X_train, y_train, categorical_features, continuous_features)\n",
    "# val_dataset = CustomDataset(X_val, y_val, categorical_features, continuous_features)\n",
    "\n",
    "# train_loader = DataLoader(train_dataset, batch_size=64, shuffle=True)\n",
    "# val_loader = DataLoader(val_dataset, batch_size=64, shuffle=False)\n",
    "\n",
    "# # Adjusting the model\n",
    "# class WideAndDeepModel(nn.Module):\n",
    "#     def __init__(self, cat_dims, embed_dim, cont_feature_count, mlp_dims, dropout):\n",
    "#         super().__init__()\n",
    "#         self.embeddings = nn.ModuleList([nn.Embedding(dim, embed_dim) for dim in cat_dims])\n",
    "#         self.cont_feature_adapt = nn.Linear(cont_feature_count, embed_dim)  # Adapting continuous features\n",
    "#         self.mlp = nn.Sequential(\n",
    "#             nn.Linear(len(cat_dims) * embed_dim + embed_dim, mlp_dims[0]),  # Adjusted input dimension\n",
    "#             nn.ReLU(),\n",
    "#             nn.Dropout(dropout),\n",
    "#             *[nn.Sequential(nn.Linear(mlp_dims[i], mlp_dims[i+1]), nn.ReLU(), nn.Dropout(dropout)) for i in range(len(mlp_dims)-1)],\n",
    "#             nn.Linear(mlp_dims[-1], 1)\n",
    "#         )\n",
    "    \n",
    "#     def forward(self, x_cat, x_cont):\n",
    "#         x_cat = [embedding(x_cat[:, i]) for i, embedding in enumerate(self.embeddings)]\n",
    "#         x_cat = torch.cat(x_cat, dim=1)\n",
    "#         x_cont = self.cont_feature_adapt(x_cont)\n",
    "#         x = torch.cat((x_cat, x_cont), dim=1)\n",
    "#         x = self.mlp(x)\n",
    "#         return x.squeeze(1)"
   ]
  },
  {
   "cell_type": "code",
   "execution_count": 328,
   "metadata": {},
   "outputs": [
    {
     "ename": "TypeError",
     "evalue": "__init__() missing 5 required positional arguments: 'cat_dims', 'embed_dim', 'cont_feature_count', 'mlp_dims', and 'dropout'",
     "output_type": "error",
     "traceback": [
      "\u001b[0;31m---------------------------------------------------------------------------\u001b[0m",
      "\u001b[0;31mTypeError\u001b[0m                                 Traceback (most recent call last)",
      "Cell \u001b[0;32mIn[328], line 1\u001b[0m\n\u001b[0;32m----> 1\u001b[0m model \u001b[38;5;241m=\u001b[39m \u001b[43mWideAndDeepModel\u001b[49m\u001b[43m(\u001b[49m\u001b[43m)\u001b[49m\n\u001b[1;32m      3\u001b[0m mode\u001b[38;5;241m.\u001b[39msummary()\n",
      "\u001b[0;31mTypeError\u001b[0m: __init__() missing 5 required positional arguments: 'cat_dims', 'embed_dim', 'cont_feature_count', 'mlp_dims', and 'dropout'"
     ]
    }
   ],
   "source": [
    "# model = WideAndDeepModel()\n",
    "\n",
    "# mode.summary()"
   ]
  },
  {
   "cell_type": "code",
   "execution_count": 267,
   "metadata": {},
   "outputs": [],
   "source": [
    "# class GiftDataset(Dataset):\n",
    "#     def __init__(self, features, labels=None):\n",
    "#         self.features = features\n",
    "#         self.labels = labels\n",
    "\n",
    "#     def __len__(self):\n",
    "#         return len(self.features)\n",
    "\n",
    "#     def __getitem__(self, idx):\n",
    "#         features = torch.tensor(self.features.iloc[idx].values, dtype=torch.float)  # 실수형 데이터를 처리하기 위해 dtype을 torch.float으로 변경\n",
    "#         if self.labels is not None:\n",
    "#             labels = torch.tensor(self.labels.iloc[idx], dtype=torch.long)\n",
    "#             return features, labels\n",
    "#         return features"
   ]
  },
  {
   "cell_type": "code",
   "execution_count": null,
   "metadata": {},
   "outputs": [],
   "source": [
    "# class CustomDataset(Dataset):\n",
    "#     def __init__(self, X, y, cat_features, cont_features):\n",
    "#         self.X_cat = X[cat_features].astype(np.int64).values\n",
    "#         self.X_cont = X[cont_features].astype(np.float32).values\n",
    "#         self.y = y.values\n",
    "\n",
    "#     def __len__(self):\n",
    "#         return len(self.y)\n",
    "    \n",
    "#     def __getitem__(self, idx):\n",
    "#         return (torch.tensor(self.X_cat[idx], dtype=torch.long),\n",
    "#                 torch.tensor(self.X_cont[idx], dtype=torch.float),\n",
    "#                 torch.tensor(self.y[idx], dtype=torch.long))"
   ]
  },
  {
   "cell_type": "code",
   "execution_count": null,
   "metadata": {},
   "outputs": [],
   "source": [
    "# # feature_fields = ['rating', 'num_review', 'personality'] + category_cols\n",
    "# train_dataset = GiftDataset(X_train, y_train)\n",
    "# val_dataset = GiftDataset(X_val, y_val)\n",
    "\n",
    "# train_loader = DataLoader(train_dataset, batch_size=64, shuffle=True)\n",
    "# val_loader = DataLoader(val_dataset, batch_size=64, shuffle=False)\n",
    "\n",
    "\n",
    "# for batch in train_loader:\n",
    "#     features, labels = batch\n",
    "#     print(features)\n",
    "#     print(labels)\n",
    "#     print(\"Features shape:\", features.shape)\n",
    "#     print(\"Features dtype:\", features.dtype)\n",
    "#     print(\"Labels shape:\", labels.shape)\n",
    "#     print(\"Labels dtype:\", labels.dtype)\n",
    "#     break  # 첫 배치만 확인하고 반복문 탈출"
   ]
  },
  {
   "cell_type": "code",
   "execution_count": 273,
   "metadata": {},
   "outputs": [],
   "source": [
    "# import numpy as np \n",
    "# import torch \n",
    "# import torch.nn as nn "
   ]
  },
  {
   "cell_type": "code",
   "execution_count": 329,
   "metadata": {},
   "outputs": [],
   "source": [
    "# # FM모델 등에서 활용되는 선형 결합 부분을 정의합니다.\n",
    "# class FeaturesLinear(nn.Module):\n",
    "#     def __init__(self, field_dims: np.ndarray, output_dim: int=1):\n",
    "#         super().__init__()\n",
    "#         self.fc = torch.nn.Embedding(sum(field_dims), output_dim)\n",
    "#         self.bias = torch.nn.Parameter(torch.zeros((output_dim,)))\n",
    "#         self.offsets = np.array((0, *np.cumsum(field_dims)[:-1]), dtype=np.int32)\n",
    "\n",
    "\n",
    "#     def forward(self, x: torch.Tensor):\n",
    "#         x = x + x.new_tensor(self.offsets).unsqueeze(0)\n",
    "#         return torch.sum(self.fc(x), dim=1) + self.bias\n",
    "\n",
    "\n",
    "# # factorization을 통해 얻은 feature를 embedding 합니다.\n",
    "# class FeaturesEmbedding(nn.Module):\n",
    "#     def __init__(self, field_dims: np.ndarray, embed_dim: int):\n",
    "#         super().__init__()\n",
    "#         self.embedding = torch.nn.Embedding(sum(field_dims), embed_dim)\n",
    "#         self.offsets = np.array((0, *np.cumsum(field_dims)[:-1]), dtype=np.int32)\n",
    "#         torch.nn.init.xavier_uniform_(self.embedding.weight.data)\n",
    "\n",
    "\n",
    "#     def forward(self, x: torch.Tensor):\n",
    "#         x = x + x.new_tensor(self.offsets).unsqueeze(0)\n",
    "#         return self.embedding(x)"
   ]
  },
  {
   "cell_type": "code",
   "execution_count": 330,
   "metadata": {},
   "outputs": [],
   "source": [
    "# # NCF 모델은 MLP와 GMF를 합하여 최종 결과를 도출합니다.\n",
    "# # MLP을 구현합니다.\n",
    "# class MultiLayerPerceptron(nn.Module):\n",
    "#     def __init__(self, input_dim, embed_dims, dropout, output_layer=True):\n",
    "#         super().__init__()\n",
    "#         layers = list()\n",
    "#         for embed_dim in embed_dims:\n",
    "#             layers.append(torch.nn.Linear(input_dim, embed_dim))\n",
    "#             layers.append(torch.nn.BatchNorm1d(embed_dim))\n",
    "#             layers.append(torch.nn.ReLU())\n",
    "#             layers.append(torch.nn.Dropout(p=dropout))\n",
    "#             input_dim = embed_dim\n",
    "#         if output_layer:\n",
    "#             layers.append(torch.nn.Linear(input_dim, 1))\n",
    "#         self.mlp = torch.nn.Sequential(*layers)\n",
    "\n",
    "\n",
    "#     def forward(self, x):\n",
    "#         return self.mlp(x)"
   ]
  },
  {
   "cell_type": "code",
   "execution_count": 331,
   "metadata": {},
   "outputs": [],
   "source": [
    "# class WideAndDeepModel(nn.Module):\n",
    "#     def __init__(self, field_dims, embed_dim, mlp_dims, dropout):\n",
    "#         super().__init__()\n",
    "#         self.linear = FeaturesLinear(field_dims=field_dims, output_dim=1)\n",
    "#         self.embedding = nn.ModuleList([nn.Embedding(num_embeddings=dim, embedding_dim=embed_dim) for dim in field_dims])\n",
    "#         self.mlp = nn.Sequential(\n",
    "#             nn.Linear(sum(field_dims) * embed_dim, mlp_dims[0]),\n",
    "#             nn.ReLU(),\n",
    "#             nn.Dropout(dropout),\n",
    "#             *[nn.Sequential(nn.Linear(mlp_dims[i], mlp_dims[i+1]), nn.ReLU(), nn.Dropout(dropout)) for i in range(len(mlp_dims)-1)],\n",
    "#             nn.Linear(mlp_dims[-1], 1)\n",
    "#         )\n",
    "\n",
    "#     def forward(self, x):\n",
    "#         # 임베딩된 특성을 연결합니다.\n",
    "#         embedded_features = [embedding(x[:, i].unsqueeze(-1)) for i, embedding in enumerate(self.embedding)]\n",
    "#         embedded = torch.cat(embedded_features, dim=2).view(x.size(0), -1)\n",
    "#         # 선형 부분의 출력을 계산합니다.\n",
    "#         x_linear = self.linear(x)\n",
    "#         # MLP 부분의 출력을 계산합니다.\n",
    "#         x_mlp = self.mlp(embedded)\n",
    "#         # 최종 출력을 계산합니다.\n",
    "#         output = x_linear + x_mlp\n",
    "#         return output.squeeze(1)"
   ]
  },
  {
   "cell_type": "code",
   "execution_count": 340,
   "metadata": {},
   "outputs": [],
   "source": [
    "# # 카테고리, 연속형 동시에 고려하여 deep, wide를 분리한 후 concat하는 방식으로 진행\n",
    "# # https://github.com/eclarson/MachineLearningNotebooks/blob/master/10.%20Keras%20Wide%20and%20Deep.ipynb\n",
    "# class WideAndDeepModel(nn.Module):\n",
    "#     def __init__(self, categorical_field_dims, continuous_field_size, embed_dim, mlp_dims, dropout):\n",
    "#         super().__init__()\n",
    "#         # 카테고리 데이터 임베딩\n",
    "#         self.embeddings = nn.ModuleList([nn.Embedding(num_embeddings, embed_dim) for num_embeddings in categorical_field_dims])\n",
    "#         self.continuous_field_size = continuous_field_size\n",
    "\n",
    "#         # Wide 부분\n",
    "#         self.linear = nn.Linear(continuous_field_size, 1)\n",
    "\n",
    "#         # Deep 부분\n",
    "#         total_embed_dim = len(categorical_field_dims) * embed_dim\n",
    "#         self.deep_input_size = total_embed_dim + continuous_field_size\n",
    "#         self.mlp = self._make_mlp(self.deep_input_size, mlp_dims, dropout)\n",
    "\n",
    "#     def _make_mlp(self, input_dim, mlp_dims, dropout):\n",
    "#         layers = []\n",
    "#         for output_dim in mlp_dims:\n",
    "#             layers.append(nn.Linear(input_dim, output_dim))\n",
    "#             layers.append(nn.ReLU())\n",
    "#             layers.append(nn.Dropout(dropout))\n",
    "#             input_dim = output_dim\n",
    "#         layers.append(nn.Linear(mlp_dims[-1], 1))\n",
    "#         return nn.Sequential(*layers)\n",
    "\n",
    "#     def forward(self, x_categorical, x_continuous):\n",
    "#         x_embed = [embedding(x_categorical[:, i]) for i, embedding in enumerate(self.embeddings)]\n",
    "#         x_embed = torch.cat(x_embed, dim=1)\n",
    "\n",
    "#         x_deep = torch.cat([x_embed, x_continuous], dim=1)\n",
    "#         x_wide = x_continuous\n",
    "\n",
    "#         wide_output = self.linear(x_wide)\n",
    "#         deep_output = self.mlp(x_deep)\n",
    "\n",
    "#         output = wide_output + deep_output\n",
    "#         return output.squeeze(1)\n"
   ]
  },
  {
   "cell_type": "code",
   "execution_count": 280,
   "metadata": {},
   "outputs": [],
   "source": [
    "# # Wide: memorization을 담당하는 generalized linear model\n",
    "# # Deep: generalization을 담당하는 feed-forward neural network\n",
    "# # wide and deep model은 위의 wide 와 deep 을 결합하는 모델입니다.\n",
    "# # 데이터를 embedding 하여 MLP 으로 학습시킨 Deep 모델과 parameter에 bias를 더한 linear 모델을 합하여 최종결과를 도출합니다.\n",
    "# class WideAndDeepModel(nn.Module):\n",
    "#     def __init__(self, field_dims, embed_dim, mlp_dims, dropout):\n",
    "#         super().__init__()\n",
    "#         self.linear = FeaturesLinear(sum(field_dims), 1)  # 'rating'과 'num_review'만 사용\n",
    "#         # self.embedding = FeaturesEmbedding(field_dims, embed_dim)\n",
    "#         self.embedding = nn.ModuleList([nn.Embedding(field_dim, embed_dim) for field_dim in field_dims])\n",
    "#         # self.embed_output_dim = len(field_dims)* embed_dim\n",
    "#         # self.mlp = MultiLayerPerceptron(self.embed_output_dim, mlp_dims, dropout, output_layer=False)\n",
    "#         self.mlp = nn.Sequential(\n",
    "#             nn.Linear(len(field_dims) * embed_dim, mlp_dims[0]),\n",
    "#             nn.ReLU(),\n",
    "#             nn.Dropout(dropout),\n",
    "#             *[nn.Sequential(nn.Linear(mlp_dims[i], mlp_dims[i+1]), nn.ReLU(), nn.Dropout(dropout)) for i in range(len(mlp_dims)-1)],\n",
    "#             nn.Linear(mlp_dims[-1], 1)\n",
    "#         )\n",
    "#         # self.final_linear = nn.Linear(mlp_dims[-1], 1)\n",
    "\n",
    "#     def forward(self, x):\n",
    "#         embedded = torch.cat([embedding(x[:, i]) for i, embedding in enumerate(self.embedding)], dim=1)\n",
    "#         x_linear = self.linear(x)\n",
    "#         x_mlp = self.mlp(embedded)\n",
    "#         # Linear와 MLP 출력의 합\n",
    "#         output = x_linear + x_mlp\n",
    "#         return output.squeeze(1)\n",
    "    \n",
    "    \n",
    "#         # print(f'Input Shape: {x.shape}')\n",
    "#         # linear_part = self.linear(x)\n",
    "#         # print(f'Linear Part Output Shape: {linear_part.shape}')\n",
    "#         # embedding_part = self.embedding(x)\n",
    "#         # print(f'Embedding Part Output Shape: {embedding_part.shape}')\n",
    "#         # deep_input = torch.cat([embedding_part, x], 1)\n",
    "#         # deep_output = self.mlp(deep_input)\n",
    "#         # final_output = self.final_linear(deep_output + linear_part)\n",
    "#         # return final_output.squeeze(1)\n",
    "\n",
    "        \n",
    "#         # combined_input = torch.cat([linear_part, embedding_part], 1)\n",
    "#         # print(f'Combined Input Shape: {combined_input.shape}')\n",
    "#         # x = self.mlp(combined_input)\n",
    "#         # print(f'MLP Output Shape: {x.shape}')\n",
    "#         # x = self.final_linear(x)\n",
    "#         # print(f'Final Output Shape: {x.shape}')\n",
    "#         # return x.squeeze(1)"
   ]
  },
  {
   "cell_type": "code",
   "execution_count": null,
   "metadata": {},
   "outputs": [],
   "source": [
    "# import torch.optim as optim\n",
    "# from torch.nn import MSELoss\n",
    "# # 카테고리 데이터에 대해서만 받도록 설정\n",
    "# field_dims = [df[col].nunique() for col in feature_cols if col in category_cols]\n",
    "\n",
    "# field_dims=[len(df[col].unique()) for col in feature_cols]\n",
    "\n",
    "# model = WideAndDeepModel(field_dims, embed_dim=16, mlp_dims=[64, 32], dropout=0.1).to(torch.device('cuda' if torch.cuda.is_available() else 'cpu'))\n",
    "# optimizer = optim.Adam(model.parameters(), lr=0.001)\n",
    "# criterion = MSELoss()"
   ]
  }
 ],
 "metadata": {
  "kernelspec": {
   "display_name": "recbole",
   "language": "python",
   "name": "python3"
  },
  "language_info": {
   "codemirror_mode": {
    "name": "ipython",
    "version": 3
   },
   "file_extension": ".py",
   "mimetype": "text/x-python",
   "name": "python",
   "nbconvert_exporter": "python",
   "pygments_lexer": "ipython3",
   "version": "3.8.18"
  }
 },
 "nbformat": 4,
 "nbformat_minor": 2
}
