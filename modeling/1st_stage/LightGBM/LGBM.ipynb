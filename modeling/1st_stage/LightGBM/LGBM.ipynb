{
 "cells": [
  {
   "cell_type": "markdown",
   "metadata": {},
   "source": [
    "본 EDA 파일은 모델에 맞게 샘플링릊 ㅣㄴ행하고자 여러 가지 측면에서 데이터를 보고, 불필요한 데이터 row, col을 걸러내기 위한 작업을 진행합니다"
   ]
  },
  {
   "cell_type": "code",
   "execution_count": 1,
   "metadata": {},
   "outputs": [],
   "source": [
    "import pandas as pd\n",
    "import numpy as np\n",
    "import seaborn as sns\n",
    "import matplotlib.pyplot as plt\n",
    "import warnings\n",
    "warnings.filterwarnings('ignore')\n"
   ]
  },
  {
   "cell_type": "code",
   "execution_count": 2,
   "metadata": {},
   "outputs": [],
   "source": [
    "path = '/home/siyun/ephemeral/data/'\n",
    "df = pd.read_csv(path + 'gift_data.csv')"
   ]
  },
  {
   "cell_type": "code",
   "execution_count": 3,
   "metadata": {},
   "outputs": [
    {
     "data": {
      "text/plain": [
       "131075"
      ]
     },
     "execution_count": 3,
     "metadata": {},
     "output_type": "execute_result"
    }
   ],
   "source": [
    "df['product_id'].nunique()"
   ]
  },
  {
   "cell_type": "code",
   "execution_count": 8,
   "metadata": {},
   "outputs": [],
   "source": [
    "df['category_3'].fillna('unknown', inplace=True)\n",
    "product_category_counts = df.groupby(['product_id', 'category_1', 'category_2', 'category_3']).size().reset_index(name='counts')\n",
    "\n",
    "# 각 product_id 내에서 카테고리가 선택될 확률 계산\n",
    "product_category_counts['total_counts'] = product_category_counts.groupby('product_id')['counts'].transform('sum')\n",
    "product_category_counts['prob'] = product_category_counts['counts'] / product_category_counts['total_counts']\n",
    "\n",
    "# 각 product_id에 대한 엔트로피를 계산\n",
    "# -sigma(pi) * log2(pi)\n",
    "product_category_counts['personality'] = -product_category_counts['prob'] * np.log2(product_category_counts['prob'])\n",
    "product_entropy = product_category_counts.groupby('product_id')['personality'].sum().reset_index()\n",
    "\n",
    "# 매핑\n",
    "mean_entropy = product_entropy['personality'].mean()\n",
    "df = df.merge(product_entropy, on='product_id', how='left')\n",
    "df['personality'].fillna(mean_entropy, inplace=True)"
   ]
  },
  {
   "cell_type": "code",
   "execution_count": null,
   "metadata": {},
   "outputs": [],
   "source": [
    "# df.groupby(['category_1','category_2'])['personality'].hist(alpha=0.5, bins=20)"
   ]
  },
  {
   "cell_type": "markdown",
   "metadata": {},
   "source": [
    "product_id의 빈도가 최소 2인 것만 반환"
   ]
  },
  {
   "cell_type": "markdown",
   "metadata": {},
   "source": [
    "각 카테고리1 별 카테고리2의 통계값 확인"
   ]
  },
  {
   "cell_type": "code",
   "execution_count": 9,
   "metadata": {},
   "outputs": [],
   "source": [
    "def cat_stats(df) : \n",
    "    for col1 in df['category_1'].unique():\n",
    "        # 특정 category_1 값에 해당하는 행들만 선택\n",
    "        filtered_df1 = df[df['category_1'] == col1]\n",
    "\n",
    "        # category_1에 대한 price 통계 계산\n",
    "        mean_price1 = filtered_df1['price'].mean()\n",
    "        std_price1 = filtered_df1['price'].std()\n",
    "\n",
    "        mean_review1 = filtered_df1['num_review'].mean()\n",
    "        std_review1 = filtered_df1['num_review'].std()\n",
    "\n",
    "        # 결과 출력\n",
    "        print(f\"len : {len(filtered_df1)} || Category_1: {col1} || price_mean :{int(mean_price1)}({std_price1:.3f}) || price_min : {filtered_df1['price'].min()} || Q_0.3: {int(filtered_df1['price'].quantile(0.3))} || Q_0.5: {int(filtered_df1['price'].median())} || Q_0.99: {int(filtered_df1['price'].quantile(0.99))} || price_max : {filtered_df1['price'].max()}\")\n",
    "\n",
    "        print(f\"                                        review_mean: {int(mean_review1)}({std_review1:.3f}) || review_min : {filtered_df1['price'].min()} || Q_0.3: {int(np.quantile(std_review1, 0.3))} || Q_0.5: {int(np.median(std_review1))}\")\n",
    "        # print(f\"Q 0.3보다 낮은 row의 개수 : {len(filtered_df1[filtered_df1['price'] < filtered_df1['price'].quantile(0.3)])} 의 비율 : {len(filtered_df1[filtered_df1['price'] < filtered_df1['price'].quantile(0.3)]) / len(df)}\")\n",
    "        # category_2의 unique 값에 대해 반복\n",
    "        for col2 in filtered_df1['category_2'].unique():\n",
    "            # 특정 category_2 값에 해당하는 행들만 선택\n",
    "            filtered_df2 = filtered_df1[filtered_df1['category_2'] == col2]\n",
    "\n",
    "            if len(filtered_df2) <= 1 :\n",
    "                pass\n",
    "            else :\n",
    "                # category_2에 대한 price 통계 계산\n",
    "                mean_price2 = filtered_df2['price'].mean()\n",
    "                std_price2 = filtered_df2['price'].std()\n",
    "\n",
    "\n",
    "                mean_review2 = filtered_df2['num_review'].mean()\n",
    "                std_review2 = filtered_df2['num_review'].std()\n",
    "                \n",
    "                # 각 카테고리1의 하위 카테고리인 카테고리2의 quantile 0.3 이하를 제거 \n",
    "\n",
    "                # 결과 출력\n",
    "                print(f\"    len : {len(filtered_df2)} || Category_2: {col2} || Category_1: {col1} || price_mean :{int(mean_price2)}({std_price2:.3f}) || price_min : {filtered_df2['price'].min()} || Q_0.3: {int(filtered_df2['price'].quantile(0.3))} || Q_0.5: {int(filtered_df2['price'].median())} || Q_0.99: {int(filtered_df2['price'].quantile(0.99))} || price_max : {filtered_df2['price'].max()}\")\n",
    "                print(f\"                                             review_mean: {int(mean_review1)}({std_review1:.3f}) || review_min : {filtered_df2['price'].min()} || Q_0.3: {int(np.quantile(std_review2, 0.3))} || Q_0.5: {int(np.median(std_review2))}\")\n"
   ]
  },
  {
   "cell_type": "code",
   "execution_count": null,
   "metadata": {},
   "outputs": [],
   "source": [
    "cat_stats(df)"
   ]
  },
  {
   "cell_type": "markdown",
   "metadata": {},
   "source": [
    "filtering\n",
    "\n",
    "가격\n",
    "- 비정상적으로 높은 부분을 제거하기 위해(비정상적으로 높다 == 어뷰징의 가능성) std 약 3sigma(97%)의 상한선\n",
    "\n",
    "리뷰\n",
    "- 너무 적은 것은 표본으로써 기능을 못한다고 생각함.\n",
    "- 즉, 인기가 없다 != 독특하다 가 아니라 인기가 없다 == 안사는데 이유가 있다 or 대체제로써 가치가 낮다라고 생각.\n",
    "- 리뷰는 이에 대한 하나의 척도로써 주관적으로 판단함.\n"
   ]
  },
  {
   "cell_type": "code",
   "execution_count": 13,
   "metadata": {},
   "outputs": [],
   "source": [
    "filtered_df = pd.DataFrame()\n",
    "\n",
    "for col1 in df['category_1'].unique():\n",
    "    # 특정 category_1 값에 해당하는 행들만 선택\n",
    "    filtered_df1 = df[df['category_1'] == col1]\n",
    "\n",
    "    # category_2의 unique 값에 대해 반복\n",
    "    for col2 in filtered_df1['category_2'].unique():\n",
    "        # 특정 category_2 값에 해당하는 행들만 선택\n",
    "        filtered_df2 = filtered_df1[filtered_df1['category_2'] == col2]\n",
    "\n",
    "        # 각 카테고리1의 하위 카테고리인 카테고리2의 quantile 0.3 이하를 제거 \n",
    "        price_q_3 = filtered_df2['price'].quantile(0.3)\n",
    "        price_q_99 =  filtered_df2['price'].quantile(0.99)\n",
    "        rev_q_0_50 = filtered_df2['num_review'].quantile(0.5)\n",
    "\n",
    "        filtered_q3 = filtered_df2[(filtered_df2['price'] > price_q_3) & (filtered_df2['price'] <= price_q_99) & (filtered_df2['num_review'] >= rev_q_0_50)]\n",
    "        filtered_df = pd.concat([filtered_df, filtered_q3])\n"
   ]
  },
  {
   "cell_type": "code",
   "execution_count": 15,
   "metadata": {},
   "outputs": [
    {
     "data": {
      "text/plain": [
       "(115086, 14)"
      ]
     },
     "execution_count": 15,
     "metadata": {},
     "output_type": "execute_result"
    }
   ],
   "source": [
    "filtered_df.shape"
   ]
  },
  {
   "cell_type": "markdown",
   "metadata": {},
   "source": [
    "필터링한 후 확인"
   ]
  },
  {
   "cell_type": "code",
   "execution_count": 27,
   "metadata": {},
   "outputs": [
    {
     "name": "stdout",
     "output_type": "stream",
     "text": [
      "len : 42626 || Category_1: 생일선물 || price_mean :55385(93843.097) || price_min : 1980 || Q_0.3: 23900 || Q_0.5: 31800 || Q_0.99: 489000 || price_max : 2199000\n",
      "                                        review_mean: 1912(2389.126) || review_min : 1980 || Q_0.3: 2389 || Q_0.5: 2389\n",
      "    len : 9889 || Category_2: 환갑/칠순선물 || Category_1: 생일선물 || price_mean :78180(107100.488) || price_min : 19810 || Q_0.3: 29900 || Q_0.5: 39900 || Q_0.99: 599000 || price_max : 898000\n",
      "                                             review_mean: 1912(2389.126) || review_min : 19810 || Q_0.3: 2454 || Q_0.5: 2454\n",
      "    len : 9314 || Category_2: 4050대 여성 || Category_1: 생일선물 || price_mean :41382(32032.174) || price_min : 14940 || Q_0.3: 23500 || Q_0.5: 30000 || Q_0.99: 178818 || price_max : 236000\n",
      "                                             review_mean: 1912(2389.126) || review_min : 14940 || Q_0.3: 2466 || Q_0.5: 2466\n",
      "    len : 6452 || Category_2: 2030대 여성 || Category_1: 생일선물 || price_mean :41429(65189.467) || price_min : 12700 || Q_0.3: 18900 || Q_0.5: 24900 || Q_0.99: 376041 || price_max : 879000\n",
      "                                             review_mean: 1912(2389.126) || review_min : 12700 || Q_0.3: 2247 || Q_0.5: 2247\n",
      "    len : 3423 || Category_2: 10대 여성 || Category_1: 생일선물 || price_mean :51423(97854.595) || price_min : 12950 || Q_0.3: 18900 || Q_0.5: 25000 || Q_0.99: 541479 || price_max : 1299000\n",
      "                                             review_mean: 1912(2389.126) || review_min : 12950 || Q_0.3: 2241 || Q_0.5: 2241\n",
      "    len : 5005 || Category_2: 2030대 남성 || Category_1: 생일선물 || price_mean :57789(93001.427) || price_min : 16450 || Q_0.3: 24000 || Q_0.5: 31450 || Q_0.99: 499000 || price_max : 1199000\n",
      "                                             review_mean: 1912(2389.126) || review_min : 16450 || Q_0.3: 2256 || Q_0.5: 2256\n",
      "    len : 6226 || Category_2: 4050대 남성 || Category_1: 생일선물 || price_mean :45468(31748.091) || price_min : 18180 || Q_0.3: 26900 || Q_0.5: 34900 || Q_0.99: 169000 || price_max : 209700\n",
      "                                             review_mean: 1912(2389.126) || review_min : 18180 || Q_0.3: 2603 || Q_0.5: 2603\n",
      "    len : 1083 || Category_2: 10대 남성 || Category_1: 생일선물 || price_mean :160496(331895.549) || price_min : 17900 || Q_0.3: 28800 || Q_0.5: 43200 || Q_0.99: 1698180 || price_max : 2199000\n",
      "                                             review_mean: 1912(2389.126) || review_min : 17900 || Q_0.3: 2053 || Q_0.5: 2053\n",
      "    len : 1102 || Category_2: 파티용품 || Category_1: 생일선물 || price_mean :9309(7835.560) || price_min : 1980 || Q_0.3: 3900 || Q_0.5: 6900 || Q_0.99: 38693 || price_max : 42900\n",
      "                                             review_mean: 1912(2389.126) || review_min : 1980 || Q_0.3: 1529 || Q_0.5: 1529\n",
      "    len : 85 || Category_2: e쿠폰 || Category_1: 생일선물 || price_mean :20023(12051.157) || price_min : 5500 || Q_0.3: 10040 || Q_0.5: 17000 || Q_0.99: 50000 || price_max : 50000\n",
      "                                             review_mean: 1912(2389.126) || review_min : 5500 || Q_0.3: 2183 || Q_0.5: 2183\n",
      "    len : 47 || Category_2: 케이크 || Category_1: 생일선물 || price_mean :18765(11959.211) || price_min : 5500 || Q_0.3: 10200 || Q_0.5: 14900 || Q_0.99: 50000 || price_max : 50000\n",
      "                                             review_mean: 1912(2389.126) || review_min : 5500 || Q_0.3: 1990 || Q_0.5: 1990\n",
      "len : 4847 || Category_1: 퇴직선물 || price_mean :34201(23423.005) || price_min : 7000 || Q_0.3: 21000 || Q_0.5: 26900 || Q_0.99: 129539 || price_max : 245100\n",
      "                                        review_mean: 2403(2597.419) || review_min : 7000 || Q_0.3: 2597 || Q_0.5: 2597\n",
      "    len : 3210 || Category_2: 화장품 || Category_1: 퇴직선물 || price_mean :30077(15881.027) || price_min : 14950 || Q_0.3: 19900 || Q_0.5: 25000 || Q_0.99: 94936 || price_max : 116250\n",
      "                                             review_mean: 2403(2597.419) || review_min : 14950 || Q_0.3: 2579 || Q_0.5: 2579\n",
      "    len : 1031 || Category_2: 영양제 || Category_1: 퇴직선물 || price_mean :52025(34163.310) || price_min : 20890 || Q_0.3: 30000 || Q_0.5: 39900 || Q_0.99: 178430 || price_max : 245100\n",
      "                                             review_mean: 2403(2597.419) || review_min : 20890 || Q_0.3: 2676 || Q_0.5: 2676\n",
      "    len : 540 || Category_2: 향초_디퓨저 || Category_1: 퇴직선물 || price_mean :20894(11116.329) || price_min : 7000 || Q_0.3: 13900 || Q_0.5: 17900 || Q_0.99: 59488 || price_max : 70000\n",
      "                                             review_mean: 2403(2597.419) || review_min : 7000 || Q_0.3: 2329 || Q_0.5: 2329\n",
      "    len : 66 || Category_2: 꽃 || Category_1: 퇴직선물 || price_mean :65200(24624.266) || price_min : 27900 || Q_0.3: 52450 || Q_0.5: 59000 || Q_0.99: 118449 || price_max : 136000\n",
      "                                             review_mean: 2403(2597.419) || review_min : 27900 || Q_0.3: 2287 || Q_0.5: 2287\n",
      "len : 8898 || Category_1: 취업선물 || price_mean :51508(154863.439) || price_min : 2280 || Q_0.3: 19000 || Q_0.5: 28500 || Q_0.99: 479300 || price_max : 2950000\n",
      "                                        review_mean: 2282(2584.964) || review_min : 2280 || Q_0.3: 2584 || Q_0.5: 2584\n",
      "    len : 3200 || Category_2: 화장품 || Category_1: 취업선물 || price_mean :28637(15440.702) || price_min : 14080 || Q_0.3: 19284 || Q_0.5: 23900 || Q_0.99: 90275 || price_max : 114000\n",
      "                                             review_mean: 2282(2584.964) || review_min : 14080 || Q_0.3: 2688 || Q_0.5: 2688\n",
      "    len : 2125 || Category_2: 데스크테리어 || Category_1: 취업선물 || price_mean :12382(12092.543) || price_min : 2280 || Q_0.3: 4800 || Q_0.5: 8800 || Q_0.99: 59000 || price_max : 80800\n",
      "                                             review_mean: 2282(2584.964) || review_min : 2280 || Q_0.3: 1653 || Q_0.5: 1653\n",
      "    len : 3212 || Category_2: 영양제 || Category_1: 취업선물 || price_mean :55979(36876.394) || price_min : 23950 || Q_0.3: 33900 || Q_0.5: 43600 || Q_0.99: 199889 || price_max : 249000\n",
      "                                             review_mean: 2282(2584.964) || review_min : 23950 || Q_0.3: 2764 || Q_0.5: 2764\n",
      "    len : 361 || Category_2: 디지털_가전 || Category_1: 취업선물 || price_mean :444772(639253.058) || price_min : 39900 || Q_0.3: 84000 || Q_0.5: 170000 || Q_0.99: 2678999 || price_max : 2950000\n",
      "                                             review_mean: 2282(2584.964) || review_min : 39900 || Q_0.3: 2011 || Q_0.5: 2011\n",
      "len : 20701 || Category_1: 집들이선물 || price_mean :34271(82337.115) || price_min : 3900 || Q_0.3: 12900 || Q_0.5: 17900 || Q_0.99: 359000 || price_max : 1819000\n",
      "                                        review_mean: 1568(2165.810) || review_min : 3900 || Q_0.3: 2165 || Q_0.5: 2165\n",
      "    len : 6751 || Category_2: 푸드 || Category_1: 집들이선물 || price_mean :23202(14837.742) || price_min : 8860 || Q_0.3: 14000 || Q_0.5: 18800 || Q_0.99: 84000 || price_max : 113000\n",
      "                                             review_mean: 1568(2165.810) || review_min : 8860 || Q_0.3: 2333 || Q_0.5: 2333\n",
      "    len : 2767 || Category_2: 주방용품 || Category_1: 집들이선물 || price_mean :20175(20287.467) || price_min : 4930 || Q_0.3: 9000 || Q_0.5: 13000 || Q_0.99: 109000 || price_max : 159000\n",
      "                                             review_mean: 1568(2165.810) || review_min : 4930 || Q_0.3: 1655 || Q_0.5: 1655\n",
      "    len : 2316 || Category_2: 리빙/인테리어 || Category_1: 집들이선물 || price_mean :32586(27796.990) || price_min : 9990 || Q_0.3: 17000 || Q_0.5: 23850 || Q_0.99: 156834 || price_max : 194000\n",
      "                                             review_mean: 1568(2165.810) || review_min : 9990 || Q_0.3: 2171 || Q_0.5: 2171\n",
      "    len : 756 || Category_2: 청소용품 || Category_1: 집들이선물 || price_mean :20785(14757.341) || price_min : 6900 || Q_0.3: 11800 || Q_0.5: 15800 || Q_0.99: 76900 || price_max : 92000\n",
      "                                             review_mean: 1568(2165.810) || review_min : 6900 || Q_0.3: 2796 || Q_0.5: 2796\n",
      "    len : 212 || Category_2: 욕실용품 || Category_1: 집들이선물 || price_mean :17076(14803.252) || price_min : 3900 || Q_0.3: 5900 || Q_0.5: 11900 || Q_0.99: 71224 || price_max : 79000\n",
      "                                             review_mean: 1568(2165.810) || review_min : 3900 || Q_0.3: 2688 || Q_0.5: 2688\n",
      "    len : 1184 || Category_2: 가전 || Category_1: 집들이선물 || price_mean :224957(272000.197) || price_min : 40000 || Q_0.3: 78770 || Q_0.5: 129000 || Q_0.99: 1560000 || price_max : 1819000\n",
      "                                             review_mean: 1568(2165.810) || review_min : 40000 || Q_0.3: 2078 || Q_0.5: 2078\n",
      "    len : 1368 || Category_2: 생활용품 || Category_1: 집들이선물 || price_mean :22672(10218.666) || price_min : 10700 || Q_0.3: 15800 || Q_0.5: 19800 || Q_0.99: 55685 || price_max : 62700\n",
      "                                             review_mean: 1568(2165.810) || review_min : 10700 || Q_0.3: 2731 || Q_0.5: 2731\n",
      "    len : 4814 || Category_2: 반려동물 || Category_1: 집들이선물 || price_mean :19585(19286.889) || price_min : 3950 || Q_0.3: 8900 || Q_0.5: 13500 || Q_0.99: 106921 || price_max : 144000\n",
      "                                             review_mean: 1568(2165.810) || review_min : 3950 || Q_0.3: 1784 || Q_0.5: 1784\n",
      "    len : 533 || Category_2: 식물 || Category_1: 집들이선물 || price_mean :19768(23088.639) || price_min : 4000 || Q_0.3: 7500 || Q_0.5: 10900 || Q_0.99: 108679 || price_max : 119000\n",
      "                                             review_mean: 1568(2165.810) || review_min : 4000 || Q_0.3: 1737 || Q_0.5: 1737\n",
      "len : 5518 || Category_1: 출산선물 || price_mean :43094(55804.219) || price_min : 14900 || Q_0.3: 22400 || Q_0.5: 28635 || Q_0.99: 280414 || price_max : 1699000\n",
      "                                        review_mean: 1809(2291.192) || review_min : 14900 || Q_0.3: 2291 || Q_0.5: 2291\n",
      "    len : 4051 || Category_2: 임산부선물 || Category_1: 출산선물 || price_mean :43363(46138.877) || price_min : 15300 || Q_0.3: 22000 || Q_0.5: 28500 || Q_0.99: 278500 || price_max : 368000\n",
      "                                             review_mean: 1809(2291.192) || review_min : 15300 || Q_0.3: 2233 || Q_0.5: 2233\n",
      "    len : 730 || Category_2: 신생아선물 || Category_1: 출산선물 || price_mean :29758(16006.429) || price_min : 14900 || Q_0.3: 20400 || Q_0.5: 25000 || Q_0.99: 97840 || price_max : 128000\n",
      "                                             review_mean: 1809(2291.192) || review_min : 14900 || Q_0.3: 2153 || Q_0.5: 2153\n",
      "    len : 623 || Category_2: 과일 || Category_1: 출산선물 || price_mean :33612(13475.478) || price_min : 17900 || Q_0.3: 24900 || Q_0.5: 29900 || Q_0.99: 73900 || price_max : 92900\n",
      "                                             review_mean: 1809(2291.192) || review_min : 17900 || Q_0.3: 2749 || Q_0.5: 2749\n",
      "    len : 48 || Category_2: 셀프촬영 || Category_1: 출산선물 || price_mean :315475(307371.798) || price_min : 44160 || Q_0.3: 123200 || Q_0.5: 199000 || Q_0.99: 1323000 || price_max : 1699000\n",
      "                                             review_mean: 1809(2291.192) || review_min : 44160 || Q_0.3: 2003 || Q_0.5: 2003\n",
      "    len : 66 || Category_2: 꽃 || Category_1: 출산선물 || price_mean :65459(24313.769) || price_min : 29900 || Q_0.3: 52450 || Q_0.5: 59000 || Q_0.99: 118449 || price_max : 136000\n",
      "                                             review_mean: 1809(2291.192) || review_min : 29900 || Q_0.3: 2288 || Q_0.5: 2288\n",
      "len : 13849 || Category_1: 결혼기념일선물 || price_mean :66324(157628.171) || price_min : 1500 || Q_0.3: 24800 || Q_0.5: 33900 || Q_0.99: 759000 || price_max : 2349000\n",
      "                                        review_mean: 1662(2237.224) || review_min : 1500 || Q_0.3: 2237 || Q_0.5: 2237\n",
      "    len : 3048 || Category_2: 아내선물 || Category_1: 결혼기념일선물 || price_mean :92611(189857.380) || price_min : 19840 || Q_0.3: 29800 || Q_0.5: 39370 || Q_0.99: 1329422 || price_max : 1608000\n",
      "                                             review_mean: 1662(2237.224) || review_min : 19840 || Q_0.3: 1911 || Q_0.5: 1911\n",
      "    len : 8293 || Category_2: 부모님선물 || Category_1: 결혼기념일선물 || price_mean :45037(35443.215) || price_min : 14950 || Q_0.3: 24900 || Q_0.5: 33000 || Q_0.99: 198000 || price_max : 260000\n",
      "                                             review_mean: 1662(2237.224) || review_min : 14950 || Q_0.3: 2442 || Q_0.5: 2442\n",
      "    len : 1228 || Category_2: 이벤트/파티용품 || Category_1: 결혼기념일선물 || price_mean :10876(11180.880) || price_min : 2100 || Q_0.3: 4500 || Q_0.5: 7675 || Q_0.99: 58190 || price_max : 99000\n",
      "                                             review_mean: 1662(2237.224) || review_min : 2100 || Q_0.3: 1730 || Q_0.5: 1730\n",
      "    len : 1130 || Category_2: 남편선물 || Category_1: 결혼기념일선물 || price_mean :219812(406847.061) || price_min : 25000 || Q_0.3: 43200 || Q_0.5: 63200 || Q_0.99: 2120410 || price_max : 2349000\n",
      "                                             review_mean: 1662(2237.224) || review_min : 25000 || Q_0.3: 1787 || Q_0.5: 1787\n",
      "    len : 150 || Category_2: 손편지 || Category_1: 결혼기념일선물 || price_mean :6742(5087.914) || price_min : 1500 || Q_0.3: 3269 || Q_0.5: 5500 || Q_0.99: 25794 || price_max : 29000\n",
      "                                             review_mean: 1662(2237.224) || review_min : 1500 || Q_0.3: 1352 || Q_0.5: 1352\n",
      "len : 7940 || Category_1: 개업선물 || price_mean :63276(188307.284) || price_min : 4100 || Q_0.3: 18900 || Q_0.5: 29900 || Q_0.99: 925099 || price_max : 2950000\n",
      "                                        review_mean: 1846(2417.847) || review_min : 4100 || Q_0.3: 2417 || Q_0.5: 2417\n",
      "    len : 1095 || Category_2: 주방용품 || Category_1: 개업선물 || price_mean :21897(16100.326) || price_min : 6200 || Q_0.3: 11900 || Q_0.5: 16800 || Q_0.99: 81119 || price_max : 109000\n",
      "                                             review_mean: 1846(2417.847) || review_min : 6200 || Q_0.3: 1517 || Q_0.5: 1517\n",
      "    len : 3215 || Category_2: 영양제 || Category_1: 개업선물 || price_mean :55963(36824.496) || price_min : 23910 || Q_0.3: 33900 || Q_0.5: 43800 || Q_0.99: 199860 || price_max : 249000\n",
      "                                             review_mean: 1846(2417.847) || review_min : 23910 || Q_0.3: 2764 || Q_0.5: 2764\n",
      "    len : 1034 || Category_2: 생활용품 || Category_1: 개업선물 || price_mean :22791(10207.481) || price_min : 11000 || Q_0.3: 15850 || Q_0.5: 19350 || Q_0.99: 55322 || price_max : 60000\n",
      "                                             review_mean: 1846(2417.847) || review_min : 11000 || Q_0.3: 2668 || Q_0.5: 2668\n",
      "    len : 575 || Category_2: 홈프레그런스 || Category_1: 개업선물 || price_mean :20668(10850.564) || price_min : 7000 || Q_0.3: 13900 || Q_0.5: 17900 || Q_0.99: 59207 || price_max : 70000\n",
      "                                             review_mean: 1846(2417.847) || review_min : 7000 || Q_0.3: 2306 || Q_0.5: 2306\n",
      "    len : 1065 || Category_2: 인테리어 || Category_1: 개업선물 || price_mean :27379(24348.667) || price_min : 7700 || Q_0.3: 13900 || Q_0.5: 18900 || Q_0.99: 129000 || price_max : 170000\n",
      "                                             review_mean: 1846(2417.847) || review_min : 7700 || Q_0.3: 1965 || Q_0.5: 1965\n",
      "    len : 539 || Category_2: 식물 || Category_1: 개업선물 || price_mean :20146(23163.039) || price_min : 4100 || Q_0.3: 7800 || Q_0.5: 11900 || Q_0.99: 108620 || price_max : 119000\n",
      "                                             review_mean: 1846(2417.847) || review_min : 4100 || Q_0.3: 1710 || Q_0.5: 1710\n",
      "    len : 417 || Category_2: 디지털_가전 || Category_1: 개업선물 || price_mean :534873(650212.248) || price_min : 59900 || Q_0.3: 158980 || Q_0.5: 228000 || Q_0.99: 2598840 || price_max : 2950000\n",
      "                                             review_mean: 1846(2417.847) || review_min : 59900 || Q_0.3: 1492 || Q_0.5: 1492\n",
      "len : 8432 || Category_1: 합격기원선물 || price_mean :51978(168415.692) || price_min : 1790 || Q_0.3: 15900 || Q_0.5: 27000 || Q_0.99: 529000 || price_max : 2970000\n",
      "                                        review_mean: 2349(2654.677) || review_min : 1790 || Q_0.3: 2654 || Q_0.5: 2654\n",
      "    len : 1554 || Category_2: 문구용품 || Category_1: 합격기원선물 || price_mean :9380(9829.821) || price_min : 1790 || Q_0.3: 3500 || Q_0.5: 5900 || Q_0.99: 50000 || price_max : 72000\n",
      "                                             review_mean: 2349(2654.677) || review_min : 1790 || Q_0.3: 1401 || Q_0.5: 1401\n",
      "    len : 3209 || Category_2: 식품 || Category_1: 합격기원선물 || price_mean :23667(14672.994) || price_min : 9580 || Q_0.3: 14900 || Q_0.5: 19000 || Q_0.99: 81912 || price_max : 111600\n",
      "                                             review_mean: 2349(2654.677) || review_min : 9580 || Q_0.3: 2781 || Q_0.5: 2781\n",
      "    len : 3228 || Category_2: 영양제 || Category_1: 합격기원선물 || price_mean :56131(36998.893) || price_min : 23950 || Q_0.3: 33900 || Q_0.5: 43800 || Q_0.99: 200000 || price_max : 250000\n",
      "                                             review_mean: 2349(2654.677) || review_min : 23950 || Q_0.3: 2764 || Q_0.5: 2764\n",
      "    len : 101 || Category_2: 쿠션_방석 || Category_1: 합격기원선물 || price_mean :32118(16351.826) || price_min : 15100 || Q_0.3: 19800 || Q_0.5: 29000 || Q_0.99: 81800 || price_max : 99000\n",
      "                                             review_mean: 2349(2654.677) || review_min : 15100 || Q_0.3: 2663 || Q_0.5: 2663\n",
      "    len : 253 || Category_2: 디지털 || Category_1: 합격기원선물 || price_mean :638266(748813.001) || price_min : 49900 || Q_0.3: 122797 || Q_0.5: 259000 || Q_0.99: 2949480 || price_max : 2970000\n",
      "                                             review_mean: 2349(2654.677) || review_min : 49900 || Q_0.3: 1873 || Q_0.5: 1873\n",
      "    len : 87 || Category_2: e쿠폰 || Category_1: 합격기원선물 || price_mean :21133(12718.323) || price_min : 5500 || Q_0.3: 10160 || Q_0.5: 20000 || Q_0.99: 50000 || price_max : 50000\n",
      "                                             review_mean: 2349(2654.677) || review_min : 5500 || Q_0.3: 2631 || Q_0.5: 2631\n",
      "len : 2275 || Category_1: 새차선물 || price_mean :32514(23472.501) || price_min : 5300 || Q_0.3: 18900 || Q_0.5: 25900 || Q_0.99: 123000 || price_max : 158000\n",
      "                                        review_mean: 1554(2175.397) || review_min : 5300 || Q_0.3: 2175 || Q_0.5: 2175\n",
      "    len : 699 || Category_2: 인테리어 || Category_1: 새차선물 || price_mean :36255(22833.663) || price_min : 14000 || Q_0.3: 22000 || Q_0.5: 29500 || Q_0.99: 123000 || price_max : 133000\n",
      "                                             review_mean: 1554(2175.397) || review_min : 14000 || Q_0.3: 2342 || Q_0.5: 2342\n",
      "    len : 752 || Category_2: 편의용품 || Category_1: 새차선물 || price_mean :39735(26486.319) || price_min : 14900 || Q_0.3: 23765 || Q_0.5: 29850 || Q_0.99: 133980 || price_max : 158000\n",
      "                                             review_mean: 1554(2175.397) || review_min : 14900 || Q_0.3: 2252 || Q_0.5: 2252\n",
      "    len : 568 || Category_2: 세차용품 || Category_1: 새차선물 || price_mean :23395(18853.107) || price_min : 8000 || Q_0.3: 13019 || Q_0.5: 16850 || Q_0.99: 99933 || price_max : 107000\n",
      "                                             review_mean: 1554(2175.397) || review_min : 8000 || Q_0.3: 1946 || Q_0.5: 1946\n",
      "    len : 256 || Category_2: 키용품 || Category_1: 새차선물 || price_mean :21323(11253.257) || price_min : 5300 || Q_0.3: 11950 || Q_0.5: 19500 || Q_0.99: 47000 || price_max : 48500\n",
      "                                             review_mean: 1554(2175.397) || review_min : 5300 || Q_0.3: 1929 || Q_0.5: 1929\n"
     ]
    }
   ],
   "source": [
    "cat_stats(filtered_df)"
   ]
  },
  {
   "cell_type": "markdown",
   "metadata": {},
   "source": [
    "샘플링할 비율 계산"
   ]
  },
  {
   "cell_type": "code",
   "execution_count": 16,
   "metadata": {},
   "outputs": [
    {
     "name": "stdout",
     "output_type": "stream",
     "text": [
      " 카테고리1 [생일선물] ratio : 0.3703838868324557\n",
      "\t 카테고리2 [환갑/칠순선물]의 상대 ratio : 0.23199455731243843\n",
      "\t 카테고리2 [4050대 여성]의 상대 ratio : 0.21850513770937927\n",
      "\t 카테고리2 [2030대 여성]의 상대 ratio : 0.15136301787641346\n",
      "\t 카테고리2 [10대 여성]의 상대 ratio : 0.0803031013935157\n",
      "\t 카테고리2 [2030대 남성]의 상대 ratio : 0.11741660019706282\n",
      "\t 카테고리2 [4050대 남성]의 상대 ratio : 0.14606108947590674\n",
      "\t 카테고리2 [10대 남성]의 상대 ratio : 0.0254070285741097\n",
      "\t 카테고리2 [파티용품]의 상대 ratio : 0.025852765917515133\n",
      "\t 카테고리2 [e쿠폰]의 상대 ratio : 0.001994088115234833\n",
      "\t 카테고리2 [케이크]의 상대 ratio : 0.0011026134284239666\n",
      " 카테고리1 [퇴직선물] ratio : 0.04211633039639921\n",
      "\t 카테고리2 [화장품]의 상대 ratio : 0.6622653187538684\n",
      "\t 카테고리2 [영양제]의 상대 ratio : 0.21270889209820507\n",
      "\t 카테고리2 [향초_디퓨저]의 상대 ratio : 0.11140911904270683\n",
      "\t 카테고리2 [꽃]의 상대 ratio : 0.013616670105219723\n",
      " 카테고리1 [취업선물] ratio : 0.07731609405140503\n",
      "\t 카테고리2 [화장품]의 상대 ratio : 0.3596313778377163\n",
      "\t 카테고리2 [데스크테리어]의 상대 ratio : 0.23881771184535852\n",
      "\t 카테고리2 [영양제]의 상대 ratio : 0.3609799955046078\n",
      "\t 카테고리2 [디지털_가전]의 상대 ratio : 0.04057091481231737\n",
      " 카테고리1 [집들이선물] ratio : 0.17987418104721686\n",
      "\t 카테고리2 [푸드]의 상대 ratio : 0.3261195111347278\n",
      "\t 카테고리2 [주방용품]의 상대 ratio : 0.13366504033621565\n",
      "\t 카테고리2 [리빙/인테리어]의 상대 ratio : 0.11187865320515918\n",
      "\t 카테고리2 [청소용품]의 상대 ratio : 0.03651997488044056\n",
      "\t 카테고리2 [욕실용품]의 상대 ratio : 0.01024105115694894\n",
      "\t 카테고리2 [가전]의 상대 ratio : 0.057195304574658226\n",
      "\t 카테고리2 [생활용품]의 상대 ratio : 0.06608376406936863\n",
      "\t 카테고리2 [반려동물]의 상대 ratio : 0.23254915221486885\n",
      "\t 카테고리2 [식물]의 상대 ratio : 0.025747548427612194\n",
      " 카테고리1 [출산선물] ratio : 0.04794675286307631\n",
      "\t 카테고리2 [임산부선물]의 상대 ratio : 0.7341428053642625\n",
      "\t 카테고리2 [신생아선물]의 상대 ratio : 0.13229430953243929\n",
      "\t 카테고리2 [과일]의 상대 ratio : 0.11290322580645161\n",
      "\t 카테고리2 [셀프촬영]의 상대 ratio : 0.008698803914461761\n",
      "\t 카테고리2 [꽃]의 상대 ratio : 0.011960855382384922\n",
      " 카테고리1 [결혼기념일선물] ratio : 0.12033609648436822\n",
      "\t 카테고리2 [아내선물]의 상대 ratio : 0.22008809300310492\n",
      "\t 카테고리2 [부모님선물]의 상대 ratio : 0.5988157989746552\n",
      "\t 카테고리2 [이벤트/파티용품]의 상대 ratio : 0.08867066214167088\n",
      "\t 카테고리2 [남편선물]의 상대 ratio : 0.08159433894143982\n",
      "\t 카테고리2 [손편지]의 상대 ratio : 0.010831106939129179\n",
      " 카테고리1 [개업선물] ratio : 0.06899188432997932\n",
      "\t 카테고리2 [주방용품]의 상대 ratio : 0.13790931989924432\n",
      "\t 카테고리2 [영양제]의 상대 ratio : 0.404911838790932\n",
      "\t 카테고리2 [생활용품]의 상대 ratio : 0.13022670025188918\n",
      "\t 카테고리2 [홈프레그런스]의 상대 ratio : 0.07241813602015114\n",
      "\t 카테고리2 [인테리어]의 상대 ratio : 0.1341309823677582\n",
      "\t 카테고리2 [식물]의 상대 ratio : 0.06788413098236776\n",
      "\t 카테고리2 [디지털_가전]의 상대 ratio : 0.05251889168765743\n",
      " 카테고리1 [합격기원선물] ratio : 0.07326694819526268\n",
      "\t 카테고리2 [문구용품]의 상대 ratio : 0.18429791271347248\n",
      "\t 카테고리2 [식품]의 상대 ratio : 0.3805740037950664\n",
      "\t 카테고리2 [영양제]의 상대 ratio : 0.38282732447817835\n",
      "\t 카테고리2 [쿠션_방석]의 상대 ratio : 0.011978178368121442\n",
      "\t 카테고리2 [디지털]의 상대 ratio : 0.03000474383301708\n",
      "\t 카테고리2 [e쿠폰]의 상대 ratio : 0.010317836812144213\n",
      " 카테고리1 [새차선물] ratio : 0.019767825799836644\n",
      "\t 카테고리2 [인테리어]의 상대 ratio : 0.30725274725274726\n",
      "\t 카테고리2 [편의용품]의 상대 ratio : 0.33054945054945056\n",
      "\t 카테고리2 [세차용품]의 상대 ratio : 0.24967032967032968\n",
      "\t 카테고리2 [키용품]의 상대 ratio : 0.11252747252747253\n"
     ]
    }
   ],
   "source": [
    "filtered_df_col = filtered_df[['product_id','category_1','category_2','category_3','rating','num_review','price']]\n",
    "\n",
    "for col1 in filtered_df_col['category_1'].unique():\n",
    "    filtered_df1 = filtered_df[filtered_df_col['category_1'] == col1]\n",
    "\n",
    "    print(f\" 카테고리1 [{col1}] ratio : {len(filtered_df1) / len(filtered_df_col)}\")\n",
    "\n",
    "    for col2 in filtered_df1['category_2'].unique():\n",
    "        filtered_df2 = filtered_df1[filtered_df1['category_2'] == col2]\n",
    "        print(f\"\\t 카테고리2 [{col2}]의 상대 ratio : {len(filtered_df2) / len(filtered_df1)}\")\n"
   ]
  },
  {
   "cell_type": "code",
   "execution_count": 17,
   "metadata": {},
   "outputs": [],
   "source": [
    "# 카테고리1 별 비율 계산\n",
    "cat1_ratios = filtered_df['category_1'].value_counts(normalize=True)\n",
    "\n",
    "# 샘플링할 최종 데이터프레임 초기화\n",
    "final_sample_df = pd.DataFrame()\n",
    "\n",
    "# 총 샘플링할 개수\n",
    "total_samples = 30000\n",
    "\n",
    "# 카테고리1 별로 루프\n",
    "for cat1, cat1_ratio in cat1_ratios.items():\n",
    "    cat1_df = filtered_df[filtered_df['category_1'] == cat1]\n",
    "    # print(cat1_ratio)\n",
    "\n",
    "    # 카테고리1의 비율에 따라 할당할 샘플 수 계산 (1 - 카테고리1의 비율)\n",
    "    cat1_sample_size = int((cat1_ratio) * total_samples)\n",
    "    # print(cat1_sample_size)\n",
    "\n",
    "    # 카테고리2 별 비율 계산\n",
    "    cat2_ratios = cat1_df['category_2'].value_counts(normalize=True)\n",
    "\n",
    "    # 카테고리2 별로 샘플링\n",
    "    for cat2, cat2_ratio in cat2_ratios.items():\n",
    "        cat2_df = cat1_df[cat1_df['category_2'] == cat2]\n",
    "\n",
    "        # 카테고리2 별 할당할 샘플 수 (카테고리2의 비율 * 카테고리1 내 샘플 수)\n",
    "        cat2_sample_size = max(3, int(cat2_ratio * cat1_sample_size)) # 적어도 3개는 샘플링\n",
    "\n",
    "        # 샘플링 후 최종 데이터프레임에 추가\n",
    "        sampled_df = cat2_df.sample(n=cat2_sample_size, replace=False) # replace=False로 중복 없이 추출\n",
    "        final_sample_df = pd.concat([final_sample_df, sampled_df])\n",
    "\n",
    "# 최종 샘플링된 데이터프레임의 길이 조정\n",
    "# 필요에 따라서는 여기서 추가 조정을 할 수 있습니다. 예를 들어 total_samples보다 많이 샘플링된 경우 조정 필요\n",
    "if len(final_sample_df) > total_samples:\n",
    "    final_sample_df = final_sample_df.sample(n=total_samples)\n",
    "# cat_stats(final_sample_df)"
   ]
  },
  {
   "cell_type": "code",
   "execution_count": 18,
   "metadata": {},
   "outputs": [
    {
     "name": "stdout",
     "output_type": "stream",
     "text": [
      "len : 11106 || Category_1: 생일선물 || price_mean :55012(92805.814) || price_min : 2000 || Q_0.3: 24000 || Q_0.5: 31800 || Q_0.99: 489000 || price_max : 2199000\n",
      "                                        review_mean: 1919(2398.381) || review_min : 2000 || Q_0.3: 2398 || Q_0.5: 2398\n",
      "    len : 2577 || Category_2: 환갑/칠순선물 || Category_1: 생일선물 || price_mean :75506(104133.075) || price_min : 19900 || Q_0.3: 29900 || Q_0.5: 39500 || Q_0.99: 573799 || price_max : 898000\n",
      "                                             review_mean: 1919(2398.381) || review_min : 19900 || Q_0.3: 2494 || Q_0.5: 2494\n",
      "    len : 2427 || Category_2: 4050대 여성 || Category_1: 생일선물 || price_mean :40234(29658.663) || price_min : 14950 || Q_0.3: 23800 || Q_0.5: 29900 || Q_0.99: 160000 || price_max : 230000\n",
      "                                             review_mean: 1919(2398.381) || review_min : 14950 || Q_0.3: 2374 || Q_0.5: 2374\n",
      "    len : 1681 || Category_2: 2030대 여성 || Category_1: 생일선물 || price_mean :44155(71634.432) || price_min : 12750 || Q_0.3: 19250 || Q_0.5: 25900 || Q_0.99: 462600 || price_max : 879000\n",
      "                                             review_mean: 1919(2398.381) || review_min : 12750 || Q_0.3: 2256 || Q_0.5: 2256\n",
      "    len : 1622 || Category_2: 4050대 남성 || Category_1: 생일선물 || price_mean :45436(32474.480) || price_min : 18180 || Q_0.3: 26529 || Q_0.5: 34200 || Q_0.99: 169394 || price_max : 209000\n",
      "                                             review_mean: 1919(2398.381) || review_min : 18180 || Q_0.3: 2624 || Q_0.5: 2624\n",
      "    len : 1304 || Category_2: 2030대 남성 || Category_1: 생일선물 || price_mean :60135(98266.114) || price_min : 16500 || Q_0.3: 24800 || Q_0.5: 32000 || Q_0.99: 499097 || price_max : 1099000\n",
      "                                             review_mean: 1919(2398.381) || review_min : 16500 || Q_0.3: 2300 || Q_0.5: 2300\n",
      "    len : 892 || Category_2: 10대 여성 || Category_1: 생일선물 || price_mean :48798(82187.753) || price_min : 12950 || Q_0.3: 19500 || Q_0.5: 25600 || Q_0.99: 489900 || price_max : 879000\n",
      "                                             review_mean: 1919(2398.381) || review_min : 12950 || Q_0.3: 2253 || Q_0.5: 2253\n",
      "    len : 287 || Category_2: 파티용품 || Category_1: 생일선물 || price_mean :9602(8050.941) || price_min : 2000 || Q_0.3: 3979 || Q_0.5: 6900 || Q_0.99: 38125 || price_max : 41800\n",
      "                                             review_mean: 1919(2398.381) || review_min : 2000 || Q_0.3: 1565 || Q_0.5: 1565\n",
      "    len : 282 || Category_2: 10대 남성 || Category_1: 생일선물 || price_mean :160951(331071.390) || price_min : 17900 || Q_0.3: 28150 || Q_0.5: 44850 || Q_0.99: 1608310 || price_max : 2199000\n",
      "                                             review_mean: 1919(2398.381) || review_min : 17900 || Q_0.3: 2404 || Q_0.5: 2404\n",
      "    len : 22 || Category_2: e쿠폰 || Category_1: 생일선물 || price_mean :23227(14226.106) || price_min : 6000 || Q_0.3: 13800 || Q_0.5: 19500 || Q_0.99: 50000 || price_max : 50000\n",
      "                                             review_mean: 1919(2398.381) || review_min : 6000 || Q_0.3: 3531 || Q_0.5: 3531\n",
      "    len : 12 || Category_2: 케이크 || Category_1: 생일선물 || price_mean :17641(12633.682) || price_min : 6000 || Q_0.3: 10200 || Q_0.5: 11850 || Q_0.99: 48130 || price_max : 50000\n",
      "                                             review_mean: 1919(2398.381) || review_min : 6000 || Q_0.3: 471 || Q_0.5: 471\n",
      "len : 5391 || Category_1: 집들이선물 || price_mean :33788(79110.678) || price_min : 3900 || Q_0.3: 12800 || Q_0.5: 17800 || Q_0.99: 358100 || price_max : 1819000\n",
      "                                        review_mean: 1556(2124.147) || review_min : 3900 || Q_0.3: 2124 || Q_0.5: 2124\n",
      "    len : 1759 || Category_2: 푸드 || Category_1: 집들이선물 || price_mean :22889(14524.323) || price_min : 8890 || Q_0.3: 13900 || Q_0.5: 18500 || Q_0.99: 77420 || price_max : 113000\n",
      "                                             review_mean: 1556(2124.147) || review_min : 8890 || Q_0.3: 2295 || Q_0.5: 2295\n",
      "    len : 1254 || Category_2: 반려동물 || Category_1: 집들이선물 || price_mean :18797(17642.390) || price_min : 3980 || Q_0.3: 8900 || Q_0.5: 13500 || Q_0.99: 95297 || price_max : 129000\n",
      "                                             review_mean: 1556(2124.147) || review_min : 3980 || Q_0.3: 1763 || Q_0.5: 1763\n",
      "    len : 721 || Category_2: 주방용품 || Category_1: 집들이선물 || price_mean :20329(22182.274) || price_min : 4930 || Q_0.3: 8900 || Q_0.5: 12900 || Q_0.99: 134999 || price_max : 159000\n",
      "                                             review_mean: 1556(2124.147) || review_min : 4930 || Q_0.3: 1677 || Q_0.5: 1677\n",
      "    len : 603 || Category_2: 리빙/인테리어 || Category_1: 집들이선물 || price_mean :31647(26286.202) || price_min : 10000 || Q_0.3: 16900 || Q_0.5: 23900 || Q_0.99: 154820 || price_max : 190000\n",
      "                                             review_mean: 1556(2124.147) || review_min : 10000 || Q_0.3: 2251 || Q_0.5: 2251\n",
      "    len : 356 || Category_2: 생활용품 || Category_1: 집들이선물 || price_mean :21942(9767.908) || price_min : 10800 || Q_0.3: 14900 || Q_0.5: 19150 || Q_0.99: 53579 || price_max : 60000\n",
      "                                             review_mean: 1556(2124.147) || review_min : 10800 || Q_0.3: 2551 || Q_0.5: 2551\n",
      "    len : 308 || Category_2: 가전 || Category_1: 집들이선물 || price_mean :224234(255972.490) || price_min : 40300 || Q_0.3: 73990 || Q_0.5: 137850 || Q_0.99: 1087830 || price_max : 1819000\n",
      "                                             review_mean: 1556(2124.147) || review_min : 40300 || Q_0.3: 1993 || Q_0.5: 1993\n",
      "    len : 197 || Category_2: 청소용품 || Category_1: 집들이선물 || price_mean :20142(14740.002) || price_min : 6900 || Q_0.3: 10900 || Q_0.5: 14900 || Q_0.99: 77419 || price_max : 92000\n",
      "                                             review_mean: 1556(2124.147) || review_min : 6900 || Q_0.3: 2642 || Q_0.5: 2642\n",
      "    len : 138 || Category_2: 식물 || Category_1: 집들이선물 || price_mean :20478(23550.416) || price_min : 4000 || Q_0.3: 7810 || Q_0.5: 11400 || Q_0.99: 105669 || price_max : 119000\n",
      "                                             review_mean: 1556(2124.147) || review_min : 4000 || Q_0.3: 1486 || Q_0.5: 1486\n",
      "    len : 55 || Category_2: 욕실용품 || Category_1: 집들이선물 || price_mean :16546(14833.001) || price_min : 3900 || Q_0.3: 5939 || Q_0.5: 11300 || Q_0.99: 70150 || price_max : 71500\n",
      "                                             review_mean: 1556(2124.147) || review_min : 3900 || Q_0.3: 2739 || Q_0.5: 2739\n",
      "len : 3608 || Category_1: 결혼기념일선물 || price_mean :64841(147232.572) || price_min : 1500 || Q_0.3: 24863 || Q_0.5: 33900 || Q_0.99: 639859 || price_max : 2199000\n",
      "                                        review_mean: 1719(2334.572) || review_min : 1500 || Q_0.3: 2334 || Q_0.5: 2334\n",
      "    len : 2161 || Category_2: 부모님선물 || Category_1: 결혼기념일선물 || price_mean :45213(36423.116) || price_min : 14950 || Q_0.3: 24900 || Q_0.5: 33000 || Q_0.99: 199000 || price_max : 259200\n",
      "                                             review_mean: 1719(2334.572) || review_min : 14950 || Q_0.3: 2543 || Q_0.5: 2543\n",
      "    len : 794 || Category_2: 아내선물 || Category_1: 결혼기념일선물 || price_mean :90599(183353.704) || price_min : 19840 || Q_0.3: 29800 || Q_0.5: 39900 || Q_0.99: 1123499 || price_max : 1599000\n",
      "                                             review_mean: 1719(2334.572) || review_min : 19840 || Q_0.3: 1956 || Q_0.5: 1956\n",
      "    len : 320 || Category_2: 이벤트/파티용품 || Category_1: 결혼기념일선물 || price_mean :11193(10924.128) || price_min : 2100 || Q_0.3: 4870 || Q_0.5: 7900 || Q_0.99: 54638 || price_max : 96900\n",
      "                                             review_mean: 1719(2334.572) || review_min : 2100 || Q_0.3: 2013 || Q_0.5: 2013\n",
      "    len : 294 || Category_2: 남편선물 || Category_1: 결혼기념일선물 || price_mean :205642(371262.269) || price_min : 25000 || Q_0.3: 45000 || Q_0.5: 67600 || Q_0.99: 1705999 || price_max : 2199000\n",
      "                                             review_mean: 1719(2334.572) || review_min : 25000 || Q_0.3: 1821 || Q_0.5: 1821\n",
      "    len : 39 || Category_2: 손편지 || Category_1: 결혼기념일선물 || price_mean :6782(5413.087) || price_min : 1500 || Q_0.3: 3380 || Q_0.5: 5000 || Q_0.99: 24021 || price_max : 29000\n",
      "                                             review_mean: 1719(2334.572) || review_min : 1500 || Q_0.3: 1080 || Q_0.5: 1080\n",
      "len : 2317 || Category_1: 취업선물 || price_mean :50312(148641.632) || price_min : 2280 || Q_0.3: 18900 || Q_0.5: 29000 || Q_0.99: 367400 || price_max : 2950000\n",
      "                                        review_mean: 2244(2529.694) || review_min : 2280 || Q_0.3: 2529 || Q_0.5: 2529\n",
      "    len : 837 || Category_2: 영양제 || Category_1: 취업선물 || price_mean :56862(37009.526) || price_min : 24000 || Q_0.3: 34900 || Q_0.5: 44800 || Q_0.99: 199640 || price_max : 249000\n",
      "                                             review_mean: 2244(2529.694) || review_min : 24000 || Q_0.3: 2689 || Q_0.5: 2689\n",
      "    len : 833 || Category_2: 화장품 || Category_1: 취업선물 || price_mean :29206(15651.903) || price_min : 14080 || Q_0.3: 18960 || Q_0.5: 24000 || Q_0.99: 83668 || price_max : 110500\n",
      "                                             review_mean: 2244(2529.694) || review_min : 14080 || Q_0.3: 2636 || Q_0.5: 2636\n",
      "    len : 553 || Category_2: 데스크테리어 || Category_1: 취업선물 || price_mean :12103(12162.567) || price_min : 2280 || Q_0.3: 4500 || Q_0.5: 8400 || Q_0.99: 53860 || price_max : 80000\n",
      "                                             review_mean: 2244(2529.694) || review_min : 2280 || Q_0.3: 1661 || Q_0.5: 1661\n",
      "    len : 94 || Category_2: 디지털_가전 || Category_1: 취업선물 || price_mean :403802(628873.494) || price_min : 39900 || Q_0.3: 84810 || Q_0.5: 169500 || Q_0.99: 2622639 || price_max : 2950000\n",
      "                                             review_mean: 2244(2529.694) || review_min : 39900 || Q_0.3: 2014 || Q_0.5: 2014\n",
      "len : 2195 || Category_1: 합격기원선물 || price_mean :50124(155973.395) || price_min : 1790 || Q_0.3: 15900 || Q_0.5: 27000 || Q_0.99: 460799 || price_max : 2949000\n",
      "                                        review_mean: 2342(2654.626) || review_min : 1790 || Q_0.3: 2654 || Q_0.5: 2654\n",
      "    len : 841 || Category_2: 영양제 || Category_1: 합격기원선물 || price_mean :55995(35696.167) || price_min : 24000 || Q_0.3: 34900 || Q_0.5: 44900 || Q_0.99: 199600 || price_max : 250000\n",
      "                                             review_mean: 2342(2654.626) || review_min : 24000 || Q_0.3: 2789 || Q_0.5: 2789\n",
      "    len : 836 || Category_2: 식품 || Category_1: 합격기원선물 || price_mean :23199(14263.856) || price_min : 9590 || Q_0.3: 14900 || Q_0.5: 18900 || Q_0.99: 75899 || price_max : 109950\n",
      "                                             review_mean: 2342(2654.626) || review_min : 9590 || Q_0.3: 2800 || Q_0.5: 2800\n",
      "    len : 405 || Category_2: 문구용품 || Category_1: 합격기원선물 || price_mean :9170(9941.833) || price_min : 1790 || Q_0.3: 3309 || Q_0.5: 5670 || Q_0.99: 50175 || price_max : 72000\n",
      "                                             review_mean: 2342(2654.626) || review_min : 1790 || Q_0.3: 1268 || Q_0.5: 1268\n",
      "    len : 65 || Category_2: 디지털 || Category_1: 합격기원선물 || price_mean :591670(703595.010) || price_min : 54900 || Q_0.3: 149000 || Q_0.5: 239000 || Q_0.99: 2660999 || price_max : 2949000\n",
      "                                             review_mean: 2342(2654.626) || review_min : 54900 || Q_0.3: 1944 || Q_0.5: 1944\n",
      "    len : 26 || Category_2: 쿠션_방석 || Category_1: 합격기원선물 || price_mean :34603(15105.694) || price_min : 16900 || Q_0.3: 24950 || Q_0.5: 30400 || Q_0.99: 75350 || price_max : 80800\n",
      "                                             review_mean: 2342(2654.626) || review_min : 16900 || Q_0.3: 3309 || Q_0.5: 3309\n",
      "    len : 22 || Category_2: e쿠폰 || Category_1: 합격기원선물 || price_mean :21072(14331.291) || price_min : 6000 || Q_0.3: 10000 || Q_0.5: 15200 || Q_0.99: 50000 || price_max : 50000\n",
      "                                             review_mean: 2342(2654.626) || review_min : 6000 || Q_0.3: 458 || Q_0.5: 458\n",
      "len : 2065 || Category_1: 개업선물 || price_mean :62031(175432.096) || price_min : 4100 || Q_0.3: 18900 || Q_0.5: 29800 || Q_0.99: 884999 || price_max : 2599000\n",
      "                                        review_mean: 1907(2452.370) || review_min : 4100 || Q_0.3: 2452 || Q_0.5: 2452\n",
      "    len : 837 || Category_2: 영양제 || Category_1: 개업선물 || price_mean :56461(37787.111) || price_min : 23950 || Q_0.3: 34000 || Q_0.5: 43900 || Q_0.99: 199640 || price_max : 249000\n",
      "                                             review_mean: 1907(2452.370) || review_min : 23950 || Q_0.3: 2760 || Q_0.5: 2760\n",
      "    len : 285 || Category_2: 주방용품 || Category_1: 개업선물 || price_mean :20962(14441.390) || price_min : 6500 || Q_0.3: 12000 || Q_0.5: 16800 || Q_0.99: 69760 || price_max : 88000\n",
      "                                             review_mean: 1907(2452.370) || review_min : 6500 || Q_0.3: 1228 || Q_0.5: 1228\n",
      "    len : 277 || Category_2: 인테리어 || Category_1: 개업선물 || price_mean :26792(25267.584) || price_min : 7700 || Q_0.3: 13800 || Q_0.5: 17000 || Q_0.99: 133600 || price_max : 170000\n",
      "                                             review_mean: 1907(2452.370) || review_min : 7700 || Q_0.3: 2148 || Q_0.5: 2148\n",
      "    len : 269 || Category_2: 생활용품 || Category_1: 개업선물 || price_mean :23078(10718.477) || price_min : 11400 || Q_0.3: 15820 || Q_0.5: 19400 || Q_0.99: 56320 || price_max : 60000\n",
      "                                             review_mean: 1907(2452.370) || review_min : 11400 || Q_0.3: 2734 || Q_0.5: 2734\n",
      "    len : 149 || Category_2: 홈프레그런스 || Category_1: 개업선물 || price_mean :21755(10763.286) || price_min : 7000 || Q_0.3: 14140 || Q_0.5: 18900 || Q_0.99: 51456 || price_max : 59000\n",
      "                                             review_mean: 1907(2452.370) || review_min : 7000 || Q_0.3: 2554 || Q_0.5: 2554\n",
      "    len : 140 || Category_2: 식물 || Category_1: 개업선물 || price_mean :18086(21591.690) || price_min : 4100 || Q_0.3: 7000 || Q_0.5: 11000 || Q_0.99: 105099 || price_max : 119000\n",
      "                                             review_mean: 1907(2452.370) || review_min : 4100 || Q_0.3: 1837 || Q_0.5: 1837\n",
      "    len : 108 || Category_2: 디지털_가전 || Category_1: 개업선물 || price_mean :513516(597465.370) || price_min : 59900 || Q_0.3: 159000 || Q_0.5: 244000 || Q_0.99: 2341999 || price_max : 2599000\n",
      "                                             review_mean: 1907(2452.370) || review_min : 59900 || Q_0.3: 1394 || Q_0.5: 1394\n",
      "len : 1436 || Category_1: 출산선물 || price_mean :42763(63124.605) || price_min : 14900 || Q_0.3: 22400 || Q_0.5: 28800 || Q_0.99: 272250 || price_max : 1699000\n",
      "                                        review_mean: 1783(2217.538) || review_min : 14900 || Q_0.3: 2217 || Q_0.5: 2217\n",
      "    len : 1055 || Category_2: 임산부선물 || Category_1: 출산선물 || price_mean :42500(44861.974) || price_min : 15360 || Q_0.3: 22000 || Q_0.5: 28000 || Q_0.99: 271300 || price_max : 368000\n",
      "                                             review_mean: 1783(2217.538) || review_min : 15360 || Q_0.3: 2179 || Q_0.5: 2179\n",
      "    len : 190 || Category_2: 신생아선물 || Category_1: 출산선물 || price_mean :31279(18574.055) || price_min : 14900 || Q_0.3: 20749 || Q_0.5: 25000 || Q_0.99: 101969 || price_max : 128000\n",
      "                                             review_mean: 1783(2217.538) || review_min : 14900 || Q_0.3: 2152 || Q_0.5: 2152\n",
      "    len : 162 || Category_2: 과일 || Category_1: 출산선물 || price_mean :33309(12381.803) || price_min : 17900 || Q_0.3: 24900 || Q_0.5: 29900 || Q_0.99: 71520 || price_max : 74000\n",
      "                                             review_mean: 1783(2217.538) || review_min : 17900 || Q_0.3: 2629 || Q_0.5: 2629\n",
      "    len : 17 || Category_2: 꽃 || Category_1: 출산선물 || price_mean :63252(27543.309) || price_min : 32900 || Q_0.3: 45000 || Q_0.5: 55300 || Q_0.99: 130224 || price_max : 136000\n",
      "                                             review_mean: 1783(2217.538) || review_min : 32900 || Q_0.3: 921 || Q_0.5: 921\n",
      "    len : 12 || Category_2: 셀프촬영 || Category_1: 출산선물 || price_mean :346261(461488.289) || price_min : 66240 || Q_0.3: 113200 || Q_0.5: 144500 || Q_0.99: 1576790 || price_max : 1699000\n",
      "                                             review_mean: 1783(2217.538) || review_min : 66240 || Q_0.3: 1285 || Q_0.5: 1285\n",
      "len : 1261 || Category_1: 퇴직선물 || price_mean :34297(22161.096) || price_min : 7000 || Q_0.3: 21500 || Q_0.5: 27800 || Q_0.99: 127200 || price_max : 185000\n",
      "                                        review_mean: 2321(2500.825) || review_min : 7000 || Q_0.3: 2500 || Q_0.5: 2500\n",
      "    len : 836 || Category_2: 화장품 || Category_1: 퇴직선물 || price_mean :30326(15427.529) || price_min : 15000 || Q_0.3: 20000 || Q_0.5: 25600 || Q_0.99: 86474 || price_max : 112000\n",
      "                                             review_mean: 2321(2500.825) || review_min : 15000 || Q_0.3: 2514 || Q_0.5: 2514\n",
      "    len : 268 || Category_2: 영양제 || Category_1: 퇴직선물 || price_mean :50945(31874.226) || price_min : 20890 || Q_0.3: 30900 || Q_0.5: 40350 || Q_0.99: 162441 || price_max : 185000\n",
      "                                             review_mean: 2321(2500.825) || review_min : 20890 || Q_0.3: 2586 || Q_0.5: 2586\n",
      "    len : 140 || Category_2: 향초_디퓨저 || Category_1: 퇴직선물 || price_mean :22247(11488.639) || price_min : 7000 || Q_0.3: 15349 || Q_0.5: 19000 || Q_0.99: 56822 || price_max : 70000\n",
      "                                             review_mean: 2321(2500.825) || review_min : 7000 || Q_0.3: 2001 || Q_0.5: 2001\n",
      "    len : 17 || Category_2: 꽃 || Category_1: 퇴직선물 || price_mean :66382(17978.294) || price_min : 35900 || Q_0.3: 58580 || Q_0.5: 64000 || Q_0.99: 97560 || price_max : 99000\n",
      "                                             review_mean: 2321(2500.825) || review_min : 35900 || Q_0.3: 704 || Q_0.5: 704\n",
      "len : 592 || Category_1: 새차선물 || price_mean :31973(23718.797) || price_min : 5300 || Q_0.3: 18900 || Q_0.5: 25000 || Q_0.99: 123000 || price_max : 151000\n",
      "                                        review_mean: 1641(2297.731) || review_min : 5300 || Q_0.3: 2297 || Q_0.5: 2297\n",
      "    len : 196 || Category_2: 편의용품 || Category_1: 새차선물 || price_mean :39554(27130.596) || price_min : 14900 || Q_0.3: 23700 || Q_0.5: 29600 || Q_0.99: 135200 || price_max : 151000\n",
      "                                             review_mean: 1641(2297.731) || review_min : 14900 || Q_0.3: 2295 || Q_0.5: 2295\n",
      "    len : 182 || Category_2: 인테리어 || Category_1: 새차선물 || price_mean :36159(22140.089) || price_min : 14000 || Q_0.3: 22239 || Q_0.5: 29700 || Q_0.99: 123000 || price_max : 123000\n",
      "                                             review_mean: 1641(2297.731) || review_min : 14000 || Q_0.3: 2715 || Q_0.5: 2715\n",
      "    len : 148 || Category_2: 세차용품 || Category_1: 새차선물 || price_mean :22937(19163.076) || price_min : 8900 || Q_0.3: 13500 || Q_0.5: 15400 || Q_0.99: 102710 || price_max : 107000\n",
      "                                             review_mean: 1641(2297.731) || review_min : 8900 || Q_0.3: 1809 || Q_0.5: 1809\n",
      "    len : 66 || Category_2: 키용품 || Category_1: 새차선물 || price_mean :18179(10490.208) || price_min : 5300 || Q_0.3: 9700 || Q_0.5: 15400 || Q_0.99: 43099 || price_max : 47000\n",
      "                                             review_mean: 1641(2297.731) || review_min : 5300 || Q_0.3: 1946 || Q_0.5: 1946\n"
     ]
    }
   ],
   "source": [
    "cat_stats(final_sample_df)"
   ]
  },
  {
   "cell_type": "markdown",
   "metadata": {},
   "source": [
    "비율 확인"
   ]
  },
  {
   "cell_type": "markdown",
   "metadata": {},
   "source": [
    "최종적으로 product_id의 빈도가 3이상인 것만 반환"
   ]
  },
  {
   "cell_type": "code",
   "execution_count": 19,
   "metadata": {},
   "outputs": [],
   "source": [
    "product_id_counts = final_sample_df['product_id'].value_counts()\n",
    "\n",
    "# 빈도가 2 이상인 product_id 선택\n",
    "valid_product_ids = product_id_counts[product_id_counts >= 3].index\n",
    "\n",
    "# 해당 product_id만 포함하는 행을 필터링\n",
    "final_sample_df_freq_2= final_sample_df[final_sample_df['product_id'].isin(valid_product_ids)]"
   ]
  },
  {
   "cell_type": "code",
   "execution_count": null,
   "metadata": {},
   "outputs": [],
   "source": [
    "cat_stats(final_sample_df_freq_2)"
   ]
  },
  {
   "cell_type": "code",
   "execution_count": 22,
   "metadata": {},
   "outputs": [
    {
     "data": {
      "text/plain": [
       "(7869, 14)"
      ]
     },
     "execution_count": 22,
     "metadata": {},
     "output_type": "execute_result"
    }
   ],
   "source": [
    "final_sample_df_freq_2.shape"
   ]
  },
  {
   "cell_type": "code",
   "execution_count": 34,
   "metadata": {},
   "outputs": [
    {
     "data": {
      "text/html": [
       "<div>\n",
       "<style scoped>\n",
       "    .dataframe tbody tr th:only-of-type {\n",
       "        vertical-align: middle;\n",
       "    }\n",
       "\n",
       "    .dataframe tbody tr th {\n",
       "        vertical-align: top;\n",
       "    }\n",
       "\n",
       "    .dataframe thead th {\n",
       "        text-align: right;\n",
       "    }\n",
       "</style>\n",
       "<table border=\"1\" class=\"dataframe\">\n",
       "  <thead>\n",
       "    <tr style=\"text-align: right;\">\n",
       "      <th></th>\n",
       "      <th>product_id</th>\n",
       "      <th>product_name</th>\n",
       "      <th>brand</th>\n",
       "      <th>category_1</th>\n",
       "      <th>category_2</th>\n",
       "      <th>category_3</th>\n",
       "      <th>rating</th>\n",
       "      <th>num_review</th>\n",
       "      <th>price</th>\n",
       "      <th>image_url</th>\n",
       "      <th>product_url</th>\n",
       "      <th>personality</th>\n",
       "    </tr>\n",
       "  </thead>\n",
       "  <tbody>\n",
       "  </tbody>\n",
       "</table>\n",
       "</div>"
      ],
      "text/plain": [
       "Empty DataFrame\n",
       "Columns: [product_id, product_name, brand, category_1, category_2, category_3, rating, num_review, price, image_url, product_url, personality]\n",
       "Index: []"
      ]
     },
     "execution_count": 34,
     "metadata": {},
     "output_type": "execute_result"
    }
   ],
   "source": [
    "final_sample_df_freq_2[(final_sample_df_freq_2['price'] > 70000) & final_sample_df_freq_2['category_2'] == '새차선물' ]"
   ]
  },
  {
   "cell_type": "code",
   "execution_count": 25,
   "metadata": {},
   "outputs": [
    {
     "name": "stdout",
     "output_type": "stream",
     "text": [
      "2258\n"
     ]
    }
   ],
   "source": [
    "print(final_sample_df_freq_2['product_id'].nunique())\n",
    "# print(final_sample_df_freq_2['item_id'].nunique())"
   ]
  },
  {
   "cell_type": "markdown",
   "metadata": {},
   "source": [
    "filtered_sampling_df 저장"
   ]
  },
  {
   "cell_type": "code",
   "execution_count": 48,
   "metadata": {},
   "outputs": [],
   "source": [
    "final_sample_df_freq_2.to_csv('/home/siyun/ephemeral/data/filtered_gift.csv', index=False)"
   ]
  },
  {
   "cell_type": "code",
   "execution_count": 10,
   "metadata": {},
   "outputs": [],
   "source": [
    "filtered_encoding = pd.get_dummies(final_sample_df_freq_2, columns=['category_1','category_2','category_3'])"
   ]
  },
  {
   "cell_type": "code",
   "execution_count": 27,
   "metadata": {},
   "outputs": [],
   "source": [
    "data_index = filtered_encoding.copy()\n",
    "unique_product_ids = np.unique(data_index['product_id']).tolist()\n",
    "# id2idx: 각 product_id를 연속적인 정수 인덱스로 매핑\n",
    "id2idx = {product_id: idx for idx, product_id in enumerate(unique_product_ids)}\n",
    "\n",
    "# idx2id: 연속적인 정수 인덱스를 원래의 product_id로 매핑\n",
    "idx2id = {idx: product_id for product_id, idx in id2idx.items()}"
   ]
  },
  {
   "cell_type": "code",
   "execution_count": 41,
   "metadata": {},
   "outputs": [],
   "source": [
    "data_index['mapped_product_id'] = data_index['product_id'].apply(lambda x: id2idx[x])\n",
    "cols = list(data_index.columns)"
   ]
  },
  {
   "cell_type": "code",
   "execution_count": 42,
   "metadata": {},
   "outputs": [],
   "source": [
    "features = cols.copy()\n",
    "\n",
    "# 새로운 feature 리스트 생성\n",
    "removes = ['product_id','mapped_product_id', 'product_name', 'brand', 'image_url', 'product_url']\n",
    "for remove in removes : \n",
    "    features.remove(remove)\n",
    "target = ['mapped_product_id']"
   ]
  },
  {
   "cell_type": "code",
   "execution_count": 43,
   "metadata": {},
   "outputs": [],
   "source": [
    "from sklearn.preprocessing import LabelEncoder\n",
    "\n",
    "X = data_index[features]\n",
    "y = data_index[target]"
   ]
  },
  {
   "cell_type": "code",
   "execution_count": 48,
   "metadata": {},
   "outputs": [],
   "source": [
    "from sklearn.model_selection import train_test_split\n",
    "\n",
    "# train, test, valid로 나눕시다\n",
    "train_x,test_x,train_y,test_y = train_test_split(X,y, test_size=0.25, random_state=42, stratify=y)\n",
    "\n",
    "# x_train,x_valid, y_train, y_valid = train_test_split(train_x, train_y, test_size=0.1, random_state=42)"
   ]
  },
  {
   "cell_type": "code",
   "execution_count": 49,
   "metadata": {},
   "outputs": [],
   "source": [
    "from sklearn.metrics import f1_score\n",
    "from sklearn.model_selection import StratifiedKFold\n",
    "from sklearn.model_selection import train_test_split\n",
    "from sklearn.metrics import f1_score, accuracy_score, recall_score, precision_score, roc_auc_score, confusion_matrix\n",
    "from lightgbm import LGBMClassifier\n",
    "import wandb"
   ]
  },
  {
   "cell_type": "code",
   "execution_count": 39,
   "metadata": {},
   "outputs": [
    {
     "name": "stderr",
     "output_type": "stream",
     "text": [
      "Failed to detect the name of this notebook, you can set it manually with the WANDB_NOTEBOOK_NAME environment variable to enable code saving.\n"
     ]
    },
    {
     "name": "stdout",
     "output_type": "stream",
     "text": [
      "Create sweep with ID: i0rjdepq\n",
      "Sweep URL: https://wandb.ai/tldbs5026/filtering/sweeps/i0rjdepq\n"
     ]
    },
    {
     "name": "stderr",
     "output_type": "stream",
     "text": [
      "\u001b[34m\u001b[1mwandb\u001b[0m: Agent Starting Run: tktm1u3g with config:\n",
      "\u001b[34m\u001b[1mwandb\u001b[0m: \tlearning_rate: 0.039523765393126895\n",
      "\u001b[34m\u001b[1mwandb\u001b[0m: \tmax_depth: 4\n",
      "\u001b[34m\u001b[1mwandb\u001b[0m: \tn_estimators: 20\n",
      "\u001b[34m\u001b[1mwandb\u001b[0m: \tnum_leaves: 5\n",
      "Failed to detect the name of this notebook, you can set it manually with the WANDB_NOTEBOOK_NAME environment variable to enable code saving.\n",
      "\u001b[34m\u001b[1mwandb\u001b[0m: Ctrl + C detected. Stopping sweep.\n"
     ]
    },
    {
     "name": "stderr",
     "output_type": "stream",
     "text": [
      "\u001b[34m\u001b[1mwandb\u001b[0m: W&B API key is configured. Use \u001b[1m`wandb login --relogin`\u001b[0m to force relogin\n"
     ]
    }
   ],
   "source": [
    "# def train_and_evaluate(X, y, config):\n",
    "#     # 모델 초기화\n",
    "#     model = LGBMClassifier(\n",
    "#         objective='multiclass',  \n",
    "#         learning_rate=config.learning_rate,\n",
    "#         num_leaves=config.num_leaves,\n",
    "#         n_estimators=config.n_estimators,\n",
    "#         max_depth=config.max_depth,\n",
    "#         verbose=-1,\n",
    "#         # n_jobs= 4,\n",
    "#         device_type = 'cuda' \n",
    "#     )\n",
    "\n",
    "#     # K-폴드 교차 검증 설정\n",
    "#     skf = StratifiedKFold(n_splits=5, shuffle=True, random_state=42)\n",
    "\n",
    "#     # 전체 모델 성능을 위한 리스트 초기화\n",
    "#     overall_accuracies = []\n",
    "#     overall_f1_scores = []\n",
    "#     overall_recalls = []\n",
    "#     overall_precisions = []\n",
    "#     overall_auc_scores = []\n",
    "\n",
    "#     # 레이블별 예측 결과를 저장할 리스트\n",
    "#     y_pred_list = []\n",
    "\n",
    "#     for train_index, test_index in skf.split(X, y):\n",
    "#         X_train_fold, X_test_fold = X.iloc[train_index], X.iloc[test_index]\n",
    "#         y_train_fold, y_test_fold = y.iloc[train_index], y.iloc[test_index]\n",
    "\n",
    "#         # 레이블별 예측 결과를 저장할 임시 배열\n",
    "#         model.fit(X_train_fold, y_train_fold)\n",
    "\n",
    "#         y_pred_fold = model.predict(X_test_fold)\n",
    "\n",
    "#         # 전체 모델의 성능 계산\n",
    "#         overall_accuracy = accuracy_score(y_test_fold, y_pred_fold)\n",
    "#         overall_f1 = f1_score(y_test_fold, y_pred_fold, average='macro')\n",
    "#         # overall_recall = recall_score(y_test_fold, y_pred_fold.round())\n",
    "#         # overall_precision = precision_score(y_test_fold, y_pred_fold.round())\n",
    "#         # overall_auc = roc_auc_score(y_test_fold, y_pred_fold.round())\n",
    "\n",
    "#         overall_accuracies.append(overall_accuracy)\n",
    "#         overall_f1_scores.append(overall_f1)\n",
    "#         # overall_recalls.append(overall_recall)\n",
    "#         # overall_precisions.append(overall_precision)\n",
    "#         # overall_auc_scores.append(overall_auc)\n",
    "\n",
    "#         # 레이블별 예측 결과를 리스트에 추가\n",
    "#         y_pred_list.append(y_pred_fold)\n",
    "\n",
    "#     # 평균 전체 모델 성능 로깅\n",
    "#     wandb.log({\n",
    "#         \"overall_accuracy\": np.mean(overall_accuracies),\n",
    "#         \"overall_f1_score\": np.mean(overall_f1_scores),\n",
    "#         # \"overall_recall\": np.mean(overall_recalls),\n",
    "#         # \"overall_precision\": np.mean(overall_precisions),\n",
    "#         # \"overall_auc_score\": np.mean(overall_auc_scores)\n",
    "#     })\n",
    "\n",
    "# sweep_config = {\n",
    "#     'method': 'bayes',\n",
    "#     'metric': {\n",
    "#         'name': 'accuracy',\n",
    "#         'goal': 'maximize'   \n",
    "#     },\n",
    "#     'parameters': {\n",
    "#         'learning_rate': {\n",
    "#             'min': 0.001,\n",
    "#             'max': 0.1\n",
    "#         },\n",
    "#         'num_leaves': {\n",
    "#             'values': [4,5]\n",
    "#         },\n",
    "#         'n_estimators': {\n",
    "#             'values': [10,20,50]\n",
    "#         },\n",
    "#         'max_depth': {\n",
    "#             'values': [4,8,10]\n",
    "#         }\n",
    "#     }\n",
    "# }\n",
    "\n",
    "# def sweep_train():\n",
    "#     # WandB Sweep 실행을 위한 함수\n",
    "#     with wandb.init() as run:\n",
    "#         config = wandb.config\n",
    "#         train_and_evaluate(X, y, config)\n",
    "\n",
    "# # Sweep 설정을 WandB에 등록하고 Sweep ID 받기\n",
    "# sweep_id = wandb.sweep(sweep_config, project=\"filtering\")\n",
    "\n",
    "# # Sweep Agent 시작\n",
    "# wandb.agent(sweep_id, sweep_train)\n",
    "\n",
    "# train_and_evaluate(train_x, train_y, params)"
   ]
  },
  {
   "cell_type": "code",
   "execution_count": 50,
   "metadata": {},
   "outputs": [],
   "source": [
    "# acc,f1 70세팅 : 0.01,4,30,8\n",
    "\n",
    "params = {\n",
    "    'learning_rate': 0.01794243998188023,  # 예시 값\n",
    "    'num_leaves': 4,      # 예시 값\n",
    "    'n_estimators': 20,    # 예시 값\n",
    "    'max_depth': 4,         # 예시 값\n",
    "    'device_type' : 'cuda' \n",
    "}\n",
    "\n",
    "# 전체 데이터에 대한 모델 학습 함수\n",
    "def train_full_model(X, y, params):\n",
    "    num_classes = y.nunique()\n",
    "    model = LGBMClassifier(\n",
    "        objective='multiclass',\n",
    "        num_class=num_classes,\n",
    "        learning_rate=params['learning_rate'],\n",
    "        num_leaves=params['num_leaves'],\n",
    "        n_estimators=params['n_estimators'],\n",
    "        max_depth=params['max_depth'],\n",
    "        verbose=-1,\n",
    "        device_type=params['device_type']\n",
    "    )\n",
    "    model.fit(X, y)\n",
    "    return model\n",
    "\n",
    "\n"
   ]
  },
  {
   "cell_type": "markdown",
   "metadata": {},
   "source": [
    "모델을 pkl로 저장"
   ]
  },
  {
   "cell_type": "code",
   "execution_count": 51,
   "metadata": {},
   "outputs": [],
   "source": [
    "model = train_full_model(train_x, train_y, params)"
   ]
  },
  {
   "cell_type": "markdown",
   "metadata": {},
   "source": [
    "모델 성능 확인"
   ]
  },
  {
   "cell_type": "code",
   "execution_count": 42,
   "metadata": {},
   "outputs": [],
   "source": [
    "# y_pred = model.predict(test_x)\n",
    "# train_x,test_x,train_y,test_y\n",
    "\n",
    "# accuracy = accuracy_score(test_y, y_pred)\n",
    "# f1 = f1_score(test_y, y_pred, average='macro')\n",
    "# conf_matrix = confusion_matrix(test_y, y_pred)\n",
    "\n",
    "# print(accuracy)\n",
    "# print(f1)\n",
    "# print(conf_matrix)"
   ]
  },
  {
   "cell_type": "code",
   "execution_count": 44,
   "metadata": {},
   "outputs": [
    {
     "data": {
      "text/plain": [
       "'/home/siyun/ephemeral/boosting/output/n30000_7469_lgbm_lr_01794243998188023_lea_4_esti_20_dep_4.pkl'"
      ]
     },
     "execution_count": 44,
     "metadata": {},
     "output_type": "execute_result"
    }
   ],
   "source": [
    "# from sklearn.externals import joblib\n",
    "from lightgbm import LGBMClassifier\n",
    "import pickle\n",
    "\n",
    "model_save_path = \"/home/siyun/ephemeral/boosting/output/n30000_7469_lgbm_lr_01794243998188023_lea_4_esti_20_dep_4.pkl\"  # 변경된 경로\n",
    "with open(model_save_path, \"wb\") as file:\n",
    "    pickle.dump(model, file)\n",
    "\n",
    "model_save_path"
   ]
  },
  {
   "cell_type": "code",
   "execution_count": null,
   "metadata": {},
   "outputs": [],
   "source": [
    "with open(model_save_path, 'rb') as file:\n",
    "    loaded_model = pickle.load(file)"
   ]
  },
  {
   "cell_type": "code",
   "execution_count": null,
   "metadata": {},
   "outputs": [],
   "source": [
    "def add_prediction_probabilities(models, X, data, target):\n",
    "    # 해당 모델에 대한 확률 계산\n",
    "    prob = model.predict_proba(X)\n",
    "\n",
    "    # 가장 확률이 높은 클래스의 인덱스 찾기\n",
    "    highest_prob_index = np.argmax(prob, axis=1)\n",
    "    # 가장 확률이 높은 클래스에 대한 확률 선택\n",
    "\n",
    "    # 가장 확률이 높은 클래스의 인덱스를 사용하여 실제 product_id를 매핑\n",
    "    predicted_product_ids = [idx2id[idx] for idx in highest_prob_index]\n",
    "\n",
    "    highest_prob = np.max(prob, axis=1)\n",
    "\n",
    "    # 결과를 데이터에 추가\n",
    "    data['predicted_product_id'] = predicted_product_ids\n",
    "    data['highest_probability'] = highest_prob\n",
    "    \n",
    "    return data\n",
    "\n",
    "\n",
    "# train_x에 대한 inference\n",
    "## pkl로 받은 모델을 사용하기 위해서는 model -> loaded_model\n",
    "final_prediction = add_prediction_probabilities(model, X, data_index.copy(), 'mapped_product_id')\n",
    "final_prediction"
   ]
  },
  {
   "cell_type": "markdown",
   "metadata": {},
   "source": [
    "유사도 계산\n",
    "- 카테고리 별 계산"
   ]
  },
  {
   "cell_type": "code",
   "execution_count": 79,
   "metadata": {},
   "outputs": [],
   "source": [
    "from sklearn.metrics.pairwise import cosine_similarity\n",
    "\n",
    "def find_similar_products(inference, user_product_id, n=10):\n",
    "    \"\"\"\n",
    "    주어진 product_id에 대해 상위 n개의 가장 유사한 predicted_product_id를 찾습니다.\n",
    "    \n",
    "    Args:\n",
    "    - infernce: 예측된 product_id와 그 확률이 포함된 DataFrame.\n",
    "    - user_product_id: 유저의 product_id.\n",
    "    - n: 반환할 유사한 product_id의 개수.\n",
    "    \n",
    "    Method:\n",
    "    - 카테고리를 바탕으로 유사도를 계산\n",
    "    - 예측된 product_id가 해당하는 카테고리의 다른 아이템들간의 유사도를 계산하여 높은 것을 반환. \n",
    "    - 추가적으로 다른 scaled data도 고려하여 유사도를 계산\n",
    "\n",
    "    Returns:\n",
    "    - 상위 n개의 가장 유사한 predicted_product_id 리스트.\n",
    "    \"\"\"\n",
    "    # print(f\"type(user_product_id) : {type(user_product_id)}\")\n",
    "    # print(f\"inference['product_id'].dtype : {inference['product_id'].dtype}\")\n",
    "    \n",
    "    # # 하나의 product_id여도 여러개가 있기 때문에 이를 제거하는 것이 필요\n",
    "    # print(f\"inf안에 product_id가 있는가? : {inference[inference['product_id'] == user_product_id]}\")\n",
    "\n",
    "    unique_products = inference.sort_values(by='highest_probability', ascending=False).drop_duplicates(subset='product_id', keep='first').reset_index(drop=True)\n",
    "\n",
    "    category_columns = [col for col in unique_products.columns if 'category' in col]\n",
    "    features = unique_products[category_columns]\n",
    "    \n",
    "    # user_product_id가 unique_products에 존재하는지 확인\n",
    "    if user_product_id in unique_products['product_id'].values:\n",
    "        # target_idx를 인덱스 값이 아닌 위치로 사용\n",
    "        target_idx = unique_products.index[unique_products['product_id'] == user_product_id].tolist()[0]\n",
    "        target_features = features.loc[[target_idx]]\n",
    "        target_features_2d = target_features.values.reshape(1, -1)\n",
    "        sim = cosine_similarity(target_features_2d, features)[0]\n",
    "\n",
    "        sim[target_idx] = -1  # 자기 자신 제외\n",
    "        similar_indices = sim.argsort()[::-1][:n]\n",
    "        similar_product_ids = unique_products.iloc[similar_indices]['product_id'].tolist()\n",
    "        return similar_product_ids\n",
    "    else:\n",
    "        # user_product_id에 해당하는 데이터가 없는 경우\n",
    "        return []\n"
   ]
  },
  {
   "cell_type": "markdown",
   "metadata": {},
   "source": [
    "user_product_id를 입력받으면 유사도 계산 -> topk 개의 유사한 아이템 반환"
   ]
  },
  {
   "cell_type": "code",
   "execution_count": null,
   "metadata": {},
   "outputs": [],
   "source": [
    "user_product_id=2864497971\n",
    "top_similar_products = find_similar_products(final_prediction, user_product_id, n=10)\n",
    "top_similar_products"
   ]
  },
  {
   "cell_type": "markdown",
   "metadata": {},
   "source": [
    "확인"
   ]
  },
  {
   "cell_type": "code",
   "execution_count": null,
   "metadata": {},
   "outputs": [],
   "source": [
    "final_prediction[final_prediction['product_id'] == 6423778418]\n"
   ]
  }
 ],
 "metadata": {
  "kernelspec": {
   "display_name": "recbole",
   "language": "python",
   "name": "python3"
  },
  "language_info": {
   "codemirror_mode": {
    "name": "ipython",
    "version": 3
   },
   "file_extension": ".py",
   "mimetype": "text/x-python",
   "name": "python",
   "nbconvert_exporter": "python",
   "pygments_lexer": "ipython3",
   "version": "3.8.18"
  }
 },
 "nbformat": 4,
 "nbformat_minor": 2
}
